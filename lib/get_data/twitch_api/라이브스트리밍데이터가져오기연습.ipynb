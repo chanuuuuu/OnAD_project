{
 "cells": [
  {
   "cell_type": "code",
   "execution_count": 29,
   "metadata": {},
   "outputs": [],
   "source": [
    "import time"
   ]
  },
  {
   "cell_type": "code",
   "execution_count": 112,
   "metadata": {},
   "outputs": [],
   "source": [
    "import requests\n",
    "import re\n",
    "\n",
    "# api 파라미터 설정\n",
    "url = 'https://api.twitch.tv/helix/streams'\n",
    "headers = {'Client-ID' : 'kimne78kx3ncx6brgo4mv6wki5h1ko'}\n",
    "\n",
    "cursor = None\n",
    "streamers = list()\n",
    "\n",
    "while True:\n",
    "    # 파라미터 설정\n",
    "    params = {'first': 100 , 'language':'ko', 'after': cursor }\n",
    "\n",
    "    # api 요청\n",
    "    res = requests.get(url, headers=headers, params=params)\n",
    "    if res:\n",
    "        data_ = res.json()\n",
    "        streamers.extend(data_['data'])\n",
    "        \n",
    "        if data_['pagination']:\n",
    "            cursor = data_['pagination']['cursor']\n",
    "        else: break\n"
   ]
  },
  {
   "cell_type": "code",
   "execution_count": 113,
   "metadata": {
    "scrolled": true
   },
   "outputs": [],
   "source": [
    "streamings = [stream for stream in streamers if stream['viewer_count'] > 10]"
   ]
  },
  {
   "cell_type": "code",
   "execution_count": 114,
   "metadata": {},
   "outputs": [
    {
     "data": {
      "text/plain": [
       "257"
      ]
     },
     "execution_count": 114,
     "metadata": {},
     "output_type": "execute_result"
    }
   ],
   "source": [
    "len(streamings)"
   ]
  },
  {
   "cell_type": "code",
   "execution_count": 119,
   "metadata": {},
   "outputs": [
    {
     "data": {
      "text/plain": [
       "('31845930160',\n",
       " '66375105',\n",
       " '침착맨',\n",
       " '2018-12-26T03:09:09Z',\n",
       " '3시30분 가수 임세모님 쇼케이스 (후원음성 X)',\n",
       " 8272,\n",
       " '509658')"
      ]
     },
     "execution_count": 119,
     "metadata": {},
     "output_type": "execute_result"
    }
   ],
   "source": [
    "stream_id = streamings[0]['id']\n",
    "streamer_id = streamings[0]['user_id']\n",
    "streamer_name = streamings[0]['user_name']\n",
    "broad_date = streamings[0]['started_at']\n",
    "title = streamings[0]['title']\n",
    "viewer = streamings[0]['viewer_count']\n",
    "game_id = streamings[0]['game_id']\n",
    "stream_id, streamer_id, streamer_name, broad_date, title, viewer, game_id"
   ]
  },
  {
   "cell_type": "markdown",
   "metadata": {},
   "source": [
    "### TwitchStream 데이터"
   ]
  },
  {
   "cell_type": "code",
   "execution_count": 120,
   "metadata": {
    "scrolled": true
   },
   "outputs": [
    {
     "data": {
      "text/plain": [
       "{'stream_id': '31845930160',\n",
       " 'streamer_id': '66375105',\n",
       " 'streamer_name': '침착맨',\n",
       " 'broad_date': '2018-12-26T03:09:09Z'}"
      ]
     },
     "execution_count": 120,
     "metadata": {},
     "output_type": "execute_result"
    }
   ],
   "source": [
    "data_dict = {\n",
    "    'stream_id': stream_id,\n",
    "    'streamer_id': streamer_id,\n",
    "    'streamer_name': streamer_name,\n",
    "    'broad_date': broad_date,\n",
    "}\n",
    "data_dict"
   ]
  },
  {
   "cell_type": "markdown",
   "metadata": {},
   "source": [
    "### TwitchStreamDetail 데이터"
   ]
  },
  {
   "cell_type": "code",
   "execution_count": 121,
   "metadata": {},
   "outputs": [
    {
     "data": {
      "text/plain": [
       "{'stream_id': '31845930160',\n",
       " 'viewer': 8272,\n",
       " 'title': '3시30분 가수 임세모님 쇼케이스 (후원음성 X)',\n",
       " 'game_id': '509658'}"
      ]
     },
     "execution_count": 121,
     "metadata": {},
     "output_type": "execute_result"
    }
   ],
   "source": [
    "data_dict = {\n",
    "    'stream_id': stream_id,\n",
    "    'viewer': viewer,\n",
    "    'title': title,\n",
    "    'game_id': game_id,\n",
    "}\n",
    "data_dict"
   ]
  },
  {
   "cell_type": "code",
   "execution_count": null,
   "metadata": {},
   "outputs": [],
   "source": []
  }
 ],
 "metadata": {
  "kernelspec": {
   "display_name": "Python 3",
   "language": "python",
   "name": "python3"
  },
  "language_info": {
   "codemirror_mode": {
    "name": "ipython",
    "version": 3
   },
   "file_extension": ".py",
   "mimetype": "text/x-python",
   "name": "python",
   "nbconvert_exporter": "python",
   "pygments_lexer": "ipython3",
   "version": "3.6.6"
  }
 },
 "nbformat": 4,
 "nbformat_minor": 2
}
