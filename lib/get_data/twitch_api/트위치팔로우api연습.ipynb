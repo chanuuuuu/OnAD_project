{
 "cells": [
  {
   "cell_type": "code",
   "execution_count": 16,
   "metadata": {},
   "outputs": [],
   "source": [
    "\n",
    "def start(streamer_id):\n",
    "    \"\"\"\n",
    "    twitch_following 테이블의 데이터를 반환하는 함수\n",
    "    * output\n",
    "     - result : 리스트, data_dict들의 모음\n",
    "    \"\"\"\n",
    "    # api 요청\n",
    "    import requests\n",
    "\n",
    "    # stream api 파라미터 설정\n",
    "    url = 'https://api.twitch.tv/helix/users/follows'\n",
    "    headers = {'Client-ID' : 'kimne78kx3ncx6brgo4mv6wki5h1ko'}\n",
    "\n",
    "    total_followers = []\n",
    "    cursor = None\n",
    "    while True:\n",
    "        params = {\n",
    "            'first': 100,\n",
    "            'to_id': streamer_id,\n",
    "            'after': cursor,\n",
    "            }\n",
    "        # api 요청\n",
    "        res = requests.get(url, headers=headers, params=params)\n",
    "        if res:\n",
    "            data_ = res.json()\n",
    "            total_followers.extend(data_['data'])\n",
    "\n",
    "            if data_['pagination']:\n",
    "                cursor = data_['pagination']['cursor']\n",
    "            else: break\n",
    "\n",
    "    # 받아온 데이터 [{...}, {...}]형태로 만들기\n",
    "    inform = []\n",
    "    for follower in total_followers:\n",
    "        data_dict = {\n",
    "            'user_id': follower['from_id'],\n",
    "            'following_streamer': follower['to_id'],\n",
    "            'streamer_name': follower['to_name'],\n",
    "            'followed_at': follower['followed_at']\n",
    "        }\n",
    "        inform.append(data_dict)\n",
    "            \n",
    "    return inform\n"
   ]
  },
  {
   "cell_type": "code",
   "execution_count": null,
   "metadata": {},
   "outputs": [],
   "source": [
    "streamer_id = \"66375105\"\n",
    "inform = start(streamer_id)"
   ]
  },
  {
   "cell_type": "code",
   "execution_count": null,
   "metadata": {},
   "outputs": [],
   "source": [
    "inform"
   ]
  },
  {
   "cell_type": "code",
   "execution_count": null,
   "metadata": {},
   "outputs": [],
   "source": []
  }
 ],
 "metadata": {
  "kernelspec": {
   "display_name": "Python 3",
   "language": "python",
   "name": "python3"
  },
  "language_info": {
   "codemirror_mode": {
    "name": "ipython",
    "version": 3
   },
   "file_extension": ".py",
   "mimetype": "text/x-python",
   "name": "python",
   "nbconvert_exporter": "python",
   "pygments_lexer": "ipython3",
   "version": "3.7.1"
  }
 },
 "nbformat": 4,
 "nbformat_minor": 2
}
