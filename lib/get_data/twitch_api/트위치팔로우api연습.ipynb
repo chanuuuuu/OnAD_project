{
 "cells": [
  {
   "cell_type": "code",
   "execution_count": null,
   "metadata": {},
   "outputs": [],
   "source": [
    "\n",
    "def start(streamer_id):\n",
    "    \"\"\"\n",
    "    twitch_following 테이블의 데이터를 반환하는 함수\n",
    "    * output\n",
    "     - result : 리스트, data_dict들의 모음\n",
    "    \"\"\"\n",
    "    # api 요청\n",
    "    import requests\n",
    "\n",
    "    # stream api 파라미터 설정\n",
    "    url = 'https://api.twitch.tv/helix/users/follows'\n",
    "    headers = {'Client-ID' : 'kimne78kx3ncx6brgo4mv6wki5h1ko'}\n",
    "\n",
    "    total_clips = []\n",
    "    cursor = None\n",
    "    while True:\n",
    "        params = {\n",
    "            'to_id': streamer_id,\n",
    "            'after': cursor,\n",
    "            }\n",
    "        # api 요청\n",
    "        res = requests.get(url, headers=headers, params=params)\n",
    "        if res:\n",
    "            data_ = res.json()\n",
    "            total_clips.extend(data_['data'])\n",
    "\n",
    "            if data_['pagination']:\n",
    "                cursor = data_['pagination']['cursor']\n",
    "            else: break\n",
    "\n",
    "    # 받아온 데이터 [{...}, {...}]형태로 만들기\n",
    "    inform = []\n",
    "    for clip in total_clips:\n",
    "        data_dict = {\n",
    "            'streamer_id': streamer_id,\n",
    "            'clip_id': clip['id'],\n",
    "            'user_id': clip['creator_id'],\n",
    "            'created_at': clip['created_at'],\n",
    "            'title': clip['title'],\n",
    "            'url': clip['url'],\n",
    "            'viewer_count': clip['view_count'],\n",
    "            'thumbnail': clip['thumbnail_url'],\n",
    "        }\n",
    "        inform.append(data_dict)\n",
    "            \n",
    "    return inform\n"
   ]
  },
  {
   "cell_type": "code",
   "execution_count": null,
   "metadata": {},
   "outputs": [],
   "source": [
    "import requests\n",
    "\n",
    "# stream api 파라미터 설정\n",
    "url = 'https://api.twitch.tv/helix/users/follows'\n",
    "headers = {'Client-ID' : 'kimne78kx3ncx6brgo4mv6wki5h1ko'}\n",
    "\n",
    "total_clips = []\n",
    "cursor = None\n",
    "params = {\n",
    "        'to_id': streamer_id,\n",
    "        'after': cursor,\n",
    "        }\n",
    "res = requests.get(url, headers=headers, params=params)\n"
   ]
  }
 ],
 "metadata": {
  "kernelspec": {
   "display_name": "Python 3",
   "language": "python",
   "name": "python3"
  },
  "language_info": {
   "codemirror_mode": {
    "name": "ipython",
    "version": 3
   },
   "file_extension": ".py",
   "mimetype": "text/x-python",
   "name": "python",
   "nbconvert_exporter": "python",
   "pygments_lexer": "ipython3",
   "version": "3.7.1"
  }
 },
 "nbformat": 4,
 "nbformat_minor": 2
}
