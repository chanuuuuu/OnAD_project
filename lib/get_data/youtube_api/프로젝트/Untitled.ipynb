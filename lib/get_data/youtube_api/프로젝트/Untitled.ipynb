{
 "cells": [
  {
   "cell_type": "markdown",
   "metadata": {},
   "source": [
    "### 유튜브 API 정리 (YouTube Data API (v3))\n",
    "\n",
    "### 자료를 얻기 위한 가장 기본적인 형태\n",
    "\n",
    "> (예시) https://www.googleapis.com/youtube/v3/(1)?part=(2)&channel_id또는id또는channelId=(3)&maxResults=(4)&key=(5)\n",
    "\n",
    "#### ★해당 채널의 ID나 사용자 ID(3)를 넣으면 part(2)에 따라 정보를 받아옴★\n",
    "> **※ API 종류** \n",
    "> https://developers.google.com/youtube/v3/docs/?hl=ko 에 접속해서 가능한 API를 찾아보기~ 쓸만한 것들만 정리\n",
    "\n",
    ">  - 1. activities : 특정 채널이나 사용자가 유튜브에서 실행한 모든 작업 정보가 포함됨 -> 채널 ID(3)나 사용자 ID를 획득해야함 (* 필수파라미터: (3)=channelId)\n",
    "> >  1) part=snippet: 동영상 업로드, 채널의 즐겨찾기 \n",
    "\n",
    ">  - 2. channels : 채널에 대한 다양한 정보 (* 필수파라미터:(3)=id)\n",
    "> >  1) part=snippet : 채널 제목 및 설명, 채널을 만든 시간, 썸네일URL <br>\n",
    "> >  2) part=contentDetails :  업로드된 동영상 코드 (별로 필요없을 것 같음)<br>\n",
    "> >  3) part=statistics : 총 조회수, 총 댓글수, 구독자 수(공개할때만), 업로드한 총 동영상 수<br>\n",
    "> >  4) part=brandingSettings: 채널 제목 및 설명, 채널 키워드(검색유도단어)<br>\n",
    "\n",
    "> - 3. commentThreads : 동영상에 달린 댓글들 (* 필수파라미터:videoId)\n",
    "> >  1) part=snippet : 동영상에 달린 댓글 내용(textDisplay), 작성자의 고유 아이디(authorChannelId['value']) 및 닉네임(authorDisplayName), 댓글에 달린 좋아요 수(likeCount), 댓글 작성 시간, 스트리머가 좋아요한 댓글(viewerRating이 True인 경우), 작성일자(updatedAt)\n",
    "\n",
    "> - 4. playlistItems : 재생목록 고유ID를 통해 정보 획득 (* 필수파라미터:(3)=playlistId))\n",
    "> > 1) part=snippet : 채널 고유ID, 동영상 제목 및 설명, 비디오 고유ID(videoId), 해당 동영상의 시작과 끝지점, \n",
    "\n",
    "> - 5.playlists : 해당 채널에 있는 플레이리스트의 정보를 가져옴 (* 필수파라미터 : (3)=channelId))\n",
    "> > 1) part=snippet : 전체적인 재생목록, 각 재생목록의 제목,설명,생성날짜\n",
    "\n",
    "> - 5. search : 동영상 ID 값을 넣으면 관련 동영상 정보를 찾아줌 (* 필수파라미터 : (3)=relatedToVideoId, 'type=video'추가)\n",
    "> > 1) part=snippet : 관련 동영상의 제목-설명-고유ID, 채널 이름 및 채널의 고유 ID\n",
    "\n",
    "> - 6. subscriptions : 유튜브 사용자의 구독정보 (* 필수파라미터 : (3)=channelId)\n",
    "> > 1) part=snippet : 구독날짜(publishedAt), 구독한 채널의 제목-세부정보-구독 채널의 고유ID(resourceId['channelId']) <br>\n",
    "> > * 주의 : 보통 많은 사람들이 자신의 구독채널을 공개하지 않음\n",
    "\n",
    "> - 7. videos : 해당 동영상의 정보 ( * 필수파라미터 : id )\n",
    "> > 1) part=snippet : 채널 고유ID 및 채널 이름, 동영상 제목-설명, 동영상에 달린 태그, 동영상 카테고리('categoryId'), 사용언어(defaultLanguage)\n",
    "> > 2) part=statistics : 조회수(viewCount), 좋아요/싫어요(likeCount/dislikeCount), 즐겨찾기 수(favoriteCount), 댓글 수(commentCount)\n",
    "\n"
   ]
  }
 ],
 "metadata": {
  "kernelspec": {
   "display_name": "Python 3",
   "language": "python",
   "name": "python3"
  },
  "language_info": {
   "codemirror_mode": {
    "name": "ipython",
    "version": 3
   },
   "file_extension": ".py",
   "mimetype": "text/x-python",
   "name": "python",
   "nbconvert_exporter": "python",
   "pygments_lexer": "ipython3",
   "version": "3.6.5"
  }
 },
 "nbformat": 4,
 "nbformat_minor": 2
}
