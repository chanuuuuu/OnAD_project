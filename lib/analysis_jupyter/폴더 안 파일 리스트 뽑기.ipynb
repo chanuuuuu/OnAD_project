{
 "cells": [
  {
   "cell_type": "code",
   "execution_count": 1,
   "metadata": {},
   "outputs": [],
   "source": [
    "import os"
   ]
  },
  {
   "cell_type": "code",
   "execution_count": 2,
   "metadata": {},
   "outputs": [],
   "source": [
    "# from os.path import isfile, join"
   ]
  },
  {
   "cell_type": "code",
   "execution_count": 3,
   "metadata": {},
   "outputs": [],
   "source": [
    "path_dir = '../../data/twitch_live_chat/#zilioner'"
   ]
  },
  {
   "cell_type": "code",
   "execution_count": 5,
   "metadata": {},
   "outputs": [],
   "source": [
    "file_list = os.listdir(path_dir)"
   ]
  },
  {
   "cell_type": "code",
   "execution_count": 6,
   "metadata": {},
   "outputs": [
    {
     "data": {
      "text/plain": [
       "['2018-12-03_#zilioner.log',\n",
       " '2018-12-05_#zilioner.log',\n",
       " '2018-12-06_#zilioner.log',\n",
       " '2018-12-07_#zilioner.log',\n",
       " '2018-12-08_#zilioner.log',\n",
       " '2018-12-09_#zilioner.log',\n",
       " '2018-12-10_#zilioner.log',\n",
       " '2018-12-11_#zilioner.log',\n",
       " '2018-12-12_#zilioner.log',\n",
       " '2018-12-13_#zilioner.log',\n",
       " '2018-12-14_#zilioner.log',\n",
       " '2018-12-15_#zilioner.log',\n",
       " '2018-12-16_#zilioner.log',\n",
       " '2018-12-17_#zilioner.log',\n",
       " '2018-12-18_#zilioner.log',\n",
       " '2018-12-19_#zilioner.log',\n",
       " '2018-12-20_#zilioner.log',\n",
       " '2018-12-21_#zilioner.log',\n",
       " '2018-12-22_#zilioner.log',\n",
       " '2018-12-23_#zilioner.log',\n",
       " '2018-12-24_#zilioner.log',\n",
       " '2018-12-25_#zilioner.log',\n",
       " '2018-12-26_#zilioner.log',\n",
       " '2018-12-27_#zilioner.log',\n",
       " '2018-12-28_#zilioner.log']"
      ]
     },
     "execution_count": 6,
     "metadata": {},
     "output_type": "execute_result"
    }
   ],
   "source": [
    "file_list"
   ]
  },
  {
   "cell_type": "code",
   "execution_count": 13,
   "metadata": {},
   "outputs": [
    {
     "name": "stdout",
     "output_type": "stream",
     "text": [
      "2018-12-03_#zilioner.log\n",
      "2018-12-05_#zilioner.log\n",
      "2018-12-06_#zilioner.log\n",
      "2018-12-07_#zilioner.log\n",
      "2018-12-08_#zilioner.log\n",
      "2018-12-09_#zilioner.log\n",
      "2018-12-10_#zilioner.log\n",
      "2018-12-11_#zilioner.log\n",
      "2018-12-12_#zilioner.log\n",
      "2018-12-13_#zilioner.log\n",
      "2018-12-14_#zilioner.log\n",
      "2018-12-15_#zilioner.log\n",
      "2018-12-16_#zilioner.log\n",
      "2018-12-17_#zilioner.log\n",
      "2018-12-18_#zilioner.log\n",
      "2018-12-19_#zilioner.log\n",
      "2018-12-20_#zilioner.log\n",
      "2018-12-21_#zilioner.log\n",
      "2018-12-22_#zilioner.log\n",
      "2018-12-23_#zilioner.log\n",
      "2018-12-24_#zilioner.log\n",
      "2018-12-25_#zilioner.log\n",
      "2018-12-26_#zilioner.log\n",
      "2018-12-27_#zilioner.log\n",
      "2018-12-28_#zilioner.log\n"
     ]
    }
   ],
   "source": [
    "for file in file_list : \n",
    "    abspath = os.path.abspath(file)\n",
    "    print(os.path.relpath(abspath, os.getcwd()))"
   ]
  },
  {
   "cell_type": "code",
   "execution_count": 11,
   "metadata": {},
   "outputs": [
    {
     "data": {
      "text/plain": [
       "'/home/onAd/OnAD_project/lib/analysis_jupyter'"
      ]
     },
     "execution_count": 11,
     "metadata": {},
     "output_type": "execute_result"
    }
   ],
   "source": [
    "os.getcwd()"
   ]
  },
  {
   "cell_type": "code",
   "execution_count": 14,
   "metadata": {},
   "outputs": [],
   "source": [
    "abspath = os.path.abspath( '2018-12-28_#zilioner.log')"
   ]
  },
  {
   "cell_type": "code",
   "execution_count": 15,
   "metadata": {},
   "outputs": [
    {
     "data": {
      "text/plain": [
       "'/home/onAd/OnAD_project/lib/analysis_jupyter/2018-12-28_#zilioner.log'"
      ]
     },
     "execution_count": 15,
     "metadata": {},
     "output_type": "execute_result"
    }
   ],
   "source": [
    "abspath"
   ]
  },
  {
   "cell_type": "code",
   "execution_count": 18,
   "metadata": {},
   "outputs": [
    {
     "data": {
      "text/plain": [
       "'2,3,안녕'"
      ]
     },
     "execution_count": 18,
     "metadata": {},
     "output_type": "execute_result"
    }
   ],
   "source": [
    "'{0},{1},{2}'.format(2,3,'안녕')"
   ]
  },
  {
   "cell_type": "code",
   "execution_count": 23,
   "metadata": {},
   "outputs": [
    {
     "ename": "NameError",
     "evalue": "name 'platform' is not defined",
     "output_type": "error",
     "traceback": [
      "\u001b[0;31m---------------------------------------------------------------------------\u001b[0m",
      "\u001b[0;31mNameError\u001b[0m                                 Traceback (most recent call last)",
      "\u001b[0;32m<ipython-input-23-c708951ac5f0>\u001b[0m in \u001b[0;36m<module>\u001b[0;34m\u001b[0m\n\u001b[0;32m----> 1\u001b[0;31m \u001b[0ms\u001b[0m \u001b[0;34m=\u001b[0m \u001b[0;34m'{0},{1},{2}'\u001b[0m\u001b[0;34m.\u001b[0m\u001b[0mformat\u001b[0m\u001b[0;34m(\u001b[0m\u001b[0mplatform\u001b[0m\u001b[0;34m,\u001b[0m \u001b[0mbj\u001b[0m\u001b[0;34m,\u001b[0m \u001b[0mfilename\u001b[0m\u001b[0;34m)\u001b[0m\u001b[0;34m\u001b[0m\u001b[0;34m\u001b[0m\u001b[0m\n\u001b[0m\u001b[1;32m      2\u001b[0m \u001b[0;32mfor\u001b[0m \u001b[0mi\u001b[0m \u001b[0;32min\u001b[0m \u001b[0mrange\u001b[0m\u001b[0;34m(\u001b[0m\u001b[0;36m1\u001b[0m\u001b[0;34m,\u001b[0m\u001b[0;36m10\u001b[0m\u001b[0;34m)\u001b[0m \u001b[0;34m:\u001b[0m\u001b[0;34m\u001b[0m\u001b[0;34m\u001b[0m\u001b[0m\n\u001b[1;32m      3\u001b[0m     \u001b[0mplatform\u001b[0m \u001b[0;34m=\u001b[0m \u001b[0;36m1\u001b[0m\u001b[0;34m\u001b[0m\u001b[0;34m\u001b[0m\u001b[0m\n\u001b[1;32m      4\u001b[0m     \u001b[0mbj\u001b[0m \u001b[0;34m=\u001b[0m \u001b[0;36m2\u001b[0m\u001b[0;34m\u001b[0m\u001b[0;34m\u001b[0m\u001b[0m\n\u001b[1;32m      5\u001b[0m     \u001b[0mfilename\u001b[0m \u001b[0;34m=\u001b[0m \u001b[0;36m54\u001b[0m\u001b[0;34m\u001b[0m\u001b[0;34m\u001b[0m\u001b[0m\n",
      "\u001b[0;31mNameError\u001b[0m: name 'platform' is not defined"
     ]
    }
   ],
   "source": [
    "s = '{0},{1},{2}'.format(platform, bj, filename)\n",
    "for i in range(1,10) : \n",
    "    platform = 1\n",
    "    bj = 2\n",
    "    filename = 54\n",
    "    print(s)"
   ]
  },
  {
   "cell_type": "code",
   "execution_count": 24,
   "metadata": {},
   "outputs": [],
   "source": [
    "def openlog( bj_code, filename, platform = 'twitch_live_chat') : \n",
    "    \"\"\"\n",
    "    '../../data/{0}/{1}/{2}'.format(platform, bj_code, filename)\n",
    "    platform : 플랫폼 폴더명 (기본 : twitch_live_chat)\n",
    "    bj_code : bj 폴더명\n",
    "    filename : 로그 파일이름\n",
    "    \"\"\"\n",
    "    chatlog = '../../data/{0}/{1}/{2}'.format(platform, bj_code, filename)\n",
    "    return chatlog"
   ]
  },
  {
   "cell_type": "code",
   "execution_count": 27,
   "metadata": {},
   "outputs": [
    {
     "data": {
      "text/plain": [
       "'../../data/twitch_live_chat/양팡/아낙수나문'"
      ]
     },
     "execution_count": 27,
     "metadata": {},
     "output_type": "execute_result"
    }
   ],
   "source": [
    "openlog('양팡', '아낙수나문')"
   ]
  },
  {
   "cell_type": "code",
   "execution_count": 32,
   "metadata": {},
   "outputs": [
    {
     "name": "stdout",
     "output_type": "stream",
     "text": [
      "2018-12-03_#zilioner\n",
      "2018-12-05_#zilioner\n",
      "2018-12-06_#zilioner\n",
      "2018-12-07_#zilioner\n",
      "2018-12-08_#zilioner\n",
      "2018-12-09_#zilioner\n",
      "2018-12-10_#zilioner\n",
      "2018-12-11_#zilioner\n",
      "2018-12-12_#zilioner\n",
      "2018-12-13_#zilioner\n",
      "2018-12-14_#zilioner\n",
      "2018-12-15_#zilioner\n",
      "2018-12-16_#zilioner\n",
      "2018-12-17_#zilioner\n",
      "2018-12-18_#zilioner\n",
      "2018-12-19_#zilioner\n",
      "2018-12-20_#zilioner\n",
      "2018-12-21_#zilioner\n",
      "2018-12-22_#zilioner\n",
      "2018-12-23_#zilioner\n",
      "2018-12-24_#zilioner\n",
      "2018-12-25_#zilioner\n",
      "2018-12-26_#zilioner\n",
      "2018-12-27_#zilioner\n",
      "2018-12-28_#zilioner\n"
     ]
    }
   ],
   "source": [
    "for file in file_list : \n",
    "    print(file[:-4])"
   ]
  },
  {
   "cell_type": "code",
   "execution_count": null,
   "metadata": {},
   "outputs": [],
   "source": []
  }
 ],
 "metadata": {
  "kernelspec": {
   "display_name": "Python 3",
   "language": "python",
   "name": "python3"
  },
  "language_info": {
   "codemirror_mode": {
    "name": "ipython",
    "version": 3
   },
   "file_extension": ".py",
   "mimetype": "text/x-python",
   "name": "python",
   "nbconvert_exporter": "python",
   "pygments_lexer": "ipython3",
   "version": "3.6.7"
  }
 },
 "nbformat": 4,
 "nbformat_minor": 2
}
