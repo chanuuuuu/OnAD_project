{
 "cells": [
  {
   "cell_type": "markdown",
   "metadata": {},
   "source": [
    "- 알고리즘이 달라지면, train / test 데이터 뽑을 때 다 랜덤으로 뽑으면 안됨.\n",
    "- 한 번 랜덤으로 뽑으면, 바꾼 알고리즘에도 그 데이터 그대로 적용.\n",
    "- 워드 클라우드 그릴 때, 한글자와 여러 글자의 가중치 줘서 곱해서 처리하기."
   ]
  },
  {
   "cell_type": "code",
   "execution_count": null,
   "metadata": {},
   "outputs": [],
   "source": []
  }
 ],
 "metadata": {
  "kernelspec": {
   "display_name": "Python 3",
   "language": "python",
   "name": "python3"
  },
  "language_info": {
   "codemirror_mode": {
    "name": "ipython",
    "version": 3
   },
   "file_extension": ".py",
   "mimetype": "text/x-python",
   "name": "python",
   "nbconvert_exporter": "python",
   "pygments_lexer": "ipython3",
   "version": "3.6.7"
  }
 },
 "nbformat": 4,
 "nbformat_minor": 2
}
