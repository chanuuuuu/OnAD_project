{
 "cells": [
  {
   "cell_type": "code",
   "execution_count": 1,
   "metadata": {},
   "outputs": [],
   "source": [
    "import requests"
   ]
  },
  {
   "cell_type": "code",
   "execution_count": 101,
   "metadata": {},
   "outputs": [],
   "source": [
    "import requests\n",
    "import time\n",
    "# stream api 파라미터 설정\n",
    "url = 'https://api.twitch.tv/helix/clips'\n",
    "headers = {'Client-ID' : 'kimne78kx3ncx6brgo4mv6wki5h1ko'}\n",
    "\n",
    "cursor = None\n",
    "total_clips = []  # 총 데이터를 담는 그릇\n",
    "for _ in range(10):\n",
    "    # 클립 조회수 50 이상인 것들만 가져올 것이기 때문에 더 많은 요청은 낭비임\n",
    "    # top100 을 넘어서기도 전에 조회수는 50이하로 내려감.\n",
    "    params = {\n",
    "        'broadcaster_id': '103861159',\n",
    "        'started_at': '2018-12-04T00:00:01Z',\n",
    "        'ended_at': '2019-01-08T23:59:59Z',\n",
    "        'first': 100,\n",
    "        'after': cursor\n",
    "        }\n",
    "    # api 요청\n",
    "    res = requests.get(url, headers=headers, params=params)\n",
    "    if res:\n",
    "        data = res.json()['data']\n",
    "        total_clips.extend(data)\n",
    "        if 'cursor' in res.json()['pagination']:\n",
    "            cursor = res.json()['pagination']['cursor']\n",
    "        else: break\n",
    "        "
   ]
  },
  {
   "cell_type": "code",
   "execution_count": 102,
   "metadata": {},
   "outputs": [
    {
     "data": {
      "text/plain": [
       "900"
      ]
     },
     "execution_count": 102,
     "metadata": {},
     "output_type": "execute_result"
    }
   ],
   "source": [
    "len(total_clips)"
   ]
  },
  {
   "cell_type": "code",
   "execution_count": 103,
   "metadata": {},
   "outputs": [
    {
     "data": {
      "text/plain": [
       "706"
      ]
     },
     "execution_count": 103,
     "metadata": {},
     "output_type": "execute_result"
    }
   ],
   "source": [
    "len([clip for clip in total_clips if clip['view_count'] > 50])"
   ]
  },
  {
   "cell_type": "code",
   "execution_count": 104,
   "metadata": {},
   "outputs": [
    {
     "data": {
      "text/plain": [
       "{'id': 'AssiduousMushyMarrowTF2John',\n",
       " 'url': 'https://clips.twitch.tv/AssiduousMushyMarrowTF2John',\n",
       " 'embed_url': 'https://clips.twitch.tv/embed?clip=AssiduousMushyMarrowTF2John',\n",
       " 'broadcaster_id': '103861159',\n",
       " 'broadcaster_name': '얍얍',\n",
       " 'creator_id': '280671104',\n",
       " 'creator_name': '섬바디투러브7179',\n",
       " 'video_id': '344034733',\n",
       " 'game_id': '509658',\n",
       " 'language': 'ko',\n",
       " 'title': '얍얍 사과하면서 비꼬는 인성 수준',\n",
       " 'view_count': 78979,\n",
       " 'created_at': '2018-12-04T01:35:16Z',\n",
       " 'thumbnail_url': 'https://clips-media-assets2.twitch.tv/vod-344034733-offset-49968-preview-480x272.jpg'}"
      ]
     },
     "execution_count": 104,
     "metadata": {},
     "output_type": "execute_result"
    }
   ],
   "source": [
    "total_clips[0]"
   ]
  },
  {
   "cell_type": "code",
   "execution_count": null,
   "metadata": {},
   "outputs": [],
   "source": []
  }
 ],
 "metadata": {
  "kernelspec": {
   "display_name": "Python 3",
   "language": "python",
   "name": "python3"
  },
  "language_info": {
   "codemirror_mode": {
    "name": "ipython",
    "version": 3
   },
   "file_extension": ".py",
   "mimetype": "text/x-python",
   "name": "python",
   "nbconvert_exporter": "python",
   "pygments_lexer": "ipython3",
   "version": "3.7.1"
  }
 },
 "nbformat": 4,
 "nbformat_minor": 2
}
