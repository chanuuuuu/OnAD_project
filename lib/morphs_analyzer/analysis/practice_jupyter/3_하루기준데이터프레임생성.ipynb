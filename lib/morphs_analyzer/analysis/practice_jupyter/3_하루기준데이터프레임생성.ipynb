{
 "cells": [
  {
   "cell_type": "code",
   "execution_count": 1,
   "metadata": {},
   "outputs": [],
   "source": [
    "import pandas as pd"
   ]
  },
  {
   "cell_type": "code",
   "execution_count": 2,
   "metadata": {},
   "outputs": [],
   "source": [
    "DB_URL = 'onad.cbjjamtlar2t.ap-northeast-2.rds.amazonaws.com'\n",
    "DB_USER = 'onad'\n",
    "DB_PASSWORD = 'rkdghktn12'\n",
    "DB_DATABASE = 'onad'\n",
    "DB_CHARSET = 'utf8mb4'\n",
    "DB_LOGFLAG  = 'False'\n",
    "DB_PORT = 3306\n",
    "\n",
    "db_url = \"mysql+pymysql://%s:%s@%s:%s/%s?charset=%s\" % (\n",
    "    DB_USER, DB_PASSWORD,\n",
    "    DB_URL, DB_PORT,\n",
    "    DB_DATABASE, DB_CHARSET\n",
    ")"
   ]
  },
  {
   "cell_type": "code",
   "execution_count": 4,
   "metadata": {},
   "outputs": [],
   "source": [
    "def data_from_sql_twitchchat(streamer, target_date):\n",
    "    query = \"\"\"\n",
    "        select * from twitch_chat where streamer_name = \"%s\" and broad_date =\"%s\"\n",
    "    \"\"\"% (streamer, target_date)\n",
    "\n",
    "    return pd.read_sql_query(query, db_url)"
   ]
  },
  {
   "cell_type": "code",
   "execution_count": 5,
   "metadata": {},
   "outputs": [],
   "source": [
    "streamer = \"rhdgurwns\"\n",
    "target_date = \"2018-12-09\"\n",
    "chat_data = data_from_sql_twitchchat(streamer, target_date)"
   ]
  },
  {
   "cell_type": "code",
   "execution_count": 10,
   "metadata": {},
   "outputs": [
    {
     "data": {
      "text/html": [
       "<div>\n",
       "<style scoped>\n",
       "    .dataframe tbody tr th:only-of-type {\n",
       "        vertical-align: middle;\n",
       "    }\n",
       "\n",
       "    .dataframe tbody tr th {\n",
       "        vertical-align: top;\n",
       "    }\n",
       "\n",
       "    .dataframe thead th {\n",
       "        text-align: right;\n",
       "    }\n",
       "</style>\n",
       "<table border=\"1\" class=\"dataframe\">\n",
       "  <thead>\n",
       "    <tr style=\"text-align: right;\">\n",
       "      <th></th>\n",
       "      <th>chat_id</th>\n",
       "      <th>streamer_name</th>\n",
       "      <th>broad_date</th>\n",
       "      <th>chatterer</th>\n",
       "      <th>chat_time</th>\n",
       "      <th>chat_contents</th>\n",
       "    </tr>\n",
       "    <tr>\n",
       "      <th>time</th>\n",
       "      <th></th>\n",
       "      <th></th>\n",
       "      <th></th>\n",
       "      <th></th>\n",
       "      <th></th>\n",
       "      <th></th>\n",
       "    </tr>\n",
       "  </thead>\n",
       "  <tbody>\n",
       "    <tr>\n",
       "      <th>08:02:31</th>\n",
       "      <td>5804896</td>\n",
       "      <td>rhdgurwns</td>\n",
       "      <td>2018-12-09</td>\n",
       "      <td>&lt;명부러전 (worldbest29)&gt;</td>\n",
       "      <td>08:02:31</td>\n",
       "      <td>공혁준 방송켜라</td>\n",
       "    </tr>\n",
       "    <tr>\n",
       "      <th>08:02:39</th>\n",
       "      <td>5804897</td>\n",
       "      <td>rhdgurwns</td>\n",
       "      <td>2018-12-09</td>\n",
       "      <td>&lt;명부러전 (worldbest29)&gt;</td>\n",
       "      <td>08:02:39</td>\n",
       "      <td>방송켜 뽀뽀 쪽</td>\n",
       "    </tr>\n",
       "    <tr>\n",
       "      <th>09:12:19</th>\n",
       "      <td>5804898</td>\n",
       "      <td>rhdgurwns</td>\n",
       "      <td>2018-12-09</td>\n",
       "      <td>&lt;럼주 (geonw90)&gt;</td>\n",
       "      <td>09:12:19</td>\n",
       "      <td>오뱅없?</td>\n",
       "    </tr>\n",
       "    <tr>\n",
       "      <th>09:18:23</th>\n",
       "      <td>5804899</td>\n",
       "      <td>rhdgurwns</td>\n",
       "      <td>2018-12-09</td>\n",
       "      <td>&lt;@%rhdqurwns1&gt;</td>\n",
       "      <td>09:18:23</td>\n",
       "      <td>없을수도</td>\n",
       "    </tr>\n",
       "    <tr>\n",
       "      <th>09:18:34</th>\n",
       "      <td>5804900</td>\n",
       "      <td>rhdgurwns</td>\n",
       "      <td>2018-12-09</td>\n",
       "      <td>&lt;@%rhdqurwns1&gt;</td>\n",
       "      <td>09:18:34</td>\n",
       "      <td>방송에서 자세히 말을안하니까..</td>\n",
       "    </tr>\n",
       "  </tbody>\n",
       "</table>\n",
       "</div>"
      ],
      "text/plain": [
       "          chat_id streamer_name  broad_date             chatterer chat_time  \\\n",
       "time                                                                          \n",
       "08:02:31  5804896     rhdgurwns  2018-12-09  <명부러전 (worldbest29)>  08:02:31   \n",
       "08:02:39  5804897     rhdgurwns  2018-12-09  <명부러전 (worldbest29)>  08:02:39   \n",
       "09:12:19  5804898     rhdgurwns  2018-12-09        <럼주 (geonw90)>  09:12:19   \n",
       "09:18:23  5804899     rhdgurwns  2018-12-09        <@%rhdqurwns1>  09:18:23   \n",
       "09:18:34  5804900     rhdgurwns  2018-12-09        <@%rhdqurwns1>  09:18:34   \n",
       "\n",
       "              chat_contents  \n",
       "time                         \n",
       "08:02:31           공혁준 방송켜라  \n",
       "08:02:39           방송켜 뽀뽀 쪽  \n",
       "09:12:19               오뱅없?  \n",
       "09:18:23               없을수도  \n",
       "09:18:34  방송에서 자세히 말을안하니까..  "
      ]
     },
     "execution_count": 10,
     "metadata": {},
     "output_type": "execute_result"
    }
   ],
   "source": [
    "chat_data['time'] = pd.to_datetime(chat_data['chat_time'])\n",
    "chat_data['time'] = chat_data['time'].apply(lambda x : x.time())\n",
    "chat_data_reindex = chat_data.set_index('time')\n",
    "chat_data_reindex.head()"
   ]
  },
  {
   "cell_type": "code",
   "execution_count": 11,
   "metadata": {},
   "outputs": [
    {
     "data": {
      "text/html": [
       "<div>\n",
       "<style scoped>\n",
       "    .dataframe tbody tr th:only-of-type {\n",
       "        vertical-align: middle;\n",
       "    }\n",
       "\n",
       "    .dataframe tbody tr th {\n",
       "        vertical-align: top;\n",
       "    }\n",
       "\n",
       "    .dataframe thead th {\n",
       "        text-align: right;\n",
       "    }\n",
       "</style>\n",
       "<table border=\"1\" class=\"dataframe\">\n",
       "  <thead>\n",
       "    <tr style=\"text-align: right;\">\n",
       "      <th></th>\n",
       "    </tr>\n",
       "  </thead>\n",
       "  <tbody>\n",
       "    <tr>\n",
       "      <th>23:59:55</th>\n",
       "    </tr>\n",
       "    <tr>\n",
       "      <th>23:59:56</th>\n",
       "    </tr>\n",
       "    <tr>\n",
       "      <th>23:59:57</th>\n",
       "    </tr>\n",
       "    <tr>\n",
       "      <th>23:59:58</th>\n",
       "    </tr>\n",
       "    <tr>\n",
       "      <th>23:59:59</th>\n",
       "    </tr>\n",
       "  </tbody>\n",
       "</table>\n",
       "</div>"
      ],
      "text/plain": [
       "Empty DataFrame\n",
       "Columns: []\n",
       "Index: [23:59:55, 23:59:56, 23:59:57, 23:59:58, 23:59:59]"
      ]
     },
     "execution_count": 11,
     "metadata": {},
     "output_type": "execute_result"
    }
   ],
   "source": [
    "# YYYY-mm-dd HH:MM:SS 의 datetime 객체 인덱스 생성 (00:00:00 ~ 23:59:59 까지)\n",
    "index = pd.date_range(target_date, periods=86400, freq=\"S\")\n",
    "# 인덱스만 가지는 데이터 프레임 생성 (chat_data와 병합하기 위함)\n",
    "df = pd.DataFrame(index=index.time,)# columns=['chat_id', 'streamer_name', 'broad_date', 'chatterer', 'chat_time','chat_contents']) \n",
    "df.tail()"
   ]
  },
  {
   "cell_type": "code",
   "execution_count": 12,
   "metadata": {},
   "outputs": [
    {
     "data": {
      "text/plain": [
       "(86400, 1)"
      ]
     },
     "execution_count": 12,
     "metadata": {},
     "output_type": "execute_result"
    }
   ],
   "source": [
    "joined_df = df.join(chat_data_reindex, lsuffix='_left', rsuffix='_right')\n",
    "pivot = joined_df.pivot_table(index=joined_df.index, values='chat_contents', aggfunc=len)\n",
    "pivot.shape"
   ]
  },
  {
   "cell_type": "code",
   "execution_count": 13,
   "metadata": {},
   "outputs": [
    {
     "data": {
      "text/html": [
       "<div>\n",
       "<style scoped>\n",
       "    .dataframe tbody tr th:only-of-type {\n",
       "        vertical-align: middle;\n",
       "    }\n",
       "\n",
       "    .dataframe tbody tr th {\n",
       "        vertical-align: top;\n",
       "    }\n",
       "\n",
       "    .dataframe thead th {\n",
       "        text-align: right;\n",
       "    }\n",
       "</style>\n",
       "<table border=\"1\" class=\"dataframe\">\n",
       "  <thead>\n",
       "    <tr style=\"text-align: right;\">\n",
       "      <th></th>\n",
       "      <th>chat_id</th>\n",
       "      <th>streamer_name</th>\n",
       "      <th>broad_date</th>\n",
       "      <th>chatterer</th>\n",
       "      <th>chat_time</th>\n",
       "      <th>chat_contents</th>\n",
       "    </tr>\n",
       "  </thead>\n",
       "  <tbody>\n",
       "    <tr>\n",
       "      <th>00:00:00</th>\n",
       "      <td>NaN</td>\n",
       "      <td>NaN</td>\n",
       "      <td>NaN</td>\n",
       "      <td>NaN</td>\n",
       "      <td>NaN</td>\n",
       "      <td>NaN</td>\n",
       "    </tr>\n",
       "    <tr>\n",
       "      <th>00:00:01</th>\n",
       "      <td>NaN</td>\n",
       "      <td>NaN</td>\n",
       "      <td>NaN</td>\n",
       "      <td>NaN</td>\n",
       "      <td>NaN</td>\n",
       "      <td>NaN</td>\n",
       "    </tr>\n",
       "    <tr>\n",
       "      <th>00:00:02</th>\n",
       "      <td>NaN</td>\n",
       "      <td>NaN</td>\n",
       "      <td>NaN</td>\n",
       "      <td>NaN</td>\n",
       "      <td>NaN</td>\n",
       "      <td>NaN</td>\n",
       "    </tr>\n",
       "    <tr>\n",
       "      <th>00:00:03</th>\n",
       "      <td>NaN</td>\n",
       "      <td>NaN</td>\n",
       "      <td>NaN</td>\n",
       "      <td>NaN</td>\n",
       "      <td>NaN</td>\n",
       "      <td>NaN</td>\n",
       "    </tr>\n",
       "    <tr>\n",
       "      <th>00:00:04</th>\n",
       "      <td>NaN</td>\n",
       "      <td>NaN</td>\n",
       "      <td>NaN</td>\n",
       "      <td>NaN</td>\n",
       "      <td>NaN</td>\n",
       "      <td>NaN</td>\n",
       "    </tr>\n",
       "  </tbody>\n",
       "</table>\n",
       "</div>"
      ],
      "text/plain": [
       "          chat_id streamer_name broad_date chatterer chat_time chat_contents\n",
       "00:00:00      NaN           NaN        NaN       NaN       NaN           NaN\n",
       "00:00:01      NaN           NaN        NaN       NaN       NaN           NaN\n",
       "00:00:02      NaN           NaN        NaN       NaN       NaN           NaN\n",
       "00:00:03      NaN           NaN        NaN       NaN       NaN           NaN\n",
       "00:00:04      NaN           NaN        NaN       NaN       NaN           NaN"
      ]
     },
     "execution_count": 13,
     "metadata": {},
     "output_type": "execute_result"
    }
   ],
   "source": [
    "joined_df.head()"
   ]
  },
  {
   "cell_type": "code",
   "execution_count": 14,
   "metadata": {},
   "outputs": [
    {
     "data": {
      "image/png": "[encoded data removed]",
      "text/plain": [
       "<Figure size 432x288 with 1 Axes>"
      ]
     },
     "metadata": {
      "needs_background": "light"
     },
     "output_type": "display_data"
    }
   ],
   "source": [
    "import matplotlib.pyplot as plt\n",
    "plt.plot(pivot.index, pivot['chat_contents'])\n",
    "plt.show()"
   ]
  },
  {
   "cell_type": "code",
   "execution_count": null,
   "metadata": {},
   "outputs": [],
   "source": []
  }
 ],
 "metadata": {
  "kernelspec": {
   "display_name": "Python 3",
   "language": "python",
   "name": "python3"
  },
  "language_info": {
   "codemirror_mode": {
    "name": "ipython",
    "version": 3
   },
   "file_extension": ".py",
   "mimetype": "text/x-python",
   "name": "python",
   "nbconvert_exporter": "python",
   "pygments_lexer": "ipython3",
   "version": "3.7.1"
  }
 },
 "nbformat": 4,
 "nbformat_minor": 2
}
