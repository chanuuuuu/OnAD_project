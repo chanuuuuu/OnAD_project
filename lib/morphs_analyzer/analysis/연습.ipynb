{
 "cells": [
  {
   "cell_type": "code",
   "execution_count": 12,
   "metadata": {},
   "outputs": [],
   "source": [
    "def startz (date, streamer_id, period=1, visit=5):\n",
    "    '''\n",
    "    date(str) : 'YYYY-MM-DD' 형태로 입력\n",
    "    streamer(str) : 스트리머 ID를 정확하게 입력 (닉네임X)\n",
    "    period : date를 기준으로 period 동안에 몇 명이 방송에 들어와 채팅을 쳤는지를 알아볼 변수. 일 단위로 입력 (defalut = 7) \n",
    "    visit(int) : date를 기준으로 period 동안에 몇 명이 'count일'을 방송에 들어와 채팅을 쳤는지를 알아볼 변수. 일 단위로 입력\n",
    "                (defalut = 5)\n",
    "    \n",
    "    (ex) 2018년 12월 26일을 기준으로 일주일 동안 5일을 방송에 들어와 채팅을 친 사람의 수를 알고 싶다면?\n",
    "     -> start (\"2018-12-31\", streamer, period=7, visit=5)\n",
    "     \n",
    "     !! 주의 !! date를 기준으로 period 값에 해당하는 채팅 데이터가 없을 시 결과값을 리턴하지 않음\n",
    "            \n",
    "    return => 일주일 동안 채팅을 친 사람 수(target_user, int), \n",
    "              일주일 간 count일 동안 꾸준히 들어와 채팅을 친 사람 수(big_fan, int)\n",
    "    '''\n",
    "    \n",
    "    import re\n",
    "    from datetime import datetime as dt\n",
    "    from datetime import timedelta\n",
    "\n",
    "    txt_dir = \"../../data/twitch_live_chat\"\n",
    "    target_user = []\n",
    "    big_fan = []\n",
    "    try:\n",
    "        for days in range(7):\n",
    "            \n",
    "            with open(txt_dir + '/#{}/{}_#{}.log'.format(streamer_id, date, streamer_id),'r',encoding='utf-8') as f:\n",
    "                chat_user = list({log.replace(\"\\n\",\" \")[12:].split(\">\")[0].replace(\"<\",\" \") for log in f.readlines()[1:]})\n",
    "\n",
    "            id_form = re.compile(\"[a-zA-Z0-9_+]{4,26}\")\n",
    "            \n",
    "            for user in chat_user:\n",
    "                \n",
    "                if re.search(id_form,user):\n",
    "                    target_user.append(re.search(id_form, user).group())\n",
    "                    \n",
    "            date = dt.strptime(date,\"%Y-%m-%d\" )\n",
    "            date = (date - timedelta(1)).strftime(\"%Y-%m-%d\")\n",
    "            \n",
    "        for user in target_user:\n",
    "            if target_user.count(user) == visit:\n",
    "                big_fan.append(user)\n",
    "\n",
    "    except FileNotFoundError as e:\n",
    "        return print(\"{}의 {}일자 이전의 채팅로그 파일이 없습니다\".format(streamer_id, date))\n",
    "\n",
    "    return len(target_user), len(big_fan)\n",
    "    \n"
   ]
  },
  {
   "cell_type": "code",
   "execution_count": 13,
   "metadata": {},
   "outputs": [
    {
     "data": {
      "text/plain": [
       "(35173, 27179)"
      ]
     },
     "execution_count": 13,
     "metadata": {},
     "output_type": "execute_result"
    }
   ],
   "source": [
    "start(\"2018-12-26\",\"yapyap30\",period=3,visit=2)"
   ]
  },
  {
   "cell_type": "code",
   "execution_count": 104,
   "metadata": {},
   "outputs": [],
   "source": [
    "def start (date, streamer_id, period=1, visit=5):\n",
    "    '''\n",
    "    date(str) : 'YYYY-MM-DD' 형태로 입력\n",
    "    streamer(str) : 스트리머 ID를 정확하게 입력 (닉네임X)\n",
    "    period : date를 기준으로 period 동안에 몇 명이 방송에 들어와 채팅을 쳤는지를 알아볼 변수. 일 단위로 입력 (defalut = 7) \n",
    "    visit(int) : date를 기준으로 period 동안에 몇 명이 'count일'을 방송에 들어와 채팅을 쳤는지를 알아볼 변수. 일 단위로 입력\n",
    "                (defalut = 5)\n",
    "    \n",
    "    (ex) 2018년 12월 26일을 기준으로 일주일 동안 5일 이상 방송에 들어와 채팅을 친 사람의 수를 알고 싶다면?\n",
    "     -> start (\"2018-12-31\", streamer, period=7, visit=5)\n",
    "     \n",
    "     !! 주의 !! date를 기준으로 period 값에 해당하는 채팅 데이터가 없을 시 결과값을 리턴하지 않음\n",
    "            \n",
    "    return => 일주일 동안 채팅을 친 사람 수(target_user, int), \n",
    "              일주일 간 count일 동안 꾸준히 들어와 채팅을 친 사람 수(big_fan, int)\n",
    "    '''\n",
    "    \n",
    "    import re\n",
    "    from datetime import datetime as dt\n",
    "    from datetime import timedelta\n",
    "    import time\n",
    "    \n",
    "    stime = time.time()\n",
    "\n",
    "    txt_dir = \"../../data/twitch_live_chat\"\n",
    "    target_user = []\n",
    "    big_fan = []\n",
    "    try:\n",
    "        for days in range(period):\n",
    "            \n",
    "            with open(txt_dir + '/#{}/{}_#{}.log'.format(streamer_id, date, streamer_id),'r',encoding='utf-8') as f:\n",
    "                chat_user = list({log.replace(\"\\n\",\" \")[12:].split(\">\")[0].replace(\"<\",\" \") for log in f.readlines()[1:]})\n",
    "\n",
    "            id_form = re.compile(\"[a-zA-Z0-9_+]{4,26}\")\n",
    "            \n",
    "            for user in chat_user:\n",
    "                \n",
    "                if re.search(id_form,user):\n",
    "                    target_user.append(re.search(id_form, user).group())\n",
    "                    \n",
    "            date = dt.strptime(date,\"%Y-%m-%d\" )\n",
    "            date = (date - timedelta(1)).strftime(\"%Y-%m-%d\")\n",
    "        print(len(target_user))    \n",
    "        for user in target_user:\n",
    "            if target_user.count(user) >= visit:\n",
    "                big_fan.append(user)\n",
    "\n",
    "    except FileNotFoundError:\n",
    "        return print(\"{}의 {}일자 이전의 채팅로그 파일이 없습니다\".format(streamer_id, date))\n",
    "    \n",
    "    print(time.time() - stime)\n",
    "    return len(target_user), len(big_fan)\n",
    "    "
   ]
  },
  {
   "cell_type": "code",
   "execution_count": 15,
   "metadata": {},
   "outputs": [
    {
     "data": {
      "text/plain": [
       "(32187, 20262)"
      ]
     },
     "execution_count": 15,
     "metadata": {},
     "output_type": "execute_result"
    }
   ],
   "source": [
    "start(\"2018-12-12\",\"yapyap30\",period=5,visit=3)"
   ]
  },
  {
   "cell_type": "code",
   "execution_count": 45,
   "metadata": {},
   "outputs": [
    {
     "name": "stdout",
     "output_type": "stream",
     "text": [
      "9.928989887237549\n"
     ]
    },
    {
     "data": {
      "text/plain": [
       "(22709, 8379)"
      ]
     },
     "execution_count": 45,
     "metadata": {},
     "output_type": "execute_result"
    }
   ],
   "source": [
    "start(\"2018-12-26\",\"looksam\",period=5,visit=3)"
   ]
  },
  {
   "cell_type": "code",
   "execution_count": 107,
   "metadata": {},
   "outputs": [],
   "source": [
    "def startt (date, streamer_id, period=7, visit=5):\n",
    "    '''\n",
    "    date(str) : 'YYYY-MM-DD' 형태로 입력\n",
    "    streamer(str) : 스트리머 ID를 정확하게 입력 (닉네임X)\n",
    "    period : date를 기준으로 period 동안에 몇 명이 방송에 들어와 채팅을 쳤는지를 알아볼 변수. 일 단위로 입력 (defalut = 7)\n",
    "\n",
    "    visit(int) : date를 기준으로 period 동안에 몇 명이 'count일' 이상을 방송에 들어와 채팅을 쳤는지를 알아볼 변수. 일 단위로 입력\n",
    "                (defalut = 5)\n",
    "    \n",
    "    (ex) 2018년 12월 26일을 기준으로 일주일 동안 5일 이상 방송에 들어와 채팅을 친 사람의 수를 알고 싶다면?\n",
    "     -> start (\"2018-12-31\", streamer, period=7, visit=5)\n",
    "     \n",
    "     !! 주의 !! date를 기준으로 period 값에 해당하는 채팅 데이터가 없을 시 결과값을 리턴하지 않음\n",
    "            \n",
    "    return => [일주일 동안 채팅을 친 사람 수(target_user, int), \n",
    "              일주일 간 count일 동안 꾸준히 들어와 채팅을 친 사람 수(big_fan, int),\n",
    "              채팅 데이터가 없는 일자의 로그 이름(list, str)]\n",
    "    '''\n",
    "    \n",
    "    import re\n",
    "    from datetime import datetime as dt\n",
    "    from datetime import timedelta\n",
    "    import os\n",
    "    \n",
    "    \n",
    "    txt_dir = \"../../data/twitch_live_chat\"\n",
    "    target_user = []\n",
    "    file_not_exist = []\n",
    "    big_fan = []\n",
    "    count = 0\n",
    "    \n",
    "    while count < period:\n",
    "        if '{}_#{}.log'.format(date, streamer_id) not in os.listdir(txt_dir + '/#{}'.format(streamer_id)):\n",
    "            print(\"!!주의!! {}의 {}일자 채팅로그 데이터가 없어서 건너뜁니다. 결과가 정확하지 않을 수 있습니다.\".format(streamer_id,date))\n",
    "            date = dt.strptime(date,\"%Y-%m-%d\" )\n",
    "            date = (date - timedelta(1)).strftime(\"%Y-%m-%d\")\n",
    "            \n",
    "            file_not_exist.append('{}_#{}.log'.format(date,streamer_id))\n",
    "            count += 1\n",
    "            \n",
    "            continue\n",
    "        \n",
    "\n",
    "        with open(txt_dir + '/#{}/{}_#{}.log'.format(streamer_id, date, streamer_id),'r',encoding='utf-8') as f:\n",
    "            chat_user = list({log.replace(\"\\n\",\" \")[12:].split(\">\")[0].replace(\"<\",\" \") for log in f.readlines()[1:]})\n",
    "\n",
    "        id_form = re.compile(\"[a-zA-Z0-9_+]{4,26}\")\n",
    "\n",
    "        for user in chat_user:\n",
    "            if re.search(id_form,user):\n",
    "                target_user.append(re.search(id_form, user).group())\n",
    "\n",
    "        date = dt.strptime(date,\"%Y-%m-%d\")\n",
    "        date = (date - timedelta(1)).strftime(\"%Y-%m-%d\")\n",
    "        count += 1\n",
    "        \n",
    "    for user in target_user:\n",
    "        if target_user.count(user) == visit:\n",
    "            big_fan.append(user)\n",
    "\n",
    "    return [len(target_user), len(big_fan), file_not_exist]"
   ]
  },
  {
   "cell_type": "code",
   "execution_count": 109,
   "metadata": {},
   "outputs": [
    {
     "name": "stdout",
     "output_type": "stream",
     "text": [
      "!!주의!! looksam의 2018-12-30일자 채팅로그 데이터가 없어서 건너뜁니다. 결과가 정확하지 않을 수 있습니다.\n",
      "!!주의!! looksam의 2018-12-29일자 채팅로그 데이터가 없어서 건너뜁니다. 결과가 정확하지 않을 수 있습니다.\n",
      "!!주의!! looksam의 2018-12-28일자 채팅로그 데이터가 없어서 건너뜁니다. 결과가 정확하지 않을 수 있습니다.\n",
      "74250\n",
      "['2018-12-29_#looksam.log', '2018-12-28_#looksam.log', '2018-12-27_#looksam.log']\n",
      "['als448', 'fpxltldk', 'issac000106', 'kangsoo0826', 'dltlsdn03192', 'cvxzv', 'wlgns1587', 'supertakim', 'hjjang1000', 'smk4123', 'gasiria', 'simsim12345678', 'songchunglee', 'lwy2874', 'sole9305', '54164', 'dpcast', 'kangsoo0826', 'ghk1005', 'jhh9022', 'Flux_ef', 'kdk93', 'sa_gong', 'hjs2', 'seriwon', 'kknd0019', 'monthly_depreciation', 'nnnnb112', 'junyeoun', 'kiwybird622', 'luvent1', 'dauntlesslance', 'gaesangdorai', 'steelo_is_communist', '+Mokmok0058', 'dayeon6617', 'lis0920', 'eisaps2', 'jeongmin5140', 'ryuzer3562', 'myoung702', 'ekdns1016', 'xerid1004', 'junoyaa', 'djdjshin01', 'calin0211', 'shkm1234', 'zxcfw335', 'haetaesang1122', 'knowblind', 'tictoe1224', 'phm1525', 'lsw2077', 'newwlsn', 'must012', 'pakgod1249', 'ryuzer3562', 'theodore13', 'minsoo5047', 'flowerofer', 'maroon2017', 'flqmfpxh365', 'matt_seoin', 'aorkslrdnjwm', 'bussker6', 'djdjshin01', 'haemi310', 'kimdo095', 'seel591', 'choisk9901', 'realgo132', 'vnfnlstnskfk', 'blowfishman', 'qgqgqp', 'feara11', 'toruco1729', '108way', 'dktkrkfl12', 'wotjs721', 'higang823', 'panda9019', 'brownyyo', 'dobobo', 'sm8554', 'candyyeun02', 'tjwjdgh12', 'jongho0201', 'BMfail365', 'wj1203', 'ohme17', 'willkimam', 'minsoo5047', 'cof1000', 'tlfjsteelo', 'gks3150', 'qkrtmsfoot', 'ds99153', 'apomin', 'ygoforyou', 'onecoinclear1', 'rlago74', 'kimjotki', 'rahue1010', '1230456', 'popop8352', 'cvxzv', 'kimfromu82', 'ldw19643', 'bakamon', 'paradai686', 'mdbgustkd', 'snupyoo', 'radio156', 'arsenelupins', 'mnikjh1225', 'shin4456', 'thdwldka', 'goaxhf11', 'dydwk620', 'ddooing0001', 'yoo05012', 'Jhunl70', 'skwgsev', 'lovety789', 'yooksoo_gombo', 'guenbo123', 'dreamhoon', 'toplsh99', 'me4us', 'gotjd05', 'dream7432', 'oneday_onetime', 'kkill270', 'simsim12345678', 'pch35', 'nkmin03', '0528248', 'kevbrown1', 'cc0923', 'wlgns2985', 'wjdgus481', 'kyh01454', 'pawoo927', 'wotjr4555', 'yns001120', 'jae9092', 'panda9019', 'zzangwoo999', 'AABBABAC', 'hsunmin7410', 'cowcow2145', 'yangjin95', 'ttokiee1', 'allsuda', 'as04263', 'tjwjdgh12', 'rkdgml1249', 'genjihart', 'jee3568', 'guenbo123', 'xmankin123', 'dndbduwhdk', 'jwg0010', 'timecubes', 'gusqls9070', 'whal12345', 'ifmoon_', 'gaegolsan', 'rladudwn9792', 'oyami777', 'sjt2453', 'gyeongbin', 'dkanskejaql', 'gyeongbin', '0328', 'lastdate02', 'gyeranmari', 'dbssbd7120', 'heorobin', '0328', 'sojiniday', 'qq11aa', 'fil_xo_gud', 'cheatingdragon', 'dud5789', 'zzangwoo999', 'goaxhf11', 'aaadx33', 'qldpdml12', 'rbwls1229', 'cheldhgru14', 'eodus737', 'tyier123', 'dlsn321', 'slskwkfgofk2', 'jusang1201', 'sjsus201', 'gyeranmari', 'zeusakstp00', 'junyeoun', 'Jhunl70', 'askl1201', 'timecubes', 'tos34', 'tis23', 'kdk93', 'aryu200112', 'qmfmendj', 'kneesox_hyukjun', 'hban0503', 'csci6228', 'whacom', 'qkrtjdrnr07', 'Rodrigobott', 'chexking', 'bakamon', 'zxcfw335', 'jeff4116', 'dangbbadda', 'psm465', 'hjs2', 'kang8848', 'ohme17', 'leechhe', 'shinemouse', 'ldw19643', 'lookkwa', 'seriwon', 'fluke4321', 'wotjs721', 'allsuda', 'wlgn7219', 'skoks17', 'carbon30807', 'bussker6', 'kyh01454', 'kneesox_hyukjun', 'chemchemberrin', 'rea3399', 'mnbv6895', 'kingdom21th', 'dydtjs713', 'rmsgks02', 'nunalailey', 'lazy2111', 'ljwsky3', 'zmxnccb0429', 'tjf24', 'gazua22', 'tychicus21', 'dbssbd7120', 'ostinato22', 'jackqwee', 'gg49874', 'sk8150', 'jsj0126x', 'ghskdnem3986', 'yhjin1234', 'hiyo6', 'summ3rrain', 'pjh116zzang', 'jusang1201', 'dml3637', 'wndyd12', 'greentrash12', 'soul_bito', 'viento1120', 'dadivoso27', 'qgqgqp', 'epichono', 'aryu200112', 'dlatmdxo23', 'ghdtjr707', 'brian5245', 'sck8888', 'askl1201', 'sck8888', 'hsunmin7410', 'skyjunkk77', 'iyg1301', 'lienaria', 'maramara_', 'rjsl0109', 'jeongmin5140', 'kst530', 'cindykalg', 'rahue1010', 'rladudals27', 'whrnr1012', 'hds3362', 'yd9009135', 'moung98', 'jjf8155', 'iyg1301', 'fldeldehe', 'zxcvsdqwe', 'pabaring', 'maroon2017', 'as04263', 'mu_aa', 'bigbrownjaji', 'su0030', 'cb7570', 'najilong', 'yd9009135', 'song654321', 'hosung115', 'mu_aa', 'joju9623', 'kib9898', 'songppp123', 'dewty514', 'BMfail365', 'thatsmistake', 'kty2112', 'luvyoun00', 'yechank3', 'hojeong1129', '31691', 'kinggodyap', 'twitch_kr1', '1492k', 'pain5630', 'qldpdml12', 'dud5789', 'shaksn3838', 'kimjanjin', 'chicken2616', 'kknd0019', 'torushy', 'rlatnqls1024', 'kkb8059', '+demersseman', 'rittlel1234', 'tlfjsteelo', 'tmdqnrdl7', 'ifmoon_', 'report232', 'tlsdudqls', 'kiws456', 'heromin1979', 'pain5630', 'wjdghgud123', 'i4067', 'haetaesang1122', 'xangs0524', 'v2scoff', 'jjf8155', 'junma2ya', 'chicken2616', 'kwon200361', '1212jwj', 'junoyaa', 'ahwld41', 'me4us', 'nabnabe', 'rjsl0109', 'pakgod1249', 'wjdghgud123', 'jwg0010', 'brian4842', 'wonjink96', 'hjjang1000', 'jeonggiy', 'wj1203', 'mingmi1', 'im_not_steelo', 'gofgoh1', 'dlstj14789', 'dndndn', 'mingmi1', 'ghqhdxo', 'knowblind', 'thdrlwjd5976', 'fluke4321', 'philip8600', 'cheldhgru14', 'janast57', 'crzroozn', 'dangbbadda', 'saham628', 'kymgg1004', 'su0030', 'kimfromu82', 'wl6648', 'penix9867', 'brinicle025', 'feara11', 'nonsan417', 'chexking', '1492k', 'one22one2', '+demersseman', 'pumeu01', 'ChjH268', 'labi0309', 'dnfldudwo', 'dbtjdgus0323', 'nabnabe', 'nsu06055nsu', 'ggox2ma2', 'gofgoh1', 'zxcvsdqwe', 'javakkom', 'ysymana', 'wonjink96', 'dydtjs713', 'tongde', 'tkdan2024', 'fc0321', 'rjsgurdid12', 'duaeod1', '9bh9799', 'andyyo313', 'whrbqls98', 'dauntlesslance', 'serendypark', 'woll200', 'zscx54267', 'brs2426', 'ghskdnem3986', 'wlgns1587', 'Godkjm16', 'greentrash12', 'dml3637', 'rittlel1234', 'kimdo095', 'dbstjddn135', 'choisk9901', 'dlstj14789', '1234', 'Ppp407', 'rnstktmdwls', 'knswindy', 'aorkslrdnjwm', 'kailan91', 'hong2839', 'yanggoo2011', 'gis1456', 'i52500', 'arsenalmin', 'psm465', 'sieater07', 'dlddu159', 'wjc3434', 'suhyuck12', 'shinemouse', 'lastdate02', 'wjdtnghd7863', 'newwlsn', 'harryryujh', 'qmfmendj', 'sieater07', 'Alterfell', 'brs2426', 'song654321', 'yang001004', 'ksh4948', 'tmvpdltl', 'sojiniday', 'gogo000425', 'hsdh324', 'penix9867', 'sh4800', 'knswindy', 'kinggodbarca', 'pumeu01', 'viento1120', 'kyky1003', 'pilho715', 'jjiritchirit', 'kymgg1004', 'higang823', 'dlatmdxo23', 'sjsus201', 'tmzkdldj1', 'tychicus21', 'jyk5474', 'gaesangdorai', 'dodo0504', 'one22one2', 'rhrn23', 'junglekiid', 'wkwjsrj098', 'qeasdzxc0000', 'wkwjsrj098', 'sa_gong', 'AABBABAC', '991017jjh', 'dayeon6617', 'apomin', 'dodo6250', 'jyk5474', 'espana_catalonia', 'leejinha2003', 'minje0406', 'oommff3', 'CoSmOxmDnL', 'gg49874', 'cka1559', 'Policapple', 'heorobin', 'ekwjd1288', 'smilytnt2', 'weri0527', 'asgi777', 'andyyo313', 'yangjin95', 'else_K', 'stealjungsoo', 'dodo0504', 'sunnetree', 'wonki94', 'pjh116zzang', 'ostinato22', 'hojeong1129', 'cb7570', 'lim8090', 'i52500', 'dosaban', 'shchi01', 'hojin0302', 'kmsu0322', 'du0802', 'toplsh99', 'GoobJabman', 'sh4800', 'dantalian123', 'dlqudwls', 'eaaaaaat', 'wjdalstn92', 'Lokatal', 'brian4842', 'ssw2854', 'rlago74', 'qowpdn12', 'jwp0603', 'else_K', 'dosaban', 'kjw981', 'qkrtmsfoot', 'Lokatal', '1993', 'ggorererere', 'flqmfpxh365', 'pigpoong', 'hseungjoo', 'redcrepe', 'Buleday5525', 'dbtjdgus0323', 'jjiritchirit', 'brownyyo', 'pjh1210', 'thfkrp18', 'porono1', 'poi9696', 'gazua22', 'shdmf2460', 'dua3426', 'mun167', 'kingdom21th', 'rudals3', 'novagooon', 'asgi777', 'dhkdcjfwlgns', 'soul_bito', 'toruco1729', 'mutron13', 'mutron13', 'thdrlwjd5976', 'kkzz0001', 'radio156', 'woll200', 'ghk1005', 'yghgood0317', 'simplefunction__', 'rmfrrp2000', '124578910', 'genious200', 'hiyo6', 'rnstktmdwls', 'crirkdlq', 'shaksn3838', 'qowpdn12', 'heromin1979', 'nnynng162', 'bij55', 'rmsgks02', 'cheatingdragon', 'arsenelupins', 'slskwkfgofk2', 'carbon30807', 'dbstjddn135', 'belegarangrund', 'suhyuck12', 'ilhwan1493', 'ssw2854', '124578910', 'csci6228', 'damn_', 'kimkanna0', '59630111', 'wlsdl2001', 'jeff4116', 'ddexx777', 'zxc14126', 'gombo_with_triple_sibal', 'Godkjm16', 'qhsals12', 'cofflswjrkrhtlvdjdy', 'KBPXEFT', 'rjrjrjsi', 'gasiria', 'gang01035', 'wjdrkdghks', 'belegarangrund', 'cowcow2145', 'dnfldudwo', 'yooksoo_gombo', 'lis0920', 'onecoinclear1', 'rhaalscjf', 'zzz0029', 'zx7835', 'ith10207', 'pso5008', 'syn12370', 'wjdalstn92', 'storm8558', 'arsenalmin', 'thdwldka', 'jackqwee', 'genjihart', 'kinggodyap', 'najilong', 'kkill270', 'paradai686', 'ddexx777', 'Flux_ef', 'labajoa', 'bozy', 'jgforce91', 'ttobing3', 'zeminkim1', 'yang001004', 'nakwon3', 'gks3150', 'torushy', 'dpdlfm2000', 'yapwitch_president_teuteu', 'victoriasparkl', 'yns001120', 'novagooon', 'tmvpdltl', 'gang01035', 'stealjungsoo', 'poi9696', 'eodus737', 'espana_catalonia', 'aziatix12', 'gogogo1035', 'bigbrownjaji', 'tkdan2024', '1515687', 'eisaps2', 'nsu06055nsu', 'wjaaorh', '31691', 'igi778', 'zmxnccb0429', 'kkzz0001', 'fjtm1942', 'realgo132', 'ddongwon1', 'tlsdudqls', 'citizen824', 'qorgocks', 'popop8352', 'aldrlsb', 'seel591', 'sjt2453', 'wjdtnghd7863', 'simplefunction__', 'flowerofer', 'Rodrigobott', '54164', 'boxtral22', 'dndndn', 'nnnnb112', 'hesg99', 'gmltjd1023', 'cc0923', 'whrnr1012', 'labajoa', 'leejimin1006', 'wjdtn7823', 'chltmdgns', 'shc1747', 'cka1559', 'cmg8431', 'shdmf2460', 'cmg8431', 'so_funny_cctv_steelo', 'dlqudwls', 'didrltjr', 'dydwk620', 'ith10207', 'klrbb01', 'wl6648', 'ggstargame45', 'zx7835', 'weri0527', 'fldeldehe', 'sdsd0908', 'chanyou0103', 'sdsd0908', 'mipo42839', 'du0802', 'lovety789', 'eaaaaaat', 'alpaca1997', '991017jjh', 'wlgns2985', 'genious200', 'jhk9755', 'kkb8059', 'rhkdtn9421', 'bak1456', 'surrenderhs', '+Euphrum', 'qkrtjdrnr07', 'torando75e', 'pso5008', 'ddongwon1', 'javakkom', 'nkstory951', 'wotjr4555', 'hojin0302', 'victoriasparkl', 'KBPXEFT', 'haemi310', 'sharpsim_', 'pabaring', 'dpcast', 'ghqhdxo', 'seosankid', 'qq11aa', 'nadat09', 'deokhwa1933', 'klrbb01', 'jee3568', 'Ppp407', 'soulcrave1002', 'psecres', 'jihun6378', 'pigpoong', 'hsdh324', 'qeasdzxc0000', 'fil_xo_gud', 'alves0506', 'serendypark', 'sm8554', 'xangs0524', 'rkdgml1249', 'crirkdlq', 'cofflswjrkrhtlvdjdy', 'realandrewpark', 'alpaca1997', 'deokhwa1933', 'dlsn321', 'shin4456', 'igi778', 'pch35', 'whal12345', 'wjdrkdghks', 'philip8600', 'phm1525', 'kang8848', 'als448', 'jangsua8', 'oyami777', '52telecasterreissue', 'ggorererere', 'rudals3', 'dwt0925', 'crzroozn', 'kimjotki', 'junma2ya', 'kd6986', 'qwas81', 'thatsmistake', 'shchi01', 'kty2112', 'thfkrp18', 'mnikjh1225', 'kiws456', 'abcd8456', 'Treddy_17', 'jihun6378', 'dkzpdls', 'leejimin1006', 'jhoijune', '1515687', '1230456', 'mnbv6895', 'jaba001', 'willkimam', 'luvyoun00', 'rhaalscjf', 'dpdlfm2000', 'kiaeh2323', 'pbys1626', 'zeusakstp00', 'dreamhoon', 'mdbgustkd', 'dltlsdn03192', 'itslit0430', 'shkm1234', 'cof1000', 'hong2839', 'jhoijune', 'storm8558', 'kailan91', 'citizen824', 'chw4140', 'enchantedhong', 'Buleday5525', 'yechank3', 'report232', 'whquddnr11', 'jae9092', 'wlgn7219', 'yoo05012', 'kyky1003', 'isshoman_beenzino', 'nnynng162', 'whrbqls98', 'shc1747', 'whacom', 'ljwsky3', 'ksh4948', 'dream7432', 'syn12370', 'tos34', 'redcrepe', 'dadivoso27', 'chemchemberrin', 'angel3007', 'must012', 'rjsgurdid12', '+Mokmok0058', 'heyzoney', 'aziatix12', 'ekwjd1288', 'wjdtn7823', 'monthly_depreciation', '52telecasterreissue', 'rhrn23', 'rlatnqls1024', 'alsdy', 'ys0576', 'rbwls1229', 'saham628', 'dktkrkfl12', 'whquddnr11', 'wjaaorh', 'gogogo1035', 'cordicecream', 'angryrobin90', 'lienaria', 'GoobJabman', 'heyzoney', 'hesg99', 'dantalian123', 'tmdqnrdl7', 'kmsu0322', 'zxc14126', 'jhk9755', 'itslit0430', 'junglekiid', 'songchunglee', 'tmzkdldj1', 'rjrjrjsi', '9bh9799', 'i4067', 'cloud_kim', 'jkj3308', 'kib9898', 'ddooing0001', 'rladudals27', 'moung98', 'tjf24', 'damn_', 'leejinha2003', 'wndyd12', 'wjdgus481', 'vnfnlstnskfk', 'bak1456', 'cloud_kim', 'maramara_', 'gmltjd1023', 'steelo1313', 'sk8150', 'qhsals12', 'myoung702', 'kst530', 'lsw2077', 'dhkdcjfwlgns', 'lookkwa', 'hseungjoo', 'zeminkim1', 'theodore13', 'smilytnt2', 'leechhe', 'im_not_steelo', 'pjh1210', 'qorgocks', 'nunalailey', 'epichono', 'songppp123', 'yhjin1234', 'nkstory951', 'kimjanjin', '1993', 'hosung115', 'hoodtaste', 'gotjd05', 'lazy2111', 'janast57', 'brinicle025', 'zzz0029', 'abcd8456', 'ygoforyou', 'torando75e', 'tyier123', 'sharpsim_', 'ttokiee1', 'kinggodbarca', 'substitution2', 'hoodtaste', 'steelo1313', 'tis23', 'surrenderhs', 'angel3007', 'hban0503', 'nkmin03', 'aaadx33', 'angryrobin90', 'sunnetree', 'jgforce91', 'porono1', 'summ3rrain', 'yanggoo2011', 'so_funny_cctv_steelo', 'gusqls9070', '10cent', 'skwgsev', 'chanyou0103', 'ttobing3', 'ilhwan1493', 'snupyoo', 'Treddy_17', 'isshoman_beenzino', 'tictoe1224', 'cindykalg', 'psecres', 'rmfrrp2000', 'yghgood0317', 'kimkanna0', 'matt_seoin', 'kimjh4226', 'dndbduwhdk', 'steelo_is_communist', 'alsdy', 'fpxltldk', 'kwon200361', 'hds3362', 'twitch_kr1', 'pilho715', 'luvent1', 'kiwybird622', 'bozy', 'supertakim', 'jeonggiy', 'skoks17', 'tongde', 'dobobo', 'wjc3434', 'dlddu159', 'pbys1626', 'yapwitch_president_teuteu', 'ahwld41', 'rladudwn9792', 'lwy2874', 'ysymana', 'ys0576', 'chw4140', 'issac000106', 'nakwon3', 'skyjunkk77', 'kiaeh2323', 'cordicecream', 'dwt0925', 'jhh9022', 'labi0309', '0528248', 'kimjh4226', 'jangsua8', 'jongho0201', 'boxtral22', 'fc0321', 'bij55', 'dua3426', 'dodo6250', 'fjtm1942', 'kevbrown1', 'jaba001', 'nadat09', 'wlsdl2001', 'jwp0603', 'jkj3308', 'zscx54267', 'kd6986', 'oommff3', 'duaeod1', 'ggstargame45', 'ds99153', 'rhkdtn9421', 'mun167', 'gombo_with_triple_sibal', 'lim8090', 'gis1456', 'mipo42839', 'rea3399', 'v2scoff', 'Policapple', 'chltmdgns', 'joju9623', 'Alterfell', 'enchantedhong', 'brian5245', 'jsj0126x', 'gogo000425', 'pawoo927', 'oneday_onetime', 'minje0406', 'wonki94', 'smk4123', 'candyyeun02', 'calin0211', 'ggox2ma2', 'ghdtjr707', 'realandrewpark', 'ekdns1016', 'xmankin123', 'CoSmOxmDnL', 'nonsan417', 'qwas81', 'blowfishman', '10cent', 'ChjH268', 'dkzpdls', 'didrltjr', 'substitution2', '59630111', 'harryryujh', 'dkanskejaql', 'gaegolsan', 'soulcrave1002', 'aldrlsb', 'alves0506', '+Euphrum', '1234', 'seosankid', 'xerid1004', 'kjw981', '1212jwj', 'dewty514', '108way', 'sole9305']\n",
      "107.8759913444519\n"
     ]
    },
    {
     "data": {
      "text/plain": [
       "[74250,\n",
       " 1080,\n",
       " ['2018-12-29_#looksam.log',\n",
       "  '2018-12-28_#looksam.log',\n",
       "  '2018-12-27_#looksam.log']]"
      ]
     },
     "execution_count": 109,
     "metadata": {},
     "output_type": "execute_result"
    }
   ],
   "source": [
    "startt (\"2018-12-31\",\"looksam\",period=5,visit=2)"
   ]
  },
  {
   "cell_type": "code",
   "execution_count": 105,
   "metadata": {},
   "outputs": [
    {
     "name": "stdout",
     "output_type": "stream",
     "text": [
      "198945\n"
     ]
    },
    {
     "ename": "KeyboardInterrupt",
     "evalue": "",
     "output_type": "error",
     "traceback": [
      "\u001b[1;31m---------------------------------------------------------------------------\u001b[0m",
      "\u001b[1;31mKeyboardInterrupt\u001b[0m                         Traceback (most recent call last)",
      "\u001b[1;32m<ipython-input-105-956828f046f6>\u001b[0m in \u001b[0;36m<module>\u001b[1;34m\u001b[0m\n\u001b[1;32m----> 1\u001b[1;33m \u001b[0mstart\u001b[0m\u001b[1;33m(\u001b[0m\u001b[1;34m\"2019-01-04\"\u001b[0m\u001b[1;33m,\u001b[0m\u001b[1;34m\"looksam\"\u001b[0m\u001b[1;33m,\u001b[0m\u001b[0mperiod\u001b[0m\u001b[1;33m=\u001b[0m\u001b[1;36m3\u001b[0m\u001b[1;33m,\u001b[0m\u001b[0mvisit\u001b[0m\u001b[1;33m=\u001b[0m\u001b[1;36m2\u001b[0m\u001b[1;33m)\u001b[0m\u001b[1;33m\u001b[0m\u001b[1;33m\u001b[0m\u001b[0m\n\u001b[0m",
      "\u001b[1;32m<ipython-input-104-9113ea4f4314>\u001b[0m in \u001b[0;36mstart\u001b[1;34m(date, streamer_id, period, visit)\u001b[0m\n\u001b[0;32m     43\u001b[0m         \u001b[0mprint\u001b[0m\u001b[1;33m(\u001b[0m\u001b[0mlen\u001b[0m\u001b[1;33m(\u001b[0m\u001b[0mtarget_user\u001b[0m\u001b[1;33m)\u001b[0m\u001b[1;33m)\u001b[0m\u001b[1;33m\u001b[0m\u001b[1;33m\u001b[0m\u001b[0m\n\u001b[0;32m     44\u001b[0m         \u001b[1;32mfor\u001b[0m \u001b[0muser\u001b[0m \u001b[1;32min\u001b[0m \u001b[0mtarget_user\u001b[0m\u001b[1;33m:\u001b[0m\u001b[1;33m\u001b[0m\u001b[1;33m\u001b[0m\u001b[0m\n\u001b[1;32m---> 45\u001b[1;33m             \u001b[1;32mif\u001b[0m \u001b[0mtarget_user\u001b[0m\u001b[1;33m.\u001b[0m\u001b[0mcount\u001b[0m\u001b[1;33m(\u001b[0m\u001b[0muser\u001b[0m\u001b[1;33m)\u001b[0m \u001b[1;33m>=\u001b[0m \u001b[0mvisit\u001b[0m\u001b[1;33m:\u001b[0m\u001b[1;33m\u001b[0m\u001b[1;33m\u001b[0m\u001b[0m\n\u001b[0m\u001b[0;32m     46\u001b[0m                 \u001b[0mbig_fan\u001b[0m\u001b[1;33m.\u001b[0m\u001b[0mappend\u001b[0m\u001b[1;33m(\u001b[0m\u001b[0muser\u001b[0m\u001b[1;33m)\u001b[0m\u001b[1;33m\u001b[0m\u001b[1;33m\u001b[0m\u001b[0m\n\u001b[0;32m     47\u001b[0m \u001b[1;33m\u001b[0m\u001b[0m\n",
      "\u001b[1;31mKeyboardInterrupt\u001b[0m: "
     ]
    }
   ],
   "source": [
    "start(\"2019-01-04\",\"looksam\",period=3,visit=2)"
   ]
  },
  {
   "cell_type": "code",
   "execution_count": 52,
   "metadata": {},
   "outputs": [
    {
     "data": {
      "text/plain": [
       "True"
      ]
     },
     "execution_count": 52,
     "metadata": {},
     "output_type": "execute_result"
    }
   ],
   "source": [
    "import os\n",
    "'2018-12-04_#beyou0728.log' in os.listdir(\"../../data/twitch_live_chat/#beyou0728\")"
   ]
  },
  {
   "cell_type": "code",
   "execution_count": 71,
   "metadata": {},
   "outputs": [
    {
     "name": "stdout",
     "output_type": "stream",
     "text": [
      "0\n",
      "1\n",
      "2\n",
      "4\n"
     ]
    }
   ],
   "source": [
    "for x in range(5):\n",
    "    if x == 3: continue\n",
    "    print(x)"
   ]
  },
  {
   "cell_type": "code",
   "execution_count": 94,
   "metadata": {},
   "outputs": [
    {
     "ename": "ValueError",
     "evalue": "list.remove(x): x not in list",
     "output_type": "error",
     "traceback": [
      "\u001b[1;31m---------------------------------------------------------------------------\u001b[0m",
      "\u001b[1;31mValueError\u001b[0m                                Traceback (most recent call last)",
      "\u001b[1;32m<ipython-input-94-c9509ceb71c4>\u001b[0m in \u001b[0;36m<module>\u001b[1;34m\u001b[0m\n\u001b[0;32m      1\u001b[0m \u001b[0mx\u001b[0m \u001b[1;33m=\u001b[0m \u001b[1;33m[\u001b[0m\u001b[1;34m\"a\"\u001b[0m\u001b[1;33m]\u001b[0m\u001b[1;33m\u001b[0m\u001b[1;33m\u001b[0m\u001b[0m\n\u001b[1;32m----> 2\u001b[1;33m \u001b[0mx\u001b[0m\u001b[1;33m.\u001b[0m\u001b[0mremove\u001b[0m\u001b[1;33m(\u001b[0m\u001b[1;34m\"b\"\u001b[0m\u001b[1;33m)\u001b[0m\u001b[1;33m\u001b[0m\u001b[1;33m\u001b[0m\u001b[0m\n\u001b[0m\u001b[0;32m      3\u001b[0m \u001b[0mx\u001b[0m\u001b[1;33m\u001b[0m\u001b[1;33m\u001b[0m\u001b[0m\n",
      "\u001b[1;31mValueError\u001b[0m: list.remove(x): x not in list"
     ]
    }
   ],
   "source": [
    "x = [\"a\"]\n",
    "x.remove(\"b\")\n",
    "x"
   ]
  },
  {
   "cell_type": "code",
   "execution_count": null,
   "metadata": {},
   "outputs": [],
   "source": []
  },
  {
   "cell_type": "code",
   "execution_count": null,
   "metadata": {},
   "outputs": [],
   "source": []
  },
  {
   "cell_type": "code",
   "execution_count": null,
   "metadata": {},
   "outputs": [],
   "source": []
  },
  {
   "cell_type": "code",
   "execution_count": null,
   "metadata": {},
   "outputs": [],
   "source": []
  },
  {
   "cell_type": "code",
   "execution_count": null,
   "metadata": {},
   "outputs": [],
   "source": []
  },
  {
   "cell_type": "code",
   "execution_count": null,
   "metadata": {},
   "outputs": [],
   "source": []
  },
  {
   "cell_type": "code",
   "execution_count": null,
   "metadata": {},
   "outputs": [],
   "source": []
  },
  {
   "cell_type": "code",
   "execution_count": null,
   "metadata": {},
   "outputs": [],
   "source": []
  },
  {
   "cell_type": "code",
   "execution_count": null,
   "metadata": {},
   "outputs": [],
   "source": []
  },
  {
   "cell_type": "code",
   "execution_count": null,
   "metadata": {},
   "outputs": [],
   "source": []
  },
  {
   "cell_type": "code",
   "execution_count": null,
   "metadata": {},
   "outputs": [],
   "source": []
  },
  {
   "cell_type": "code",
   "execution_count": null,
   "metadata": {},
   "outputs": [],
   "source": []
  },
  {
   "cell_type": "code",
   "execution_count": null,
   "metadata": {},
   "outputs": [],
   "source": []
  },
  {
   "cell_type": "code",
   "execution_count": null,
   "metadata": {},
   "outputs": [],
   "source": []
  }
 ],
 "metadata": {
  "kernelspec": {
   "display_name": "Python 3",
   "language": "python",
   "name": "python3"
  },
  "language_info": {
   "codemirror_mode": {
    "name": "ipython",
    "version": 3
   },
   "file_extension": ".py",
   "mimetype": "text/x-python",
   "name": "python",
   "nbconvert_exporter": "python",
   "pygments_lexer": "ipython3",
   "version": "3.7.1"
  }
 },
 "nbformat": 4,
 "nbformat_minor": 2
}
