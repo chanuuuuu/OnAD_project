{
 "cells": [
  {
   "cell_type": "code",
   "execution_count": 1,
   "metadata": {},
   "outputs": [],
   "source": [
    "import sys\n",
    "sys.path.insert(0, 'C:\\\\Users\\\\admin\\\\Desktop\\\\onad\\\\OnAD_project')"
   ]
  },
  {
   "cell_type": "code",
   "execution_count": 2,
   "metadata": {},
   "outputs": [],
   "source": [
    "import pickle"
   ]
  },
  {
   "cell_type": "code",
   "execution_count": 3,
   "metadata": {},
   "outputs": [],
   "source": [
    "import numpy as np"
   ]
  },
  {
   "cell_type": "code",
   "execution_count": 4,
   "metadata": {},
   "outputs": [],
   "source": [
    "# 감성사전 \n",
    "with open('../../data/sentiment_dictionary/sentidict_norm.pickle', 'rb') as f: \n",
    "    new_word_dic = pickle.load(f)"
   ]
  },
  {
   "cell_type": "code",
   "execution_count": 5,
   "metadata": {
    "scrolled": true
   },
   "outputs": [],
   "source": [
    "from lib.morphs_analyzer.komoran3py import KomoranPy"
   ]
  },
  {
   "cell_type": "code",
   "execution_count": 6,
   "metadata": {},
   "outputs": [],
   "source": [
    "ko = KomoranPy()\n",
    "ko.set_user_dictionary('lib/morphs_analyzer/user_dictionary.txt')"
   ]
  },
  {
   "cell_type": "code",
   "execution_count": 7,
   "metadata": {},
   "outputs": [],
   "source": [
    "from lib.contact_db.member import TwitchChat"
   ]
  },
  {
   "cell_type": "code",
   "execution_count": 8,
   "metadata": {},
   "outputs": [],
   "source": [
    "import matplotlib.pyplot as plt\n",
    "%matplotlib inline\n",
    "import platform\n",
    "from matplotlib import font_manager, rc\n",
    "plt.rcParams['axes.unicode_minus'] = False\n",
    "if platform.system() == 'Darwin' :#맥\n",
    "    rc('font', family='AppleGothic')\n",
    "elif platform.system() == 'Windows' : \n",
    "    #폰트 차후 확인\n",
    "    fontPath = 'c:/Windows/Fonts/malgun.ttf'\n",
    "    fontName = font_manager.FontProperties(fname=fontPath).get_name()\n",
    "    rc('font', family=fontName)\n",
    "elif platform.system() == 'Linux' : \n",
    "    fontPath = '/usr/share/fonts/truetype/nanum/NanumSquareB.ttf'\n",
    "    fontName = font_manager.FontProperties(fname=fontPath).get_name()\n",
    "    rc('font', family=fontName)\n",
    "#     fontPath =  '/usr/share/fonts/truetype/nanum/NanumMyeongjoEco.ttf',\n",
    "else : print('알수없음')\n",
    "import seaborn as sns"
   ]
  },
  {
   "cell_type": "code",
   "execution_count": 9,
   "metadata": {},
   "outputs": [],
   "source": [
    "def tokenize_tolist(x, depth = 1) :\n",
    "    \"\"\"\n",
    "        text_array_flat : 1차 리스트 / flatten 함수의 리턴값\n",
    "        depth : 반환될 리스트 형태 1 = 1차원 리스트, 2 = 2차원 리스트\n",
    "    \"\"\"\n",
    "    tokens_ko_tolist = []\n",
    "    line_list = []\n",
    "    if depth == 1 : \n",
    "        for i in range(len(ko.pos(x))) : \n",
    "            tokens_ko_tolist.append(ko.pos(x)[i][0])\n",
    "\n",
    "    if depth == 2 :\n",
    "        for i in range(len(ko.pos(word))) : \n",
    "            line_list.append(ko.pos(word)[i][0])\n",
    "            if i+1 == len(ko.pos(word)) : \n",
    "                tokens_ko_tolist.append(line_list)\n",
    "                line_list = []\n",
    "    return tokens_ko_tolist"
   ]
  },
  {
   "cell_type": "code",
   "execution_count": 10,
   "metadata": {},
   "outputs": [],
   "source": [
    "import pandas as pd\n",
    "\n",
    "DB_URL = 'onad.cbjjamtlar2t.ap-northeast-2.rds.amazonaws.com'\n",
    "DB_USER = 'onad'\n",
    "DB_PASSWORD = 'rkdghktn12'\n",
    "DB_DATABASE = 'onad'\n",
    "DB_CHARSET = 'utf8mb4'\n",
    "DB_LOGFLAG  = 'False'\n",
    "DB_PORT = 3306\n",
    "\n",
    "db_url = \"mysql+pymysql://%s:%s@%s:%s/%s?charset=%s\" % (\n",
    "    DB_USER, DB_PASSWORD,\n",
    "    DB_URL, DB_PORT,\n",
    "    DB_DATABASE, DB_CHARSET\n",
    ")"
   ]
  },
  {
   "cell_type": "code",
   "execution_count": 11,
   "metadata": {},
   "outputs": [],
   "source": [
    "def select_twitch_chat(db_url, streamer_id, target_date):\n",
    "    \"\"\"\n",
    "    db와 접촉하여 트위치 채팅 데이터를 가져오는 쿼리를 수행한 후 데이터 프레임으로 반환합니다.\n",
    "    * input\n",
    "        db_url : 데이터 베이스 연결 url, str\n",
    "        streamer_id : 채팅로그를 가져 올 스트리머의 id, str ex)zilioner\n",
    "        target_date : 채팅로그를 가져 올 날짜 ex)2018-01-07, str\n",
    "    * output\n",
    "        pandas.DataFrame 객체\n",
    "    \"\"\"\n",
    "    import pandas as pd\n",
    "    query = \"\"\"select * from twitch_chat where streamer_name = \"%s\" and broad_date =\"%s\"\n",
    "    \"\"\" % (streamer_id, target_date)\n",
    "    return pd.read_sql_query(query, db_url)"
   ]
  },
  {
   "cell_type": "code",
   "execution_count": null,
   "metadata": {},
   "outputs": [],
   "source": [
    "target_id = 'zilioner'\n",
    "target_date = '2019-01-10'"
   ]
  },
  {
   "cell_type": "code",
   "execution_count": null,
   "metadata": {},
   "outputs": [],
   "source": [
    "df = select_twitch_chat(db_url, target_id,  target_date)"
   ]
  },
  {
   "cell_type": "code",
   "execution_count": null,
   "metadata": {},
   "outputs": [
    {
     "data": {
      "text/html": [
       "<div>\n",
       "<style scoped>\n",
       "    .dataframe tbody tr th:only-of-type {\n",
       "        vertical-align: middle;\n",
       "    }\n",
       "\n",
       "    .dataframe tbody tr th {\n",
       "        vertical-align: top;\n",
       "    }\n",
       "\n",
       "    .dataframe thead th {\n",
       "        text-align: right;\n",
       "    }\n",
       "</style>\n",
       "<table border=\"1\" class=\"dataframe\">\n",
       "  <thead>\n",
       "    <tr style=\"text-align: right;\">\n",
       "      <th></th>\n",
       "      <th>chat_id</th>\n",
       "      <th>streamer_name</th>\n",
       "      <th>broad_date</th>\n",
       "      <th>chatterer</th>\n",
       "      <th>chat_time</th>\n",
       "      <th>chat_contents</th>\n",
       "    </tr>\n",
       "  </thead>\n",
       "  <tbody>\n",
       "    <tr>\n",
       "      <th>0</th>\n",
       "      <td>23924900</td>\n",
       "      <td>zilioner</td>\n",
       "      <td>2019-01-10</td>\n",
       "      <td>&lt;화이트초코에몽 (dokdo0324)&gt;</td>\n",
       "      <td>06:38:31</td>\n",
       "      <td>..</td>\n",
       "    </tr>\n",
       "    <tr>\n",
       "      <th>1</th>\n",
       "      <td>23924901</td>\n",
       "      <td>zilioner</td>\n",
       "      <td>2019-01-10</td>\n",
       "      <td>&lt;+wadoling&gt;</td>\n",
       "      <td>10:08:53</td>\n",
       "      <td>착-석</td>\n",
       "    </tr>\n",
       "    <tr>\n",
       "      <th>2</th>\n",
       "      <td>23924902</td>\n",
       "      <td>zilioner</td>\n",
       "      <td>2019-01-10</td>\n",
       "      <td>&lt;팬곰 (pdg3379)&gt;</td>\n",
       "      <td>10:14:33</td>\n",
       "      <td>침착맨님 그립읍니다</td>\n",
       "    </tr>\n",
       "    <tr>\n",
       "      <th>3</th>\n",
       "      <td>23924903</td>\n",
       "      <td>zilioner</td>\n",
       "      <td>2019-01-10</td>\n",
       "      <td>&lt;doto577&gt;</td>\n",
       "      <td>10:22:14</td>\n",
       "      <td>방송시작 대기중</td>\n",
       "    </tr>\n",
       "    <tr>\n",
       "      <th>4</th>\n",
       "      <td>23924904</td>\n",
       "      <td>zilioner</td>\n",
       "      <td>2019-01-10</td>\n",
       "      <td>&lt;퇴사하고말거야 (beeuttik)&gt;</td>\n",
       "      <td>10:30:27</td>\n",
       "      <td>착석</td>\n",
       "    </tr>\n",
       "  </tbody>\n",
       "</table>\n",
       "</div>"
      ],
      "text/plain": [
       "    chat_id streamer_name  broad_date              chatterer chat_time  \\\n",
       "0  23924900      zilioner  2019-01-10  <화이트초코에몽 (dokdo0324)>  06:38:31   \n",
       "1  23924901      zilioner  2019-01-10            <+wadoling>  10:08:53   \n",
       "2  23924902      zilioner  2019-01-10         <팬곰 (pdg3379)>  10:14:33   \n",
       "3  23924903      zilioner  2019-01-10              <doto577>  10:22:14   \n",
       "4  23924904      zilioner  2019-01-10   <퇴사하고말거야 (beeuttik)>  10:30:27   \n",
       "\n",
       "  chat_contents  \n",
       "0            ..  \n",
       "1           착-석  \n",
       "2    침착맨님 그립읍니다  \n",
       "3      방송시작 대기중  \n",
       "4            착석  "
      ]
     },
     "execution_count": 14,
     "metadata": {},
     "output_type": "execute_result"
    }
   ],
   "source": [
    "df.head()"
   ]
  },
  {
   "cell_type": "code",
   "execution_count": null,
   "metadata": {},
   "outputs": [],
   "source": [
    "chat = df['chat_contents']"
   ]
  },
  {
   "cell_type": "code",
   "execution_count": null,
   "metadata": {},
   "outputs": [],
   "source": []
  },
  {
   "cell_type": "code",
   "execution_count": null,
   "metadata": {},
   "outputs": [],
   "source": [
    "df['chat_morphs'] = df['chat_contents'].apply(lambda x : [ i[0] for i in ko.pos(x)])"
   ]
  },
  {
   "cell_type": "code",
   "execution_count": null,
   "metadata": {},
   "outputs": [],
   "source": [
    "df[10000:10010]"
   ]
  },
  {
   "cell_type": "markdown",
   "metadata": {},
   "source": [
    "### 형태소 분석 끝"
   ]
  },
  {
   "cell_type": "code",
   "execution_count": null,
   "metadata": {},
   "outputs": [],
   "source": [
    "new_word_dic['유하'] = 1\n",
    "new_word_dic['우와'] = 1\n",
    "new_word_dic['개꿀'] = 1\n",
    "new_word_dic['개꿀잼'] = 1\n",
    "new_word_dic['기모띠'] = 1\n",
    "new_word_dic['꿀잼'] = 1\n",
    "new_word_dic['재밌네'] = 1\n",
    "new_word_dic['대박'] = 1\n",
    "new_word_dic['유하'] = 1\n",
    "new_word_dic['재밌다'] = 1\n",
    "new_word_dic['ㄵ'] = -1\n",
    "new_word_dic['노잼'] = -1\n",
    "new_word_dic['노답'] = -1\n",
    "new_word_dic['개노답'] = -1\n",
    "new_word_dic['?'] = 1\n",
    "new_word_dic[';'] = 0\n",
    "\n",
    "\n",
    "# a = 'ㅋ'\n",
    "# for i in range(20):\n",
    "#     new_word_dic[a] = 1\n",
    "#     a += 'ㅋ'\n",
    "    \n"
   ]
  },
  {
   "cell_type": "code",
   "execution_count": null,
   "metadata": {},
   "outputs": [],
   "source": [
    "def check(x) : \n",
    "    sentiment_list = []\n",
    "    score = 0\n",
    "    for i in range(len(x)) : \n",
    "        if x[i] in new_word_dic.keys() : \n",
    "            sentiment_list.append(new_word_dic[x[i]])\n",
    "            if i+1 == len(x) : \n",
    "                score = sum(sentiment_list)\n",
    "                \n",
    "                return score\n",
    "        elif x[i] not in new_word_dic.keys() : \n",
    "            sentiment_list.append(0)\n",
    "            if i+1 == len(x) :\n",
    "                score = sum(sentiment_list)\n",
    "                \n",
    "                return score\n",
    "    "
   ]
  },
  {
   "cell_type": "code",
   "execution_count": null,
   "metadata": {},
   "outputs": [],
   "source": [
    "df['sentiment_score'] = df['chat_morphs'].apply(lambda x : check(x))"
   ]
  },
  {
   "cell_type": "code",
   "execution_count": null,
   "metadata": {
    "scrolled": false
   },
   "outputs": [],
   "source": [
    "df['sentiment_score'].unique()"
   ]
  },
  {
   "cell_type": "code",
   "execution_count": null,
   "metadata": {
    "scrolled": false
   },
   "outputs": [],
   "source": [
    "df.index = df.chat_time.apply(lambda x : target_date + \" \" + x ).apply(lambda x : pd.to_datetime(x))\n",
    "df.head()"
   ]
  },
  {
   "cell_type": "code",
   "execution_count": null,
   "metadata": {},
   "outputs": [],
   "source": [
    "anal_df = df.pivot_table(index=df.index, values=['chat_contents'], aggfunc=len)\n",
    "anal_df['sentiment_score'] = df.pivot_table(index=df.index, values=['sentiment_score'], aggfunc=sum)['sentiment_score']"
   ]
  },
  {
   "cell_type": "code",
   "execution_count": null,
   "metadata": {
    "scrolled": true
   },
   "outputs": [],
   "source": [
    "anal_df['sentiment_score'].unique()"
   ]
  },
  {
   "cell_type": "code",
   "execution_count": null,
   "metadata": {},
   "outputs": [],
   "source": [
    "print(w['sentiment_score'].unique())\n",
    "w[w['sentiment_score'] == -34]\n"
   ]
  },
  {
   "cell_type": "code",
   "execution_count": null,
   "metadata": {},
   "outputs": [],
   "source": [
    "df[df.index.between(\"17:12:00\", \"17:12:59\")]"
   ]
  },
  {
   "cell_type": "code",
   "execution_count": null,
   "metadata": {},
   "outputs": [],
   "source": [
    "mask = (df.index > '2019-01-10 17:12:40') & (df.index <= '2019-01-10 17:12:50')"
   ]
  },
  {
   "cell_type": "code",
   "execution_count": null,
   "metadata": {
    "scrolled": false
   },
   "outputs": [],
   "source": [
    "df.loc[mask]"
   ]
  },
  {
   "cell_type": "code",
   "execution_count": null,
   "metadata": {},
   "outputs": [],
   "source": [
    "w = anal_df.resample('Min').sum()\n",
    "plt.figure(figsize=(15,4))\n",
    "w.chat_contents.plot()"
   ]
  },
  {
   "cell_type": "code",
   "execution_count": null,
   "metadata": {
    "scrolled": false
   },
   "outputs": [],
   "source": [
    "plt.figure(figsize=(15,4))\n",
    "w.sentiment_score.plot()"
   ]
  },
  {
   "cell_type": "code",
   "execution_count": 192,
   "metadata": {},
   "outputs": [],
   "source": [
    "tmp_df = pd.DataFrame(df['sentiment_score'])"
   ]
  },
  {
   "cell_type": "code",
   "execution_count": 194,
   "metadata": {},
   "outputs": [],
   "source": [
    "tmp_df['chat_time'] = df['chat_time']"
   ]
  },
  {
   "cell_type": "code",
   "execution_count": 195,
   "metadata": {},
   "outputs": [],
   "source": [
    "tmp_df = tmp_df.set_index('chat_time')"
   ]
  },
  {
   "cell_type": "code",
   "execution_count": 196,
   "metadata": {},
   "outputs": [
    {
     "data": {
      "text/html": [
       "<div>\n",
       "<style scoped>\n",
       "    .dataframe tbody tr th:only-of-type {\n",
       "        vertical-align: middle;\n",
       "    }\n",
       "\n",
       "    .dataframe tbody tr th {\n",
       "        vertical-align: top;\n",
       "    }\n",
       "\n",
       "    .dataframe thead th {\n",
       "        text-align: right;\n",
       "    }\n",
       "</style>\n",
       "<table border=\"1\" class=\"dataframe\">\n",
       "  <thead>\n",
       "    <tr style=\"text-align: right;\">\n",
       "      <th></th>\n",
       "      <th>sentiment_score</th>\n",
       "    </tr>\n",
       "    <tr>\n",
       "      <th>chat_time</th>\n",
       "      <th></th>\n",
       "    </tr>\n",
       "  </thead>\n",
       "  <tbody>\n",
       "    <tr>\n",
       "      <th>09:42:53</th>\n",
       "      <td>0</td>\n",
       "    </tr>\n",
       "    <tr>\n",
       "      <th>10:18:22</th>\n",
       "      <td>0</td>\n",
       "    </tr>\n",
       "    <tr>\n",
       "      <th>10:19:12</th>\n",
       "      <td>0</td>\n",
       "    </tr>\n",
       "    <tr>\n",
       "      <th>10:19:58</th>\n",
       "      <td>0</td>\n",
       "    </tr>\n",
       "    <tr>\n",
       "      <th>10:20:27</th>\n",
       "      <td>0</td>\n",
       "    </tr>\n",
       "  </tbody>\n",
       "</table>\n",
       "</div>"
      ],
      "text/plain": [
       "           sentiment_score\n",
       "chat_time                 \n",
       "09:42:53                 0\n",
       "10:18:22                 0\n",
       "10:19:12                 0\n",
       "10:19:58                 0\n",
       "10:20:27                 0"
      ]
     },
     "execution_count": 196,
     "metadata": {},
     "output_type": "execute_result"
    }
   ],
   "source": [
    "tmp_df.head()"
   ]
  },
  {
   "cell_type": "code",
   "execution_count": 197,
   "metadata": {},
   "outputs": [],
   "source": [
    "tmp_df.index = pd.to_datetime(tmp_df.index)"
   ]
  },
  {
   "cell_type": "code",
   "execution_count": 198,
   "metadata": {},
   "outputs": [
    {
     "data": {
      "text/html": [
       "<div>\n",
       "<style scoped>\n",
       "    .dataframe tbody tr th:only-of-type {\n",
       "        vertical-align: middle;\n",
       "    }\n",
       "\n",
       "    .dataframe tbody tr th {\n",
       "        vertical-align: top;\n",
       "    }\n",
       "\n",
       "    .dataframe thead th {\n",
       "        text-align: right;\n",
       "    }\n",
       "</style>\n",
       "<table border=\"1\" class=\"dataframe\">\n",
       "  <thead>\n",
       "    <tr style=\"text-align: right;\">\n",
       "      <th></th>\n",
       "      <th>sentiment_score</th>\n",
       "    </tr>\n",
       "    <tr>\n",
       "      <th>chat_time</th>\n",
       "      <th></th>\n",
       "    </tr>\n",
       "  </thead>\n",
       "  <tbody>\n",
       "    <tr>\n",
       "      <th>2019-01-17 09:42:53</th>\n",
       "      <td>0</td>\n",
       "    </tr>\n",
       "    <tr>\n",
       "      <th>2019-01-17 10:18:22</th>\n",
       "      <td>0</td>\n",
       "    </tr>\n",
       "    <tr>\n",
       "      <th>2019-01-17 10:19:12</th>\n",
       "      <td>0</td>\n",
       "    </tr>\n",
       "    <tr>\n",
       "      <th>2019-01-17 10:19:58</th>\n",
       "      <td>0</td>\n",
       "    </tr>\n",
       "    <tr>\n",
       "      <th>2019-01-17 10:20:27</th>\n",
       "      <td>0</td>\n",
       "    </tr>\n",
       "  </tbody>\n",
       "</table>\n",
       "</div>"
      ],
      "text/plain": [
       "                     sentiment_score\n",
       "chat_time                           \n",
       "2019-01-17 09:42:53                0\n",
       "2019-01-17 10:18:22                0\n",
       "2019-01-17 10:19:12                0\n",
       "2019-01-17 10:19:58                0\n",
       "2019-01-17 10:20:27                0"
      ]
     },
     "execution_count": 198,
     "metadata": {},
     "output_type": "execute_result"
    }
   ],
   "source": [
    "tmp_df.head()"
   ]
  },
  {
   "cell_type": "code",
   "execution_count": 199,
   "metadata": {},
   "outputs": [
    {
     "data": {
      "text/plain": [
       "DatetimeIndex(['2019-01-17 09:42:53', '2019-01-17 10:18:22',\n",
       "               '2019-01-17 10:19:12', '2019-01-17 10:19:58',\n",
       "               '2019-01-17 10:20:27', '2019-01-17 10:24:00',\n",
       "               '2019-01-17 10:24:04', '2019-01-17 10:24:14',\n",
       "               '2019-01-17 10:25:35', '2019-01-17 10:26:00',\n",
       "               ...\n",
       "               '2019-01-17 23:59:49', '2019-01-17 23:59:50',\n",
       "               '2019-01-17 23:59:50', '2019-01-17 23:59:51',\n",
       "               '2019-01-17 23:59:52', '2019-01-17 23:59:53',\n",
       "               '2019-01-17 23:59:53', '2019-01-17 23:59:54',\n",
       "               '2019-01-17 23:59:55', '2019-01-17 23:59:57'],\n",
       "              dtype='datetime64[ns]', name='chat_time', length=102697, freq=None)"
      ]
     },
     "execution_count": 199,
     "metadata": {},
     "output_type": "execute_result"
    }
   ],
   "source": [
    "tmp_df.index"
   ]
  },
  {
   "cell_type": "code",
   "execution_count": 200,
   "metadata": {},
   "outputs": [],
   "source": [
    "series = pd.Series(tmp_df['sentiment_score'], index =  tmp_df.index) \n",
    "w = series.resample('Min').sum()"
   ]
  },
  {
   "cell_type": "code",
   "execution_count": 201,
   "metadata": {},
   "outputs": [],
   "source": [
    "tmp_df = pd.DataFrame(w)"
   ]
  },
  {
   "cell_type": "code",
   "execution_count": 203,
   "metadata": {},
   "outputs": [
    {
     "data": {
      "text/html": [
       "<div>\n",
       "<style scoped>\n",
       "    .dataframe tbody tr th:only-of-type {\n",
       "        vertical-align: middle;\n",
       "    }\n",
       "\n",
       "    .dataframe tbody tr th {\n",
       "        vertical-align: top;\n",
       "    }\n",
       "\n",
       "    .dataframe thead th {\n",
       "        text-align: right;\n",
       "    }\n",
       "</style>\n",
       "<table border=\"1\" class=\"dataframe\">\n",
       "  <thead>\n",
       "    <tr style=\"text-align: right;\">\n",
       "      <th></th>\n",
       "      <th>sentiment_score</th>\n",
       "    </tr>\n",
       "    <tr>\n",
       "      <th>chat_time</th>\n",
       "      <th></th>\n",
       "    </tr>\n",
       "  </thead>\n",
       "  <tbody>\n",
       "    <tr>\n",
       "      <th>2019-01-17 09:42:00</th>\n",
       "      <td>0</td>\n",
       "    </tr>\n",
       "    <tr>\n",
       "      <th>2019-01-17 09:43:00</th>\n",
       "      <td>0</td>\n",
       "    </tr>\n",
       "    <tr>\n",
       "      <th>2019-01-17 09:44:00</th>\n",
       "      <td>0</td>\n",
       "    </tr>\n",
       "    <tr>\n",
       "      <th>2019-01-17 09:45:00</th>\n",
       "      <td>0</td>\n",
       "    </tr>\n",
       "    <tr>\n",
       "      <th>2019-01-17 09:46:00</th>\n",
       "      <td>0</td>\n",
       "    </tr>\n",
       "  </tbody>\n",
       "</table>\n",
       "</div>"
      ],
      "text/plain": [
       "                     sentiment_score\n",
       "chat_time                           \n",
       "2019-01-17 09:42:00                0\n",
       "2019-01-17 09:43:00                0\n",
       "2019-01-17 09:44:00                0\n",
       "2019-01-17 09:45:00                0\n",
       "2019-01-17 09:46:00                0"
      ]
     },
     "execution_count": 203,
     "metadata": {},
     "output_type": "execute_result"
    }
   ],
   "source": [
    "tmp_df.head()"
   ]
  },
  {
   "cell_type": "code",
   "execution_count": 204,
   "metadata": {},
   "outputs": [],
   "source": [
    "tmp_df.index = pd.to_datetime(tmp_df.index).strftime('%H:%M:%S')"
   ]
  },
  {
   "cell_type": "code",
   "execution_count": 205,
   "metadata": {},
   "outputs": [
    {
     "data": {
      "text/plain": [
       "Index(['09:42:00', '09:43:00', '09:44:00', '09:45:00', '09:46:00', '09:47:00',\n",
       "       '09:48:00', '09:49:00', '09:50:00', '09:51:00',\n",
       "       ...\n",
       "       '23:50:00', '23:51:00', '23:52:00', '23:53:00', '23:54:00', '23:55:00',\n",
       "       '23:56:00', '23:57:00', '23:58:00', '23:59:00'],\n",
       "      dtype='object', length=858)"
      ]
     },
     "execution_count": 205,
     "metadata": {},
     "output_type": "execute_result"
    }
   ],
   "source": [
    "tmp_df.index"
   ]
  },
  {
   "cell_type": "code",
   "execution_count": 206,
   "metadata": {},
   "outputs": [
    {
     "data": {
      "image/png": "[encoded data removed]",
      "text/plain": [
       "<Figure size 1800x720 with 1 Axes>"
      ]
     },
     "metadata": {
      "needs_background": "light"
     },
     "output_type": "display_data"
    }
   ],
   "source": [
    "y1_value = tmp_df['sentiment_score']\n",
    "x_name= tmp_df.index\n",
    "n_groups = len(x_name)\n",
    "index = np.arange(n_groups)\n",
    "\n",
    "plt.figure(figsize=(25,10), edgecolor='c')\n",
    "plt.plot(tmp_df.index, y1_value, color = 'r') #marker='o',\n",
    "plt.xlabel('time', fontsize = 20)\n",
    "plt.ylabel('긍정도',fontsize = 20)\n",
    "plt.title('zilioner 12_17 감성분석', fontsize = 20)\n",
    "plt.xticks(tmp_df.index, rotation = 70, fontsize=15)\n",
    "plt.grid(True)\n",
    "plt.show()"
   ]
  },
  {
   "cell_type": "code",
   "execution_count": null,
   "metadata": {},
   "outputs": [],
   "source": []
  }
 ],
 "metadata": {
  "kernelspec": {
   "display_name": "Python 3",
   "language": "python",
   "name": "python3"
  },
  "language_info": {
   "codemirror_mode": {
    "name": "ipython",
    "version": 3
   },
   "file_extension": ".py",
   "mimetype": "text/x-python",
   "name": "python",
   "nbconvert_exporter": "python",
   "pygments_lexer": "ipython3",
   "version": "3.7.1"
  }
 },
 "nbformat": 4,
 "nbformat_minor": 2
}
