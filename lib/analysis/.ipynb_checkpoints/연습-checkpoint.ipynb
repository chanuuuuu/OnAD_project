{
 "cells": [
  {
   "cell_type": "code",
   "execution_count": 12,
   "metadata": {},
   "outputs": [],
   "source": [
    "def startz (date, streamer_id, period=1, visit=5):\n",
    "    '''\n",
    "    date(str) : 'YYYY-MM-DD' 형태로 입력\n",
    "    streamer(str) : 스트리머 ID를 정확하게 입력 (닉네임X)\n",
    "    period : date를 기준으로 period 동안에 몇 명이 방송에 들어와 채팅을 쳤는지를 알아볼 변수. 일 단위로 입력 (defalut = 7) \n",
    "    visit(int) : date를 기준으로 period 동안에 몇 명이 'count일'을 방송에 들어와 채팅을 쳤는지를 알아볼 변수. 일 단위로 입력\n",
    "                (defalut = 5)\n",
    "    \n",
    "    (ex) 2018년 12월 26일을 기준으로 일주일 동안 5일을 방송에 들어와 채팅을 친 사람의 수를 알고 싶다면?\n",
    "     -> start (\"2018-12-31\", streamer, period=7, visit=5)\n",
    "     \n",
    "     !! 주의 !! date를 기준으로 period 값에 해당하는 채팅 데이터가 없을 시 결과값을 리턴하지 않음\n",
    "            \n",
    "    return => 일주일 동안 채팅을 친 사람 수(target_user, int), \n",
    "              일주일 간 count일 동안 꾸준히 들어와 채팅을 친 사람 수(big_fan, int)\n",
    "    '''\n",
    "    \n",
    "    import re\n",
    "    from datetime import datetime as dt\n",
    "    from datetime import timedelta\n",
    "\n",
    "    txt_dir = \"../../data/twitch_live_chat\"\n",
    "    target_user = []\n",
    "    big_fan = []\n",
    "    try:\n",
    "        for days in range(7):\n",
    "            \n",
    "            with open(txt_dir + '/#{}/{}_#{}.log'.format(streamer_id, date, streamer_id),'r',encoding='utf-8') as f:\n",
    "                chat_user = list({log.replace(\"\\n\",\" \")[12:].split(\">\")[0].replace(\"<\",\" \") for log in f.readlines()[1:]})\n",
    "\n",
    "            id_form = re.compile(\"[a-zA-Z0-9_+]{4,26}\")\n",
    "            \n",
    "            for user in chat_user:\n",
    "                \n",
    "                if re.search(id_form,user):\n",
    "                    target_user.append(re.search(id_form, user).group())\n",
    "                    \n",
    "            date = dt.strptime(date,\"%Y-%m-%d\" )\n",
    "            date = (date - timedelta(1)).strftime(\"%Y-%m-%d\")\n",
    "            \n",
    "        for user in target_user:\n",
    "            if target_user.count(user) == visit:\n",
    "                big_fan.append(user)\n",
    "\n",
    "    except FileNotFoundError as e:\n",
    "        return print(\"{}의 {}일자 이전의 채팅로그 파일이 없습니다\".format(streamer_id, date))\n",
    "\n",
    "    return len(target_user), len(big_fan)\n",
    "    \n"
   ]
  },
  {
   "cell_type": "code",
   "execution_count": 13,
   "metadata": {},
   "outputs": [
    {
     "data": {
      "text/plain": [
       "(35173, 27179)"
      ]
     },
     "execution_count": 13,
     "metadata": {},
     "output_type": "execute_result"
    }
   ],
   "source": [
    "start(\"2018-12-26\",\"yapyap30\",period=3,visit=2)"
   ]
  },
  {
   "cell_type": "code",
   "execution_count": 17,
   "metadata": {},
   "outputs": [],
   "source": [
    "def start (date, streamer_id, period=1, visit=5):\n",
    "    '''\n",
    "    date(str) : 'YYYY-MM-DD' 형태로 입력\n",
    "    streamer(str) : 스트리머 ID를 정확하게 입력 (닉네임X)\n",
    "    period : date를 기준으로 period 동안에 몇 명이 방송에 들어와 채팅을 쳤는지를 알아볼 변수. 일 단위로 입력 (defalut = 7) \n",
    "    visit(int) : date를 기준으로 period 동안에 몇 명이 'count일'을 방송에 들어와 채팅을 쳤는지를 알아볼 변수. 일 단위로 입력\n",
    "                (defalut = 5)\n",
    "    \n",
    "    (ex) 2018년 12월 26일을 기준으로 일주일 동안 5일 이상 방송에 들어와 채팅을 친 사람의 수를 알고 싶다면?\n",
    "     -> start (\"2018-12-31\", streamer, period=7, visit=5)\n",
    "     \n",
    "     !! 주의 !! date를 기준으로 period 값에 해당하는 채팅 데이터가 없을 시 결과값을 리턴하지 않음\n",
    "            \n",
    "    return => 일주일 동안 채팅을 친 사람 수(target_user, int), \n",
    "              일주일 간 count일 동안 꾸준히 들어와 채팅을 친 사람 수(big_fan, int)\n",
    "    '''\n",
    "    \n",
    "    import re\n",
    "    from datetime import datetime as dt\n",
    "    from datetime import timedelta\n",
    "    import time\n",
    "    \n",
    "    stime = time.time()\n",
    "\n",
    "    txt_dir = \"../../data/twitch_live_chat\"\n",
    "    target_user = []\n",
    "    big_fan = []\n",
    "    try:\n",
    "        for days in range(period):\n",
    "            \n",
    "            with open(txt_dir + '/#{}/{}_#{}.log'.format(streamer_id, date, streamer_id),'r',encoding='utf-8') as f:\n",
    "                chat_user = list({log.replace(\"\\n\",\" \")[12:].split(\">\")[0].replace(\"<\",\" \") for log in f.readlines()[1:]})\n",
    "\n",
    "            id_form = re.compile(\"[a-zA-Z0-9_+]{4,26}\")\n",
    "            \n",
    "            for user in chat_user:\n",
    "                \n",
    "                if re.search(id_form,user):\n",
    "                    target_user.append(re.search(id_form, user).group())\n",
    "                    \n",
    "            date = dt.strptime(date,\"%Y-%m-%d\" )\n",
    "            date = (date - timedelta(1)).strftime(\"%Y-%m-%d\")\n",
    "            \n",
    "        for user in target_user:\n",
    "            if target_user.count(user) >= visit:\n",
    "                big_fan.append(user)\n",
    "\n",
    "    except FileNotFoundError:\n",
    "        return print(\"{}의 {}일자 이전의 채팅로그 파일이 없습니다\".format(streamer_id, date))\n",
    "    \n",
    "    print(time.time() - stime)\n",
    "    return len(target_user), len(big_fan)\n",
    "    "
   ]
  },
  {
   "cell_type": "code",
   "execution_count": 15,
   "metadata": {},
   "outputs": [
    {
     "data": {
      "text/plain": [
       "(32187, 20262)"
      ]
     },
     "execution_count": 15,
     "metadata": {},
     "output_type": "execute_result"
    }
   ],
   "source": [
    "start(\"2018-12-12\",\"yapyap30\",period=5,visit=3)"
   ]
  },
  {
   "cell_type": "code",
   "execution_count": 18,
   "metadata": {},
   "outputs": [
    {
     "name": "stdout",
     "output_type": "stream",
     "text": [
      "44.628013134002686\n"
     ]
    },
    {
     "data": {
      "text/plain": [
       "(43489, 20420)"
      ]
     },
     "execution_count": 18,
     "metadata": {},
     "output_type": "execute_result"
    }
   ],
   "source": [
    "start(\"2018-12-12\",\"yapyap30\",period=7,visit=5)"
   ]
  },
  {
   "cell_type": "code",
   "execution_count": 19,
   "metadata": {},
   "outputs": [],
   "source": [
    "def startt (date, streamer_id, period=7, visit=5):\n",
    "    '''\n",
    "    date(str) : 'YYYY-MM-DD' 형태로 입력\n",
    "    streamer(str) : 스트리머 ID를 정확하게 입력 (닉네임X)\n",
    "    period : date를 기준으로 period 동안에 몇 명이 방송에 들어와 채팅을 쳤는지를 알아볼 변수. 일 단위로 입력 (defalut = 7) \n",
    "    visit(int) : date를 기준으로 period 동안에 몇 명이 'count일'을 방송에 들어와 채팅을 쳤는지를 알아볼 변수. 일 단위로 입력\n",
    "                (defalut = 5)\n",
    "    \n",
    "    (ex) 2018년 12월 26일을 기준으로 일주일 동안 5일 이상 방송에 들어와 채팅을 친 사람의 수를 알고 싶다면?\n",
    "     -> start (\"2018-12-31\", streamer, period=7, visit=5)\n",
    "     \n",
    "     !! 주의 !! date를 기준으로 period 값에 해당하는 채팅 데이터가 없을 시 결과값을 리턴하지 않음\n",
    "            \n",
    "    return => 일주일 동안 채팅을 친 사람 수(target_user, int), \n",
    "              일주일 간 count일 동안 꾸준히 들어와 채팅을 친 사람 수(big_fan, int)\n",
    "    '''\n",
    "    \n",
    "    import re\n",
    "    from datetime import datetime as dt\n",
    "    from datetime import timedelta\n",
    "    import time\n",
    "\n",
    "    \n",
    "    stime = time.time()\n",
    "    \n",
    "    txt_dir = \"../../data/twitch_live_chat\"\n",
    "    target_user = []\n",
    "    big_fan = []\n",
    "    count = 0\n",
    "    try:\n",
    "        while True:\n",
    "            \n",
    "            with open(txt_dir + '/#{}/{}_#{}.log'.format(streamer_id, date, streamer_id),'r',encoding='utf-8') as f:\n",
    "                chat_user = list({log.replace(\"\\n\",\" \")[12:].split(\">\")[0].replace(\"<\",\" \") for log in f.readlines()[1:]})\n",
    "            \n",
    "            id_form = re.compile(\"[a-zA-Z0-9_+]{4,26}\")\n",
    "            \n",
    "            for user in chat_user:\n",
    "                if re.search(id_form,user):\n",
    "                    target_user.append(re.search(id_form, user).group())\n",
    "                    \n",
    "            date = dt.strptime(date,\"%Y-%m-%d\" )\n",
    "            date = (date - timedelta(1)).strftime(\"%Y-%m-%d\")\n",
    "            \n",
    "            count += 1\n",
    "            \n",
    "            if count == period:\n",
    "                count = 0\n",
    "                break\n",
    "            \n",
    "        for user in target_user:\n",
    "            if target_user.count(user) >= visit:\n",
    "                big_fan.append(user)\n",
    "\n",
    "    except FileNotFoundError:\n",
    "        return print(\"{}의 {}일자 이전의 채팅로그 파일이 없습니다\".format(streamer_id, date))\n",
    "    \n",
    "    print(time.time() - stime)\n",
    "\n",
    "    return len(target_user), len(big_fan)"
   ]
  },
  {
   "cell_type": "code",
   "execution_count": null,
   "metadata": {},
   "outputs": [],
   "source": []
  },
  {
   "cell_type": "code",
   "execution_count": null,
   "metadata": {},
   "outputs": [],
   "source": []
  },
  {
   "cell_type": "code",
   "execution_count": null,
   "metadata": {},
   "outputs": [],
   "source": []
  }
 ],
 "metadata": {
  "kernelspec": {
   "display_name": "Python 3",
   "language": "python",
   "name": "python3"
  },
  "language_info": {
   "codemirror_mode": {
    "name": "ipython",
    "version": 3
   },
   "file_extension": ".py",
   "mimetype": "text/x-python",
   "name": "python",
   "nbconvert_exporter": "python",
   "pygments_lexer": "ipython3",
   "version": "3.7.1"
  }
 },
 "nbformat": 4,
 "nbformat_minor": 2
}
