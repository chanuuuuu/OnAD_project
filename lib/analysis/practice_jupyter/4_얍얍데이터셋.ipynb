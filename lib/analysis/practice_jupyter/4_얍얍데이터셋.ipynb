{
 "cells": [
  {
   "cell_type": "code",
   "execution_count": 1,
   "metadata": {},
   "outputs": [],
   "source": [
    "import pandas as pd\n",
    "\n",
    "DB_URL = 'onad.cbjjamtlar2t.ap-northeast-2.rds.amazonaws.com'\n",
    "DB_USER = 'onad'\n",
    "DB_PASSWORD = 'rkdghktn12'\n",
    "DB_DATABASE = 'onad'\n",
    "DB_CHARSET = 'utf8mb4'\n",
    "DB_LOGFLAG  = 'False'\n",
    "DB_PORT = 3306\n",
    "\n",
    "db_url = \"mysql+pymysql://%s:%s@%s:%s/%s?charset=%s\" % (\n",
    "    DB_USER, DB_PASSWORD,\n",
    "    DB_URL, DB_PORT,\n",
    "    DB_DATABASE, DB_CHARSET\n",
    ")\n",
    "\n",
    "def data_from_sql_twitchchat(streamer, target_date):\n",
    "    query = \"\"\"\n",
    "        select * from twitch_chat where streamer_name = \"%s\" and broad_date =\"%s\"\n",
    "    \"\"\"% (streamer, target_date)\n",
    "\n",
    "    return pd.read_sql_query(query, db_url)"
   ]
  },
  {
   "cell_type": "markdown",
   "metadata": {},
   "source": [
    "### 1 채팅데이터 로드"
   ]
  },
  {
   "cell_type": "code",
   "execution_count": 217,
   "metadata": {},
   "outputs": [],
   "source": [
    "streamer = \"rhdgurwns\"\n",
    "target_date = \"2018-12-09\"\n",
    "df = data_from_sql_twitchchat(streamer, target_date)"
   ]
  },
  {
   "cell_type": "code",
   "execution_count": 218,
   "metadata": {
    "scrolled": true
   },
   "outputs": [
    {
     "data": {
      "text/html": [
       "<div>\n",
       "<style scoped>\n",
       "    .dataframe tbody tr th:only-of-type {\n",
       "        vertical-align: middle;\n",
       "    }\n",
       "\n",
       "    .dataframe tbody tr th {\n",
       "        vertical-align: top;\n",
       "    }\n",
       "\n",
       "    .dataframe thead th {\n",
       "        text-align: right;\n",
       "    }\n",
       "</style>\n",
       "<table border=\"1\" class=\"dataframe\">\n",
       "  <thead>\n",
       "    <tr style=\"text-align: right;\">\n",
       "      <th></th>\n",
       "      <th>chat_id</th>\n",
       "      <th>streamer_name</th>\n",
       "      <th>broad_date</th>\n",
       "      <th>chatterer</th>\n",
       "      <th>chat_time</th>\n",
       "      <th>chat_contents</th>\n",
       "    </tr>\n",
       "  </thead>\n",
       "  <tbody>\n",
       "    <tr>\n",
       "      <th>0</th>\n",
       "      <td>5804896</td>\n",
       "      <td>rhdgurwns</td>\n",
       "      <td>2018-12-09</td>\n",
       "      <td>&lt;명부러전 (worldbest29)&gt;</td>\n",
       "      <td>08:02:31</td>\n",
       "      <td>공혁준 방송켜라</td>\n",
       "    </tr>\n",
       "    <tr>\n",
       "      <th>1</th>\n",
       "      <td>5804897</td>\n",
       "      <td>rhdgurwns</td>\n",
       "      <td>2018-12-09</td>\n",
       "      <td>&lt;명부러전 (worldbest29)&gt;</td>\n",
       "      <td>08:02:39</td>\n",
       "      <td>방송켜 뽀뽀 쪽</td>\n",
       "    </tr>\n",
       "  </tbody>\n",
       "</table>\n",
       "</div>"
      ],
      "text/plain": [
       "   chat_id streamer_name  broad_date             chatterer chat_time  \\\n",
       "0  5804896     rhdgurwns  2018-12-09  <명부러전 (worldbest29)>  08:02:31   \n",
       "1  5804897     rhdgurwns  2018-12-09  <명부러전 (worldbest29)>  08:02:39   \n",
       "\n",
       "  chat_contents  \n",
       "0      공혁준 방송켜라  \n",
       "1      방송켜 뽀뽀 쪽  "
      ]
     },
     "execution_count": 218,
     "metadata": {},
     "output_type": "execute_result"
    }
   ],
   "source": [
    "chat_df = df.copy()\n",
    "chat_df.head(2)"
   ]
  },
  {
   "cell_type": "code",
   "execution_count": 219,
   "metadata": {},
   "outputs": [
    {
     "data": {
      "text/plain": [
       "(57597, 6)"
      ]
     },
     "execution_count": 219,
     "metadata": {},
     "output_type": "execute_result"
    }
   ],
   "source": [
    "chat_df.shape"
   ]
  },
  {
   "cell_type": "markdown",
   "metadata": {},
   "source": [
    "### 2 시간 인덱스로 변환"
   ]
  },
  {
   "cell_type": "code",
   "execution_count": 222,
   "metadata": {},
   "outputs": [],
   "source": [
    "# \"얍하\" 를 기준으로 시작시간 설정\n",
    "start_time = chat_df[chat_df.chat_contents == \"혁하\"][\"chat_time\"].values[5]\n",
    "start_time = target_date + \" \" + start_time\n",
    "start_time = pd.to_datetime(start_time)"
   ]
  },
  {
   "cell_type": "code",
   "execution_count": 227,
   "metadata": {},
   "outputs": [
    {
     "data": {
      "text/html": [
       "<div>\n",
       "<style scoped>\n",
       "    .dataframe tbody tr th:only-of-type {\n",
       "        vertical-align: middle;\n",
       "    }\n",
       "\n",
       "    .dataframe tbody tr th {\n",
       "        vertical-align: top;\n",
       "    }\n",
       "\n",
       "    .dataframe thead th {\n",
       "        text-align: right;\n",
       "    }\n",
       "</style>\n",
       "<table border=\"1\" class=\"dataframe\">\n",
       "  <thead>\n",
       "    <tr style=\"text-align: right;\">\n",
       "      <th></th>\n",
       "      <th>chat_id</th>\n",
       "      <th>streamer_name</th>\n",
       "      <th>broad_date</th>\n",
       "      <th>chatterer</th>\n",
       "      <th>chat_time</th>\n",
       "      <th>chat_contents</th>\n",
       "    </tr>\n",
       "    <tr>\n",
       "      <th>stream_time</th>\n",
       "      <th></th>\n",
       "      <th></th>\n",
       "      <th></th>\n",
       "      <th></th>\n",
       "      <th></th>\n",
       "      <th></th>\n",
       "    </tr>\n",
       "  </thead>\n",
       "  <tbody>\n",
       "    <tr>\n",
       "      <th>00:00:04</th>\n",
       "      <td>5804983</td>\n",
       "      <td>rhdgurwns</td>\n",
       "      <td>2018-12-09</td>\n",
       "      <td>&lt;dlcjsdnjs2&gt;</td>\n",
       "      <td>13:25:54</td>\n",
       "      <td>혁하</td>\n",
       "    </tr>\n",
       "    <tr>\n",
       "      <th>00:00:26</th>\n",
       "      <td>5804998</td>\n",
       "      <td>rhdgurwns</td>\n",
       "      <td>2018-12-09</td>\n",
       "      <td>&lt;desiremon&gt;</td>\n",
       "      <td>13:26:16</td>\n",
       "      <td>혁하</td>\n",
       "    </tr>\n",
       "    <tr>\n",
       "      <th>00:00:31</th>\n",
       "      <td>5805000</td>\n",
       "      <td>rhdgurwns</td>\n",
       "      <td>2018-12-09</td>\n",
       "      <td>&lt;아무이유 (noreason_s)&gt;</td>\n",
       "      <td>13:26:21</td>\n",
       "      <td>혁하</td>\n",
       "    </tr>\n",
       "    <tr>\n",
       "      <th>00:01:02</th>\n",
       "      <td>5805029</td>\n",
       "      <td>rhdgurwns</td>\n",
       "      <td>2018-12-09</td>\n",
       "      <td>&lt;ssn065&gt;</td>\n",
       "      <td>13:26:52</td>\n",
       "      <td>혁하</td>\n",
       "    </tr>\n",
       "    <tr>\n",
       "      <th>00:01:04</th>\n",
       "      <td>5805031</td>\n",
       "      <td>rhdgurwns</td>\n",
       "      <td>2018-12-09</td>\n",
       "      <td>&lt;슈퍼똘똘 (jins1124)&gt;</td>\n",
       "      <td>13:26:54</td>\n",
       "      <td>혁하</td>\n",
       "    </tr>\n",
       "  </tbody>\n",
       "</table>\n",
       "</div>"
      ],
      "text/plain": [
       "             chat_id streamer_name  broad_date            chatterer chat_time  \\\n",
       "stream_time                                                                     \n",
       "00:00:04     5804983     rhdgurwns  2018-12-09         <dlcjsdnjs2>  13:25:54   \n",
       "00:00:26     5804998     rhdgurwns  2018-12-09          <desiremon>  13:26:16   \n",
       "00:00:31     5805000     rhdgurwns  2018-12-09  <아무이유 (noreason_s)>  13:26:21   \n",
       "00:01:02     5805029     rhdgurwns  2018-12-09             <ssn065>  13:26:52   \n",
       "00:01:04     5805031     rhdgurwns  2018-12-09    <슈퍼똘똘 (jins1124)>  13:26:54   \n",
       "\n",
       "            chat_contents  \n",
       "stream_time                \n",
       "00:00:04               혁하  \n",
       "00:00:26               혁하  \n",
       "00:00:31               혁하  \n",
       "00:01:02               혁하  \n",
       "00:01:04               혁하  "
      ]
     },
     "execution_count": 227,
     "metadata": {},
     "output_type": "execute_result"
    }
   ],
   "source": [
    "chat_df[chat_df.chat_contents == \"혁하\"].head()"
   ]
  },
  {
   "cell_type": "code",
   "execution_count": 228,
   "metadata": {},
   "outputs": [],
   "source": [
    "chat_df['stream_time'] = chat_df['chat_time'].apply(lambda x : target_date + \" \" + x)\n",
    "chat_df['stream_time'] = chat_df['stream_time'].apply(lambda x : pd.to_datetime(x) - start_time)\n",
    "chat_df.set_index(\"stream_time\", inplace=True)"
   ]
  },
  {
   "cell_type": "code",
   "execution_count": 229,
   "metadata": {},
   "outputs": [],
   "source": [
    "chat_df = chat_df[chat_df.index > \"00:00:00\"]"
   ]
  },
  {
   "cell_type": "code",
   "execution_count": 230,
   "metadata": {
    "scrolled": true
   },
   "outputs": [
    {
     "data": {
      "text/html": [
       "<div>\n",
       "<style scoped>\n",
       "    .dataframe tbody tr th:only-of-type {\n",
       "        vertical-align: middle;\n",
       "    }\n",
       "\n",
       "    .dataframe tbody tr th {\n",
       "        vertical-align: top;\n",
       "    }\n",
       "\n",
       "    .dataframe thead th {\n",
       "        text-align: right;\n",
       "    }\n",
       "</style>\n",
       "<table border=\"1\" class=\"dataframe\">\n",
       "  <thead>\n",
       "    <tr style=\"text-align: right;\">\n",
       "      <th></th>\n",
       "      <th>chat_id</th>\n",
       "      <th>streamer_name</th>\n",
       "      <th>broad_date</th>\n",
       "      <th>chatterer</th>\n",
       "      <th>chat_time</th>\n",
       "      <th>chat_contents</th>\n",
       "    </tr>\n",
       "    <tr>\n",
       "      <th>stream_time</th>\n",
       "      <th></th>\n",
       "      <th></th>\n",
       "      <th></th>\n",
       "      <th></th>\n",
       "      <th></th>\n",
       "      <th></th>\n",
       "    </tr>\n",
       "  </thead>\n",
       "  <tbody>\n",
       "    <tr>\n",
       "      <th>00:00:01</th>\n",
       "      <td>5804981</td>\n",
       "      <td>rhdgurwns</td>\n",
       "      <td>2018-12-09</td>\n",
       "      <td>&lt;어썸한어썸 (rewrite777)&gt;</td>\n",
       "      <td>13:25:51</td>\n",
       "      <td>오늘 길게한다고 했으니까 최소 저녁8시까지 해라</td>\n",
       "    </tr>\n",
       "    <tr>\n",
       "      <th>00:00:02</th>\n",
       "      <td>5804982</td>\n",
       "      <td>rhdgurwns</td>\n",
       "      <td>2018-12-09</td>\n",
       "      <td>&lt;혁준이가슴만지고싶다 (qkpa471)&gt;</td>\n",
       "      <td>13:25:52</td>\n",
       "      <td>종아리 걷어 ㅡㅡ</td>\n",
       "    </tr>\n",
       "    <tr>\n",
       "      <th>00:00:04</th>\n",
       "      <td>5804983</td>\n",
       "      <td>rhdgurwns</td>\n",
       "      <td>2018-12-09</td>\n",
       "      <td>&lt;dlcjsdnjs2&gt;</td>\n",
       "      <td>13:25:54</td>\n",
       "      <td>혁하</td>\n",
       "    </tr>\n",
       "    <tr>\n",
       "      <th>00:00:04</th>\n",
       "      <td>5804984</td>\n",
       "      <td>rhdgurwns</td>\n",
       "      <td>2018-12-09</td>\n",
       "      <td>&lt;바비노 (lowe3100)&gt;</td>\n",
       "      <td>13:25:54</td>\n",
       "      <td>종아리걷어</td>\n",
       "    </tr>\n",
       "    <tr>\n",
       "      <th>00:00:05</th>\n",
       "      <td>5804985</td>\n",
       "      <td>rhdgurwns</td>\n",
       "      <td>2018-12-09</td>\n",
       "      <td>&lt;kk99188&gt;</td>\n",
       "      <td>13:25:55</td>\n",
       "      <td>혀카</td>\n",
       "    </tr>\n",
       "  </tbody>\n",
       "</table>\n",
       "</div>"
      ],
      "text/plain": [
       "             chat_id streamer_name  broad_date               chatterer  \\\n",
       "stream_time                                                              \n",
       "00:00:01     5804981     rhdgurwns  2018-12-09    <어썸한어썸 (rewrite777)>   \n",
       "00:00:02     5804982     rhdgurwns  2018-12-09  <혁준이가슴만지고싶다 (qkpa471)>   \n",
       "00:00:04     5804983     rhdgurwns  2018-12-09            <dlcjsdnjs2>   \n",
       "00:00:04     5804984     rhdgurwns  2018-12-09        <바비노 (lowe3100)>   \n",
       "00:00:05     5804985     rhdgurwns  2018-12-09               <kk99188>   \n",
       "\n",
       "            chat_time               chat_contents  \n",
       "stream_time                                        \n",
       "00:00:01     13:25:51  오늘 길게한다고 했으니까 최소 저녁8시까지 해라  \n",
       "00:00:02     13:25:52                   종아리 걷어 ㅡㅡ  \n",
       "00:00:04     13:25:54                          혁하  \n",
       "00:00:04     13:25:54                       종아리걷어  \n",
       "00:00:05     13:25:55                          혀카  "
      ]
     },
     "execution_count": 230,
     "metadata": {},
     "output_type": "execute_result"
    }
   ],
   "source": [
    "chat_df.head()"
   ]
  },
  {
   "cell_type": "markdown",
   "metadata": {},
   "source": [
    "### 3 분석데이터셋으로 전처리"
   ]
  },
  {
   "cell_type": "markdown",
   "metadata": {},
   "source": [
    "#### 3-1 분석 데이터셋 만들기"
   ]
  },
  {
   "cell_type": "code",
   "execution_count": 231,
   "metadata": {},
   "outputs": [],
   "source": [
    "anal_df = chat_df.pivot_table(index=chat_df.index, values='chatterer', aggfunc=len).loc[:, ['chatterer']]"
   ]
  },
  {
   "cell_type": "markdown",
   "metadata": {},
   "source": [
    "#### 3-2 변수 추가"
   ]
  },
  {
   "cell_type": "code",
   "execution_count": 232,
   "metadata": {},
   "outputs": [
    {
     "data": {
      "text/plain": [
       "array([  0,   8,  13,   7,   5,   3,  14,   6,   4,   2,  11,  15,  25,\n",
       "        20,  29,  19,  36,  12,  10,   1,  18,  30,  27,  23,  21,   9,\n",
       "        39,  17,  28,  22,  24,  31,  32,  16,  26,  38,  40,  33,  37,\n",
       "        35,  58,  81,  43,  55,  44,  47,  52,  54,  41,  68, 131,  78,\n",
       "        34,  88,  80,  53,  60,  45,  57,  46,  49,  50,  62,  42,  82,\n",
       "       112,  64, 106,  48,  92, 264, 140, 113, 168,  86, 109,  72,  74,\n",
       "       191,  65,  63,  66, 167, 125, 156,  61, 132,  95,  90,  56,  69,\n",
       "        85, 119,  93, 124, 108, 102,  77,  73, 346, 208, 216,  59, 103,\n",
       "       139, 115, 157,  99,  84, 104, 218, 114, 117,  79, 100,  51, 154,\n",
       "       160, 174, 101, 195, 192, 198, 107, 110,  97,  71, 122, 158, 419,\n",
       "       380,  91, 166,  87,  98,  75, 196,  83, 128,  89, 150,  70,  67,\n",
       "       194, 189, 249, 161, 193, 277, 126, 143, 141,  94, 120, 123, 111,\n",
       "       250, 130, 303, 179, 145, 153, 142, 136, 121, 134, 144, 201, 137,\n",
       "        76, 185, 116, 186,  96, 151, 227, 138, 172, 149, 184, 262, 165,\n",
       "       152, 311], dtype=int64)"
      ]
     },
     "execution_count": 232,
     "metadata": {},
     "output_type": "execute_result"
    }
   ],
   "source": [
    "word_list = ['ㅋ', '유하', '꿀잼', '?', 'ㄵ', '노잼', 'ㄴㅈ', '성태', '얍마이무']\n",
    "\n",
    "for word in word_list:\n",
    "    target_word = \"cnt_\" + word\n",
    "    chat_df[target_word] =  chat_df.chat_contents.apply(lambda x : x.count(word))\n",
    "    anal_df[target_word] = chat_df.pivot_table(index=chat_df.index, values=target_word, aggfunc=sum).loc[:, target_word]\n",
    "\n",
    "anal_df['cnt_ㅋ'].unique()"
   ]
  },
  {
   "cell_type": "code",
   "execution_count": 246,
   "metadata": {
    "scrolled": true
   },
   "outputs": [
    {
     "data": {
      "text/html": [
       "<div>\n",
       "<style scoped>\n",
       "    .dataframe tbody tr th:only-of-type {\n",
       "        vertical-align: middle;\n",
       "    }\n",
       "\n",
       "    .dataframe tbody tr th {\n",
       "        vertical-align: top;\n",
       "    }\n",
       "\n",
       "    .dataframe thead th {\n",
       "        text-align: right;\n",
       "    }\n",
       "</style>\n",
       "<table border=\"1\" class=\"dataframe\">\n",
       "  <thead>\n",
       "    <tr style=\"text-align: right;\">\n",
       "      <th></th>\n",
       "      <th>chat_id</th>\n",
       "      <th>streamer_name</th>\n",
       "      <th>broad_date</th>\n",
       "      <th>chatterer</th>\n",
       "      <th>chat_time</th>\n",
       "      <th>chat_contents</th>\n",
       "      <th>cnt_ㅋ</th>\n",
       "      <th>cnt_유하</th>\n",
       "      <th>cnt_꿀잼</th>\n",
       "      <th>cnt_?</th>\n",
       "      <th>cnt_ㄵ</th>\n",
       "      <th>cnt_노잼</th>\n",
       "      <th>cnt_ㄴㅈ</th>\n",
       "      <th>cnt_성태</th>\n",
       "      <th>cnt_얍마이무</th>\n",
       "    </tr>\n",
       "    <tr>\n",
       "      <th>stream_time</th>\n",
       "      <th></th>\n",
       "      <th></th>\n",
       "      <th></th>\n",
       "      <th></th>\n",
       "      <th></th>\n",
       "      <th></th>\n",
       "      <th></th>\n",
       "      <th></th>\n",
       "      <th></th>\n",
       "      <th></th>\n",
       "      <th></th>\n",
       "      <th></th>\n",
       "      <th></th>\n",
       "      <th></th>\n",
       "      <th></th>\n",
       "    </tr>\n",
       "  </thead>\n",
       "  <tbody>\n",
       "  </tbody>\n",
       "</table>\n",
       "</div>"
      ],
      "text/plain": [
       "Empty DataFrame\n",
       "Columns: [chat_id, streamer_name, broad_date, chatterer, chat_time, chat_contents, cnt_ㅋ, cnt_유하, cnt_꿀잼, cnt_?, cnt_ㄵ, cnt_노잼, cnt_ㄴㅈ, cnt_성태, cnt_얍마이무]\n",
       "Index: []"
      ]
     },
     "execution_count": 246,
     "metadata": {},
     "output_type": "execute_result"
    }
   ],
   "source": [
    "#Index(['2018-12-09 17:33:35', '2018-12-09 18:33:48', '2018-12-09 18:32:40',\n",
    "#       '2018-12-15 14:29:25', '2018-12-09 18:33:25', '2018-12-09 18:34:03',\n",
    "#        '2018-12-09 18:34:00', '2018-12-09 18:33:56', '2018-12-09 16:56:45'],\n",
    "#       dtype='object', name='time')\n",
    "chat_df[chat_df.index == '18:33:48']"
   ]
  },
  {
   "cell_type": "code",
   "execution_count": 429,
   "metadata": {},
   "outputs": [],
   "source": [
    "\n",
    "from matplotlib import pyplot as plt\n",
    "import time\n",
    "\n",
    "def making_data():\n",
    "    \n",
    "    import numpy as np\n",
    "    import pandas as pd\n",
    "    from sklearn.model_selection import train_test_split\n",
    "    from sklearn.pipeline import Pipeline, make_pipeline\n",
    "    from sklearn.preprocessing import MinMaxScaler\n",
    "\n",
    "    from sklearn.svm import SVC\n",
    "    from sklearn import model_selection, svm, metrics\n",
    "    from sklearn.linear_model import LogisticRegression\n",
    "    from sklearn.tree import DecisionTreeClassifier\n",
    "    from sklearn.ensemble import RandomForestClassifier\n",
    "    from sklearn.naive_bayes import GaussianNB\n",
    "    from sklearn.metrics import f1_score\n",
    "    import os\n",
    "    \n",
    "    \n",
    "    chat_data = os.listdir(\"./data\")\n",
    "    datas = []\n",
    "    for data in chat_data:\n",
    "        tmp = pd.read_csv('./data/{}'.format(data))\n",
    "        datas.append(tmp)\n",
    "    \n",
    "    df = pd.concat(datas , axis=0, join='inner', ignore_index=True)\n",
    "    df = df.set_index(keys=df.columns[0])\n",
    "    \n",
    "    X_train, X_test, y_train, y_test = train_test_split(df.iloc[:,:-1], df.iloc[:, -1], random_state=0)\n",
    "    anal_data = X_test[:]\n",
    "    anal_data[\"validation\"] = y_test\n",
    "    \n",
    "    \n",
    "    scaler = MinMaxScaler()\n",
    "    X_train = scaler.fit(X_train).transform(X_train)\n",
    "    X_test = scaler.fit(X_test).transform(X_test)\n",
    "    \n",
    "    \n",
    "    \n",
    "    classifier = [LogisticRegression(), DecisionTreeClassifier(max_depth=10),\n",
    "                 RandomForestClassifier(max_depth=10, n_estimators=10, max_features=1),\n",
    "                 GaussianNB()]\n",
    "    \n",
    "    classifier_score = {}\n",
    "    \n",
    "    for classify in classifier:\n",
    "        clf = classify\n",
    "        clf.fit(X_train,  y_train)\n",
    "        pre = clf.predict(X_test)\n",
    "        anal_data[\"{}\".format(str(classify).split(\"(\")[0])] = pre\n",
    "        \n",
    "        ac_score = metrics.accuracy_score(y_test, pre)\n",
    "        f1 = f1_score(y_test, pre)\n",
    "        \n",
    "        classifier_score[\"{}\".format(str(classify).split(\"(\")[0])] = [ac_score, f1,\n",
    "                                                                     len(anal_data[anal_data[\"{}\".format(str(classify).split(\"(\")[0])] == 1]) / len(anal_data[anal_data[\"validation\"] == 1]) * 100]\n",
    "        clf = None\n",
    "        \n",
    "        \n",
    "    \n",
    "    return classifier_score, anal_data\n",
    "\n",
    "score, result1 = making_data()\n",
    "\n",
    "result = result1.copy()\n",
    "\n",
    "import pandas as pd\n",
    "result.index = pd.to_datetime(result.index)\n",
    "result1.index = pd.to_datetime(result1.index)\n",
    "\n",
    "result\n",
    "\n",
    "result = result.sort_index()\n",
    "result1 = result1.sort_index()\n",
    "\n",
    "result['날짜'] = result.index\n",
    "result1['날짜'] = result1.index\n",
    "\n",
    "result['날짜'] = result['날짜'].apply(lambda x : str(x.date()))\n",
    "result1['날짜'] = result1['날짜'].apply(lambda x : str(x.date()))\n",
    "\n",
    "result = result[result['날짜'] == \"2018-12-15\"]\n",
    "result1 = result1[result1['날짜'] == \"2018-12-15\"]\n",
    "\n",
    "yes_data = result[result.GaussianNB == 1]\n",
    "yes_data1 = result[result.validation == 1]\n",
    "\n",
    "no_data = result[result.GaussianNB == 0]\n",
    "no_data1 = result[result.validation == 0]\n",
    "\n",
    "plt.figure(figsize=(16,4))\n",
    "plt.plot(no_data.index, no_data['cnt_chat'])\n",
    "\n",
    "plt.plot(yes_data.index, yes_data['cnt_chat'])\n",
    "\n",
    "# plt.plot(no_data1.index, no_data1['cnt_chat'])\n",
    "\n",
    "plt.plot(yes_data1.index, yes_data1['cnt_chat'])\n",
    "\n",
    "plt.legend()\n",
    "plt.show()\n",
    "\n",
    "yes_data = result1[result1.validation == 1]\n",
    "no_data = result1[result1.validation == 0]\n",
    "\n",
    "plt.figure(figsize=(16,4))\n",
    "plt.plot(no_data.index, no_data['cnt_chat'])\n",
    "plt.plot(yes_data.index, yes_data.cnt_chat)\n",
    "plt.legend()\n",
    "plt.show()"
   ]
  },
  {
   "cell_type": "code",
   "execution_count": null,
   "metadata": {},
   "outputs": [],
   "source": []
  },
  {
   "cell_type": "code",
   "execution_count": null,
   "metadata": {},
   "outputs": [],
   "source": []
  },
  {
   "cell_type": "code",
   "execution_count": null,
   "metadata": {},
   "outputs": [],
   "source": []
  }
 ],
 "metadata": {
  "kernelspec": {
   "display_name": "Python 3",
   "language": "python",
   "name": "python3"
  },
  "language_info": {
   "codemirror_mode": {
    "name": "ipython",
    "version": 3
   },
   "file_extension": ".py",
   "mimetype": "text/x-python",
   "name": "python",
   "nbconvert_exporter": "python",
   "pygments_lexer": "ipython3",
   "version": "3.7.1"
  }
 },
 "nbformat": 4,
 "nbformat_minor": 2
}
