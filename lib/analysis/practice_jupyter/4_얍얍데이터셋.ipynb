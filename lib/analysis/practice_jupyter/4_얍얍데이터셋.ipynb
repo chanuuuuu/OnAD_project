{
 "cells": [
  {
   "cell_type": "code",
   "execution_count": 1,
   "metadata": {},
   "outputs": [],
   "source": [
    "import pandas as pd\n",
    "\n",
    "DB_URL = 'onad.cbjjamtlar2t.ap-northeast-2.rds.amazonaws.com'\n",
    "DB_USER = 'onad'\n",
    "DB_PASSWORD = 'rkdghktn12'\n",
    "DB_DATABASE = 'onad'\n",
    "DB_CHARSET = 'utf8mb4'\n",
    "DB_LOGFLAG  = 'False'\n",
    "DB_PORT = 3306\n",
    "\n",
    "db_url = \"mysql+pymysql://%s:%s@%s:%s/%s?charset=%s\" % (\n",
    "    DB_USER, DB_PASSWORD,\n",
    "    DB_URL, DB_PORT,\n",
    "    DB_DATABASE, DB_CHARSET\n",
    ")\n",
    "\n",
    "def data_from_sql_twitchchat(streamer, target_date):\n",
    "    query = \"\"\"\n",
    "        select * from twitch_chat where streamer_name = \"%s\" and broad_date =\"%s\"\n",
    "    \"\"\"% (streamer, target_date)\n",
    "\n",
    "    return pd.read_sql_query(query, db_url)"
   ]
  },
  {
   "cell_type": "markdown",
   "metadata": {},
   "source": [
    "### 1 채팅데이터 로드"
   ]
  },
  {
   "cell_type": "code",
   "execution_count": 183,
   "metadata": {},
   "outputs": [],
   "source": [
    "streamer = \"beyou0728\"\n",
    "target_date = \"2019-01-05\"\n",
    "df = data_from_sql_twitchchat(streamer, target_date)"
   ]
  },
  {
   "cell_type": "code",
   "execution_count": 184,
   "metadata": {
    "scrolled": true
   },
   "outputs": [
    {
     "data": {
      "text/html": [
       "<div>\n",
       "<style scoped>\n",
       "    .dataframe tbody tr th:only-of-type {\n",
       "        vertical-align: middle;\n",
       "    }\n",
       "\n",
       "    .dataframe tbody tr th {\n",
       "        vertical-align: top;\n",
       "    }\n",
       "\n",
       "    .dataframe thead th {\n",
       "        text-align: right;\n",
       "    }\n",
       "</style>\n",
       "<table border=\"1\" class=\"dataframe\">\n",
       "  <thead>\n",
       "    <tr style=\"text-align: right;\">\n",
       "      <th></th>\n",
       "      <th>chat_id</th>\n",
       "      <th>streamer_name</th>\n",
       "      <th>broad_date</th>\n",
       "      <th>chatterer</th>\n",
       "      <th>chat_time</th>\n",
       "      <th>chat_contents</th>\n",
       "    </tr>\n",
       "  </thead>\n",
       "  <tbody>\n",
       "    <tr>\n",
       "      <th>0</th>\n",
       "      <td>14348864</td>\n",
       "      <td>beyou0728</td>\n",
       "      <td>2019-01-05</td>\n",
       "      <td>&lt;정의와사랑 (oksk1042)&gt;</td>\n",
       "      <td>00:00:05</td>\n",
       "      <td>어썌신탈런</td>\n",
       "    </tr>\n",
       "    <tr>\n",
       "      <th>1</th>\n",
       "      <td>14348865</td>\n",
       "      <td>beyou0728</td>\n",
       "      <td>2019-01-05</td>\n",
       "      <td>&lt;%한태주요 (nanthaeo12)&gt;</td>\n",
       "      <td>00:00:16</td>\n",
       "      <td>역전각 씨게 나오구요</td>\n",
       "    </tr>\n",
       "  </tbody>\n",
       "</table>\n",
       "</div>"
      ],
      "text/plain": [
       "    chat_id streamer_name  broad_date             chatterer  chat_time  \\\n",
       "0  14348864     beyou0728  2019-01-05    <정의와사랑 (oksk1042)>   00:00:05   \n",
       "1  14348865     beyou0728  2019-01-05  <%한태주요 (nanthaeo12)>   00:00:16   \n",
       "\n",
       "  chat_contents  \n",
       "0         어썌신탈런  \n",
       "1   역전각 씨게 나오구요  "
      ]
     },
     "execution_count": 184,
     "metadata": {},
     "output_type": "execute_result"
    }
   ],
   "source": [
    "chat_df = df.copy()\n",
    "chat_df.head(2)"
   ]
  },
  {
   "cell_type": "code",
   "execution_count": 185,
   "metadata": {},
   "outputs": [
    {
     "data": {
      "text/plain": [
       "(18182, 6)"
      ]
     },
     "execution_count": 185,
     "metadata": {},
     "output_type": "execute_result"
    }
   ],
   "source": [
    "chat_df.shape"
   ]
  },
  {
   "cell_type": "markdown",
   "metadata": {},
   "source": [
    "### 2 시간 인덱스로 변환"
   ]
  },
  {
   "cell_type": "code",
   "execution_count": 186,
   "metadata": {},
   "outputs": [],
   "source": [
    "# \"얍하\" 를 기준으로 시작시간 설정\n",
    "# start_time = chat_df[chat_df.chat_contents == \"혁하\"][\"chat_time\"].values[5]\n",
    "# start_time = target_date + \" \" + start_time\n",
    "# start_time = pd.to_datetime(start_time)"
   ]
  },
  {
   "cell_type": "code",
   "execution_count": 187,
   "metadata": {},
   "outputs": [
    {
     "data": {
      "text/html": [
       "<div>\n",
       "<style scoped>\n",
       "    .dataframe tbody tr th:only-of-type {\n",
       "        vertical-align: middle;\n",
       "    }\n",
       "\n",
       "    .dataframe tbody tr th {\n",
       "        vertical-align: top;\n",
       "    }\n",
       "\n",
       "    .dataframe thead th {\n",
       "        text-align: right;\n",
       "    }\n",
       "</style>\n",
       "<table border=\"1\" class=\"dataframe\">\n",
       "  <thead>\n",
       "    <tr style=\"text-align: right;\">\n",
       "      <th></th>\n",
       "      <th>chat_id</th>\n",
       "      <th>streamer_name</th>\n",
       "      <th>broad_date</th>\n",
       "      <th>chatterer</th>\n",
       "      <th>chat_time</th>\n",
       "      <th>chat_contents</th>\n",
       "    </tr>\n",
       "  </thead>\n",
       "  <tbody>\n",
       "    <tr>\n",
       "      <th>97</th>\n",
       "      <td>14348961</td>\n",
       "      <td>beyou0728</td>\n",
       "      <td>2019-01-05</td>\n",
       "      <td>&lt;새봄이꾸냥 (sbferdin)&gt;</td>\n",
       "      <td>00:04:57</td>\n",
       "      <td>끠하</td>\n",
       "    </tr>\n",
       "    <tr>\n",
       "      <th>1149</th>\n",
       "      <td>14350013</td>\n",
       "      <td>beyou0728</td>\n",
       "      <td>2019-01-05</td>\n",
       "      <td>&lt;달려라오수생 (dcsenex)&gt;</td>\n",
       "      <td>00:54:33</td>\n",
       "      <td>끠하</td>\n",
       "    </tr>\n",
       "    <tr>\n",
       "      <th>1263</th>\n",
       "      <td>14350127</td>\n",
       "      <td>beyou0728</td>\n",
       "      <td>2019-01-05</td>\n",
       "      <td>&lt;%귀지팩트 (jungunim1)&gt;</td>\n",
       "      <td>00:57:45</td>\n",
       "      <td>끠하</td>\n",
       "    </tr>\n",
       "    <tr>\n",
       "      <th>1678</th>\n",
       "      <td>14350542</td>\n",
       "      <td>beyou0728</td>\n",
       "      <td>2019-01-05</td>\n",
       "      <td>&lt;ydseo7571&gt;</td>\n",
       "      <td>01:14:29</td>\n",
       "      <td>끠하</td>\n",
       "    </tr>\n",
       "    <tr>\n",
       "      <th>2396</th>\n",
       "      <td>14351260</td>\n",
       "      <td>beyou0728</td>\n",
       "      <td>2019-01-05</td>\n",
       "      <td>&lt;+서순맨 (dylee9907)&gt;</td>\n",
       "      <td>01:34:58</td>\n",
       "      <td>끠하</td>\n",
       "    </tr>\n",
       "  </tbody>\n",
       "</table>\n",
       "</div>"
      ],
      "text/plain": [
       "       chat_id streamer_name  broad_date            chatterer  chat_time  \\\n",
       "97    14348961     beyou0728  2019-01-05   <새봄이꾸냥 (sbferdin)>   00:04:57   \n",
       "1149  14350013     beyou0728  2019-01-05   <달려라오수생 (dcsenex)>   00:54:33   \n",
       "1263  14350127     beyou0728  2019-01-05  <%귀지팩트 (jungunim1)>   00:57:45   \n",
       "1678  14350542     beyou0728  2019-01-05          <ydseo7571>   01:14:29   \n",
       "2396  14351260     beyou0728  2019-01-05   <+서순맨 (dylee9907)>   01:34:58   \n",
       "\n",
       "     chat_contents  \n",
       "97              끠하  \n",
       "1149            끠하  \n",
       "1263            끠하  \n",
       "1678            끠하  \n",
       "2396            끠하  "
      ]
     },
     "execution_count": 187,
     "metadata": {},
     "output_type": "execute_result"
    }
   ],
   "source": [
    "chat_df[chat_df.chat_contents == \"끠하\"].head()"
   ]
  },
  {
   "cell_type": "code",
   "execution_count": 188,
   "metadata": {},
   "outputs": [],
   "source": [
    "chat_df['stream_time'] = chat_df['chat_time'].apply(lambda x : target_date + \" \" + x)\n",
    "# chat_df['stream_time'] = chat_df['stream_time'].apply(lambda x : pd.to_datetime(x) - start_time)\n",
    "chat_df.index = pd.to_datetime(chat_df['stream_time'])\n",
    "# chat_df.set_index(\"stream_time\", inplace=True)"
   ]
  },
  {
   "cell_type": "code",
   "execution_count": 189,
   "metadata": {},
   "outputs": [],
   "source": [
    "# chat_df = chat_df[chat_df.index > \"00:00:00\"]"
   ]
  },
  {
   "cell_type": "code",
   "execution_count": 190,
   "metadata": {
    "scrolled": true
   },
   "outputs": [
    {
     "data": {
      "text/html": [
       "<div>\n",
       "<style scoped>\n",
       "    .dataframe tbody tr th:only-of-type {\n",
       "        vertical-align: middle;\n",
       "    }\n",
       "\n",
       "    .dataframe tbody tr th {\n",
       "        vertical-align: top;\n",
       "    }\n",
       "\n",
       "    .dataframe thead th {\n",
       "        text-align: right;\n",
       "    }\n",
       "</style>\n",
       "<table border=\"1\" class=\"dataframe\">\n",
       "  <thead>\n",
       "    <tr style=\"text-align: right;\">\n",
       "      <th></th>\n",
       "      <th>chat_id</th>\n",
       "      <th>streamer_name</th>\n",
       "      <th>broad_date</th>\n",
       "      <th>chatterer</th>\n",
       "      <th>chat_time</th>\n",
       "      <th>chat_contents</th>\n",
       "      <th>stream_time</th>\n",
       "    </tr>\n",
       "    <tr>\n",
       "      <th>stream_time</th>\n",
       "      <th></th>\n",
       "      <th></th>\n",
       "      <th></th>\n",
       "      <th></th>\n",
       "      <th></th>\n",
       "      <th></th>\n",
       "      <th></th>\n",
       "    </tr>\n",
       "  </thead>\n",
       "  <tbody>\n",
       "    <tr>\n",
       "      <th>2019-01-05 00:00:05</th>\n",
       "      <td>14348864</td>\n",
       "      <td>beyou0728</td>\n",
       "      <td>2019-01-05</td>\n",
       "      <td>&lt;정의와사랑 (oksk1042)&gt;</td>\n",
       "      <td>00:00:05</td>\n",
       "      <td>어썌신탈런</td>\n",
       "      <td>2019-01-05  00:00:05</td>\n",
       "    </tr>\n",
       "    <tr>\n",
       "      <th>2019-01-05 00:00:16</th>\n",
       "      <td>14348865</td>\n",
       "      <td>beyou0728</td>\n",
       "      <td>2019-01-05</td>\n",
       "      <td>&lt;%한태주요 (nanthaeo12)&gt;</td>\n",
       "      <td>00:00:16</td>\n",
       "      <td>역전각 씨게 나오구요</td>\n",
       "      <td>2019-01-05  00:00:16</td>\n",
       "    </tr>\n",
       "    <tr>\n",
       "      <th>2019-01-05 00:00:17</th>\n",
       "      <td>14348866</td>\n",
       "      <td>beyou0728</td>\n",
       "      <td>2019-01-05</td>\n",
       "      <td>&lt;ding1002&gt;</td>\n",
       "      <td>00:00:17</td>\n",
       "      <td>집가는거 아님?</td>\n",
       "      <td>2019-01-05  00:00:17</td>\n",
       "    </tr>\n",
       "    <tr>\n",
       "      <th>2019-01-05 00:00:34</th>\n",
       "      <td>14348867</td>\n",
       "      <td>beyou0728</td>\n",
       "      <td>2019-01-05</td>\n",
       "      <td>&lt;정의와사랑 (oksk1042)&gt;</td>\n",
       "      <td>00:00:34</td>\n",
       "      <td>이미 블루있지않음?</td>\n",
       "      <td>2019-01-05  00:00:34</td>\n",
       "    </tr>\n",
       "    <tr>\n",
       "      <th>2019-01-05 00:00:35</th>\n",
       "      <td>14348868</td>\n",
       "      <td>beyou0728</td>\n",
       "      <td>2019-01-05</td>\n",
       "      <td>&lt;%한태주요 (nanthaeo12)&gt;</td>\n",
       "      <td>00:00:35</td>\n",
       "      <td>ㅋㅋㅋㅋㅋㅋㅋㅋㅋㅋㅋㅋ</td>\n",
       "      <td>2019-01-05  00:00:35</td>\n",
       "    </tr>\n",
       "  </tbody>\n",
       "</table>\n",
       "</div>"
      ],
      "text/plain": [
       "                      chat_id streamer_name  broad_date             chatterer  \\\n",
       "stream_time                                                                     \n",
       "2019-01-05 00:00:05  14348864     beyou0728  2019-01-05    <정의와사랑 (oksk1042)>   \n",
       "2019-01-05 00:00:16  14348865     beyou0728  2019-01-05  <%한태주요 (nanthaeo12)>   \n",
       "2019-01-05 00:00:17  14348866     beyou0728  2019-01-05            <ding1002>   \n",
       "2019-01-05 00:00:34  14348867     beyou0728  2019-01-05    <정의와사랑 (oksk1042)>   \n",
       "2019-01-05 00:00:35  14348868     beyou0728  2019-01-05  <%한태주요 (nanthaeo12)>   \n",
       "\n",
       "                     chat_time chat_contents           stream_time  \n",
       "stream_time                                                         \n",
       "2019-01-05 00:00:05   00:00:05         어썌신탈런  2019-01-05  00:00:05  \n",
       "2019-01-05 00:00:16   00:00:16   역전각 씨게 나오구요  2019-01-05  00:00:16  \n",
       "2019-01-05 00:00:17   00:00:17      집가는거 아님?  2019-01-05  00:00:17  \n",
       "2019-01-05 00:00:34   00:00:34    이미 블루있지않음?  2019-01-05  00:00:34  \n",
       "2019-01-05 00:00:35   00:00:35  ㅋㅋㅋㅋㅋㅋㅋㅋㅋㅋㅋㅋ  2019-01-05  00:00:35  "
      ]
     },
     "execution_count": 190,
     "metadata": {},
     "output_type": "execute_result"
    }
   ],
   "source": [
    "chat_df.head()"
   ]
  },
  {
   "cell_type": "markdown",
   "metadata": {},
   "source": [
    "### 3 분석데이터셋으로 전처리"
   ]
  },
  {
   "cell_type": "markdown",
   "metadata": {},
   "source": [
    "#### 3-1 분석 데이터셋 만들기"
   ]
  },
  {
   "cell_type": "code",
   "execution_count": 191,
   "metadata": {},
   "outputs": [],
   "source": [
    "anal_df = chat_df.pivot_table(index=chat_df.index, values='chatterer', aggfunc=len).loc[:, ['chatterer']]"
   ]
  },
  {
   "cell_type": "markdown",
   "metadata": {},
   "source": [
    "#### 3-2 변수 추가"
   ]
  },
  {
   "cell_type": "code",
   "execution_count": 192,
   "metadata": {
    "scrolled": true
   },
   "outputs": [
    {
     "data": {
      "text/plain": [
       "(6.090909090909091, 1.540716888399288)"
      ]
     },
     "execution_count": 192,
     "metadata": {},
     "output_type": "execute_result"
    }
   ],
   "source": [
    "word_list = ['ㅋ', '유하', '꿀잼', '?', 'ㄵ', '노잼', 'ㄴㅈ', '혁준',]\n",
    "\n",
    "for word in word_list:\n",
    "    target_word = \"cnt_\" + word\n",
    "    chat_df[target_word] =  chat_df.chat_contents.apply(lambda x : x.count(word))\n",
    "    anal_df[target_word] = chat_df.pivot_table(index=chat_df.index, values=target_word, aggfunc=sum).loc[:, target_word]\n",
    "\n",
    "anal_df['chatterer'].unique().mean(), anal_df['chatterer'].mean()"
   ]
  },
  {
   "cell_type": "code",
   "execution_count": 193,
   "metadata": {
    "scrolled": true
   },
   "outputs": [
    {
     "data": {
      "text/html": [
       "<div>\n",
       "<style scoped>\n",
       "    .dataframe tbody tr th:only-of-type {\n",
       "        vertical-align: middle;\n",
       "    }\n",
       "\n",
       "    .dataframe tbody tr th {\n",
       "        vertical-align: top;\n",
       "    }\n",
       "\n",
       "    .dataframe thead th {\n",
       "        text-align: right;\n",
       "    }\n",
       "</style>\n",
       "<table border=\"1\" class=\"dataframe\">\n",
       "  <thead>\n",
       "    <tr style=\"text-align: right;\">\n",
       "      <th></th>\n",
       "      <th>chatterer</th>\n",
       "      <th>cnt_ㅋ</th>\n",
       "      <th>cnt_유하</th>\n",
       "      <th>cnt_꿀잼</th>\n",
       "      <th>cnt_?</th>\n",
       "      <th>cnt_ㄵ</th>\n",
       "      <th>cnt_노잼</th>\n",
       "      <th>cnt_ㄴㅈ</th>\n",
       "      <th>cnt_혁준</th>\n",
       "    </tr>\n",
       "    <tr>\n",
       "      <th>stream_time</th>\n",
       "      <th></th>\n",
       "      <th></th>\n",
       "      <th></th>\n",
       "      <th></th>\n",
       "      <th></th>\n",
       "      <th></th>\n",
       "      <th></th>\n",
       "      <th></th>\n",
       "      <th></th>\n",
       "    </tr>\n",
       "  </thead>\n",
       "  <tbody>\n",
       "    <tr>\n",
       "      <th>2019-01-05 19:19:13</th>\n",
       "      <td>12</td>\n",
       "      <td>14</td>\n",
       "      <td>0</td>\n",
       "      <td>0</td>\n",
       "      <td>0</td>\n",
       "      <td>0</td>\n",
       "      <td>0</td>\n",
       "      <td>0</td>\n",
       "      <td>0</td>\n",
       "    </tr>\n",
       "    <tr>\n",
       "      <th>2019-01-05 19:22:55</th>\n",
       "      <td>8</td>\n",
       "      <td>0</td>\n",
       "      <td>0</td>\n",
       "      <td>0</td>\n",
       "      <td>8</td>\n",
       "      <td>0</td>\n",
       "      <td>0</td>\n",
       "      <td>0</td>\n",
       "      <td>0</td>\n",
       "    </tr>\n",
       "    <tr>\n",
       "      <th>2019-01-05 19:56:17</th>\n",
       "      <td>8</td>\n",
       "      <td>4</td>\n",
       "      <td>0</td>\n",
       "      <td>0</td>\n",
       "      <td>0</td>\n",
       "      <td>0</td>\n",
       "      <td>0</td>\n",
       "      <td>0</td>\n",
       "      <td>0</td>\n",
       "    </tr>\n",
       "    <tr>\n",
       "      <th>2019-01-05 20:46:45</th>\n",
       "      <td>9</td>\n",
       "      <td>76</td>\n",
       "      <td>0</td>\n",
       "      <td>0</td>\n",
       "      <td>0</td>\n",
       "      <td>0</td>\n",
       "      <td>0</td>\n",
       "      <td>0</td>\n",
       "      <td>0</td>\n",
       "    </tr>\n",
       "    <tr>\n",
       "      <th>2019-01-05 22:30:32</th>\n",
       "      <td>8</td>\n",
       "      <td>103</td>\n",
       "      <td>0</td>\n",
       "      <td>0</td>\n",
       "      <td>1</td>\n",
       "      <td>0</td>\n",
       "      <td>0</td>\n",
       "      <td>0</td>\n",
       "      <td>0</td>\n",
       "    </tr>\n",
       "    <tr>\n",
       "      <th>2019-01-05 22:30:38</th>\n",
       "      <td>8</td>\n",
       "      <td>109</td>\n",
       "      <td>0</td>\n",
       "      <td>0</td>\n",
       "      <td>0</td>\n",
       "      <td>0</td>\n",
       "      <td>0</td>\n",
       "      <td>0</td>\n",
       "      <td>0</td>\n",
       "    </tr>\n",
       "    <tr>\n",
       "      <th>2019-01-05 22:30:39</th>\n",
       "      <td>8</td>\n",
       "      <td>78</td>\n",
       "      <td>0</td>\n",
       "      <td>0</td>\n",
       "      <td>1</td>\n",
       "      <td>0</td>\n",
       "      <td>0</td>\n",
       "      <td>0</td>\n",
       "      <td>0</td>\n",
       "    </tr>\n",
       "    <tr>\n",
       "      <th>2019-01-05 22:38:29</th>\n",
       "      <td>12</td>\n",
       "      <td>124</td>\n",
       "      <td>0</td>\n",
       "      <td>0</td>\n",
       "      <td>0</td>\n",
       "      <td>0</td>\n",
       "      <td>0</td>\n",
       "      <td>0</td>\n",
       "      <td>0</td>\n",
       "    </tr>\n",
       "    <tr>\n",
       "      <th>2019-01-05 22:40:33</th>\n",
       "      <td>10</td>\n",
       "      <td>224</td>\n",
       "      <td>0</td>\n",
       "      <td>0</td>\n",
       "      <td>12</td>\n",
       "      <td>0</td>\n",
       "      <td>0</td>\n",
       "      <td>0</td>\n",
       "      <td>0</td>\n",
       "    </tr>\n",
       "    <tr>\n",
       "      <th>2019-01-05 22:40:35</th>\n",
       "      <td>10</td>\n",
       "      <td>190</td>\n",
       "      <td>0</td>\n",
       "      <td>0</td>\n",
       "      <td>2</td>\n",
       "      <td>0</td>\n",
       "      <td>0</td>\n",
       "      <td>0</td>\n",
       "      <td>0</td>\n",
       "    </tr>\n",
       "    <tr>\n",
       "      <th>2019-01-05 22:40:37</th>\n",
       "      <td>8</td>\n",
       "      <td>123</td>\n",
       "      <td>0</td>\n",
       "      <td>0</td>\n",
       "      <td>0</td>\n",
       "      <td>0</td>\n",
       "      <td>0</td>\n",
       "      <td>0</td>\n",
       "      <td>0</td>\n",
       "    </tr>\n",
       "    <tr>\n",
       "      <th>2019-01-05 22:46:06</th>\n",
       "      <td>8</td>\n",
       "      <td>75</td>\n",
       "      <td>0</td>\n",
       "      <td>0</td>\n",
       "      <td>9</td>\n",
       "      <td>0</td>\n",
       "      <td>0</td>\n",
       "      <td>0</td>\n",
       "      <td>0</td>\n",
       "    </tr>\n",
       "    <tr>\n",
       "      <th>2019-01-05 22:46:09</th>\n",
       "      <td>8</td>\n",
       "      <td>81</td>\n",
       "      <td>0</td>\n",
       "      <td>0</td>\n",
       "      <td>0</td>\n",
       "      <td>0</td>\n",
       "      <td>0</td>\n",
       "      <td>0</td>\n",
       "      <td>0</td>\n",
       "    </tr>\n",
       "    <tr>\n",
       "      <th>2019-01-05 22:52:16</th>\n",
       "      <td>9</td>\n",
       "      <td>54</td>\n",
       "      <td>0</td>\n",
       "      <td>0</td>\n",
       "      <td>0</td>\n",
       "      <td>0</td>\n",
       "      <td>0</td>\n",
       "      <td>0</td>\n",
       "      <td>0</td>\n",
       "    </tr>\n",
       "    <tr>\n",
       "      <th>2019-01-05 22:52:51</th>\n",
       "      <td>10</td>\n",
       "      <td>126</td>\n",
       "      <td>0</td>\n",
       "      <td>0</td>\n",
       "      <td>0</td>\n",
       "      <td>0</td>\n",
       "      <td>0</td>\n",
       "      <td>0</td>\n",
       "      <td>0</td>\n",
       "    </tr>\n",
       "    <tr>\n",
       "      <th>2019-01-05 22:57:05</th>\n",
       "      <td>8</td>\n",
       "      <td>32</td>\n",
       "      <td>0</td>\n",
       "      <td>0</td>\n",
       "      <td>3</td>\n",
       "      <td>0</td>\n",
       "      <td>0</td>\n",
       "      <td>0</td>\n",
       "      <td>0</td>\n",
       "    </tr>\n",
       "    <tr>\n",
       "      <th>2019-01-05 22:57:07</th>\n",
       "      <td>8</td>\n",
       "      <td>20</td>\n",
       "      <td>0</td>\n",
       "      <td>0</td>\n",
       "      <td>0</td>\n",
       "      <td>0</td>\n",
       "      <td>0</td>\n",
       "      <td>0</td>\n",
       "      <td>0</td>\n",
       "    </tr>\n",
       "    <tr>\n",
       "      <th>2019-01-05 23:15:40</th>\n",
       "      <td>12</td>\n",
       "      <td>36</td>\n",
       "      <td>0</td>\n",
       "      <td>0</td>\n",
       "      <td>3</td>\n",
       "      <td>0</td>\n",
       "      <td>0</td>\n",
       "      <td>0</td>\n",
       "      <td>0</td>\n",
       "    </tr>\n",
       "  </tbody>\n",
       "</table>\n",
       "</div>"
      ],
      "text/plain": [
       "                     chatterer  cnt_ㅋ  cnt_유하  cnt_꿀잼  cnt_?  cnt_ㄵ  cnt_노잼  \\\n",
       "stream_time                                                                   \n",
       "2019-01-05 19:19:13         12     14       0       0      0      0       0   \n",
       "2019-01-05 19:22:55          8      0       0       0      8      0       0   \n",
       "2019-01-05 19:56:17          8      4       0       0      0      0       0   \n",
       "2019-01-05 20:46:45          9     76       0       0      0      0       0   \n",
       "2019-01-05 22:30:32          8    103       0       0      1      0       0   \n",
       "2019-01-05 22:30:38          8    109       0       0      0      0       0   \n",
       "2019-01-05 22:30:39          8     78       0       0      1      0       0   \n",
       "2019-01-05 22:38:29         12    124       0       0      0      0       0   \n",
       "2019-01-05 22:40:33         10    224       0       0     12      0       0   \n",
       "2019-01-05 22:40:35         10    190       0       0      2      0       0   \n",
       "2019-01-05 22:40:37          8    123       0       0      0      0       0   \n",
       "2019-01-05 22:46:06          8     75       0       0      9      0       0   \n",
       "2019-01-05 22:46:09          8     81       0       0      0      0       0   \n",
       "2019-01-05 22:52:16          9     54       0       0      0      0       0   \n",
       "2019-01-05 22:52:51         10    126       0       0      0      0       0   \n",
       "2019-01-05 22:57:05          8     32       0       0      3      0       0   \n",
       "2019-01-05 22:57:07          8     20       0       0      0      0       0   \n",
       "2019-01-05 23:15:40         12     36       0       0      3      0       0   \n",
       "\n",
       "                     cnt_ㄴㅈ  cnt_혁준  \n",
       "stream_time                          \n",
       "2019-01-05 19:19:13       0       0  \n",
       "2019-01-05 19:22:55       0       0  \n",
       "2019-01-05 19:56:17       0       0  \n",
       "2019-01-05 20:46:45       0       0  \n",
       "2019-01-05 22:30:32       0       0  \n",
       "2019-01-05 22:30:38       0       0  \n",
       "2019-01-05 22:30:39       0       0  \n",
       "2019-01-05 22:38:29       0       0  \n",
       "2019-01-05 22:40:33       0       0  \n",
       "2019-01-05 22:40:35       0       0  \n",
       "2019-01-05 22:40:37       0       0  \n",
       "2019-01-05 22:46:06       0       0  \n",
       "2019-01-05 22:46:09       0       0  \n",
       "2019-01-05 22:52:16       0       0  \n",
       "2019-01-05 22:52:51       0       0  \n",
       "2019-01-05 22:57:05       0       0  \n",
       "2019-01-05 22:57:07       0       0  \n",
       "2019-01-05 23:15:40       0       0  "
      ]
     },
     "execution_count": 193,
     "metadata": {},
     "output_type": "execute_result"
    }
   ],
   "source": [
    "import numpy as np\n",
    "anal_df[anal_df['chatterer'] > np.percentile(anal_df.chatterer.unique(), 60)]"
   ]
  },
  {
   "cell_type": "code",
   "execution_count": 194,
   "metadata": {},
   "outputs": [],
   "source": [
    "anal_df['summation'] = anal_df['chatterer'] + anal_df['cnt_ㅋ']\n",
    "anal_df['summation+?'] = anal_df['chatterer'] + anal_df['cnt_ㅋ'] + anal_df['cnt_?']"
   ]
  },
  {
   "cell_type": "code",
   "execution_count": 195,
   "metadata": {
    "scrolled": true
   },
   "outputs": [
    {
     "data": {
      "text/plain": [
       "(11801, 11)"
      ]
     },
     "execution_count": 195,
     "metadata": {},
     "output_type": "execute_result"
    }
   ],
   "source": [
    "anal_df.shape"
   ]
  },
  {
   "cell_type": "code",
   "execution_count": 196,
   "metadata": {
    "scrolled": true
   },
   "outputs": [
    {
     "data": {
      "text/html": [
       "<div>\n",
       "<style scoped>\n",
       "    .dataframe tbody tr th:only-of-type {\n",
       "        vertical-align: middle;\n",
       "    }\n",
       "\n",
       "    .dataframe tbody tr th {\n",
       "        vertical-align: top;\n",
       "    }\n",
       "\n",
       "    .dataframe thead th {\n",
       "        text-align: right;\n",
       "    }\n",
       "</style>\n",
       "<table border=\"1\" class=\"dataframe\">\n",
       "  <thead>\n",
       "    <tr style=\"text-align: right;\">\n",
       "      <th></th>\n",
       "      <th>chatterer</th>\n",
       "      <th>cnt_ㅋ</th>\n",
       "      <th>cnt_유하</th>\n",
       "      <th>cnt_꿀잼</th>\n",
       "      <th>cnt_?</th>\n",
       "      <th>cnt_ㄵ</th>\n",
       "      <th>cnt_노잼</th>\n",
       "      <th>cnt_ㄴㅈ</th>\n",
       "      <th>cnt_혁준</th>\n",
       "      <th>summation</th>\n",
       "      <th>summation+?</th>\n",
       "    </tr>\n",
       "    <tr>\n",
       "      <th>stream_time</th>\n",
       "      <th></th>\n",
       "      <th></th>\n",
       "      <th></th>\n",
       "      <th></th>\n",
       "      <th></th>\n",
       "      <th></th>\n",
       "      <th></th>\n",
       "      <th></th>\n",
       "      <th></th>\n",
       "      <th></th>\n",
       "      <th></th>\n",
       "    </tr>\n",
       "  </thead>\n",
       "  <tbody>\n",
       "    <tr>\n",
       "      <th>2019-01-05 00:00:05</th>\n",
       "      <td>1</td>\n",
       "      <td>0</td>\n",
       "      <td>0</td>\n",
       "      <td>0</td>\n",
       "      <td>0</td>\n",
       "      <td>0</td>\n",
       "      <td>0</td>\n",
       "      <td>0</td>\n",
       "      <td>0</td>\n",
       "      <td>1</td>\n",
       "      <td>1</td>\n",
       "    </tr>\n",
       "    <tr>\n",
       "      <th>2019-01-05 00:00:16</th>\n",
       "      <td>1</td>\n",
       "      <td>0</td>\n",
       "      <td>0</td>\n",
       "      <td>0</td>\n",
       "      <td>0</td>\n",
       "      <td>0</td>\n",
       "      <td>0</td>\n",
       "      <td>0</td>\n",
       "      <td>0</td>\n",
       "      <td>1</td>\n",
       "      <td>1</td>\n",
       "    </tr>\n",
       "  </tbody>\n",
       "</table>\n",
       "</div>"
      ],
      "text/plain": [
       "                     chatterer  cnt_ㅋ  cnt_유하  cnt_꿀잼  cnt_?  cnt_ㄵ  cnt_노잼  \\\n",
       "stream_time                                                                   \n",
       "2019-01-05 00:00:05          1      0       0       0      0      0       0   \n",
       "2019-01-05 00:00:16          1      0       0       0      0      0       0   \n",
       "\n",
       "                     cnt_ㄴㅈ  cnt_혁준  summation  summation+?  \n",
       "stream_time                                                  \n",
       "2019-01-05 00:00:05       0       0          1            1  \n",
       "2019-01-05 00:00:16       0       0          1            1  "
      ]
     },
     "execution_count": 196,
     "metadata": {},
     "output_type": "execute_result"
    }
   ],
   "source": [
    "anal_df.head(2)"
   ]
  },
  {
   "cell_type": "code",
   "execution_count": 197,
   "metadata": {
    "scrolled": true
   },
   "outputs": [
    {
     "name": "stderr",
     "output_type": "stream",
     "text": [
      "C:\\ProgramData\\Anaconda3\\lib\\site-packages\\sklearn\\preprocessing\\data.py:323: DataConversionWarning: Data with input dtype int64 were all converted to float64 by MinMaxScaler.\n",
      "  return self.partial_fit(X, y)\n"
     ]
    }
   ],
   "source": [
    "from sklearn.preprocessing import MinMaxScaler\n",
    "sc = MinMaxScaler()\n",
    "a = pd.DataFrame(sc.fit_transform(anal_df), index=anal_df.index, columns=anal_df.columns)"
   ]
  },
  {
   "cell_type": "code",
   "execution_count": 198,
   "metadata": {
    "scrolled": true
   },
   "outputs": [
    {
     "data": {
      "text/plain": [
       "(124, 11)"
      ]
     },
     "execution_count": 198,
     "metadata": {},
     "output_type": "execute_result"
    }
   ],
   "source": [
    "a['summation'] = a['chatterer'] + a['cnt_ㅋ']\n",
    "a['summation+?'] = a['chatterer'] + a['cnt_ㅋ'] + a['cnt_?']\n",
    "spot = a[a['summation'] > np.percentile(a['summation'].unique(), 70)]\n",
    "spot.shape"
   ]
  },
  {
   "cell_type": "code",
   "execution_count": 199,
   "metadata": {},
   "outputs": [],
   "source": [
    "a['label'] = a['summation'].apply(lambda x : 1 if x in spot.summation.values else 0)"
   ]
  },
  {
   "cell_type": "code",
   "execution_count": 200,
   "metadata": {},
   "outputs": [],
   "source": [
    "yes_data = a[a['label'] == 1]\n",
    "no_data = a[a['label'] == 0]"
   ]
  },
  {
   "cell_type": "code",
   "execution_count": 201,
   "metadata": {
    "scrolled": true
   },
   "outputs": [
    {
     "data": {
      "text/plain": [
       "((124, 12), (11677, 12))"
      ]
     },
     "execution_count": 201,
     "metadata": {},
     "output_type": "execute_result"
    }
   ],
   "source": [
    "yes_data.shape, no_data.shape"
   ]
  },
  {
   "cell_type": "code",
   "execution_count": 202,
   "metadata": {},
   "outputs": [
    {
     "data": {
      "text/html": [
       "<div>\n",
       "<style scoped>\n",
       "    .dataframe tbody tr th:only-of-type {\n",
       "        vertical-align: middle;\n",
       "    }\n",
       "\n",
       "    .dataframe tbody tr th {\n",
       "        vertical-align: top;\n",
       "    }\n",
       "\n",
       "    .dataframe thead th {\n",
       "        text-align: right;\n",
       "    }\n",
       "</style>\n",
       "<table border=\"1\" class=\"dataframe\">\n",
       "  <thead>\n",
       "    <tr style=\"text-align: right;\">\n",
       "      <th></th>\n",
       "      <th>chatterer</th>\n",
       "      <th>cnt_ㅋ</th>\n",
       "      <th>cnt_유하</th>\n",
       "      <th>cnt_꿀잼</th>\n",
       "      <th>cnt_?</th>\n",
       "      <th>cnt_ㄵ</th>\n",
       "      <th>cnt_노잼</th>\n",
       "      <th>cnt_ㄴㅈ</th>\n",
       "      <th>cnt_혁준</th>\n",
       "      <th>summation</th>\n",
       "      <th>summation+?</th>\n",
       "      <th>label</th>\n",
       "    </tr>\n",
       "    <tr>\n",
       "      <th>stream_time</th>\n",
       "      <th></th>\n",
       "      <th></th>\n",
       "      <th></th>\n",
       "      <th></th>\n",
       "      <th></th>\n",
       "      <th></th>\n",
       "      <th></th>\n",
       "      <th></th>\n",
       "      <th></th>\n",
       "      <th></th>\n",
       "      <th></th>\n",
       "      <th></th>\n",
       "    </tr>\n",
       "  </thead>\n",
       "  <tbody>\n",
       "    <tr>\n",
       "      <th>2019-01-05 00:00:05</th>\n",
       "      <td>0.0</td>\n",
       "      <td>0.000000</td>\n",
       "      <td>0.0</td>\n",
       "      <td>0.0</td>\n",
       "      <td>0.000000</td>\n",
       "      <td>0.0</td>\n",
       "      <td>0.0</td>\n",
       "      <td>0.0</td>\n",
       "      <td>0.0</td>\n",
       "      <td>0.000000</td>\n",
       "      <td>0.000000</td>\n",
       "      <td>0</td>\n",
       "    </tr>\n",
       "    <tr>\n",
       "      <th>2019-01-05 00:00:16</th>\n",
       "      <td>0.0</td>\n",
       "      <td>0.000000</td>\n",
       "      <td>0.0</td>\n",
       "      <td>0.0</td>\n",
       "      <td>0.000000</td>\n",
       "      <td>0.0</td>\n",
       "      <td>0.0</td>\n",
       "      <td>0.0</td>\n",
       "      <td>0.0</td>\n",
       "      <td>0.000000</td>\n",
       "      <td>0.000000</td>\n",
       "      <td>0</td>\n",
       "    </tr>\n",
       "    <tr>\n",
       "      <th>2019-01-05 00:00:17</th>\n",
       "      <td>0.0</td>\n",
       "      <td>0.000000</td>\n",
       "      <td>0.0</td>\n",
       "      <td>0.0</td>\n",
       "      <td>0.038462</td>\n",
       "      <td>0.0</td>\n",
       "      <td>0.0</td>\n",
       "      <td>0.0</td>\n",
       "      <td>0.0</td>\n",
       "      <td>0.000000</td>\n",
       "      <td>0.038462</td>\n",
       "      <td>0</td>\n",
       "    </tr>\n",
       "    <tr>\n",
       "      <th>2019-01-05 00:00:34</th>\n",
       "      <td>0.0</td>\n",
       "      <td>0.000000</td>\n",
       "      <td>0.0</td>\n",
       "      <td>0.0</td>\n",
       "      <td>0.038462</td>\n",
       "      <td>0.0</td>\n",
       "      <td>0.0</td>\n",
       "      <td>0.0</td>\n",
       "      <td>0.0</td>\n",
       "      <td>0.000000</td>\n",
       "      <td>0.038462</td>\n",
       "      <td>0</td>\n",
       "    </tr>\n",
       "    <tr>\n",
       "      <th>2019-01-05 00:00:35</th>\n",
       "      <td>0.0</td>\n",
       "      <td>0.053571</td>\n",
       "      <td>0.0</td>\n",
       "      <td>0.0</td>\n",
       "      <td>0.000000</td>\n",
       "      <td>0.0</td>\n",
       "      <td>0.0</td>\n",
       "      <td>0.0</td>\n",
       "      <td>0.0</td>\n",
       "      <td>0.053571</td>\n",
       "      <td>0.053571</td>\n",
       "      <td>0</td>\n",
       "    </tr>\n",
       "  </tbody>\n",
       "</table>\n",
       "</div>"
      ],
      "text/plain": [
       "                     chatterer     cnt_ㅋ  cnt_유하  cnt_꿀잼     cnt_?  cnt_ㄵ  \\\n",
       "stream_time                                                                 \n",
       "2019-01-05 00:00:05        0.0  0.000000     0.0     0.0  0.000000    0.0   \n",
       "2019-01-05 00:00:16        0.0  0.000000     0.0     0.0  0.000000    0.0   \n",
       "2019-01-05 00:00:17        0.0  0.000000     0.0     0.0  0.038462    0.0   \n",
       "2019-01-05 00:00:34        0.0  0.000000     0.0     0.0  0.038462    0.0   \n",
       "2019-01-05 00:00:35        0.0  0.053571     0.0     0.0  0.000000    0.0   \n",
       "\n",
       "                     cnt_노잼  cnt_ㄴㅈ  cnt_혁준  summation  summation+?  label  \n",
       "stream_time                                                                 \n",
       "2019-01-05 00:00:05     0.0     0.0     0.0   0.000000     0.000000      0  \n",
       "2019-01-05 00:00:16     0.0     0.0     0.0   0.000000     0.000000      0  \n",
       "2019-01-05 00:00:17     0.0     0.0     0.0   0.000000     0.038462      0  \n",
       "2019-01-05 00:00:34     0.0     0.0     0.0   0.000000     0.038462      0  \n",
       "2019-01-05 00:00:35     0.0     0.0     0.0   0.053571     0.053571      0  "
      ]
     },
     "execution_count": 202,
     "metadata": {},
     "output_type": "execute_result"
    }
   ],
   "source": [
    "a.head()"
   ]
  },
  {
   "cell_type": "code",
   "execution_count": 204,
   "metadata": {
    "scrolled": true
   },
   "outputs": [
    {
     "data": {
      "image/png": "[encoded data removed]",
      "text/plain": [
       "<Figure size 1152x288 with 1 Axes>"
      ]
     },
     "metadata": {
      "needs_background": "light"
     },
     "output_type": "display_data"
    }
   ],
   "source": [
    "import matplotlib.pyplot as plt\n",
    "plt.figure(figsize=(16,4))\n",
    "yes_data['summation'].plot(x=a.index, kind='line')\n",
    "no_data['summation'].plot(x=a.index, kind='line')\n",
    "plt.legend()\n",
    "plt.show()"
   ]
  },
  {
   "cell_type": "code",
   "execution_count": 205,
   "metadata": {},
   "outputs": [],
   "source": [
    "point = anal_df[anal_df['summation+?'] > np.percentile(anal_df.summation.unique(), 70)]"
   ]
  },
  {
   "cell_type": "code",
   "execution_count": 206,
   "metadata": {},
   "outputs": [
    {
     "name": "stderr",
     "output_type": "stream",
     "text": [
      "C:\\ProgramData\\Anaconda3\\lib\\site-packages\\ipykernel_launcher.py:1: SettingWithCopyWarning: \n",
      "A value is trying to be set on a copy of a slice from a DataFrame.\n",
      "Try using .loc[row_indexer,col_indexer] = value instead\n",
      "\n",
      "See the caveats in the documentation: http://pandas.pydata.org/pandas-docs/stable/indexing.html#indexing-view-versus-copy\n",
      "  \"\"\"Entry point for launching an IPython kernel.\n"
     ]
    }
   ],
   "source": [
    "point['time'] = point.index"
   ]
  },
  {
   "cell_type": "code",
   "execution_count": 207,
   "metadata": {
    "scrolled": true
   },
   "outputs": [
    {
     "data": {
      "text/html": [
       "<div>\n",
       "<style scoped>\n",
       "    .dataframe tbody tr th:only-of-type {\n",
       "        vertical-align: middle;\n",
       "    }\n",
       "\n",
       "    .dataframe tbody tr th {\n",
       "        vertical-align: top;\n",
       "    }\n",
       "\n",
       "    .dataframe thead th {\n",
       "        text-align: right;\n",
       "    }\n",
       "</style>\n",
       "<table border=\"1\" class=\"dataframe\">\n",
       "  <thead>\n",
       "    <tr style=\"text-align: right;\">\n",
       "      <th></th>\n",
       "      <th>chatterer</th>\n",
       "      <th>cnt_ㅋ</th>\n",
       "      <th>cnt_유하</th>\n",
       "      <th>cnt_꿀잼</th>\n",
       "      <th>cnt_?</th>\n",
       "      <th>cnt_ㄵ</th>\n",
       "      <th>cnt_노잼</th>\n",
       "      <th>cnt_ㄴㅈ</th>\n",
       "      <th>cnt_혁준</th>\n",
       "      <th>summation</th>\n",
       "      <th>summation+?</th>\n",
       "      <th>time</th>\n",
       "    </tr>\n",
       "    <tr>\n",
       "      <th>stream_time</th>\n",
       "      <th></th>\n",
       "      <th></th>\n",
       "      <th></th>\n",
       "      <th></th>\n",
       "      <th></th>\n",
       "      <th></th>\n",
       "      <th></th>\n",
       "      <th></th>\n",
       "      <th></th>\n",
       "      <th></th>\n",
       "      <th></th>\n",
       "      <th></th>\n",
       "    </tr>\n",
       "  </thead>\n",
       "  <tbody>\n",
       "    <tr>\n",
       "      <th>2019-01-05 02:09:10</th>\n",
       "      <td>4</td>\n",
       "      <td>72</td>\n",
       "      <td>0</td>\n",
       "      <td>0</td>\n",
       "      <td>0</td>\n",
       "      <td>0</td>\n",
       "      <td>0</td>\n",
       "      <td>0</td>\n",
       "      <td>0</td>\n",
       "      <td>76</td>\n",
       "      <td>76</td>\n",
       "      <td>2019-01-05 02:09:10</td>\n",
       "    </tr>\n",
       "    <tr>\n",
       "      <th>2019-01-05 19:17:47</th>\n",
       "      <td>4</td>\n",
       "      <td>78</td>\n",
       "      <td>0</td>\n",
       "      <td>0</td>\n",
       "      <td>0</td>\n",
       "      <td>0</td>\n",
       "      <td>0</td>\n",
       "      <td>0</td>\n",
       "      <td>0</td>\n",
       "      <td>82</td>\n",
       "      <td>82</td>\n",
       "      <td>2019-01-05 19:17:47</td>\n",
       "    </tr>\n",
       "  </tbody>\n",
       "</table>\n",
       "</div>"
      ],
      "text/plain": [
       "                     chatterer  cnt_ㅋ  cnt_유하  cnt_꿀잼  cnt_?  cnt_ㄵ  cnt_노잼  \\\n",
       "stream_time                                                                   \n",
       "2019-01-05 02:09:10          4     72       0       0      0      0       0   \n",
       "2019-01-05 19:17:47          4     78       0       0      0      0       0   \n",
       "\n",
       "                     cnt_ㄴㅈ  cnt_혁준  summation  summation+?  \\\n",
       "stream_time                                                   \n",
       "2019-01-05 02:09:10       0       0         76           76   \n",
       "2019-01-05 19:17:47       0       0         82           82   \n",
       "\n",
       "                                   time  \n",
       "stream_time                              \n",
       "2019-01-05 02:09:10 2019-01-05 02:09:10  \n",
       "2019-01-05 19:17:47 2019-01-05 19:17:47  "
      ]
     },
     "execution_count": 207,
     "metadata": {},
     "output_type": "execute_result"
    }
   ],
   "source": [
    "point.head(2)"
   ]
  },
  {
   "cell_type": "code",
   "execution_count": 208,
   "metadata": {},
   "outputs": [],
   "source": [
    "\n",
    "point_sections = []\n",
    "for index in point.index:\n",
    "    point_section_start = index - pd.Timedelta(\"20s\")\n",
    "    point_section_end = index + pd.Timedelta(\"20s\")\n",
    "    point_section = pd.date_range(point_section_start, point_section_end, freq='s')\n",
    "    point_sections.extend(point_section)\n",
    "section_index = pd.DataFrame(index = point_sections)"
   ]
  },
  {
   "cell_type": "code",
   "execution_count": 209,
   "metadata": {},
   "outputs": [],
   "source": [
    "a['stream_time'] = a.index\n",
    "a['label'] = a['stream_time'].apply(lambda x : 1 if x in point_sections else 0)"
   ]
  },
  {
   "cell_type": "code",
   "execution_count": 210,
   "metadata": {},
   "outputs": [],
   "source": [
    "yes_df = a[a['label'] == 1]\n",
    "no_df = a[a['label'] == 0]"
   ]
  },
  {
   "cell_type": "code",
   "execution_count": 211,
   "metadata": {
    "scrolled": true
   },
   "outputs": [
    {
     "data": {
      "text/plain": [
       "((661, 13), (11140, 13))"
      ]
     },
     "execution_count": 211,
     "metadata": {},
     "output_type": "execute_result"
    }
   ],
   "source": [
    "yes_df.shape, no_df.shape"
   ]
  },
  {
   "cell_type": "code",
   "execution_count": 212,
   "metadata": {},
   "outputs": [
    {
     "data": {
      "image/png": "[encoded data removed]",
      "text/plain": [
       "<Figure size 1080x288 with 1 Axes>"
      ]
     },
     "metadata": {
      "needs_background": "light"
     },
     "output_type": "display_data"
    }
   ],
   "source": [
    "plt.figure(figsize=(15,4))\n",
    "no_df['summation'].plot(c='g')\n",
    "yes_df['summation'].plot(c='orange')\n",
    "plt.legend(['streaming', 'hot-point section'])\n",
    "plt.xlabel(\"streaming time\")\n",
    "plt.ylabel(\"hot-point score\")\n",
    "plt.show()"
   ]
  },
  {
   "cell_type": "code",
   "execution_count": null,
   "metadata": {},
   "outputs": [],
   "source": []
  },
  {
   "cell_type": "code",
   "execution_count": null,
   "metadata": {},
   "outputs": [],
   "source": []
  },
  {
   "cell_type": "code",
   "execution_count": null,
   "metadata": {},
   "outputs": [],
   "source": []
  },
  {
   "cell_type": "code",
   "execution_count": null,
   "metadata": {},
   "outputs": [],
   "source": []
  },
  {
   "cell_type": "code",
   "execution_count": null,
   "metadata": {},
   "outputs": [],
   "source": []
  },
  {
   "cell_type": "code",
   "execution_count": null,
   "metadata": {},
   "outputs": [],
   "source": []
  },
  {
   "cell_type": "code",
   "execution_count": null,
   "metadata": {},
   "outputs": [],
   "source": []
  },
  {
   "cell_type": "code",
   "execution_count": null,
   "metadata": {},
   "outputs": [],
   "source": []
  },
  {
   "cell_type": "code",
   "execution_count": null,
   "metadata": {},
   "outputs": [],
   "source": []
  },
  {
   "cell_type": "code",
   "execution_count": null,
   "metadata": {},
   "outputs": [],
   "source": []
  },
  {
   "cell_type": "code",
   "execution_count": null,
   "metadata": {},
   "outputs": [],
   "source": []
  },
  {
   "cell_type": "code",
   "execution_count": null,
   "metadata": {},
   "outputs": [],
   "source": []
  },
  {
   "cell_type": "code",
   "execution_count": null,
   "metadata": {},
   "outputs": [],
   "source": []
  },
  {
   "cell_type": "code",
   "execution_count": null,
   "metadata": {},
   "outputs": [],
   "source": []
  },
  {
   "cell_type": "code",
   "execution_count": null,
   "metadata": {},
   "outputs": [],
   "source": []
  },
  {
   "cell_type": "code",
   "execution_count": null,
   "metadata": {},
   "outputs": [],
   "source": []
  },
  {
   "cell_type": "code",
   "execution_count": null,
   "metadata": {},
   "outputs": [],
   "source": []
  },
  {
   "cell_type": "code",
   "execution_count": null,
   "metadata": {},
   "outputs": [],
   "source": []
  },
  {
   "cell_type": "code",
   "execution_count": null,
   "metadata": {},
   "outputs": [],
   "source": []
  },
  {
   "cell_type": "code",
   "execution_count": null,
   "metadata": {},
   "outputs": [],
   "source": []
  },
  {
   "cell_type": "code",
   "execution_count": null,
   "metadata": {},
   "outputs": [],
   "source": []
  },
  {
   "cell_type": "code",
   "execution_count": null,
   "metadata": {},
   "outputs": [],
   "source": []
  }
 ],
 "metadata": {
  "kernelspec": {
   "display_name": "Python 3",
   "language": "python",
   "name": "python3"
  },
  "language_info": {
   "codemirror_mode": {
    "name": "ipython",
    "version": 3
   },
   "file_extension": ".py",
   "mimetype": "text/x-python",
   "name": "python",
   "nbconvert_exporter": "python",
   "pygments_lexer": "ipython3",
   "version": "3.6.7"
  }
 },
 "nbformat": 4,
 "nbformat_minor": 2
}
