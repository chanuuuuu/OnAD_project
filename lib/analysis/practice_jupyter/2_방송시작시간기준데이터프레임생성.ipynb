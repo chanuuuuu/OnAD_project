{
 "cells": [
  {
   "cell_type": "markdown",
   "metadata": {},
   "source": [
    "## 채팅로그"
   ]
  },
  {
   "cell_type": "code",
   "execution_count": 1,
   "metadata": {},
   "outputs": [],
   "source": [
    "import pandas as pd\n",
    "import matplotlib.pyplot as plt"
   ]
  },
  {
   "cell_type": "code",
   "execution_count": 2,
   "metadata": {},
   "outputs": [],
   "source": [
    "DB_URL = 'onad.cbjjamtlar2t.ap-northeast-2.rds.amazonaws.com'\n",
    "DB_USER = 'onad'\n",
    "DB_PASSWORD = 'rkdghktn12'\n",
    "DB_DATABASE = 'onad'\n",
    "DB_CHARSET = 'utf8mb4'\n",
    "DB_LOGFLAG  = 'False'\n",
    "DB_PORT = 3306\n",
    "\n",
    "db_url = \"mysql+pymysql://%s:%s@%s:%s/%s?charset=%s\" % (\n",
    "    DB_USER, DB_PASSWORD,\n",
    "    DB_URL, DB_PORT,\n",
    "    DB_DATABASE, DB_CHARSET\n",
    ")"
   ]
  },
  {
   "cell_type": "markdown",
   "metadata": {},
   "source": [
    "#### db에 스트리밍시작시간과 채팅로그가 모두 있는 경우"
   ]
  },
  {
   "cell_type": "code",
   "execution_count": 3,
   "metadata": {},
   "outputs": [],
   "source": [
    "# 분석에 필요한 데이터를 가져오는 함수\n",
    "def select_twitch_chat(db_url, streamer_id, target_date):\n",
    "    \"\"\"\n",
    "    db와 접촉하여 트위치 채팅 데이터를 가져오는 쿼리를 수행한 후 데이터 프레임으로 반환합니다.\n",
    "    * input\n",
    "        db_url : 데이터 베이스 연결 url, str\n",
    "        streamer_id : 채팅로그를 가져 올 스트리머의 id, str ex)zilioner\n",
    "        target_date : 채팅로그를 가져 올 날짜 ex)2018-01-07, str\n",
    "    * output\n",
    "        pandas.DataFrame 객체\n",
    "    \"\"\"\n",
    "    import pandas as pd\n",
    "    query = \"\"\"select * from twitch_chat where streamer_name = \"%s\" and broad_date =\"%s\"\n",
    "    \"\"\" % (streamer_id, target_date)\n",
    "    return pd.read_sql_query(query, db_url)\n",
    "\n",
    "def select_twitch_stream_start_time(db_url, steamer_name):\n",
    "    import pandas as pd\n",
    "    query = \"\"\"select broad_date from twitch_stream where streamer_name = '%s'\n",
    "    \"\"\" % steamer_name\n",
    "    return pd.read_sql_query(query, db_url)"
   ]
  },
  {
   "cell_type": "markdown",
   "metadata": {},
   "source": [
    "#### 1. 채팅로그 row 데이터 로드"
   ]
  },
  {
   "cell_type": "code",
   "execution_count": 4,
   "metadata": {},
   "outputs": [],
   "source": [
    "streamer_id = 'cocopopp671'\n",
    "steamer_name = '초승달'\n",
    "target_date = '2018-12-24'\n",
    "first_df = select_twitch_chat(db_url, streamer_id, target_date)"
   ]
  },
  {
   "cell_type": "code",
   "execution_count": 5,
   "metadata": {
    "scrolled": true
   },
   "outputs": [
    {
     "data": {
      "text/html": [
       "<div>\n",
       "<style scoped>\n",
       "    .dataframe tbody tr th:only-of-type {\n",
       "        vertical-align: middle;\n",
       "    }\n",
       "\n",
       "    .dataframe tbody tr th {\n",
       "        vertical-align: top;\n",
       "    }\n",
       "\n",
       "    .dataframe thead th {\n",
       "        text-align: right;\n",
       "    }\n",
       "</style>\n",
       "<table border=\"1\" class=\"dataframe\">\n",
       "  <thead>\n",
       "    <tr style=\"text-align: right;\">\n",
       "      <th></th>\n",
       "      <th>chat_id</th>\n",
       "      <th>streamer_name</th>\n",
       "      <th>broad_date</th>\n",
       "      <th>chatterer</th>\n",
       "      <th>chat_time</th>\n",
       "      <th>chat_contents</th>\n",
       "    </tr>\n",
       "  </thead>\n",
       "  <tbody>\n",
       "    <tr>\n",
       "      <th>0</th>\n",
       "      <td>1127035</td>\n",
       "      <td>cocopopp671</td>\n",
       "      <td>2018-12-24</td>\n",
       "      <td>&lt;%$파란맛_ (blue_flavor)&gt;</td>\n",
       "      <td>00:15:47</td>\n",
       "      <td>!points</td>\n",
       "    </tr>\n",
       "    <tr>\n",
       "      <th>1</th>\n",
       "      <td>1127036</td>\n",
       "      <td>cocopopp671</td>\n",
       "      <td>2018-12-24</td>\n",
       "      <td>&lt;%^StreamElements&gt;</td>\n",
       "      <td>00:15:47</td>\n",
       "      <td>@파란맛_, 파란맛_ has 63610 points and is rank 174/3...</td>\n",
       "    </tr>\n",
       "    <tr>\n",
       "      <th>2</th>\n",
       "      <td>1127037</td>\n",
       "      <td>cocopopp671</td>\n",
       "      <td>2018-12-24</td>\n",
       "      <td>&lt;%챠크켈 (jhg402)&gt;</td>\n",
       "      <td>00:25:10</td>\n",
       "      <td>초하초하</td>\n",
       "    </tr>\n",
       "    <tr>\n",
       "      <th>3</th>\n",
       "      <td>1127038</td>\n",
       "      <td>cocopopp671</td>\n",
       "      <td>2018-12-24</td>\n",
       "      <td>&lt;%$비뮤 (tlxl125)&gt;</td>\n",
       "      <td>00:25:11</td>\n",
       "      <td>초하~</td>\n",
       "    </tr>\n",
       "    <tr>\n",
       "      <th>4</th>\n",
       "      <td>1127039</td>\n",
       "      <td>cocopopp671</td>\n",
       "      <td>2018-12-24</td>\n",
       "      <td>&lt;%$봉추찜닭당면귀신 (bonchu)&gt;</td>\n",
       "      <td>00:25:13</td>\n",
       "      <td>초하</td>\n",
       "    </tr>\n",
       "  </tbody>\n",
       "</table>\n",
       "</div>"
      ],
      "text/plain": [
       "   chat_id streamer_name  broad_date               chatterer chat_time  \\\n",
       "0  1127035   cocopopp671  2018-12-24  <%$파란맛_ (blue_flavor)>  00:15:47   \n",
       "1  1127036   cocopopp671  2018-12-24      <%^StreamElements>  00:15:47   \n",
       "2  1127037   cocopopp671  2018-12-24         <%챠크켈 (jhg402)>  00:25:10   \n",
       "3  1127038   cocopopp671  2018-12-24        <%$비뮤 (tlxl125)>  00:25:11   \n",
       "4  1127039   cocopopp671  2018-12-24   <%$봉추찜닭당면귀신 (bonchu)>  00:25:13   \n",
       "\n",
       "                                       chat_contents  \n",
       "0                                            !points  \n",
       "1  @파란맛_, 파란맛_ has 63610 points and is rank 174/3...  \n",
       "2                                               초하초하  \n",
       "3                                                초하~  \n",
       "4                                                 초하  "
      ]
     },
     "execution_count": 5,
     "metadata": {},
     "output_type": "execute_result"
    }
   ],
   "source": [
    "first_df.head()"
   ]
  },
  {
   "cell_type": "markdown",
   "metadata": {},
   "source": [
    "#### 방송시작시간이 db에 없는 경우"
   ]
  },
  {
   "cell_type": "code",
   "execution_count": 6,
   "metadata": {},
   "outputs": [],
   "source": [
    "# start_df = select_twitch_stream_start_time(db_url, steamer_name)\n",
    "\n",
    "# broad = pd.to_datetime(start_df['broad\"_date'])\n",
    "# broad = \"00:25:10\"\n",
    "# 트위치 시간대는 UTC 기준이므로 한국시간으로 +9 하여 변경\n",
    "# broad = broad.apply(lambda x : x + pd.Timedelta(\"9hours\"))\n",
    "# for i in broad:\n",
    "#     if target_date == str(i.date()):\n",
    "#         start_time = i.time()"
   ]
  },
  {
   "cell_type": "markdown",
   "metadata": {},
   "source": [
    "#### 2. 방송 시작 시간 데이터 로드"
   ]
  },
  {
   "cell_type": "code",
   "execution_count": 86,
   "metadata": {},
   "outputs": [],
   "source": [
    "start_df = select_twitch_stream_start_time(db_url, steamer_name)\n",
    "\n",
    "broad = pd.to_datetime(start_df['broad_date'])\n",
    "# 트위치 시간대는 UTC 기준이므로 한국시간으로 +9 하여 변경\n",
    "broad = broad.apply(lambda x : x + pd.Timedelta(\"9hours\"))\n",
    "for i in broad:\n",
    "    if target_date == str(i.date()):\n",
    "        start_time = i.time()"
   ]
  },
  {
   "cell_type": "markdown",
   "metadata": {},
   "source": [
    "#### 3. 방속 시작 시간을 기준으로 하는 인덱스생성"
   ]
  },
  {
   "cell_type": "code",
   "execution_count": 71,
   "metadata": {},
   "outputs": [],
   "source": [
    "start_time = \"00:25:10\"\n",
    "start_time = pd.to_datetime(start_time)\n",
    "\n",
    "df = first_df.copy()\n",
    "df['streamtime'] = pd.to_datetime(df['chat_time'])\n",
    "df['streamtime'] = df['streamtime'].apply(lambda x : x - start_time)\n",
    "df.set_index('streamtime', inplace=True)\n"
   ]
  },
  {
   "cell_type": "markdown",
   "metadata": {},
   "source": [
    "#### 4. 방송 시작 이후의 채팅 로그만"
   ]
  },
  {
   "cell_type": "code",
   "execution_count": 72,
   "metadata": {
    "scrolled": false
   },
   "outputs": [
    {
     "data": {
      "text/html": [
       "<div>\n",
       "<style scoped>\n",
       "    .dataframe tbody tr th:only-of-type {\n",
       "        vertical-align: middle;\n",
       "    }\n",
       "\n",
       "    .dataframe tbody tr th {\n",
       "        vertical-align: top;\n",
       "    }\n",
       "\n",
       "    .dataframe thead th {\n",
       "        text-align: right;\n",
       "    }\n",
       "</style>\n",
       "<table border=\"1\" class=\"dataframe\">\n",
       "  <thead>\n",
       "    <tr style=\"text-align: right;\">\n",
       "      <th></th>\n",
       "      <th>chat_id</th>\n",
       "      <th>streamer_name</th>\n",
       "      <th>broad_date</th>\n",
       "      <th>chatterer</th>\n",
       "      <th>chat_time</th>\n",
       "      <th>chat_contents</th>\n",
       "    </tr>\n",
       "    <tr>\n",
       "      <th>streamtime</th>\n",
       "      <th></th>\n",
       "      <th></th>\n",
       "      <th></th>\n",
       "      <th></th>\n",
       "      <th></th>\n",
       "      <th></th>\n",
       "    </tr>\n",
       "  </thead>\n",
       "  <tbody>\n",
       "    <tr>\n",
       "      <th>00:00:01</th>\n",
       "      <td>1127038</td>\n",
       "      <td>cocopopp671</td>\n",
       "      <td>2018-12-24</td>\n",
       "      <td>&lt;%$비뮤 (tlxl125)&gt;</td>\n",
       "      <td>00:25:11</td>\n",
       "      <td>초하~</td>\n",
       "    </tr>\n",
       "    <tr>\n",
       "      <th>00:00:03</th>\n",
       "      <td>1127039</td>\n",
       "      <td>cocopopp671</td>\n",
       "      <td>2018-12-24</td>\n",
       "      <td>&lt;%$봉추찜닭당면귀신 (bonchu)&gt;</td>\n",
       "      <td>00:25:13</td>\n",
       "      <td>초하</td>\n",
       "    </tr>\n",
       "    <tr>\n",
       "      <th>00:00:07</th>\n",
       "      <td>1127040</td>\n",
       "      <td>cocopopp671</td>\n",
       "      <td>2018-12-24</td>\n",
       "      <td>&lt;%$우리승태화이팅 (heeeeheeee805)&gt;</td>\n",
       "      <td>00:25:17</td>\n",
       "      <td>띠용?</td>\n",
       "    </tr>\n",
       "    <tr>\n",
       "      <th>00:00:09</th>\n",
       "      <td>1127041</td>\n",
       "      <td>cocopopp671</td>\n",
       "      <td>2018-12-24</td>\n",
       "      <td>&lt;%$우리승태화이팅 (heeeeheeee805)&gt;</td>\n",
       "      <td>00:25:19</td>\n",
       "      <td>초하</td>\n",
       "    </tr>\n",
       "    <tr>\n",
       "      <th>00:00:10</th>\n",
       "      <td>1127042</td>\n",
       "      <td>cocopopp671</td>\n",
       "      <td>2018-12-24</td>\n",
       "      <td>&lt;%$드레여캐이뻐염 (ppyong96)&gt;</td>\n",
       "      <td>00:25:20</td>\n",
       "      <td>잉</td>\n",
       "    </tr>\n",
       "  </tbody>\n",
       "</table>\n",
       "</div>"
      ],
      "text/plain": [
       "            chat_id streamer_name  broad_date                    chatterer  \\\n",
       "streamtime                                                                   \n",
       "00:00:01    1127038   cocopopp671  2018-12-24             <%$비뮤 (tlxl125)>   \n",
       "00:00:03    1127039   cocopopp671  2018-12-24        <%$봉추찜닭당면귀신 (bonchu)>   \n",
       "00:00:07    1127040   cocopopp671  2018-12-24  <%$우리승태화이팅 (heeeeheeee805)>   \n",
       "00:00:09    1127041   cocopopp671  2018-12-24  <%$우리승태화이팅 (heeeeheeee805)>   \n",
       "00:00:10    1127042   cocopopp671  2018-12-24       <%$드레여캐이뻐염 (ppyong96)>   \n",
       "\n",
       "           chat_time chat_contents  \n",
       "streamtime                          \n",
       "00:00:01    00:25:11           초하~  \n",
       "00:00:03    00:25:13            초하  \n",
       "00:00:07    00:25:17           띠용?  \n",
       "00:00:09    00:25:19            초하  \n",
       "00:00:10    00:25:20             잉  "
      ]
     },
     "execution_count": 72,
     "metadata": {},
     "output_type": "execute_result"
    }
   ],
   "source": [
    "stream_df = df[df.index > \"00:00:00\"]\n",
    "stream_df.head()"
   ]
  },
  {
   "cell_type": "markdown",
   "metadata": {},
   "source": [
    "### 실제 유튜브 영상으로 올라간 시간과 올라가지 않은 시간대의 차이 분석"
   ]
  },
  {
   "cell_type": "code",
   "execution_count": 10,
   "metadata": {},
   "outputs": [],
   "source": [
    "youtube_video_time1224 = {\n",
    "    '04:52:25' : '05:18:16',\n",
    "    '00:06:03' : '00:07:03',\n",
    "    '01:09:30' : '01:11:15',\n",
    "    '00:12:22' : '00:20:00',\n",
    "    '00:23:30' : '00:30:23',\n",
    "}"
   ]
  },
  {
   "cell_type": "code",
   "execution_count": 34,
   "metadata": {},
   "outputs": [],
   "source": [
    "highlight_times = [pd.date_range(start=start, end=end, freq='s') for start, end in youtube_video_time1224.items()]\n",
    "hl_times = []\n",
    "for time in highlight_times:\n",
    "#     print(time.time)\n",
    "    hl_times.extend(time.time)\n",
    "hl_times = [str(time) for time in hl_times]"
   ]
  },
  {
   "cell_type": "code",
   "execution_count": 53,
   "metadata": {},
   "outputs": [
    {
     "data": {
      "text/html": [
       "<div>\n",
       "<style scoped>\n",
       "    .dataframe tbody tr th:only-of-type {\n",
       "        vertical-align: middle;\n",
       "    }\n",
       "\n",
       "    .dataframe tbody tr th {\n",
       "        vertical-align: top;\n",
       "    }\n",
       "\n",
       "    .dataframe thead th {\n",
       "        text-align: right;\n",
       "    }\n",
       "</style>\n",
       "<table border=\"1\" class=\"dataframe\">\n",
       "  <thead>\n",
       "    <tr style=\"text-align: right;\">\n",
       "      <th></th>\n",
       "      <th>chat_id</th>\n",
       "      <th>streamer_name</th>\n",
       "      <th>broad_date</th>\n",
       "      <th>chatterer</th>\n",
       "      <th>chat_time</th>\n",
       "      <th>chat_contents</th>\n",
       "      <th>streamtime</th>\n",
       "      <th>validation</th>\n",
       "    </tr>\n",
       "    <tr>\n",
       "      <th>streamtime</th>\n",
       "      <th></th>\n",
       "      <th></th>\n",
       "      <th></th>\n",
       "      <th></th>\n",
       "      <th></th>\n",
       "      <th></th>\n",
       "      <th></th>\n",
       "      <th></th>\n",
       "    </tr>\n",
       "  </thead>\n",
       "  <tbody>\n",
       "    <tr>\n",
       "      <th>00:00:01</th>\n",
       "      <td>1127038</td>\n",
       "      <td>cocopopp671</td>\n",
       "      <td>2018-12-24</td>\n",
       "      <td>&lt;%$비뮤 (tlxl125)&gt;</td>\n",
       "      <td>00:25:11</td>\n",
       "      <td>초하~</td>\n",
       "      <td>00:00:01</td>\n",
       "      <td>0</td>\n",
       "    </tr>\n",
       "    <tr>\n",
       "      <th>00:00:03</th>\n",
       "      <td>1127039</td>\n",
       "      <td>cocopopp671</td>\n",
       "      <td>2018-12-24</td>\n",
       "      <td>&lt;%$봉추찜닭당면귀신 (bonchu)&gt;</td>\n",
       "      <td>00:25:13</td>\n",
       "      <td>초하</td>\n",
       "      <td>00:00:03</td>\n",
       "      <td>0</td>\n",
       "    </tr>\n",
       "    <tr>\n",
       "      <th>00:00:07</th>\n",
       "      <td>1127040</td>\n",
       "      <td>cocopopp671</td>\n",
       "      <td>2018-12-24</td>\n",
       "      <td>&lt;%$우리승태화이팅 (heeeeheeee805)&gt;</td>\n",
       "      <td>00:25:17</td>\n",
       "      <td>띠용?</td>\n",
       "      <td>00:00:07</td>\n",
       "      <td>0</td>\n",
       "    </tr>\n",
       "    <tr>\n",
       "      <th>00:00:09</th>\n",
       "      <td>1127041</td>\n",
       "      <td>cocopopp671</td>\n",
       "      <td>2018-12-24</td>\n",
       "      <td>&lt;%$우리승태화이팅 (heeeeheeee805)&gt;</td>\n",
       "      <td>00:25:19</td>\n",
       "      <td>초하</td>\n",
       "      <td>00:00:09</td>\n",
       "      <td>0</td>\n",
       "    </tr>\n",
       "    <tr>\n",
       "      <th>00:00:10</th>\n",
       "      <td>1127042</td>\n",
       "      <td>cocopopp671</td>\n",
       "      <td>2018-12-24</td>\n",
       "      <td>&lt;%$드레여캐이뻐염 (ppyong96)&gt;</td>\n",
       "      <td>00:25:20</td>\n",
       "      <td>잉</td>\n",
       "      <td>00:00:10</td>\n",
       "      <td>0</td>\n",
       "    </tr>\n",
       "  </tbody>\n",
       "</table>\n",
       "</div>"
      ],
      "text/plain": [
       "            chat_id streamer_name  broad_date                    chatterer  \\\n",
       "streamtime                                                                   \n",
       "00:00:01    1127038   cocopopp671  2018-12-24             <%$비뮤 (tlxl125)>   \n",
       "00:00:03    1127039   cocopopp671  2018-12-24        <%$봉추찜닭당면귀신 (bonchu)>   \n",
       "00:00:07    1127040   cocopopp671  2018-12-24  <%$우리승태화이팅 (heeeeheeee805)>   \n",
       "00:00:09    1127041   cocopopp671  2018-12-24  <%$우리승태화이팅 (heeeeheeee805)>   \n",
       "00:00:10    1127042   cocopopp671  2018-12-24       <%$드레여캐이뻐염 (ppyong96)>   \n",
       "\n",
       "           chat_time chat_contents streamtime  validation  \n",
       "streamtime                                                 \n",
       "00:00:01    00:25:11           초하~   00:00:01           0  \n",
       "00:00:03    00:25:13            초하   00:00:03           0  \n",
       "00:00:07    00:25:17           띠용?   00:00:07           0  \n",
       "00:00:09    00:25:19            초하   00:00:09           0  \n",
       "00:00:10    00:25:20             잉   00:00:10           0  "
      ]
     },
     "execution_count": 53,
     "metadata": {},
     "output_type": "execute_result"
    }
   ],
   "source": [
    "stream_df.head()"
   ]
  },
  {
   "cell_type": "code",
   "execution_count": 70,
   "metadata": {},
   "outputs": [
    {
     "data": {
      "text/html": [
       "<div>\n",
       "<style scoped>\n",
       "    .dataframe tbody tr th:only-of-type {\n",
       "        vertical-align: middle;\n",
       "    }\n",
       "\n",
       "    .dataframe tbody tr th {\n",
       "        vertical-align: top;\n",
       "    }\n",
       "\n",
       "    .dataframe thead th {\n",
       "        text-align: right;\n",
       "    }\n",
       "</style>\n",
       "<table border=\"1\" class=\"dataframe\">\n",
       "  <thead>\n",
       "    <tr style=\"text-align: right;\">\n",
       "      <th></th>\n",
       "      <th>chat_id</th>\n",
       "      <th>streamer_name</th>\n",
       "      <th>broad_date</th>\n",
       "      <th>chatterer</th>\n",
       "      <th>chat_time</th>\n",
       "      <th>chat_contents</th>\n",
       "      <th>streamtime</th>\n",
       "      <th>validation</th>\n",
       "    </tr>\n",
       "    <tr>\n",
       "      <th>streamtime</th>\n",
       "      <th></th>\n",
       "      <th></th>\n",
       "      <th></th>\n",
       "      <th></th>\n",
       "      <th></th>\n",
       "      <th></th>\n",
       "      <th></th>\n",
       "      <th></th>\n",
       "    </tr>\n",
       "  </thead>\n",
       "  <tbody>\n",
       "  </tbody>\n",
       "</table>\n",
       "</div>"
      ],
      "text/plain": [
       "Empty DataFrame\n",
       "Columns: [chat_id, streamer_name, broad_date, chatterer, chat_time, chat_contents, streamtime, validation]\n",
       "Index: []"
      ]
     },
     "execution_count": 70,
     "metadata": {},
     "output_type": "execute_result"
    }
   ],
   "source": [
    "stream_df[stream_df.streamtime == hl_times[15]]"
   ]
  },
  {
   "cell_type": "code",
   "execution_count": 36,
   "metadata": {
    "scrolled": false
   },
   "outputs": [
    {
     "name": "stderr",
     "output_type": "stream",
     "text": [
      "C:\\ProgramData\\Anaconda3\\lib\\site-packages\\ipykernel_launcher.py:1: SettingWithCopyWarning: \n",
      "A value is trying to be set on a copy of a slice from a DataFrame.\n",
      "Try using .loc[row_indexer,col_indexer] = value instead\n",
      "\n",
      "See the caveats in the documentation: http://pandas.pydata.org/pandas-docs/stable/indexing.html#indexing-view-versus-copy\n",
      "  \"\"\"Entry point for launching an IPython kernel.\n",
      "C:\\ProgramData\\Anaconda3\\lib\\site-packages\\ipykernel_launcher.py:2: SettingWithCopyWarning: \n",
      "A value is trying to be set on a copy of a slice from a DataFrame.\n",
      "Try using .loc[row_indexer,col_indexer] = value instead\n",
      "\n",
      "See the caveats in the documentation: http://pandas.pydata.org/pandas-docs/stable/indexing.html#indexing-view-versus-copy\n",
      "  \n"
     ]
    }
   ],
   "source": [
    "stream_df['validation'] = stream_df.index\n",
    "stream_df['validation'] = stream_df['validation'].apply(lambda x : 1 if x in hl_times else 0)"
   ]
  },
  {
   "cell_type": "code",
   "execution_count": 32,
   "metadata": {},
   "outputs": [
    {
     "data": {
      "text/plain": [
       "array([0], dtype=int64)"
      ]
     },
     "execution_count": 32,
     "metadata": {},
     "output_type": "execute_result"
    }
   ],
   "source": [
    "stream_df.validation.unique()"
   ]
  },
  {
   "cell_type": "code",
   "execution_count": null,
   "metadata": {},
   "outputs": [],
   "source": []
  },
  {
   "cell_type": "code",
   "execution_count": null,
   "metadata": {},
   "outputs": [],
   "source": []
  },
  {
   "cell_type": "code",
   "execution_count": null,
   "metadata": {},
   "outputs": [],
   "source": []
  },
  {
   "cell_type": "code",
   "execution_count": null,
   "metadata": {},
   "outputs": [],
   "source": []
  }
 ],
 "metadata": {
  "kernelspec": {
   "display_name": "Python 3",
   "language": "python",
   "name": "python3"
  },
  "language_info": {
   "codemirror_mode": {
    "name": "ipython",
    "version": 3
   },
   "file_extension": ".py",
   "mimetype": "text/x-python",
   "name": "python",
   "nbconvert_exporter": "python",
   "pygments_lexer": "ipython3",
   "version": "3.7.1"
  }
 },
 "nbformat": 4,
 "nbformat_minor": 2
}
