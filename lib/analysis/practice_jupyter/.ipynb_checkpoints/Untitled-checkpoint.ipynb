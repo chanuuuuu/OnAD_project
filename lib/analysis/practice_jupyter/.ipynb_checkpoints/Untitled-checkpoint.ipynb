{
 "cells": [
  {
   "cell_type": "code",
   "execution_count": 1,
   "metadata": {},
   "outputs": [],
   "source": [
    "import requests"
   ]
  },
  {
   "cell_type": "code",
   "execution_count": 98,
   "metadata": {},
   "outputs": [],
   "source": [
    "import requests\n",
    "import time\n",
    "# stream api 파라미터 설정\n",
    "url = 'https://api.twitch.tv/helix/clips'\n",
    "headers = {'Client-ID' : 'kimne78kx3ncx6brgo4mv6wki5h1ko'}\n",
    "\n",
    "cursor = None\n",
    "total_clips = []  # 총 데이터를 담는 그릇\n",
    "for _ in range(2):\n",
    "    # 클립 조회수 50 이상인 것들만 가져올 것이기 때문에 더 많은 요청은 낭비임\n",
    "    # top100 을 넘어서기도 전에 조회수는 50이하로 내려감.\n",
    "    params = {\n",
    "        'broadcaster_id': '103861159',\n",
    "        'started_at': '2019-01-01T00:00:01Z',\n",
    "        'ended_at': '2019-01-08T23:59:59Z',\n",
    "        'first': 100,\n",
    "        'after': cursor\n",
    "        }\n",
    "    # api 요청\n",
    "    res = requests.get(url, headers=headers, params=params)\n",
    "    if res:\n",
    "        data = res.json()['data']\n",
    "        total_clips.extend(data)\n",
    "        if 'cursor' in res.json()['pagination']:\n",
    "            cursor = res.json()['pagination']['cursor']\n",
    "        else: break\n",
    "        "
   ]
  },
  {
   "cell_type": "code",
   "execution_count": 99,
   "metadata": {},
   "outputs": [
    {
     "data": {
      "text/plain": [
       "200"
      ]
     },
     "execution_count": 99,
     "metadata": {},
     "output_type": "execute_result"
    }
   ],
   "source": [
    "len(total_clips)"
   ]
  },
  {
   "cell_type": "code",
   "execution_count": 100,
   "metadata": {},
   "outputs": [
    {
     "data": {
      "text/plain": [
       "96"
      ]
     },
     "execution_count": 100,
     "metadata": {},
     "output_type": "execute_result"
    }
   ],
   "source": [
    "len([clip for clip in total_clips if clip['view_count'] > 50])"
   ]
  },
  {
   "cell_type": "code",
   "execution_count": null,
   "metadata": {},
   "outputs": [],
   "source": []
  }
 ],
 "metadata": {
  "kernelspec": {
   "display_name": "Python 3",
   "language": "python",
   "name": "python3"
  },
  "language_info": {
   "codemirror_mode": {
    "name": "ipython",
    "version": 3
   },
   "file_extension": ".py",
   "mimetype": "text/x-python",
   "name": "python",
   "nbconvert_exporter": "python",
   "pygments_lexer": "ipython3",
   "version": "3.7.1"
  }
 },
 "nbformat": 4,
 "nbformat_minor": 2
}
