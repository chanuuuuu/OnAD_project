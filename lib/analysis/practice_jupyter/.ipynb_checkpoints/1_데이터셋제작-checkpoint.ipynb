{
 "cells": [
  {
   "cell_type": "code",
   "execution_count": 1,
   "metadata": {},
   "outputs": [],
   "source": [
    "import pandas as pd"
   ]
  },
  {
   "cell_type": "markdown",
   "metadata": {},
   "source": [
    "### 데이터 베이스 설정"
   ]
  },
  {
   "cell_type": "code",
   "execution_count": 2,
   "metadata": {},
   "outputs": [],
   "source": [
    "DB_URL = 'onad.cbjjamtlar2t.ap-northeast-2.rds.amazonaws.com'\n",
    "DB_USER = 'onad'\n",
    "DB_PASSWORD = 'rkdghktn12'\n",
    "DB_DATABASE = 'onad'\n",
    "DB_CHARSET = 'utf8mb4'\n",
    "DB_LOGFLAG  = 'False'\n",
    "DB_PORT = 3306\n",
    "\n",
    "db_url = \"mysql+pymysql://%s:%s@%s:%s/%s?charset=%s\" % (\n",
    "    DB_USER, DB_PASSWORD,\n",
    "    DB_URL, DB_PORT,\n",
    "    DB_DATABASE, DB_CHARSET\n",
    ")"
   ]
  },
  {
   "cell_type": "code",
   "execution_count": 3,
   "metadata": {},
   "outputs": [],
   "source": [
    "def data_from_sql_twitchchat(streamer, target_date):\n",
    "    query = \"\"\"\n",
    "        select * from twitch_chat where streamer_name = \"%s\" and broad_date =\"%s\"\n",
    "    \"\"\"% (streamer, target_date)\n",
    "\n",
    "    return pd.read_sql_query(query, db_url)"
   ]
  },
  {
   "cell_type": "markdown",
   "metadata": {},
   "source": [
    "### 채팅 데이터 로드"
   ]
  },
  {
   "cell_type": "code",
   "execution_count": 51,
   "metadata": {},
   "outputs": [],
   "source": [
    "streamer = \"rhdgurwns\"\n",
    "target_date = \"2018-12-13\"\n",
    "chat_data = data_from_sql_twitchchat(streamer, target_date)"
   ]
  },
  {
   "cell_type": "markdown",
   "metadata": {},
   "source": [
    "### Exploratory Data Analysis"
   ]
  },
  {
   "cell_type": "code",
   "execution_count": 52,
   "metadata": {},
   "outputs": [
    {
     "data": {
      "text/plain": [
       "(14126, 6)"
      ]
     },
     "execution_count": 52,
     "metadata": {},
     "output_type": "execute_result"
    }
   ],
   "source": [
    "chat_data.shape"
   ]
  },
  {
   "cell_type": "code",
   "execution_count": 53,
   "metadata": {},
   "outputs": [
    {
     "data": {
      "text/html": [
       "<div>\n",
       "<style scoped>\n",
       "    .dataframe tbody tr th:only-of-type {\n",
       "        vertical-align: middle;\n",
       "    }\n",
       "\n",
       "    .dataframe tbody tr th {\n",
       "        vertical-align: top;\n",
       "    }\n",
       "\n",
       "    .dataframe thead th {\n",
       "        text-align: right;\n",
       "    }\n",
       "</style>\n",
       "<table border=\"1\" class=\"dataframe\">\n",
       "  <thead>\n",
       "    <tr style=\"text-align: right;\">\n",
       "      <th></th>\n",
       "      <th>chat_id</th>\n",
       "      <th>streamer_name</th>\n",
       "      <th>broad_date</th>\n",
       "      <th>chatterer</th>\n",
       "      <th>chat_time</th>\n",
       "      <th>chat_contents</th>\n",
       "    </tr>\n",
       "  </thead>\n",
       "  <tbody>\n",
       "    <tr>\n",
       "      <th>0</th>\n",
       "      <td>5862493</td>\n",
       "      <td>rhdgurwns</td>\n",
       "      <td>2018-12-13</td>\n",
       "      <td>&lt;존맛탱회전초밥 (jjsseea2)&gt;</td>\n",
       "      <td>09:29:06</td>\n",
       "      <td>보 고 싶 다 공 혁 준</td>\n",
       "    </tr>\n",
       "    <tr>\n",
       "      <th>1</th>\n",
       "      <td>5862494</td>\n",
       "      <td>rhdgurwns</td>\n",
       "      <td>2018-12-13</td>\n",
       "      <td>&lt;@%rhdqurwns1&gt;</td>\n",
       "      <td>10:30:56</td>\n",
       "      <td>혁준이 왜 방송안키냐</td>\n",
       "    </tr>\n",
       "    <tr>\n",
       "      <th>2</th>\n",
       "      <td>5862495</td>\n",
       "      <td>rhdgurwns</td>\n",
       "      <td>2018-12-13</td>\n",
       "      <td>&lt;@%rhdqurwns1&gt;</td>\n",
       "      <td>10:31:03</td>\n",
       "      <td>부산에서 서울 올라온뒤 뒷풀이 달렸나?</td>\n",
       "    </tr>\n",
       "    <tr>\n",
       "      <th>3</th>\n",
       "      <td>5862496</td>\n",
       "      <td>rhdgurwns</td>\n",
       "      <td>2018-12-13</td>\n",
       "      <td>&lt;@%rhdqurwns1&gt;</td>\n",
       "      <td>10:31:06</td>\n",
       "      <td>흠</td>\n",
       "    </tr>\n",
       "    <tr>\n",
       "      <th>4</th>\n",
       "      <td>5862497</td>\n",
       "      <td>rhdgurwns</td>\n",
       "      <td>2018-12-13</td>\n",
       "      <td>&lt;gkdl3487&gt;</td>\n",
       "      <td>10:47:46</td>\n",
       "      <td>이새끼 방송 언제키냐..</td>\n",
       "    </tr>\n",
       "  </tbody>\n",
       "</table>\n",
       "</div>"
      ],
      "text/plain": [
       "   chat_id streamer_name  broad_date             chatterer chat_time  \\\n",
       "0  5862493     rhdgurwns  2018-12-13  <존맛탱회전초밥 (jjsseea2)>  09:29:06   \n",
       "1  5862494     rhdgurwns  2018-12-13        <@%rhdqurwns1>  10:30:56   \n",
       "2  5862495     rhdgurwns  2018-12-13        <@%rhdqurwns1>  10:31:03   \n",
       "3  5862496     rhdgurwns  2018-12-13        <@%rhdqurwns1>  10:31:06   \n",
       "4  5862497     rhdgurwns  2018-12-13            <gkdl3487>  10:47:46   \n",
       "\n",
       "           chat_contents  \n",
       "0          보 고 싶 다 공 혁 준  \n",
       "1            혁준이 왜 방송안키냐  \n",
       "2  부산에서 서울 올라온뒤 뒷풀이 달렸나?  \n",
       "3                      흠  \n",
       "4          이새끼 방송 언제키냐..  "
      ]
     },
     "execution_count": 53,
     "metadata": {},
     "output_type": "execute_result"
    }
   ],
   "source": [
    "chat_data.head()"
   ]
  },
  {
   "cell_type": "code",
   "execution_count": 54,
   "metadata": {
    "scrolled": true
   },
   "outputs": [
    {
     "name": "stdout",
     "output_type": "stream",
     "text": [
      "채팅 로그의 수: 14126\n",
      "순수 시청자 수: 1711\n"
     ]
    }
   ],
   "source": [
    "print(\"채팅 로그의 수: %s\" % (chat_data.shape[0]))\n",
    "print(\"순수 시청자 수: %s\" % (len(list(chat_data['chatterer'].unique()))))"
   ]
  },
  {
   "cell_type": "code",
   "execution_count": 55,
   "metadata": {
    "scrolled": false
   },
   "outputs": [
    {
     "name": "stdout",
     "output_type": "stream",
     "text": [
      "채팅로그의 시작과 끝 : 09:29:06 ~ 22:51:01 \n"
     ]
    }
   ],
   "source": [
    "print(\"채팅로그의 시작과 끝 : %s ~ %s \" % (sorted(chat_data['chat_time'])[0], sorted(chat_data['chat_time'])[-1]))"
   ]
  },
  {
   "cell_type": "markdown",
   "metadata": {},
   "source": [
    "### 시간데이터를 DatetimeIndex 로 변경"
   ]
  },
  {
   "cell_type": "code",
   "execution_count": 56,
   "metadata": {},
   "outputs": [],
   "source": [
    "chat_data['chat_time'] = chat_data['chat_time'].apply(lambda x : target_date + \" \" + x)"
   ]
  },
  {
   "cell_type": "code",
   "execution_count": 57,
   "metadata": {},
   "outputs": [
    {
     "data": {
      "text/plain": [
       "0   2018-12-13 09:29:06\n",
       "1   2018-12-13 10:30:56\n",
       "Name: time, dtype: datetime64[ns]"
      ]
     },
     "execution_count": 57,
     "metadata": {},
     "output_type": "execute_result"
    }
   ],
   "source": [
    "chat_data['time'] = pd.to_datetime(chat_data['chat_time'])\n",
    "chat_data['time'].head(2)"
   ]
  },
  {
   "cell_type": "code",
   "execution_count": 58,
   "metadata": {},
   "outputs": [],
   "source": [
    "chat_data_reindex = chat_data.set_index('time')"
   ]
  },
  {
   "cell_type": "code",
   "execution_count": 59,
   "metadata": {},
   "outputs": [
    {
     "data": {
      "text/html": [
       "<div>\n",
       "<style scoped>\n",
       "    .dataframe tbody tr th:only-of-type {\n",
       "        vertical-align: middle;\n",
       "    }\n",
       "\n",
       "    .dataframe tbody tr th {\n",
       "        vertical-align: top;\n",
       "    }\n",
       "\n",
       "    .dataframe thead th {\n",
       "        text-align: right;\n",
       "    }\n",
       "</style>\n",
       "<table border=\"1\" class=\"dataframe\">\n",
       "  <thead>\n",
       "    <tr style=\"text-align: right;\">\n",
       "      <th></th>\n",
       "      <th>chat_id</th>\n",
       "      <th>streamer_name</th>\n",
       "      <th>broad_date</th>\n",
       "      <th>chatterer</th>\n",
       "      <th>chat_time</th>\n",
       "      <th>chat_contents</th>\n",
       "    </tr>\n",
       "    <tr>\n",
       "      <th>time</th>\n",
       "      <th></th>\n",
       "      <th></th>\n",
       "      <th></th>\n",
       "      <th></th>\n",
       "      <th></th>\n",
       "      <th></th>\n",
       "    </tr>\n",
       "  </thead>\n",
       "  <tbody>\n",
       "    <tr>\n",
       "      <th>2018-12-13 09:29:06</th>\n",
       "      <td>5862493</td>\n",
       "      <td>rhdgurwns</td>\n",
       "      <td>2018-12-13</td>\n",
       "      <td>&lt;존맛탱회전초밥 (jjsseea2)&gt;</td>\n",
       "      <td>2018-12-13 09:29:06</td>\n",
       "      <td>보 고 싶 다 공 혁 준</td>\n",
       "    </tr>\n",
       "    <tr>\n",
       "      <th>2018-12-13 10:30:56</th>\n",
       "      <td>5862494</td>\n",
       "      <td>rhdgurwns</td>\n",
       "      <td>2018-12-13</td>\n",
       "      <td>&lt;@%rhdqurwns1&gt;</td>\n",
       "      <td>2018-12-13 10:30:56</td>\n",
       "      <td>혁준이 왜 방송안키냐</td>\n",
       "    </tr>\n",
       "  </tbody>\n",
       "</table>\n",
       "</div>"
      ],
      "text/plain": [
       "                     chat_id streamer_name  broad_date             chatterer  \\\n",
       "time                                                                           \n",
       "2018-12-13 09:29:06  5862493     rhdgurwns  2018-12-13  <존맛탱회전초밥 (jjsseea2)>   \n",
       "2018-12-13 10:30:56  5862494     rhdgurwns  2018-12-13        <@%rhdqurwns1>   \n",
       "\n",
       "                               chat_time  chat_contents  \n",
       "time                                                     \n",
       "2018-12-13 09:29:06  2018-12-13 09:29:06  보 고 싶 다 공 혁 준  \n",
       "2018-12-13 10:30:56  2018-12-13 10:30:56    혁준이 왜 방송안키냐  "
      ]
     },
     "execution_count": 59,
     "metadata": {},
     "output_type": "execute_result"
    }
   ],
   "source": [
    "chat_data_reindex.head(2)"
   ]
  },
  {
   "cell_type": "markdown",
   "metadata": {},
   "source": [
    "## 분석용 데이터셋 제작\n",
    "\n",
    "#### 1. 필요없는 행 삭제"
   ]
  },
  {
   "cell_type": "code",
   "execution_count": 60,
   "metadata": {
    "scrolled": true
   },
   "outputs": [],
   "source": [
    "# 필요없는 행 삭제\n",
    "del chat_data_reindex['chat_id']\n",
    "del chat_data_reindex['streamer_name']\n",
    "del chat_data_reindex['broad_date']\n",
    "del chat_data_reindex['chat_time']"
   ]
  },
  {
   "cell_type": "code",
   "execution_count": 61,
   "metadata": {
    "scrolled": true
   },
   "outputs": [
    {
     "data": {
      "text/html": [
       "<div>\n",
       "<style scoped>\n",
       "    .dataframe tbody tr th:only-of-type {\n",
       "        vertical-align: middle;\n",
       "    }\n",
       "\n",
       "    .dataframe tbody tr th {\n",
       "        vertical-align: top;\n",
       "    }\n",
       "\n",
       "    .dataframe thead th {\n",
       "        text-align: right;\n",
       "    }\n",
       "</style>\n",
       "<table border=\"1\" class=\"dataframe\">\n",
       "  <thead>\n",
       "    <tr style=\"text-align: right;\">\n",
       "      <th></th>\n",
       "      <th>chatterer</th>\n",
       "      <th>chat_contents</th>\n",
       "    </tr>\n",
       "    <tr>\n",
       "      <th>time</th>\n",
       "      <th></th>\n",
       "      <th></th>\n",
       "    </tr>\n",
       "  </thead>\n",
       "  <tbody>\n",
       "    <tr>\n",
       "      <th>2018-12-13 09:29:06</th>\n",
       "      <td>&lt;존맛탱회전초밥 (jjsseea2)&gt;</td>\n",
       "      <td>보 고 싶 다 공 혁 준</td>\n",
       "    </tr>\n",
       "    <tr>\n",
       "      <th>2018-12-13 10:30:56</th>\n",
       "      <td>&lt;@%rhdqurwns1&gt;</td>\n",
       "      <td>혁준이 왜 방송안키냐</td>\n",
       "    </tr>\n",
       "  </tbody>\n",
       "</table>\n",
       "</div>"
      ],
      "text/plain": [
       "                                chatterer  chat_contents\n",
       "time                                                    \n",
       "2018-12-13 09:29:06  <존맛탱회전초밥 (jjsseea2)>  보 고 싶 다 공 혁 준\n",
       "2018-12-13 10:30:56        <@%rhdqurwns1>    혁준이 왜 방송안키냐"
      ]
     },
     "execution_count": 61,
     "metadata": {},
     "output_type": "execute_result"
    }
   ],
   "source": [
    "chat_data_reindex.head(2)"
   ]
  },
  {
   "cell_type": "markdown",
   "metadata": {},
   "source": [
    "#### 2. 한 문장에서 특정 단어의 수 세어 컬럼으로 생성"
   ]
  },
  {
   "cell_type": "code",
   "execution_count": 62,
   "metadata": {},
   "outputs": [],
   "source": [
    "chat_data_reindex['cnt_ㅋ'] = chat_data_reindex.chat_contents.apply(lambda x : x.count(\"ㅋ\"))\n",
    "chat_data_reindex['cnt_ㄵ'] = chat_data_reindex.chat_contents.apply(lambda x : x.count(\"ㄵ\"))\n",
    "chat_data_reindex['cnt_ㄴㅈ'] = chat_data_reindex.chat_contents.apply(lambda x : x.count(\"ㄴㅈ\"))\n",
    "chat_data_reindex['cnt_오'] = chat_data_reindex.chat_contents.apply(lambda x : x.count(\"오\"))\n",
    "chat_data_reindex['cnt_와'] = chat_data_reindex.chat_contents.apply(lambda x : x.count(\"와\"))\n",
    "chat_data_reindex['cnt_유하'] = chat_data_reindex.chat_contents.apply(lambda x : x.count(\"유하\"))\n"
   ]
  },
  {
   "cell_type": "code",
   "execution_count": 63,
   "metadata": {},
   "outputs": [
    {
     "data": {
      "text/html": [
       "<div>\n",
       "<style scoped>\n",
       "    .dataframe tbody tr th:only-of-type {\n",
       "        vertical-align: middle;\n",
       "    }\n",
       "\n",
       "    .dataframe tbody tr th {\n",
       "        vertical-align: top;\n",
       "    }\n",
       "\n",
       "    .dataframe thead th {\n",
       "        text-align: right;\n",
       "    }\n",
       "</style>\n",
       "<table border=\"1\" class=\"dataframe\">\n",
       "  <thead>\n",
       "    <tr style=\"text-align: right;\">\n",
       "      <th></th>\n",
       "      <th>chatterer</th>\n",
       "      <th>chat_contents</th>\n",
       "      <th>cnt_ㅋ</th>\n",
       "      <th>cnt_ㄵ</th>\n",
       "      <th>cnt_ㄴㅈ</th>\n",
       "      <th>cnt_오</th>\n",
       "      <th>cnt_와</th>\n",
       "      <th>cnt_유하</th>\n",
       "    </tr>\n",
       "    <tr>\n",
       "      <th>time</th>\n",
       "      <th></th>\n",
       "      <th></th>\n",
       "      <th></th>\n",
       "      <th></th>\n",
       "      <th></th>\n",
       "      <th></th>\n",
       "      <th></th>\n",
       "      <th></th>\n",
       "    </tr>\n",
       "  </thead>\n",
       "  <tbody>\n",
       "    <tr>\n",
       "      <th>2018-12-13 09:29:06</th>\n",
       "      <td>&lt;존맛탱회전초밥 (jjsseea2)&gt;</td>\n",
       "      <td>보 고 싶 다 공 혁 준</td>\n",
       "      <td>0</td>\n",
       "      <td>0</td>\n",
       "      <td>0</td>\n",
       "      <td>0</td>\n",
       "      <td>0</td>\n",
       "      <td>0</td>\n",
       "    </tr>\n",
       "    <tr>\n",
       "      <th>2018-12-13 10:30:56</th>\n",
       "      <td>&lt;@%rhdqurwns1&gt;</td>\n",
       "      <td>혁준이 왜 방송안키냐</td>\n",
       "      <td>0</td>\n",
       "      <td>0</td>\n",
       "      <td>0</td>\n",
       "      <td>0</td>\n",
       "      <td>0</td>\n",
       "      <td>0</td>\n",
       "    </tr>\n",
       "  </tbody>\n",
       "</table>\n",
       "</div>"
      ],
      "text/plain": [
       "                                chatterer  chat_contents  cnt_ㅋ  cnt_ㄵ  \\\n",
       "time                                                                     \n",
       "2018-12-13 09:29:06  <존맛탱회전초밥 (jjsseea2)>  보 고 싶 다 공 혁 준      0      0   \n",
       "2018-12-13 10:30:56        <@%rhdqurwns1>    혁준이 왜 방송안키냐      0      0   \n",
       "\n",
       "                     cnt_ㄴㅈ  cnt_오  cnt_와  cnt_유하  \n",
       "time                                               \n",
       "2018-12-13 09:29:06       0      0      0       0  \n",
       "2018-12-13 10:30:56       0      0      0       0  "
      ]
     },
     "execution_count": 63,
     "metadata": {},
     "output_type": "execute_result"
    }
   ],
   "source": [
    "chat_data_reindex.head(2)"
   ]
  },
  {
   "cell_type": "markdown",
   "metadata": {},
   "source": [
    "#### 3. 해당 채팅 수 빈도를 갖는 피봇 데이터 프레임 생성"
   ]
  },
  {
   "cell_type": "code",
   "execution_count": 64,
   "metadata": {
    "scrolled": true
   },
   "outputs": [
    {
     "name": "stdout",
     "output_type": "stream",
     "text": [
      "[17, 16, 13, 12, 11, 10, 9, 8, 7, 6]\n",
      "[128, 98, 90, 82, 75, 74, 73, 69, 64, 60]\n"
     ]
    },
    {
     "data": {
      "text/html": [
       "<div>\n",
       "<style scoped>\n",
       "    .dataframe tbody tr th:only-of-type {\n",
       "        vertical-align: middle;\n",
       "    }\n",
       "\n",
       "    .dataframe tbody tr th {\n",
       "        vertical-align: top;\n",
       "    }\n",
       "\n",
       "    .dataframe thead th {\n",
       "        text-align: right;\n",
       "    }\n",
       "</style>\n",
       "<table border=\"1\" class=\"dataframe\">\n",
       "  <thead>\n",
       "    <tr style=\"text-align: right;\">\n",
       "      <th></th>\n",
       "      <th>cnt_chat</th>\n",
       "      <th>cnt_ㅋ</th>\n",
       "      <th>cnt_ㄵ</th>\n",
       "      <th>cnt_오</th>\n",
       "      <th>cnt_와</th>\n",
       "      <th>cnt_유하</th>\n",
       "    </tr>\n",
       "    <tr>\n",
       "      <th>time</th>\n",
       "      <th></th>\n",
       "      <th></th>\n",
       "      <th></th>\n",
       "      <th></th>\n",
       "      <th></th>\n",
       "      <th></th>\n",
       "    </tr>\n",
       "  </thead>\n",
       "  <tbody>\n",
       "    <tr>\n",
       "      <th>2018-12-13 09:29:06</th>\n",
       "      <td>1</td>\n",
       "      <td>0</td>\n",
       "      <td>0</td>\n",
       "      <td>0</td>\n",
       "      <td>0</td>\n",
       "      <td>0</td>\n",
       "    </tr>\n",
       "    <tr>\n",
       "      <th>2018-12-13 10:30:56</th>\n",
       "      <td>1</td>\n",
       "      <td>0</td>\n",
       "      <td>0</td>\n",
       "      <td>0</td>\n",
       "      <td>0</td>\n",
       "      <td>0</td>\n",
       "    </tr>\n",
       "  </tbody>\n",
       "</table>\n",
       "</div>"
      ],
      "text/plain": [
       "                     cnt_chat  cnt_ㅋ  cnt_ㄵ  cnt_오  cnt_와  cnt_유하\n",
       "time                                                             \n",
       "2018-12-13 09:29:06         1      0      0      0      0       0\n",
       "2018-12-13 10:30:56         1      0      0      0      0       0"
      ]
     },
     "execution_count": 64,
     "metadata": {},
     "output_type": "execute_result"
    }
   ],
   "source": [
    "pivot_df = chat_data_reindex.pivot_table(index=chat_data_reindex.index, aggfunc=len, values='chatterer')\n",
    "pivot_df.columns = ['cnt_chat']  # 컬럼 이름 할당\n",
    "pivot_df[\"cnt_ㅋ\"] = chat_data_reindex.pivot_table(index = chat_data_reindex.index, aggfunc=sum, values='cnt_ㅋ')['cnt_ㅋ']\n",
    "pivot_df[\"cnt_ㄵ\"] = chat_data_reindex.pivot_table(index = chat_data_reindex.index, aggfunc=sum, values='cnt_ㄵ')['cnt_ㄵ'] +\\\n",
    "                    chat_data_reindex.pivot_table(index = chat_data_reindex.index, aggfunc=sum, values='cnt_ㄴㅈ')['cnt_ㄴㅈ']\n",
    "pivot_df[\"cnt_오\"] = chat_data_reindex.pivot_table(index = chat_data_reindex.index, aggfunc=sum, values='cnt_오')['cnt_오']\n",
    "pivot_df[\"cnt_와\"] = chat_data_reindex.pivot_table(index = chat_data_reindex.index, aggfunc=sum, values='cnt_와')['cnt_와']\n",
    "pivot_df[\"cnt_유하\"] = chat_data_reindex.pivot_table(index = chat_data_reindex.index, aggfunc=sum, values='cnt_유하')['cnt_유하']\n",
    "\n",
    "# 초당 채팅수가 평균 이상인 경우만 보이도록\n",
    "pivot_df[pivot_df['cnt_chat'] > pivot_df['cnt_chat'].mean()]\n",
    "print(sorted(pivot_df['cnt_chat'].unique(), reverse=True)[:10])\n",
    "print(sorted(pivot_df['cnt_ㅋ'].unique(), reverse=True)[:10])\n",
    "\n",
    "pivot_df.head(2)"
   ]
  },
  {
   "cell_type": "markdown",
   "metadata": {},
   "source": [
    "### 검증데이터를 추가, 검증데이터와 분석데이터간 상관관계를 알아보자\n",
    "\n",
    "- 검증데이터: yes/no 의 명목형 변수  \n",
    "- 이외의 다른 열 : 연속형 변수  \n",
    "명목형 변수와 연속형 변수의 상관관계의 경우 **`Point-biserial correlation`** 을 사용함  \n",
    "이는 scipy.stats 모듈에 pointbiserialr 메소드로 구현되어 있음\n",
    "\n",
    "#### 시험해보기 위한 치팅\n",
    "- 채팅 수가 60% 중위수 이상인 경우 모두 하이라이트영상이 있다고 가정하여 데이터프레임 생성"
   ]
  },
  {
   "cell_type": "code",
   "execution_count": 65,
   "metadata": {
    "scrolled": false
   },
   "outputs": [
    {
     "data": {
      "text/html": [
       "<div>\n",
       "<style scoped>\n",
       "    .dataframe tbody tr th:only-of-type {\n",
       "        vertical-align: middle;\n",
       "    }\n",
       "\n",
       "    .dataframe tbody tr th {\n",
       "        vertical-align: top;\n",
       "    }\n",
       "\n",
       "    .dataframe thead th {\n",
       "        text-align: right;\n",
       "    }\n",
       "</style>\n",
       "<table border=\"1\" class=\"dataframe\">\n",
       "  <thead>\n",
       "    <tr style=\"text-align: right;\">\n",
       "      <th></th>\n",
       "      <th>cnt_chat</th>\n",
       "      <th>cnt_ㅋ</th>\n",
       "      <th>cnt_ㄵ</th>\n",
       "      <th>cnt_오</th>\n",
       "      <th>cnt_와</th>\n",
       "      <th>cnt_유하</th>\n",
       "    </tr>\n",
       "    <tr>\n",
       "      <th>time</th>\n",
       "      <th></th>\n",
       "      <th></th>\n",
       "      <th></th>\n",
       "      <th></th>\n",
       "      <th></th>\n",
       "      <th></th>\n",
       "    </tr>\n",
       "  </thead>\n",
       "  <tbody>\n",
       "    <tr>\n",
       "      <th>2018-12-13 19:31:03</th>\n",
       "      <td>11</td>\n",
       "      <td>7</td>\n",
       "      <td>0</td>\n",
       "      <td>0</td>\n",
       "      <td>0</td>\n",
       "      <td>0</td>\n",
       "    </tr>\n",
       "    <tr>\n",
       "      <th>2018-12-13 19:45:47</th>\n",
       "      <td>12</td>\n",
       "      <td>0</td>\n",
       "      <td>0</td>\n",
       "      <td>0</td>\n",
       "      <td>0</td>\n",
       "      <td>0</td>\n",
       "    </tr>\n",
       "  </tbody>\n",
       "</table>\n",
       "</div>"
      ],
      "text/plain": [
       "                     cnt_chat  cnt_ㅋ  cnt_ㄵ  cnt_오  cnt_와  cnt_유하\n",
       "time                                                             \n",
       "2018-12-13 19:31:03        11      7      0      0      0       0\n",
       "2018-12-13 19:45:47        12      0      0      0      0       0"
      ]
     },
     "execution_count": 65,
     "metadata": {},
     "output_type": "execute_result"
    }
   ],
   "source": [
    "import numpy as np\n",
    "anal_df = pivot_df.copy()\n",
    "percentile = np.percentile(anal_df.cnt_chat.unique(), 70)\n",
    "anal_df[anal_df['cnt_chat'] > percentile].head(2)"
   ]
  },
  {
   "cell_type": "markdown",
   "metadata": {},
   "source": [
    "#### 전체 채팅 70% 보다 채팅 수가 높은 경우의 점들을 모두 yes 로"
   ]
  },
  {
   "cell_type": "code",
   "execution_count": 66,
   "metadata": {},
   "outputs": [],
   "source": [
    "anal_df['validation'] = anal_df['cnt_chat'].apply(lambda x : 1 if x >= percentile else 0)"
   ]
  },
  {
   "cell_type": "code",
   "execution_count": 67,
   "metadata": {
    "scrolled": true
   },
   "outputs": [
    {
     "data": {
      "text/plain": [
       "array([0, 1], dtype=int64)"
      ]
     },
     "execution_count": 67,
     "metadata": {},
     "output_type": "execute_result"
    }
   ],
   "source": [
    "anal_df['validation'].unique()"
   ]
  },
  {
   "cell_type": "markdown",
   "metadata": {},
   "source": [
    "#### scipy.stats 불러오기"
   ]
  },
  {
   "cell_type": "code",
   "execution_count": 68,
   "metadata": {
    "scrolled": true
   },
   "outputs": [
    {
     "name": "stdout",
     "output_type": "stream",
     "text": [
      "cnt_chat 상관 정도 :  0.2866531377476661\n",
      "cnt_ㅋ 상관 정도 :  0.11662994909974413\n",
      "cnt_ㄵ 상관 정도 :  -0.0023193161510611754\n",
      "cnt_오 상관 정도 :  0.02105959288107778\n",
      "cnt_와 상관 정도 :  -0.008411874586725274\n",
      "cnt_유하 상관 정도 :  -0.0006615586890398432\n",
      "validation 상관 정도 :  1.0\n"
     ]
    }
   ],
   "source": [
    "from scipy import stats\n",
    "for col in anal_df:\n",
    "    print(\"%s 상관 정도 : \" % col, stats.pointbiserialr(anal_df[col], anal_df['validation']).correlation)"
   ]
  },
  {
   "cell_type": "code",
   "execution_count": 69,
   "metadata": {},
   "outputs": [
    {
     "data": {
      "text/html": [
       "<div>\n",
       "<style scoped>\n",
       "    .dataframe tbody tr th:only-of-type {\n",
       "        vertical-align: middle;\n",
       "    }\n",
       "\n",
       "    .dataframe tbody tr th {\n",
       "        vertical-align: top;\n",
       "    }\n",
       "\n",
       "    .dataframe thead th {\n",
       "        text-align: right;\n",
       "    }\n",
       "</style>\n",
       "<table border=\"1\" class=\"dataframe\">\n",
       "  <thead>\n",
       "    <tr style=\"text-align: right;\">\n",
       "      <th></th>\n",
       "      <th>cnt_chat</th>\n",
       "      <th>cnt_ㅋ</th>\n",
       "      <th>cnt_ㄵ</th>\n",
       "      <th>cnt_오</th>\n",
       "      <th>cnt_와</th>\n",
       "      <th>cnt_유하</th>\n",
       "      <th>validation</th>\n",
       "    </tr>\n",
       "  </thead>\n",
       "  <tbody>\n",
       "    <tr>\n",
       "      <th>cnt_chat</th>\n",
       "      <td>1.000000</td>\n",
       "      <td>0.333575</td>\n",
       "      <td>0.030820</td>\n",
       "      <td>0.082818</td>\n",
       "      <td>0.171797</td>\n",
       "      <td>0.010424</td>\n",
       "      <td>0.286653</td>\n",
       "    </tr>\n",
       "    <tr>\n",
       "      <th>cnt_ㅋ</th>\n",
       "      <td>0.333575</td>\n",
       "      <td>1.000000</td>\n",
       "      <td>-0.007773</td>\n",
       "      <td>-0.013630</td>\n",
       "      <td>-0.003674</td>\n",
       "      <td>-0.000746</td>\n",
       "      <td>0.116630</td>\n",
       "    </tr>\n",
       "    <tr>\n",
       "      <th>cnt_ㄵ</th>\n",
       "      <td>0.030820</td>\n",
       "      <td>-0.007773</td>\n",
       "      <td>1.000000</td>\n",
       "      <td>-0.005523</td>\n",
       "      <td>-0.013181</td>\n",
       "      <td>-0.001037</td>\n",
       "      <td>-0.002319</td>\n",
       "    </tr>\n",
       "    <tr>\n",
       "      <th>cnt_오</th>\n",
       "      <td>0.082818</td>\n",
       "      <td>-0.013630</td>\n",
       "      <td>-0.005523</td>\n",
       "      <td>1.000000</td>\n",
       "      <td>0.031204</td>\n",
       "      <td>0.029477</td>\n",
       "      <td>0.021060</td>\n",
       "    </tr>\n",
       "    <tr>\n",
       "      <th>cnt_와</th>\n",
       "      <td>0.171797</td>\n",
       "      <td>-0.003674</td>\n",
       "      <td>-0.013181</td>\n",
       "      <td>0.031204</td>\n",
       "      <td>1.000000</td>\n",
       "      <td>-0.003760</td>\n",
       "      <td>-0.008412</td>\n",
       "    </tr>\n",
       "    <tr>\n",
       "      <th>cnt_유하</th>\n",
       "      <td>0.010424</td>\n",
       "      <td>-0.000746</td>\n",
       "      <td>-0.001037</td>\n",
       "      <td>0.029477</td>\n",
       "      <td>-0.003760</td>\n",
       "      <td>1.000000</td>\n",
       "      <td>-0.000662</td>\n",
       "    </tr>\n",
       "    <tr>\n",
       "      <th>validation</th>\n",
       "      <td>0.286653</td>\n",
       "      <td>0.116630</td>\n",
       "      <td>-0.002319</td>\n",
       "      <td>0.021060</td>\n",
       "      <td>-0.008412</td>\n",
       "      <td>-0.000662</td>\n",
       "      <td>1.000000</td>\n",
       "    </tr>\n",
       "  </tbody>\n",
       "</table>\n",
       "</div>"
      ],
      "text/plain": [
       "            cnt_chat     cnt_ㅋ     cnt_ㄵ     cnt_오     cnt_와    cnt_유하  \\\n",
       "cnt_chat    1.000000  0.333575  0.030820  0.082818  0.171797  0.010424   \n",
       "cnt_ㅋ       0.333575  1.000000 -0.007773 -0.013630 -0.003674 -0.000746   \n",
       "cnt_ㄵ       0.030820 -0.007773  1.000000 -0.005523 -0.013181 -0.001037   \n",
       "cnt_오       0.082818 -0.013630 -0.005523  1.000000  0.031204  0.029477   \n",
       "cnt_와       0.171797 -0.003674 -0.013181  0.031204  1.000000 -0.003760   \n",
       "cnt_유하      0.010424 -0.000746 -0.001037  0.029477 -0.003760  1.000000   \n",
       "validation  0.286653  0.116630 -0.002319  0.021060 -0.008412 -0.000662   \n",
       "\n",
       "            validation  \n",
       "cnt_chat      0.286653  \n",
       "cnt_ㅋ         0.116630  \n",
       "cnt_ㄵ        -0.002319  \n",
       "cnt_오         0.021060  \n",
       "cnt_와        -0.008412  \n",
       "cnt_유하       -0.000662  \n",
       "validation    1.000000  "
      ]
     },
     "execution_count": 69,
     "metadata": {},
     "output_type": "execute_result"
    }
   ],
   "source": [
    "anal_df.corr()"
   ]
  },
  {
   "cell_type": "markdown",
   "metadata": {},
   "source": [
    "### <center>수집한 검증데이터로 상관관계알아보자</center>\n",
    "<center>* 공혁준</center>\n",
    "\n",
    "|영상날짜|영상 시작 시간|종료시간|영상길이|\n",
    "|--|:---:|:---:|---|\n",
    "|2018-12-09|13:24:14|18:53:34|5:29:20|\n",
    "|2018-12-09|16:42:35|16:48:26|0:05:35|\n",
    "|2018-12-09|17:37:25|17:44:41|0:07:16|\n",
    "|2018-12-09|16:54:40|17:03:49|0:09:09|\n",
    "|2018-12-09|17:17:08|17:19:08|0:02:00|\n",
    "\n",
    "#### 유튜브 영상 시작시간과 끝 시간 딕셔너리 생성"
   ]
  },
  {
   "cell_type": "code",
   "execution_count": 70,
   "metadata": {},
   "outputs": [],
   "source": [
    "# 유튜브 비디오 시작시간과 끝시간\n",
    "youtube_video_time = {\n",
    "    '2018-12-09 16:42:35': '2018-12-09 16:48:26',\n",
    "    '2018-12-09 17:37:25': '2018-12-09 17:44:41',\n",
    "    '2018-12-09 16:54:40': '2018-12-09 17:03:49',\n",
    "    '2018-12-09 17:17:08': '2018-12-09 17:19:08',\n",
    "}\n",
    "youtube_video_time1207 = {\n",
    "    '2018-12-07 14:01:07': '2018-12-07 14:04:53',\n",
    "    '2018-12-07 13:39:05': '2018-12-07 13:59:53',\n",
    "    '2018-12-07 12:46:18': '2018-12-07 13:11:40',\n",
    "#     '2018-12-07 8:59:02': '14:15:13',\n",
    "}\n",
    "youtube_video_time1213 = {\n",
    "    '2018-12-13 19:58:26': '2018-12-13 14:33:24',\n",
    "}\n",
    "youtube_video_time1215 = {\n",
    "    '2018-12-13 14:29:30': '2018-12-13 21:13:49',\n",
    "}"
   ]
  },
  {
   "cell_type": "markdown",
   "metadata": {},
   "source": [
    "#### 유튜브 영상 시작, 끝 까지의 모든 초 DATETIME 생성"
   ]
  },
  {
   "cell_type": "code",
   "execution_count": 71,
   "metadata": {},
   "outputs": [],
   "source": [
    "# 시작시간부터 끝 시간까지의 모든 초의 데이트타임생성\n",
    "highlight_times = [pd.date_range(start=start, end=end, freq='s') for start, end in youtube_video_time1213.items()]\n",
    "hl_times = []\n",
    "for time in highlight_times:\n",
    "    hl_times.extend(time)\n"
   ]
  },
  {
   "cell_type": "code",
   "execution_count": 72,
   "metadata": {
    "scrolled": true
   },
   "outputs": [
    {
     "data": {
      "text/plain": [
       "(4524,\n",
       " [Timestamp('2018-12-13 19:58:26', freq='S'),\n",
       "  Timestamp('2018-12-13 19:58:27', freq='S')])"
      ]
     },
     "execution_count": 72,
     "metadata": {},
     "output_type": "execute_result"
    }
   ],
   "source": [
    "len(hl_times), hl_times[:2]"
   ]
  },
  {
   "cell_type": "markdown",
   "metadata": {},
   "source": [
    "#### 채팅로그 데이터에 유튜브 영상시간에 해당하면 validation 컬럼 1으로"
   ]
  },
  {
   "cell_type": "code",
   "execution_count": 73,
   "metadata": {},
   "outputs": [
    {
     "data": {
      "text/html": [
       "<div>\n",
       "<style scoped>\n",
       "    .dataframe tbody tr th:only-of-type {\n",
       "        vertical-align: middle;\n",
       "    }\n",
       "\n",
       "    .dataframe tbody tr th {\n",
       "        vertical-align: top;\n",
       "    }\n",
       "\n",
       "    .dataframe thead th {\n",
       "        text-align: right;\n",
       "    }\n",
       "</style>\n",
       "<table border=\"1\" class=\"dataframe\">\n",
       "  <thead>\n",
       "    <tr style=\"text-align: right;\">\n",
       "      <th></th>\n",
       "      <th>chatterer</th>\n",
       "      <th>chat_contents</th>\n",
       "      <th>cnt_ㅋ</th>\n",
       "      <th>cnt_ㄵ</th>\n",
       "      <th>cnt_ㄴㅈ</th>\n",
       "      <th>cnt_오</th>\n",
       "      <th>cnt_와</th>\n",
       "      <th>cnt_유하</th>\n",
       "    </tr>\n",
       "    <tr>\n",
       "      <th>time</th>\n",
       "      <th></th>\n",
       "      <th></th>\n",
       "      <th></th>\n",
       "      <th></th>\n",
       "      <th></th>\n",
       "      <th></th>\n",
       "      <th></th>\n",
       "      <th></th>\n",
       "    </tr>\n",
       "  </thead>\n",
       "  <tbody>\n",
       "    <tr>\n",
       "      <th>2018-12-13 09:29:06</th>\n",
       "      <td>&lt;존맛탱회전초밥 (jjsseea2)&gt;</td>\n",
       "      <td>보 고 싶 다 공 혁 준</td>\n",
       "      <td>0</td>\n",
       "      <td>0</td>\n",
       "      <td>0</td>\n",
       "      <td>0</td>\n",
       "      <td>0</td>\n",
       "      <td>0</td>\n",
       "    </tr>\n",
       "    <tr>\n",
       "      <th>2018-12-13 10:30:56</th>\n",
       "      <td>&lt;@%rhdqurwns1&gt;</td>\n",
       "      <td>혁준이 왜 방송안키냐</td>\n",
       "      <td>0</td>\n",
       "      <td>0</td>\n",
       "      <td>0</td>\n",
       "      <td>0</td>\n",
       "      <td>0</td>\n",
       "      <td>0</td>\n",
       "    </tr>\n",
       "  </tbody>\n",
       "</table>\n",
       "</div>"
      ],
      "text/plain": [
       "                                chatterer  chat_contents  cnt_ㅋ  cnt_ㄵ  \\\n",
       "time                                                                     \n",
       "2018-12-13 09:29:06  <존맛탱회전초밥 (jjsseea2)>  보 고 싶 다 공 혁 준      0      0   \n",
       "2018-12-13 10:30:56        <@%rhdqurwns1>    혁준이 왜 방송안키냐      0      0   \n",
       "\n",
       "                     cnt_ㄴㅈ  cnt_오  cnt_와  cnt_유하  \n",
       "time                                               \n",
       "2018-12-13 09:29:06       0      0      0       0  \n",
       "2018-12-13 10:30:56       0      0      0       0  "
      ]
     },
     "execution_count": 73,
     "metadata": {},
     "output_type": "execute_result"
    }
   ],
   "source": [
    "chat_data_reindex.head(2)"
   ]
  },
  {
   "cell_type": "code",
   "execution_count": 74,
   "metadata": {},
   "outputs": [],
   "source": [
    "chat_data_reindex['validation'] = chat_data_reindex.index\n",
    "chat_data_reindex['validation'] = chat_data_reindex['validation'].apply(lambda x : 1 if x in hl_times else 0)"
   ]
  },
  {
   "cell_type": "code",
   "execution_count": null,
   "metadata": {},
   "outputs": [],
   "source": []
  },
  {
   "cell_type": "code",
   "execution_count": 75,
   "metadata": {},
   "outputs": [
    {
     "data": {
      "text/plain": [
       "array([0, 1], dtype=int64)"
      ]
     },
     "execution_count": 75,
     "metadata": {},
     "output_type": "execute_result"
    }
   ],
   "source": [
    "chat_data_reindex.validation.unique()"
   ]
  },
  {
   "cell_type": "code",
   "execution_count": 76,
   "metadata": {
    "scrolled": false
   },
   "outputs": [
    {
     "data": {
      "text/html": [
       "<div>\n",
       "<style scoped>\n",
       "    .dataframe tbody tr th:only-of-type {\n",
       "        vertical-align: middle;\n",
       "    }\n",
       "\n",
       "    .dataframe tbody tr th {\n",
       "        vertical-align: top;\n",
       "    }\n",
       "\n",
       "    .dataframe thead th {\n",
       "        text-align: right;\n",
       "    }\n",
       "</style>\n",
       "<table border=\"1\" class=\"dataframe\">\n",
       "  <thead>\n",
       "    <tr style=\"text-align: right;\">\n",
       "      <th></th>\n",
       "      <th>cnt_ㅋ</th>\n",
       "      <th>cnt_ㄵ</th>\n",
       "      <th>cnt_ㄴㅈ</th>\n",
       "      <th>cnt_오</th>\n",
       "      <th>cnt_와</th>\n",
       "      <th>cnt_유하</th>\n",
       "      <th>validation</th>\n",
       "    </tr>\n",
       "  </thead>\n",
       "  <tbody>\n",
       "    <tr>\n",
       "      <th>cnt_ㅋ</th>\n",
       "      <td>1.000000</td>\n",
       "      <td>-0.010334</td>\n",
       "      <td>-0.009492</td>\n",
       "      <td>-0.040304</td>\n",
       "      <td>-0.044110</td>\n",
       "      <td>-0.003874</td>\n",
       "      <td>0.044135</td>\n",
       "    </tr>\n",
       "    <tr>\n",
       "      <th>cnt_ㄵ</th>\n",
       "      <td>-0.010334</td>\n",
       "      <td>1.000000</td>\n",
       "      <td>-0.000926</td>\n",
       "      <td>-0.005144</td>\n",
       "      <td>-0.005350</td>\n",
       "      <td>-0.000378</td>\n",
       "      <td>-0.001706</td>\n",
       "    </tr>\n",
       "    <tr>\n",
       "      <th>cnt_ㄴㅈ</th>\n",
       "      <td>-0.009492</td>\n",
       "      <td>-0.000926</td>\n",
       "      <td>1.000000</td>\n",
       "      <td>-0.004724</td>\n",
       "      <td>-0.004914</td>\n",
       "      <td>-0.000347</td>\n",
       "      <td>0.014778</td>\n",
       "    </tr>\n",
       "    <tr>\n",
       "      <th>cnt_오</th>\n",
       "      <td>-0.040304</td>\n",
       "      <td>-0.005144</td>\n",
       "      <td>-0.004724</td>\n",
       "      <td>1.000000</td>\n",
       "      <td>-0.000586</td>\n",
       "      <td>-0.001928</td>\n",
       "      <td>0.011905</td>\n",
       "    </tr>\n",
       "    <tr>\n",
       "      <th>cnt_와</th>\n",
       "      <td>-0.044110</td>\n",
       "      <td>-0.005350</td>\n",
       "      <td>-0.004914</td>\n",
       "      <td>-0.000586</td>\n",
       "      <td>1.000000</td>\n",
       "      <td>-0.002005</td>\n",
       "      <td>0.014800</td>\n",
       "    </tr>\n",
       "    <tr>\n",
       "      <th>cnt_유하</th>\n",
       "      <td>-0.003874</td>\n",
       "      <td>-0.000378</td>\n",
       "      <td>-0.000347</td>\n",
       "      <td>-0.001928</td>\n",
       "      <td>-0.002005</td>\n",
       "      <td>1.000000</td>\n",
       "      <td>0.019372</td>\n",
       "    </tr>\n",
       "    <tr>\n",
       "      <th>validation</th>\n",
       "      <td>0.044135</td>\n",
       "      <td>-0.001706</td>\n",
       "      <td>0.014778</td>\n",
       "      <td>0.011905</td>\n",
       "      <td>0.014800</td>\n",
       "      <td>0.019372</td>\n",
       "      <td>1.000000</td>\n",
       "    </tr>\n",
       "  </tbody>\n",
       "</table>\n",
       "</div>"
      ],
      "text/plain": [
       "               cnt_ㅋ     cnt_ㄵ    cnt_ㄴㅈ     cnt_오     cnt_와    cnt_유하  \\\n",
       "cnt_ㅋ       1.000000 -0.010334 -0.009492 -0.040304 -0.044110 -0.003874   \n",
       "cnt_ㄵ      -0.010334  1.000000 -0.000926 -0.005144 -0.005350 -0.000378   \n",
       "cnt_ㄴㅈ     -0.009492 -0.000926  1.000000 -0.004724 -0.004914 -0.000347   \n",
       "cnt_오      -0.040304 -0.005144 -0.004724  1.000000 -0.000586 -0.001928   \n",
       "cnt_와      -0.044110 -0.005350 -0.004914 -0.000586  1.000000 -0.002005   \n",
       "cnt_유하     -0.003874 -0.000378 -0.000347 -0.001928 -0.002005  1.000000   \n",
       "validation  0.044135 -0.001706  0.014778  0.011905  0.014800  0.019372   \n",
       "\n",
       "            validation  \n",
       "cnt_ㅋ         0.044135  \n",
       "cnt_ㄵ        -0.001706  \n",
       "cnt_ㄴㅈ        0.014778  \n",
       "cnt_오         0.011905  \n",
       "cnt_와         0.014800  \n",
       "cnt_유하        0.019372  \n",
       "validation    1.000000  "
      ]
     },
     "execution_count": 76,
     "metadata": {},
     "output_type": "execute_result"
    }
   ],
   "source": [
    "chat_data_reindex.corr()"
   ]
  },
  {
   "cell_type": "markdown",
   "metadata": {},
   "source": [
    "#### 빈도수로 피봇된 테이블에 validation 컬럼 추가"
   ]
  },
  {
   "cell_type": "code",
   "execution_count": 77,
   "metadata": {
    "scrolled": true
   },
   "outputs": [],
   "source": [
    "anal_df.validation = anal_df.index\n",
    "anal_df.validation = anal_df.validation.apply(lambda x : 1 if x in hl_times else 0)"
   ]
  },
  {
   "cell_type": "code",
   "execution_count": 78,
   "metadata": {},
   "outputs": [
    {
     "data": {
      "text/plain": [
       "array([0, 1], dtype=int64)"
      ]
     },
     "execution_count": 78,
     "metadata": {},
     "output_type": "execute_result"
    }
   ],
   "source": [
    "anal_df.validation.unique()"
   ]
  },
  {
   "cell_type": "code",
   "execution_count": 79,
   "metadata": {
    "scrolled": true
   },
   "outputs": [
    {
     "data": {
      "text/html": [
       "<div>\n",
       "<style scoped>\n",
       "    .dataframe tbody tr th:only-of-type {\n",
       "        vertical-align: middle;\n",
       "    }\n",
       "\n",
       "    .dataframe tbody tr th {\n",
       "        vertical-align: top;\n",
       "    }\n",
       "\n",
       "    .dataframe thead th {\n",
       "        text-align: right;\n",
       "    }\n",
       "</style>\n",
       "<table border=\"1\" class=\"dataframe\">\n",
       "  <thead>\n",
       "    <tr style=\"text-align: right;\">\n",
       "      <th></th>\n",
       "      <th>cnt_chat</th>\n",
       "      <th>cnt_ㅋ</th>\n",
       "      <th>cnt_ㄵ</th>\n",
       "      <th>cnt_오</th>\n",
       "      <th>cnt_와</th>\n",
       "      <th>cnt_유하</th>\n",
       "      <th>validation</th>\n",
       "    </tr>\n",
       "  </thead>\n",
       "  <tbody>\n",
       "    <tr>\n",
       "      <th>cnt_chat</th>\n",
       "      <td>1.000000</td>\n",
       "      <td>0.333575</td>\n",
       "      <td>0.030820</td>\n",
       "      <td>0.082818</td>\n",
       "      <td>0.171797</td>\n",
       "      <td>0.010424</td>\n",
       "      <td>-0.173763</td>\n",
       "    </tr>\n",
       "    <tr>\n",
       "      <th>cnt_ㅋ</th>\n",
       "      <td>0.333575</td>\n",
       "      <td>1.000000</td>\n",
       "      <td>-0.007773</td>\n",
       "      <td>-0.013630</td>\n",
       "      <td>-0.003674</td>\n",
       "      <td>-0.000746</td>\n",
       "      <td>0.001152</td>\n",
       "    </tr>\n",
       "    <tr>\n",
       "      <th>cnt_ㄵ</th>\n",
       "      <td>0.030820</td>\n",
       "      <td>-0.007773</td>\n",
       "      <td>1.000000</td>\n",
       "      <td>-0.005523</td>\n",
       "      <td>-0.013181</td>\n",
       "      <td>-0.001037</td>\n",
       "      <td>0.003090</td>\n",
       "    </tr>\n",
       "    <tr>\n",
       "      <th>cnt_오</th>\n",
       "      <td>0.082818</td>\n",
       "      <td>-0.013630</td>\n",
       "      <td>-0.005523</td>\n",
       "      <td>1.000000</td>\n",
       "      <td>0.031204</td>\n",
       "      <td>0.029477</td>\n",
       "      <td>-0.012842</td>\n",
       "    </tr>\n",
       "    <tr>\n",
       "      <th>cnt_와</th>\n",
       "      <td>0.171797</td>\n",
       "      <td>-0.003674</td>\n",
       "      <td>-0.013181</td>\n",
       "      <td>0.031204</td>\n",
       "      <td>1.000000</td>\n",
       "      <td>-0.003760</td>\n",
       "      <td>-0.009212</td>\n",
       "    </tr>\n",
       "    <tr>\n",
       "      <th>cnt_유하</th>\n",
       "      <td>0.010424</td>\n",
       "      <td>-0.000746</td>\n",
       "      <td>-0.001037</td>\n",
       "      <td>0.029477</td>\n",
       "      <td>-0.003760</td>\n",
       "      <td>1.000000</td>\n",
       "      <td>0.024337</td>\n",
       "    </tr>\n",
       "    <tr>\n",
       "      <th>validation</th>\n",
       "      <td>-0.173763</td>\n",
       "      <td>0.001152</td>\n",
       "      <td>0.003090</td>\n",
       "      <td>-0.012842</td>\n",
       "      <td>-0.009212</td>\n",
       "      <td>0.024337</td>\n",
       "      <td>1.000000</td>\n",
       "    </tr>\n",
       "  </tbody>\n",
       "</table>\n",
       "</div>"
      ],
      "text/plain": [
       "            cnt_chat     cnt_ㅋ     cnt_ㄵ     cnt_오     cnt_와    cnt_유하  \\\n",
       "cnt_chat    1.000000  0.333575  0.030820  0.082818  0.171797  0.010424   \n",
       "cnt_ㅋ       0.333575  1.000000 -0.007773 -0.013630 -0.003674 -0.000746   \n",
       "cnt_ㄵ       0.030820 -0.007773  1.000000 -0.005523 -0.013181 -0.001037   \n",
       "cnt_오       0.082818 -0.013630 -0.005523  1.000000  0.031204  0.029477   \n",
       "cnt_와       0.171797 -0.003674 -0.013181  0.031204  1.000000 -0.003760   \n",
       "cnt_유하      0.010424 -0.000746 -0.001037  0.029477 -0.003760  1.000000   \n",
       "validation -0.173763  0.001152  0.003090 -0.012842 -0.009212  0.024337   \n",
       "\n",
       "            validation  \n",
       "cnt_chat     -0.173763  \n",
       "cnt_ㅋ         0.001152  \n",
       "cnt_ㄵ         0.003090  \n",
       "cnt_오        -0.012842  \n",
       "cnt_와        -0.009212  \n",
       "cnt_유하        0.024337  \n",
       "validation    1.000000  "
      ]
     },
     "execution_count": 79,
     "metadata": {},
     "output_type": "execute_result"
    }
   ],
   "source": [
    "anal_df.corr()"
   ]
  },
  {
   "cell_type": "code",
   "execution_count": 80,
   "metadata": {},
   "outputs": [
    {
     "data": {
      "text/html": [
       "<div>\n",
       "<style scoped>\n",
       "    .dataframe tbody tr th:only-of-type {\n",
       "        vertical-align: middle;\n",
       "    }\n",
       "\n",
       "    .dataframe tbody tr th {\n",
       "        vertical-align: top;\n",
       "    }\n",
       "\n",
       "    .dataframe thead th {\n",
       "        text-align: right;\n",
       "    }\n",
       "</style>\n",
       "<table border=\"1\" class=\"dataframe\">\n",
       "  <thead>\n",
       "    <tr style=\"text-align: right;\">\n",
       "      <th></th>\n",
       "      <th>cnt_chat</th>\n",
       "      <th>cnt_ㅋ</th>\n",
       "      <th>cnt_ㄵ</th>\n",
       "      <th>cnt_오</th>\n",
       "      <th>cnt_와</th>\n",
       "      <th>cnt_유하</th>\n",
       "      <th>validation</th>\n",
       "    </tr>\n",
       "    <tr>\n",
       "      <th>time</th>\n",
       "      <th></th>\n",
       "      <th></th>\n",
       "      <th></th>\n",
       "      <th></th>\n",
       "      <th></th>\n",
       "      <th></th>\n",
       "      <th></th>\n",
       "    </tr>\n",
       "  </thead>\n",
       "  <tbody>\n",
       "  </tbody>\n",
       "</table>\n",
       "</div>"
      ],
      "text/plain": [
       "Empty DataFrame\n",
       "Columns: [cnt_chat, cnt_ㅋ, cnt_ㄵ, cnt_오, cnt_와, cnt_유하, validation]\n",
       "Index: []"
      ]
     },
     "execution_count": 80,
     "metadata": {},
     "output_type": "execute_result"
    }
   ],
   "source": [
    "anal_df[anal_df['cnt_chat'] > 30]"
   ]
  },
  {
   "cell_type": "code",
   "execution_count": 81,
   "metadata": {},
   "outputs": [],
   "source": [
    "# 유튜브 영상이 존재하는지 여부를 중심으로 데이터 분할\n",
    "yes_data = anal_df[anal_df['validation'] == 1]\n",
    "no_data = anal_df[anal_df['validation'] == 0]\n",
    "\n",
    "# 분할된 데이터 인덱스를 시간으로만 변경\n",
    "# no_data.index = [i.time() for i in no_data.index]\n",
    "# yes_data.index = [i.time() for i in yes_data.index]"
   ]
  },
  {
   "cell_type": "code",
   "execution_count": 82,
   "metadata": {},
   "outputs": [
    {
     "data": {
      "text/html": [
       "<div>\n",
       "<style scoped>\n",
       "    .dataframe tbody tr th:only-of-type {\n",
       "        vertical-align: middle;\n",
       "    }\n",
       "\n",
       "    .dataframe tbody tr th {\n",
       "        vertical-align: top;\n",
       "    }\n",
       "\n",
       "    .dataframe thead th {\n",
       "        text-align: right;\n",
       "    }\n",
       "</style>\n",
       "<table border=\"1\" class=\"dataframe\">\n",
       "  <thead>\n",
       "    <tr style=\"text-align: right;\">\n",
       "      <th></th>\n",
       "      <th>cnt_chat</th>\n",
       "      <th>cnt_ㅋ</th>\n",
       "      <th>cnt_ㄵ</th>\n",
       "      <th>cnt_오</th>\n",
       "      <th>cnt_와</th>\n",
       "      <th>cnt_유하</th>\n",
       "      <th>validation</th>\n",
       "    </tr>\n",
       "    <tr>\n",
       "      <th>time</th>\n",
       "      <th></th>\n",
       "      <th></th>\n",
       "      <th></th>\n",
       "      <th></th>\n",
       "      <th></th>\n",
       "      <th></th>\n",
       "      <th></th>\n",
       "    </tr>\n",
       "  </thead>\n",
       "  <tbody>\n",
       "    <tr>\n",
       "      <th>2018-12-13 09:29:06</th>\n",
       "      <td>1</td>\n",
       "      <td>0</td>\n",
       "      <td>0</td>\n",
       "      <td>0</td>\n",
       "      <td>0</td>\n",
       "      <td>0</td>\n",
       "      <td>0</td>\n",
       "    </tr>\n",
       "    <tr>\n",
       "      <th>2018-12-13 10:30:56</th>\n",
       "      <td>1</td>\n",
       "      <td>0</td>\n",
       "      <td>0</td>\n",
       "      <td>0</td>\n",
       "      <td>0</td>\n",
       "      <td>0</td>\n",
       "      <td>0</td>\n",
       "    </tr>\n",
       "    <tr>\n",
       "      <th>2018-12-13 10:31:03</th>\n",
       "      <td>1</td>\n",
       "      <td>0</td>\n",
       "      <td>0</td>\n",
       "      <td>0</td>\n",
       "      <td>0</td>\n",
       "      <td>0</td>\n",
       "      <td>0</td>\n",
       "    </tr>\n",
       "    <tr>\n",
       "      <th>2018-12-13 10:31:06</th>\n",
       "      <td>1</td>\n",
       "      <td>0</td>\n",
       "      <td>0</td>\n",
       "      <td>0</td>\n",
       "      <td>0</td>\n",
       "      <td>0</td>\n",
       "      <td>0</td>\n",
       "    </tr>\n",
       "    <tr>\n",
       "      <th>2018-12-13 10:47:46</th>\n",
       "      <td>1</td>\n",
       "      <td>0</td>\n",
       "      <td>0</td>\n",
       "      <td>0</td>\n",
       "      <td>0</td>\n",
       "      <td>0</td>\n",
       "      <td>0</td>\n",
       "    </tr>\n",
       "  </tbody>\n",
       "</table>\n",
       "</div>"
      ],
      "text/plain": [
       "                     cnt_chat  cnt_ㅋ  cnt_ㄵ  cnt_오  cnt_와  cnt_유하  validation\n",
       "time                                                                         \n",
       "2018-12-13 09:29:06         1      0      0      0      0       0           0\n",
       "2018-12-13 10:30:56         1      0      0      0      0       0           0\n",
       "2018-12-13 10:31:03         1      0      0      0      0       0           0\n",
       "2018-12-13 10:31:06         1      0      0      0      0       0           0\n",
       "2018-12-13 10:47:46         1      0      0      0      0       0           0"
      ]
     },
     "execution_count": 82,
     "metadata": {},
     "output_type": "execute_result"
    }
   ],
   "source": [
    "no_data.head()"
   ]
  },
  {
   "cell_type": "code",
   "execution_count": 83,
   "metadata": {
    "scrolled": true
   },
   "outputs": [
    {
     "name": "stdout",
     "output_type": "stream",
     "text": [
      "cnt_chat_pvalue:  5.623651633597953e-114\n",
      "유의함\n",
      "cnt_ㅋ_pvalue:  1.377878363419509e-22\n",
      "유의함\n",
      "cnt_ㄵ_pvalue:  3.5638906755754904e-07\n",
      "유의함\n",
      "cnt_오_pvalue:  0.0004181859956631287\n",
      "유의함\n",
      "cnt_와_pvalue:  1.0299688104129345e-13\n",
      "유의함\n",
      "cnt_유하_pvalue:  0.0\n",
      "유의함\n",
      "validation_pvalue:  nan\n"
     ]
    },
    {
     "name": "stderr",
     "output_type": "stream",
     "text": [
      "C:\\ProgramData\\Anaconda3\\lib\\site-packages\\scipy\\stats\\morestats.py:1852: RuntimeWarning: divide by zero encountered in log\n",
      "  numer = (Ntot*1.0 - k) * log(spsq) - np.sum((Ni - 1.0)*log(ssq), axis=0)\n",
      "C:\\ProgramData\\Anaconda3\\lib\\site-packages\\scipy\\stats\\morestats.py:1852: RuntimeWarning: invalid value encountered in double_scalars\n",
      "  numer = (Ntot*1.0 - k) * log(spsq) - np.sum((Ni - 1.0)*log(ssq), axis=0)\n",
      "C:\\ProgramData\\Anaconda3\\lib\\site-packages\\scipy\\stats\\_distn_infrastructure.py:879: RuntimeWarning: invalid value encountered in greater\n",
      "  return (self.a < x) & (x < self.b)\n",
      "C:\\ProgramData\\Anaconda3\\lib\\site-packages\\scipy\\stats\\_distn_infrastructure.py:879: RuntimeWarning: invalid value encountered in less\n",
      "  return (self.a < x) & (x < self.b)\n",
      "C:\\ProgramData\\Anaconda3\\lib\\site-packages\\scipy\\stats\\_distn_infrastructure.py:1821: RuntimeWarning: invalid value encountered in less_equal\n",
      "  cond2 = cond0 & (x <= self.a)\n"
     ]
    }
   ],
   "source": [
    "# 등분산 검정\n",
    "for i in anal_df:\n",
    "    print(\"%s_pvalue: \" % i, stats.bartlett(yes_data[i], no_data[i]).pvalue)\n",
    "    if stats.bartlett(yes_data[i], no_data[i]).pvalue < 0.01: print(\"유의함\")"
   ]
  },
  {
   "cell_type": "code",
   "execution_count": 84,
   "metadata": {
    "scrolled": true
   },
   "outputs": [
    {
     "name": "stdout",
     "output_type": "stream",
     "text": [
      "cnt_chat_pvalue:  Ks_2sampResult(statistic=0.14486295889893075, pvalue=5.434661937885856e-28)\n",
      "유의함\n",
      "cnt_ㅋ_pvalue:  Ks_2sampResult(statistic=0.03449402815105629, pvalue=0.05471075932045538)\n",
      "cnt_ㄵ_pvalue:  Ks_2sampResult(statistic=0.00022777813347629738, pvalue=0.9999999999999976)\n",
      "cnt_오_pvalue:  Ks_2sampResult(statistic=0.006791250290500761, pvalue=0.9999998024342475)\n",
      "cnt_와_pvalue:  Ks_2sampResult(statistic=0.0024318954691132655, pvalue=1.0000000000000002)\n",
      "cnt_유하_pvalue:  Ks_2sampResult(statistic=0.0008877052818464515, pvalue=1.0000000000000009)\n",
      "validation_pvalue:  Ks_2sampResult(statistic=1.0, pvalue=0.0)\n",
      "유의함\n"
     ]
    }
   ],
   "source": [
    "# 정규성 검정\n",
    "# Kolmogorov-Smirnov 검정은 사실 정규 분포에 국한되지 않고 두 표본이 같은 분포를 따르는지 확인할 수 있는 방법이다. \n",
    "# scipy.stats.ks_2samp()\n",
    "for i in anal_df:\n",
    "    print(\"%s_pvalue: \"% i, stats.ks_2samp(yes_data[i], no_data[i]))\n",
    "    if stats.ks_2samp(yes_data[i], no_data[i]).pvalue < 0.01: print(\"유의함\")"
   ]
  },
  {
   "cell_type": "code",
   "execution_count": 85,
   "metadata": {},
   "outputs": [
    {
     "name": "stdout",
     "output_type": "stream",
     "text": [
      "Ttest_indResult(statistic=-14.51161407323175, pvalue=5.174377923771375e-47)\n",
      "유의함\n",
      "Ttest_indResult(statistic=0.09473379267506842, pvalue=0.9245290821096638)\n",
      "Ttest_indResult(statistic=0.2541109425119159, pvalue=0.7994175739283631)\n",
      "Ttest_indResult(statistic=-1.0562929874456959, pvalue=0.29087210355520526)\n",
      "Ttest_indResult(statistic=-0.7576936979248049, pvalue=0.4486607678572967)\n",
      "Ttest_indResult(statistic=2.002145889425703, pvalue=0.04530889663062374)\n",
      "Ttest_indResult(statistic=inf, pvalue=0.0)\n",
      "유의함\n"
     ]
    }
   ],
   "source": [
    "# ttest\n",
    "for i in anal_df:\n",
    "    print(stats.ttest_ind(yes_data[i], no_data[i]))\n",
    "    if stats.ttest_ind(yes_data[i], no_data[i]).pvalue < 0.01: print(\"유의함\")    "
   ]
  },
  {
   "cell_type": "code",
   "execution_count": 87,
   "metadata": {},
   "outputs": [
    {
     "data": {
      "text/html": [
       "<div>\n",
       "<style scoped>\n",
       "    .dataframe tbody tr th:only-of-type {\n",
       "        vertical-align: middle;\n",
       "    }\n",
       "\n",
       "    .dataframe tbody tr th {\n",
       "        vertical-align: top;\n",
       "    }\n",
       "\n",
       "    .dataframe thead th {\n",
       "        text-align: right;\n",
       "    }\n",
       "</style>\n",
       "<table border=\"1\" class=\"dataframe\">\n",
       "  <thead>\n",
       "    <tr style=\"text-align: right;\">\n",
       "      <th></th>\n",
       "      <th>cnt_chat</th>\n",
       "      <th>cnt_ㅋ</th>\n",
       "      <th>cnt_ㄵ</th>\n",
       "      <th>cnt_오</th>\n",
       "      <th>cnt_와</th>\n",
       "      <th>cnt_유하</th>\n",
       "      <th>validation</th>\n",
       "    </tr>\n",
       "  </thead>\n",
       "  <tbody>\n",
       "    <tr>\n",
       "      <th>count</th>\n",
       "      <td>2253.000000</td>\n",
       "      <td>2253.000000</td>\n",
       "      <td>2253.000000</td>\n",
       "      <td>2253.000000</td>\n",
       "      <td>2253.000000</td>\n",
       "      <td>2253.000000</td>\n",
       "      <td>2253.0</td>\n",
       "    </tr>\n",
       "    <tr>\n",
       "      <th>mean</th>\n",
       "      <td>1.717710</td>\n",
       "      <td>2.837994</td>\n",
       "      <td>0.004439</td>\n",
       "      <td>0.054594</td>\n",
       "      <td>0.055038</td>\n",
       "      <td>0.000888</td>\n",
       "      <td>1.0</td>\n",
       "    </tr>\n",
       "    <tr>\n",
       "      <th>std</th>\n",
       "      <td>1.064205</td>\n",
       "      <td>6.605674</td>\n",
       "      <td>0.072862</td>\n",
       "      <td>0.246003</td>\n",
       "      <td>0.243180</td>\n",
       "      <td>0.029788</td>\n",
       "      <td>0.0</td>\n",
       "    </tr>\n",
       "    <tr>\n",
       "      <th>min</th>\n",
       "      <td>1.000000</td>\n",
       "      <td>0.000000</td>\n",
       "      <td>0.000000</td>\n",
       "      <td>0.000000</td>\n",
       "      <td>0.000000</td>\n",
       "      <td>0.000000</td>\n",
       "      <td>1.0</td>\n",
       "    </tr>\n",
       "    <tr>\n",
       "      <th>25%</th>\n",
       "      <td>1.000000</td>\n",
       "      <td>0.000000</td>\n",
       "      <td>0.000000</td>\n",
       "      <td>0.000000</td>\n",
       "      <td>0.000000</td>\n",
       "      <td>0.000000</td>\n",
       "      <td>1.0</td>\n",
       "    </tr>\n",
       "    <tr>\n",
       "      <th>50%</th>\n",
       "      <td>1.000000</td>\n",
       "      <td>0.000000</td>\n",
       "      <td>0.000000</td>\n",
       "      <td>0.000000</td>\n",
       "      <td>0.000000</td>\n",
       "      <td>0.000000</td>\n",
       "      <td>1.0</td>\n",
       "    </tr>\n",
       "    <tr>\n",
       "      <th>75%</th>\n",
       "      <td>2.000000</td>\n",
       "      <td>2.000000</td>\n",
       "      <td>0.000000</td>\n",
       "      <td>0.000000</td>\n",
       "      <td>0.000000</td>\n",
       "      <td>0.000000</td>\n",
       "      <td>1.0</td>\n",
       "    </tr>\n",
       "    <tr>\n",
       "      <th>max</th>\n",
       "      <td>9.000000</td>\n",
       "      <td>55.000000</td>\n",
       "      <td>2.000000</td>\n",
       "      <td>2.000000</td>\n",
       "      <td>2.000000</td>\n",
       "      <td>1.000000</td>\n",
       "      <td>1.0</td>\n",
       "    </tr>\n",
       "  </tbody>\n",
       "</table>\n",
       "</div>"
      ],
      "text/plain": [
       "          cnt_chat        cnt_ㅋ        cnt_ㄵ        cnt_오        cnt_와  \\\n",
       "count  2253.000000  2253.000000  2253.000000  2253.000000  2253.000000   \n",
       "mean      1.717710     2.837994     0.004439     0.054594     0.055038   \n",
       "std       1.064205     6.605674     0.072862     0.246003     0.243180   \n",
       "min       1.000000     0.000000     0.000000     0.000000     0.000000   \n",
       "25%       1.000000     0.000000     0.000000     0.000000     0.000000   \n",
       "50%       1.000000     0.000000     0.000000     0.000000     0.000000   \n",
       "75%       2.000000     2.000000     0.000000     0.000000     0.000000   \n",
       "max       9.000000    55.000000     2.000000     2.000000     2.000000   \n",
       "\n",
       "            cnt_유하  validation  \n",
       "count  2253.000000      2253.0  \n",
       "mean      0.000888         1.0  \n",
       "std       0.029788         0.0  \n",
       "min       0.000000         1.0  \n",
       "25%       0.000000         1.0  \n",
       "50%       0.000000         1.0  \n",
       "75%       0.000000         1.0  \n",
       "max       1.000000         1.0  "
      ]
     },
     "execution_count": 87,
     "metadata": {},
     "output_type": "execute_result"
    }
   ],
   "source": [
    "yes_data.describe()"
   ]
  },
  {
   "cell_type": "code",
   "execution_count": 88,
   "metadata": {
    "scrolled": true
   },
   "outputs": [
    {
     "data": {
      "text/html": [
       "<div>\n",
       "<style scoped>\n",
       "    .dataframe tbody tr th:only-of-type {\n",
       "        vertical-align: middle;\n",
       "    }\n",
       "\n",
       "    .dataframe tbody tr th {\n",
       "        vertical-align: top;\n",
       "    }\n",
       "\n",
       "    .dataframe thead th {\n",
       "        text-align: right;\n",
       "    }\n",
       "</style>\n",
       "<table border=\"1\" class=\"dataframe\">\n",
       "  <thead>\n",
       "    <tr style=\"text-align: right;\">\n",
       "      <th></th>\n",
       "      <th>cnt_chat</th>\n",
       "      <th>cnt_ㅋ</th>\n",
       "      <th>cnt_ㄵ</th>\n",
       "      <th>cnt_오</th>\n",
       "      <th>cnt_와</th>\n",
       "      <th>cnt_유하</th>\n",
       "      <th>validation</th>\n",
       "    </tr>\n",
       "  </thead>\n",
       "  <tbody>\n",
       "    <tr>\n",
       "      <th>count</th>\n",
       "      <td>4513.000000</td>\n",
       "      <td>4513.000000</td>\n",
       "      <td>4513.000000</td>\n",
       "      <td>4513.000000</td>\n",
       "      <td>4513.000000</td>\n",
       "      <td>4513.0</td>\n",
       "      <td>4513.0</td>\n",
       "    </tr>\n",
       "    <tr>\n",
       "      <th>mean</th>\n",
       "      <td>2.272546</td>\n",
       "      <td>2.819632</td>\n",
       "      <td>0.003988</td>\n",
       "      <td>0.061600</td>\n",
       "      <td>0.060270</td>\n",
       "      <td>0.0</td>\n",
       "      <td>0.0</td>\n",
       "    </tr>\n",
       "    <tr>\n",
       "      <th>std</th>\n",
       "      <td>1.651668</td>\n",
       "      <td>7.928078</td>\n",
       "      <td>0.066458</td>\n",
       "      <td>0.262487</td>\n",
       "      <td>0.279154</td>\n",
       "      <td>0.0</td>\n",
       "      <td>0.0</td>\n",
       "    </tr>\n",
       "    <tr>\n",
       "      <th>min</th>\n",
       "      <td>1.000000</td>\n",
       "      <td>0.000000</td>\n",
       "      <td>0.000000</td>\n",
       "      <td>0.000000</td>\n",
       "      <td>0.000000</td>\n",
       "      <td>0.0</td>\n",
       "      <td>0.0</td>\n",
       "    </tr>\n",
       "    <tr>\n",
       "      <th>25%</th>\n",
       "      <td>1.000000</td>\n",
       "      <td>0.000000</td>\n",
       "      <td>0.000000</td>\n",
       "      <td>0.000000</td>\n",
       "      <td>0.000000</td>\n",
       "      <td>0.0</td>\n",
       "      <td>0.0</td>\n",
       "    </tr>\n",
       "    <tr>\n",
       "      <th>50%</th>\n",
       "      <td>2.000000</td>\n",
       "      <td>0.000000</td>\n",
       "      <td>0.000000</td>\n",
       "      <td>0.000000</td>\n",
       "      <td>0.000000</td>\n",
       "      <td>0.0</td>\n",
       "      <td>0.0</td>\n",
       "    </tr>\n",
       "    <tr>\n",
       "      <th>75%</th>\n",
       "      <td>3.000000</td>\n",
       "      <td>0.000000</td>\n",
       "      <td>0.000000</td>\n",
       "      <td>0.000000</td>\n",
       "      <td>0.000000</td>\n",
       "      <td>0.0</td>\n",
       "      <td>0.0</td>\n",
       "    </tr>\n",
       "    <tr>\n",
       "      <th>max</th>\n",
       "      <td>17.000000</td>\n",
       "      <td>128.000000</td>\n",
       "      <td>2.000000</td>\n",
       "      <td>4.000000</td>\n",
       "      <td>5.000000</td>\n",
       "      <td>0.0</td>\n",
       "      <td>0.0</td>\n",
       "    </tr>\n",
       "  </tbody>\n",
       "</table>\n",
       "</div>"
      ],
      "text/plain": [
       "          cnt_chat        cnt_ㅋ        cnt_ㄵ        cnt_오        cnt_와  \\\n",
       "count  4513.000000  4513.000000  4513.000000  4513.000000  4513.000000   \n",
       "mean      2.272546     2.819632     0.003988     0.061600     0.060270   \n",
       "std       1.651668     7.928078     0.066458     0.262487     0.279154   \n",
       "min       1.000000     0.000000     0.000000     0.000000     0.000000   \n",
       "25%       1.000000     0.000000     0.000000     0.000000     0.000000   \n",
       "50%       2.000000     0.000000     0.000000     0.000000     0.000000   \n",
       "75%       3.000000     0.000000     0.000000     0.000000     0.000000   \n",
       "max      17.000000   128.000000     2.000000     4.000000     5.000000   \n",
       "\n",
       "       cnt_유하  validation  \n",
       "count  4513.0      4513.0  \n",
       "mean      0.0         0.0  \n",
       "std       0.0         0.0  \n",
       "min       0.0         0.0  \n",
       "25%       0.0         0.0  \n",
       "50%       0.0         0.0  \n",
       "75%       0.0         0.0  \n",
       "max       0.0         0.0  "
      ]
     },
     "execution_count": 88,
     "metadata": {},
     "output_type": "execute_result"
    }
   ],
   "source": [
    "no_data.describe()"
   ]
  },
  {
   "cell_type": "code",
   "execution_count": 89,
   "metadata": {},
   "outputs": [
    {
     "data": {
      "image/png": "[encoded data removed]",
      "text/plain": [
       "<Figure size 1152x288 with 1 Axes>"
      ]
     },
     "metadata": {
      "needs_background": "light"
     },
     "output_type": "display_data"
    }
   ],
   "source": [
    "from matplotlib import pyplot as plt\n",
    "plt.figure(figsize=(16,4))\n",
    "plt.plot(no_data.index, no_data['cnt_ㅋ'])\n",
    "plt.plot(yes_data.index, yes_data['cnt_ㅋ'])\n",
    "plt.show()\n"
   ]
  },
  {
   "cell_type": "code",
   "execution_count": 90,
   "metadata": {
    "scrolled": true
   },
   "outputs": [
    {
     "data": {
      "text/html": [
       "<div>\n",
       "<style scoped>\n",
       "    .dataframe tbody tr th:only-of-type {\n",
       "        vertical-align: middle;\n",
       "    }\n",
       "\n",
       "    .dataframe tbody tr th {\n",
       "        vertical-align: top;\n",
       "    }\n",
       "\n",
       "    .dataframe thead th {\n",
       "        text-align: right;\n",
       "    }\n",
       "</style>\n",
       "<table border=\"1\" class=\"dataframe\">\n",
       "  <thead>\n",
       "    <tr style=\"text-align: right;\">\n",
       "      <th></th>\n",
       "      <th>cnt_chat</th>\n",
       "      <th>cnt_ㅋ</th>\n",
       "      <th>cnt_ㄵ</th>\n",
       "      <th>cnt_오</th>\n",
       "      <th>cnt_와</th>\n",
       "      <th>cnt_유하</th>\n",
       "      <th>validation</th>\n",
       "    </tr>\n",
       "    <tr>\n",
       "      <th>time</th>\n",
       "      <th></th>\n",
       "      <th></th>\n",
       "      <th></th>\n",
       "      <th></th>\n",
       "      <th></th>\n",
       "      <th></th>\n",
       "      <th></th>\n",
       "    </tr>\n",
       "  </thead>\n",
       "  <tbody>\n",
       "  </tbody>\n",
       "</table>\n",
       "</div>"
      ],
      "text/plain": [
       "Empty DataFrame\n",
       "Columns: [cnt_chat, cnt_ㅋ, cnt_ㄵ, cnt_오, cnt_와, cnt_유하, validation]\n",
       "Index: []"
      ]
     },
     "execution_count": 90,
     "metadata": {},
     "output_type": "execute_result"
    }
   ],
   "source": [
    "no_data[no_data['cnt_ㅋ'] > 200]"
   ]
  },
  {
   "cell_type": "code",
   "execution_count": 91,
   "metadata": {},
   "outputs": [
    {
     "data": {
      "text/html": [
       "<div>\n",
       "<style scoped>\n",
       "    .dataframe tbody tr th:only-of-type {\n",
       "        vertical-align: middle;\n",
       "    }\n",
       "\n",
       "    .dataframe tbody tr th {\n",
       "        vertical-align: top;\n",
       "    }\n",
       "\n",
       "    .dataframe thead th {\n",
       "        text-align: right;\n",
       "    }\n",
       "</style>\n",
       "<table border=\"1\" class=\"dataframe\">\n",
       "  <thead>\n",
       "    <tr style=\"text-align: right;\">\n",
       "      <th></th>\n",
       "      <th>chatterer</th>\n",
       "      <th>chat_contents</th>\n",
       "      <th>cnt_ㅋ</th>\n",
       "      <th>cnt_ㄵ</th>\n",
       "      <th>cnt_ㄴㅈ</th>\n",
       "      <th>cnt_오</th>\n",
       "      <th>cnt_와</th>\n",
       "      <th>cnt_유하</th>\n",
       "      <th>validation</th>\n",
       "    </tr>\n",
       "    <tr>\n",
       "      <th>time</th>\n",
       "      <th></th>\n",
       "      <th></th>\n",
       "      <th></th>\n",
       "      <th></th>\n",
       "      <th></th>\n",
       "      <th></th>\n",
       "      <th></th>\n",
       "      <th></th>\n",
       "      <th></th>\n",
       "    </tr>\n",
       "  </thead>\n",
       "  <tbody>\n",
       "  </tbody>\n",
       "</table>\n",
       "</div>"
      ],
      "text/plain": [
       "Empty DataFrame\n",
       "Columns: [chatterer, chat_contents, cnt_ㅋ, cnt_ㄵ, cnt_ㄴㅈ, cnt_오, cnt_와, cnt_유하, validation]\n",
       "Index: []"
      ]
     },
     "execution_count": 91,
     "metadata": {},
     "output_type": "execute_result"
    }
   ],
   "source": [
    "chat_data_reindex[chat_data_reindex.index==\"2018-12-07 13:36:19\"]"
   ]
  },
  {
   "cell_type": "code",
   "execution_count": 92,
   "metadata": {
    "scrolled": true
   },
   "outputs": [
    {
     "data": {
      "image/png": "[encoded data removed]",
      "text/plain": [
       "<Figure size 1152x288 with 1 Axes>"
      ]
     },
     "metadata": {
      "needs_background": "light"
     },
     "output_type": "display_data"
    }
   ],
   "source": [
    "plt.figure(figsize=(16,4))\n",
    "plt.plot(no_data.index, no_data['cnt_chat'])\n",
    "plt.plot(yes_data.index, yes_data['cnt_chat'])\n",
    "plt.show()\n"
   ]
  },
  {
   "cell_type": "code",
   "execution_count": 94,
   "metadata": {},
   "outputs": [
    {
     "data": {
      "text/html": [
       "<div>\n",
       "<style scoped>\n",
       "    .dataframe tbody tr th:only-of-type {\n",
       "        vertical-align: middle;\n",
       "    }\n",
       "\n",
       "    .dataframe tbody tr th {\n",
       "        vertical-align: top;\n",
       "    }\n",
       "\n",
       "    .dataframe thead th {\n",
       "        text-align: right;\n",
       "    }\n",
       "</style>\n",
       "<table border=\"1\" class=\"dataframe\">\n",
       "  <thead>\n",
       "    <tr style=\"text-align: right;\">\n",
       "      <th></th>\n",
       "      <th>cnt_chat</th>\n",
       "      <th>cnt_ㅋ</th>\n",
       "      <th>cnt_ㄵ</th>\n",
       "      <th>cnt_오</th>\n",
       "      <th>cnt_와</th>\n",
       "      <th>cnt_유하</th>\n",
       "      <th>validation</th>\n",
       "    </tr>\n",
       "    <tr>\n",
       "      <th>time</th>\n",
       "      <th></th>\n",
       "      <th></th>\n",
       "      <th></th>\n",
       "      <th></th>\n",
       "      <th></th>\n",
       "      <th></th>\n",
       "      <th></th>\n",
       "    </tr>\n",
       "  </thead>\n",
       "  <tbody>\n",
       "    <tr>\n",
       "      <th>2018-12-13 09:29:06</th>\n",
       "      <td>1</td>\n",
       "      <td>0</td>\n",
       "      <td>0</td>\n",
       "      <td>0</td>\n",
       "      <td>0</td>\n",
       "      <td>0</td>\n",
       "      <td>0</td>\n",
       "    </tr>\n",
       "    <tr>\n",
       "      <th>2018-12-13 10:30:56</th>\n",
       "      <td>1</td>\n",
       "      <td>0</td>\n",
       "      <td>0</td>\n",
       "      <td>0</td>\n",
       "      <td>0</td>\n",
       "      <td>0</td>\n",
       "      <td>0</td>\n",
       "    </tr>\n",
       "    <tr>\n",
       "      <th>2018-12-13 10:31:03</th>\n",
       "      <td>1</td>\n",
       "      <td>0</td>\n",
       "      <td>0</td>\n",
       "      <td>0</td>\n",
       "      <td>0</td>\n",
       "      <td>0</td>\n",
       "      <td>0</td>\n",
       "    </tr>\n",
       "    <tr>\n",
       "      <th>2018-12-13 10:31:06</th>\n",
       "      <td>1</td>\n",
       "      <td>0</td>\n",
       "      <td>0</td>\n",
       "      <td>0</td>\n",
       "      <td>0</td>\n",
       "      <td>0</td>\n",
       "      <td>0</td>\n",
       "    </tr>\n",
       "    <tr>\n",
       "      <th>2018-12-13 10:47:46</th>\n",
       "      <td>1</td>\n",
       "      <td>0</td>\n",
       "      <td>0</td>\n",
       "      <td>0</td>\n",
       "      <td>0</td>\n",
       "      <td>0</td>\n",
       "      <td>0</td>\n",
       "    </tr>\n",
       "  </tbody>\n",
       "</table>\n",
       "</div>"
      ],
      "text/plain": [
       "                     cnt_chat  cnt_ㅋ  cnt_ㄵ  cnt_오  cnt_와  cnt_유하  validation\n",
       "time                                                                         \n",
       "2018-12-13 09:29:06         1      0      0      0      0       0           0\n",
       "2018-12-13 10:30:56         1      0      0      0      0       0           0\n",
       "2018-12-13 10:31:03         1      0      0      0      0       0           0\n",
       "2018-12-13 10:31:06         1      0      0      0      0       0           0\n",
       "2018-12-13 10:47:46         1      0      0      0      0       0           0"
      ]
     },
     "execution_count": 94,
     "metadata": {},
     "output_type": "execute_result"
    }
   ],
   "source": [
    "anal_df[anal_df['validation'] == 0][:5]"
   ]
  },
  {
   "cell_type": "code",
   "execution_count": 50,
   "metadata": {},
   "outputs": [],
   "source": [
    "anal_df.to_csv(\"rhdgurwns_2019_12_13.csv\")"
   ]
  },
  {
   "cell_type": "code",
   "execution_count": null,
   "metadata": {},
   "outputs": [],
   "source": []
  }
 ],
 "metadata": {
  "kernelspec": {
   "display_name": "Python 3",
   "language": "python",
   "name": "python3"
  },
  "language_info": {
   "codemirror_mode": {
    "name": "ipython",
    "version": 3
   },
   "file_extension": ".py",
   "mimetype": "text/x-python",
   "name": "python",
   "nbconvert_exporter": "python",
   "pygments_lexer": "ipython3",
   "version": "3.7.1"
  }
 },
 "nbformat": 4,
 "nbformat_minor": 2
}
