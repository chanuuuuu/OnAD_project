{
 "cells": [
  {
   "cell_type": "code",
   "execution_count": 1,
   "metadata": {},
   "outputs": [],
   "source": [
    "import pandas as pd\n",
    "\n",
    "DB_URL = 'onad.cbjjamtlar2t.ap-northeast-2.rds.amazonaws.com'\n",
    "DB_USER = 'onad'\n",
    "DB_PASSWORD = 'rkdghktn12'\n",
    "DB_DATABASE = 'onad'\n",
    "DB_CHARSET = 'utf8mb4'\n",
    "DB_LOGFLAG  = 'False'\n",
    "DB_PORT = 3306\n",
    "\n",
    "db_url = \"mysql+pymysql://%s:%s@%s:%s/%s?charset=%s\" % (\n",
    "    DB_USER, DB_PASSWORD,\n",
    "    DB_URL, DB_PORT,\n",
    "    DB_DATABASE, DB_CHARSET\n",
    ")\n",
    "\n",
    "def data_from_sql_twitchchat(streamer, target_date):\n",
    "    query = \"\"\"\n",
    "        select * from twitch_chat where streamer_name = \"%s\" and broad_date =\"%s\"\n",
    "    \"\"\"% (streamer, target_date)\n",
    "\n",
    "    return pd.read_sql_query(query, db_url)"
   ]
  },
  {
   "cell_type": "markdown",
   "metadata": {},
   "source": [
    "### 1 채팅데이터 로드"
   ]
  },
  {
   "cell_type": "code",
   "execution_count": 30,
   "metadata": {},
   "outputs": [],
   "source": [
    "streamer = \"cocopopp671\"\n",
    "target_date = \"2018-12-24\"\n",
    "df = data_from_sql_twitchchat(streamer, target_date)"
   ]
  },
  {
   "cell_type": "code",
   "execution_count": 42,
   "metadata": {
    "scrolled": true
   },
   "outputs": [
    {
     "data": {
      "text/html": [
       "<div>\n",
       "<style scoped>\n",
       "    .dataframe tbody tr th:only-of-type {\n",
       "        vertical-align: middle;\n",
       "    }\n",
       "\n",
       "    .dataframe tbody tr th {\n",
       "        vertical-align: top;\n",
       "    }\n",
       "\n",
       "    .dataframe thead th {\n",
       "        text-align: right;\n",
       "    }\n",
       "</style>\n",
       "<table border=\"1\" class=\"dataframe\">\n",
       "  <thead>\n",
       "    <tr style=\"text-align: right;\">\n",
       "      <th></th>\n",
       "      <th>chat_id</th>\n",
       "      <th>streamer_name</th>\n",
       "      <th>broad_date</th>\n",
       "      <th>chatterer</th>\n",
       "      <th>chat_time</th>\n",
       "      <th>chat_contents</th>\n",
       "    </tr>\n",
       "  </thead>\n",
       "  <tbody>\n",
       "    <tr>\n",
       "      <th>0</th>\n",
       "      <td>1127035</td>\n",
       "      <td>cocopopp671</td>\n",
       "      <td>2018-12-24</td>\n",
       "      <td>&lt;%$파란맛_ (blue_flavor)&gt;</td>\n",
       "      <td>00:15:47</td>\n",
       "      <td>!points</td>\n",
       "    </tr>\n",
       "    <tr>\n",
       "      <th>1</th>\n",
       "      <td>1127036</td>\n",
       "      <td>cocopopp671</td>\n",
       "      <td>2018-12-24</td>\n",
       "      <td>&lt;%^StreamElements&gt;</td>\n",
       "      <td>00:15:47</td>\n",
       "      <td>@파란맛_, 파란맛_ has 63610 points and is rank 174/3...</td>\n",
       "    </tr>\n",
       "  </tbody>\n",
       "</table>\n",
       "</div>"
      ],
      "text/plain": [
       "   chat_id streamer_name  broad_date               chatterer chat_time  \\\n",
       "0  1127035   cocopopp671  2018-12-24  <%$파란맛_ (blue_flavor)>  00:15:47   \n",
       "1  1127036   cocopopp671  2018-12-24      <%^StreamElements>  00:15:47   \n",
       "\n",
       "                                       chat_contents  \n",
       "0                                            !points  \n",
       "1  @파란맛_, 파란맛_ has 63610 points and is rank 174/3...  "
      ]
     },
     "execution_count": 42,
     "metadata": {},
     "output_type": "execute_result"
    }
   ],
   "source": [
    "chat_df = df.copy()\n",
    "chat_df.head(2)"
   ]
  },
  {
   "cell_type": "code",
   "execution_count": 43,
   "metadata": {},
   "outputs": [
    {
     "data": {
      "text/plain": [
       "(57154, 6)"
      ]
     },
     "execution_count": 43,
     "metadata": {},
     "output_type": "execute_result"
    }
   ],
   "source": [
    "chat_df.shape"
   ]
  },
  {
   "cell_type": "markdown",
   "metadata": {},
   "source": [
    "### 2 시간 인덱스로 변환"
   ]
  },
  {
   "cell_type": "code",
   "execution_count": 44,
   "metadata": {},
   "outputs": [],
   "source": [
    "# \"초하\" 를 기준으로 시작시간 설정\n",
    "start_time = chat_df[chat_df.chat_contents == \"초하\"][\"chat_time\"].values[0]\n",
    "start_time = target_date + \" \" + start_time\n",
    "start_time = pd.to_datetime(start_time)"
   ]
  },
  {
   "cell_type": "code",
   "execution_count": 45,
   "metadata": {},
   "outputs": [],
   "source": [
    "chat_df['stream_time'] = chat_df['chat_time'].apply(lambda x : target_date + \" \" + x)\n",
    "chat_df['stream_time'] = chat_df['stream_time'].apply(lambda x : pd.to_datetime(x) - start_time)\n",
    "chat_df.set_index(\"stream_time\", inplace=True)"
   ]
  },
  {
   "cell_type": "code",
   "execution_count": 48,
   "metadata": {},
   "outputs": [],
   "source": [
    "chat_df = chat_df[chat_df.index > \"00:00:00\"]"
   ]
  },
  {
   "cell_type": "code",
   "execution_count": 50,
   "metadata": {
    "scrolled": true
   },
   "outputs": [
    {
     "data": {
      "text/html": [
       "<div>\n",
       "<style scoped>\n",
       "    .dataframe tbody tr th:only-of-type {\n",
       "        vertical-align: middle;\n",
       "    }\n",
       "\n",
       "    .dataframe tbody tr th {\n",
       "        vertical-align: top;\n",
       "    }\n",
       "\n",
       "    .dataframe thead th {\n",
       "        text-align: right;\n",
       "    }\n",
       "</style>\n",
       "<table border=\"1\" class=\"dataframe\">\n",
       "  <thead>\n",
       "    <tr style=\"text-align: right;\">\n",
       "      <th></th>\n",
       "      <th>chat_id</th>\n",
       "      <th>streamer_name</th>\n",
       "      <th>broad_date</th>\n",
       "      <th>chatterer</th>\n",
       "      <th>chat_time</th>\n",
       "      <th>chat_contents</th>\n",
       "    </tr>\n",
       "    <tr>\n",
       "      <th>stream_time</th>\n",
       "      <th></th>\n",
       "      <th></th>\n",
       "      <th></th>\n",
       "      <th></th>\n",
       "      <th></th>\n",
       "      <th></th>\n",
       "    </tr>\n",
       "  </thead>\n",
       "  <tbody>\n",
       "    <tr>\n",
       "      <th>00:00:04</th>\n",
       "      <td>1127040</td>\n",
       "      <td>cocopopp671</td>\n",
       "      <td>2018-12-24</td>\n",
       "      <td>&lt;%$우리승태화이팅 (heeeeheeee805)&gt;</td>\n",
       "      <td>00:25:17</td>\n",
       "      <td>띠용?</td>\n",
       "    </tr>\n",
       "    <tr>\n",
       "      <th>00:00:06</th>\n",
       "      <td>1127041</td>\n",
       "      <td>cocopopp671</td>\n",
       "      <td>2018-12-24</td>\n",
       "      <td>&lt;%$우리승태화이팅 (heeeeheeee805)&gt;</td>\n",
       "      <td>00:25:19</td>\n",
       "      <td>초하</td>\n",
       "    </tr>\n",
       "    <tr>\n",
       "      <th>00:00:07</th>\n",
       "      <td>1127042</td>\n",
       "      <td>cocopopp671</td>\n",
       "      <td>2018-12-24</td>\n",
       "      <td>&lt;%$드레여캐이뻐염 (ppyong96)&gt;</td>\n",
       "      <td>00:25:20</td>\n",
       "      <td>잉</td>\n",
       "    </tr>\n",
       "    <tr>\n",
       "      <th>00:00:08</th>\n",
       "      <td>1127043</td>\n",
       "      <td>cocopopp671</td>\n",
       "      <td>2018-12-24</td>\n",
       "      <td>&lt;%$우성아파트 (index0768)&gt;</td>\n",
       "      <td>00:25:21</td>\n",
       "      <td>??</td>\n",
       "    </tr>\n",
       "    <tr>\n",
       "      <th>00:00:09</th>\n",
       "      <td>1127044</td>\n",
       "      <td>cocopopp671</td>\n",
       "      <td>2018-12-24</td>\n",
       "      <td>&lt;%$드레여캐이뻐염 (ppyong96)&gt;</td>\n",
       "      <td>00:25:22</td>\n",
       "      <td>초하</td>\n",
       "    </tr>\n",
       "  </tbody>\n",
       "</table>\n",
       "</div>"
      ],
      "text/plain": [
       "             chat_id streamer_name  broad_date                    chatterer  \\\n",
       "stream_time                                                                   \n",
       "00:00:04     1127040   cocopopp671  2018-12-24  <%$우리승태화이팅 (heeeeheeee805)>   \n",
       "00:00:06     1127041   cocopopp671  2018-12-24  <%$우리승태화이팅 (heeeeheeee805)>   \n",
       "00:00:07     1127042   cocopopp671  2018-12-24       <%$드레여캐이뻐염 (ppyong96)>   \n",
       "00:00:08     1127043   cocopopp671  2018-12-24        <%$우성아파트 (index0768)>   \n",
       "00:00:09     1127044   cocopopp671  2018-12-24       <%$드레여캐이뻐염 (ppyong96)>   \n",
       "\n",
       "            chat_time chat_contents  \n",
       "stream_time                          \n",
       "00:00:04     00:25:17           띠용?  \n",
       "00:00:06     00:25:19            초하  \n",
       "00:00:07     00:25:20             잉  \n",
       "00:00:08     00:25:21            ??  \n",
       "00:00:09     00:25:22            초하  "
      ]
     },
     "execution_count": 50,
     "metadata": {},
     "output_type": "execute_result"
    }
   ],
   "source": [
    "chat_df.head()"
   ]
  },
  {
   "cell_type": "markdown",
   "metadata": {},
   "source": [
    "### 3 분석데이터셋으로 전처리"
   ]
  },
  {
   "cell_type": "markdown",
   "metadata": {},
   "source": [
    "#### 3-1 분석 데이터셋 만들기"
   ]
  },
  {
   "cell_type": "code",
   "execution_count": 75,
   "metadata": {},
   "outputs": [],
   "source": [
    "anal_df = chat_df.pivot_table(index=chat_df.index, values='chatterer', aggfunc=len).loc[:, ['chatterer']]"
   ]
  },
  {
   "cell_type": "markdown",
   "metadata": {},
   "source": [
    "#### 3-2 변수 추가"
   ]
  },
  {
   "cell_type": "code",
   "execution_count": 78,
   "metadata": {},
   "outputs": [
    {
     "data": {
      "text/plain": [
       "array([ 1,  0,  2,  3,  4,  5,  6,  7,  8, 39,  9, 17, 10, 16, 13, 21, 12,\n",
       "       11, 18, 27, 19, 23, 14, 15, 38, 32, 24, 26], dtype=int64)"
      ]
     },
     "execution_count": 78,
     "metadata": {},
     "output_type": "execute_result"
    }
   ],
   "source": [
    "word_list = ['ㅋ', '유하', '꿀잼', '?', 'ㄵ', '노잼', 'ㄴㅈ', '뭐함']\n",
    "\n",
    "for word in word_list:\n",
    "    target_word = \"cnt_\" + word\n",
    "    chat_df[target_word] =  chat_df.chat_contents.apply(lambda x : x.count(word))\n",
    "    anal_df[target_word] = chat_df.pivot_table(index=chat_df.index, values=target_word, aggfunc=sum).loc[:, target_word]\n",
    "\n",
    "anal_df['cnt_?'].unique()"
   ]
  },
  {
   "cell_type": "code",
   "execution_count": 80,
   "metadata": {},
   "outputs": [
    {
     "data": {
      "text/plain": [
       "array([ 1,  2,  3,  5,  4,  6,  7,  8, 10,  9, 11, 14, 12, 17, 13, 16, 18,\n",
       "       15, 29, 20, 19, 21, 22], dtype=int64)"
      ]
     },
     "execution_count": 80,
     "metadata": {},
     "output_type": "execute_result"
    }
   ],
   "source": [
    "anal_df.chatterer.unique()"
   ]
  },
  {
   "cell_type": "code",
   "execution_count": null,
   "metadata": {},
   "outputs": [],
   "source": []
  }
 ],
 "metadata": {
  "kernelspec": {
   "display_name": "Python 3",
   "language": "python",
   "name": "python3"
  },
  "language_info": {
   "codemirror_mode": {
    "name": "ipython",
    "version": 3
   },
   "file_extension": ".py",
   "mimetype": "text/x-python",
   "name": "python",
   "nbconvert_exporter": "python",
   "pygments_lexer": "ipython3",
   "version": "3.7.1"
  }
 },
 "nbformat": 4,
 "nbformat_minor": 2
}
