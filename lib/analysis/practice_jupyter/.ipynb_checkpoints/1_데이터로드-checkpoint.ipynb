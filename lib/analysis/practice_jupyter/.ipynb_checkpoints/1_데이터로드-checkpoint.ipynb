{
 "cells": [
  {
   "cell_type": "code",
   "execution_count": 1,
   "metadata": {},
   "outputs": [],
   "source": [
    "import pandas as pd"
   ]
  },
  {
   "cell_type": "code",
   "execution_count": null,
   "metadata": {},
   "outputs": [],
   "source": [
    "DB_URL = 'onad.cbjjamtlar2t.ap-northeast-2.rds.amazonaws.com'\n",
    "DB_USER = 'onad'\n",
    "DB_PASSWORD = 'rkdghktn12'\n",
    "DB_DATABASE = 'onad'\n",
    "DB_CHARSET = 'utf8mb4'\n",
    "DB_LOGFLAG  = 'False'\n",
    "DB_PORT = 3306\n",
    "\n",
    "db_url = \"mysql+pymysql://%s:%s@%s:%s/%s?charset=%s\" % (\n",
    "    DB_USER, DB_PASSWORD,\n",
    "    DB_URL, DB_PORT,\n",
    "    DB_DATABASE, DB_CHARSET\n",
    ")"
   ]
  },
  {
   "cell_type": "code",
   "execution_count": 3,
   "metadata": {},
   "outputs": [
    {
     "data": {
      "text/html": [
       "<div>\n",
       "<style scoped>\n",
       "    .dataframe tbody tr th:only-of-type {\n",
       "        vertical-align: middle;\n",
       "    }\n",
       "\n",
       "    .dataframe tbody tr th {\n",
       "        vertical-align: top;\n",
       "    }\n",
       "\n",
       "    .dataframe thead th {\n",
       "        text-align: right;\n",
       "    }\n",
       "</style>\n",
       "<table border=\"1\" class=\"dataframe\">\n",
       "  <thead>\n",
       "    <tr style=\"text-align: right;\">\n",
       "      <th></th>\n",
       "      <th>code</th>\n",
       "      <th>stream_id</th>\n",
       "      <th>streamer_id</th>\n",
       "      <th>streamer_name</th>\n",
       "      <th>broad_date</th>\n",
       "    </tr>\n",
       "  </thead>\n",
       "  <tbody>\n",
       "    <tr>\n",
       "      <th>0</th>\n",
       "      <td>4</td>\n",
       "      <td>31985216528</td>\n",
       "      <td>66375105</td>\n",
       "      <td>침착맨</td>\n",
       "      <td>2019-01-03T06:49:46Z</td>\n",
       "    </tr>\n",
       "    <tr>\n",
       "      <th>1</th>\n",
       "      <td>536</td>\n",
       "      <td>31999258656</td>\n",
       "      <td>66375105</td>\n",
       "      <td>침착맨</td>\n",
       "      <td>2019-01-04T01:59:13Z</td>\n",
       "    </tr>\n",
       "    <tr>\n",
       "      <th>2</th>\n",
       "      <td>2533</td>\n",
       "      <td>32055477312</td>\n",
       "      <td>66375105</td>\n",
       "      <td>침착맨</td>\n",
       "      <td>2019-01-07T01:57:17Z</td>\n",
       "    </tr>\n",
       "  </tbody>\n",
       "</table>\n",
       "</div>"
      ],
      "text/plain": [
       "   code    stream_id streamer_id streamer_name            broad_date\n",
       "0     4  31985216528    66375105           침착맨  2019-01-03T06:49:46Z\n",
       "1   536  31999258656    66375105           침착맨  2019-01-04T01:59:13Z\n",
       "2  2533  32055477312    66375105           침착맨  2019-01-07T01:57:17Z"
      ]
     },
     "execution_count": 3,
     "metadata": {},
     "output_type": "execute_result"
    }
   ],
   "source": [
    "def data_from_sql_twitchchat(streamer, target_date):\n",
    "    query = \"\"\"\n",
    "        select * from twitch_chat where streamer_id = '66375105' and broad_date =target_date\n",
    "    \"\"\"% streamer\n",
    "\n",
    "    return pd.read_sql_query(query, db_url)"
   ]
  },
  {
   "cell_type": "code",
   "execution_count": null,
   "metadata": {},
   "outputs": [],
   "source": [
    "streamer = \"66375105\"\n",
    "target_date = \"2018-12-15\""
   ]
  }
 ],
 "metadata": {
  "kernelspec": {
   "display_name": "Python 3",
   "language": "python",
   "name": "python3"
  },
  "language_info": {
   "codemirror_mode": {
    "name": "ipython",
    "version": 3
   },
   "file_extension": ".py",
   "mimetype": "text/x-python",
   "name": "python",
   "nbconvert_exporter": "python",
   "pygments_lexer": "ipython3",
   "version": "3.7.1"
  }
 },
 "nbformat": 4,
 "nbformat_minor": 2
}
