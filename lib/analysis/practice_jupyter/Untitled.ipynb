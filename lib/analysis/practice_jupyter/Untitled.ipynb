{
 "cells": [
  {
   "cell_type": "code",
   "execution_count": null,
   "metadata": {},
   "outputs": [],
   "source": [
    "def start(list_streamer_id):\n",
    "    \"\"\"\n",
    "    twitch_channel과 twitch_channel_detail  테이블의 데이터를 반환하는 함수\n",
    "    * input\n",
    "     - list_streamer_id : streamer_id 의 리스트 (twitch_stream 테이블의 group_by(streamer_id))\n",
    "    * output\n",
    "     - inform : 리스트, data_dict들의 모음\n",
    "     - detail_inform : 리스트, data_dict들의 모음\n",
    "    \"\"\"\n",
    "    # api 요청\n",
    "    import requests\n",
    "    import time\n",
    "    # stream api 파라미터 설정\n",
    "    headers = {\n",
    "            'Client-ID' : 'kimne78kx3ncx6brgo4mv6wki5h1ko',\n",
    "            'Accept': 'application/vnd.twitchtv.v5+json'\n",
    "            }\n",
    "\n",
    "    inform = []  # 채널 데이터\n",
    "    detail_inform = []  # 채널 세부 데이터\n",
    "    for i, streamer_id in enumerate(list_streamer_id):\n",
    "        url = 'https://api.twitch.tv/kraken/channels/%s' % streamer_id\n",
    "        time.sleep(0.5)\n",
    "        res = requests.get(url, headers=headers)\n",
    "        if res:\n",
    "            data_ = res.json()\n",
    "\n",
    "            data_dict = {\n",
    "                \"streamer_id\": data_['_id'],\n",
    "                \"streamer_name\": data_['display_name'],\n",
    "                \"logo\": data_['logo'],\n",
    "                \"homepage\": data_['url'],\n",
    "            }\n",
    "\n",
    "            inform.append(data_dict)\n",
    "\n",
    "            detail_data_dict = {\n",
    "                \"streamer_id\": data_['_id'],\n",
    "                \"follower\": data_['followers'],\n",
    "                \"viewer\": data_['views'],\n",
    "            }\n",
    "            detail_inform.append(detail_data_dict)\n",
    "        print(\"twitch channel %s/%s 로드\" % (i, len(list_streamer_id)))\n",
    "\n",
    "    return inform, detail_inform"
   ]
  },
  {
   "cell_type": "code",
   "execution_count": 2,
   "metadata": {},
   "outputs": [],
   "source": [
    "import requests\n",
    "import time\n",
    "\n",
    "streamer_id = \"66375105\"\n",
    "# stream api 파라미터 설정\n",
    "headers = {\n",
    "        'Client-ID' : 'kimne78kx3ncx6brgo4mv6wki5h1ko',\n",
    "        'Accept': 'application/vnd.twitchtv.v5+json'\n",
    "        }\n",
    "url = 'https://api.twitch.tv/kraken/channels/%s' % streamer_id\n",
    "res = requests.get(url, headers=headers)\n",
    "\n",
    "data_ = res.json()\n"
   ]
  },
  {
   "cell_type": "code",
   "execution_count": 3,
   "metadata": {},
   "outputs": [
    {
     "data": {
      "text/plain": [
       "{'mature': False,\n",
       " 'status': '침X펄X풍 TRPG 4화 (후원음성 X)',\n",
       " 'broadcaster_language': 'ko',\n",
       " 'broadcaster_software': 'unknown_rtmp',\n",
       " 'display_name': '침착맨',\n",
       " 'game': 'Tabletop RPGs',\n",
       " 'language': 'ko',\n",
       " '_id': '66375105',\n",
       " 'name': 'zilioner',\n",
       " 'created_at': '2014-07-15T04:40:51Z',\n",
       " 'updated_at': '2019-01-07T05:20:34Z',\n",
       " 'partner': True,\n",
       " 'logo': 'https://static-cdn.jtvnw.net/jtv_user_pictures/35a0fad8-a078-459a-b233-5f59ad9b1fc9-profile_image-300x300.png',\n",
       " 'video_banner': 'https://static-cdn.jtvnw.net/jtv_user_pictures/zilioner-channel_offline_image-442244d67f3c4714-1920x1080.png',\n",
       " 'profile_banner': 'https://static-cdn.jtvnw.net/jtv_user_pictures/zilioner-profile_banner-fb8153190405f3cf-480.jpeg',\n",
       " 'profile_banner_background_color': '#ffffff',\n",
       " 'url': 'https://www.twitch.tv/zilioner',\n",
       " 'views': 12490984,\n",
       " 'followers': 268640,\n",
       " 'broadcaster_type': 'partner',\n",
       " 'description': '제발 한국사람이라면 침투부 봅시다',\n",
       " 'private_video': False,\n",
       " 'privacy_options_enabled': False}"
      ]
     },
     "execution_count": 3,
     "metadata": {},
     "output_type": "execute_result"
    }
   ],
   "source": [
    "data_"
   ]
  },
  {
   "cell_type": "code",
   "execution_count": null,
   "metadata": {},
   "outputs": [],
   "source": []
  }
 ],
 "metadata": {
  "kernelspec": {
   "display_name": "Python 3",
   "language": "python",
   "name": "python3"
  },
  "language_info": {
   "codemirror_mode": {
    "name": "ipython",
    "version": 3
   },
   "file_extension": ".py",
   "mimetype": "text/x-python",
   "name": "python",
   "nbconvert_exporter": "python",
   "pygments_lexer": "ipython3",
   "version": "3.7.1"
  }
 },
 "nbformat": 4,
 "nbformat_minor": 2
}
