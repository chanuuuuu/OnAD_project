{
 "cells": [
  {
   "cell_type": "code",
   "execution_count": 2,
   "metadata": {},
   "outputs": [],
   "source": [
    "import pandas as pd"
   ]
  },
  {
   "cell_type": "markdown",
   "metadata": {},
   "source": [
    "### 데이터 베이스 설정"
   ]
  },
  {
   "cell_type": "code",
   "execution_count": 3,
   "metadata": {},
   "outputs": [],
   "source": [
    "DB_URL = 'onad.cbjjamtlar2t.ap-northeast-2.rds.amazonaws.com'\n",
    "DB_USER = 'onad'\n",
    "DB_PASSWORD = 'rkdghktn12'\n",
    "DB_DATABASE = 'onad'\n",
    "DB_CHARSET = 'utf8mb4'\n",
    "DB_LOGFLAG  = 'False'\n",
    "DB_PORT = 3306\n",
    "\n",
    "db_url = \"mysql+pymysql://%s:%s@%s:%s/%s?charset=%s\" % (\n",
    "    DB_USER, DB_PASSWORD,\n",
    "    DB_URL, DB_PORT,\n",
    "    DB_DATABASE, DB_CHARSET\n",
    ")"
   ]
  },
  {
   "cell_type": "code",
   "execution_count": 4,
   "metadata": {},
   "outputs": [],
   "source": [
    "def data_from_sql_twitchchat(streamer, target_date):\n",
    "    query = \"\"\"\n",
    "        select * from twitch_chat where streamer_name = \"%s\" and broad_date =\"%s\"\n",
    "    \"\"\"% (streamer, target_date)\n",
    "\n",
    "    return pd.read_sql_query(query, db_url)"
   ]
  },
  {
   "cell_type": "markdown",
   "metadata": {},
   "source": [
    "## 채팅 데이터 로드"
   ]
  },
  {
   "cell_type": "code",
   "execution_count": 5,
   "metadata": {},
   "outputs": [],
   "source": [
    "streamer = \"yapyap30\"\n",
    "target_date = \"2018-12-08\"\n",
    "chat_data = data_from_sql_twitchchat(streamer, target_date)"
   ]
  },
  {
   "cell_type": "markdown",
   "metadata": {},
   "source": [
    "### Exploratory Data Analysis"
   ]
  },
  {
   "cell_type": "code",
   "execution_count": 6,
   "metadata": {},
   "outputs": [
    {
     "data": {
      "text/plain": [
       "(110398, 6)"
      ]
     },
     "execution_count": 6,
     "metadata": {},
     "output_type": "execute_result"
    }
   ],
   "source": [
    "chat_data.shape"
   ]
  },
  {
   "cell_type": "code",
   "execution_count": 7,
   "metadata": {},
   "outputs": [
    {
     "data": {
      "text/html": [
       "<div>\n",
       "<style scoped>\n",
       "    .dataframe tbody tr th:only-of-type {\n",
       "        vertical-align: middle;\n",
       "    }\n",
       "\n",
       "    .dataframe tbody tr th {\n",
       "        vertical-align: top;\n",
       "    }\n",
       "\n",
       "    .dataframe thead th {\n",
       "        text-align: right;\n",
       "    }\n",
       "</style>\n",
       "<table border=\"1\" class=\"dataframe\">\n",
       "  <thead>\n",
       "    <tr style=\"text-align: right;\">\n",
       "      <th></th>\n",
       "      <th>chat_id</th>\n",
       "      <th>streamer_name</th>\n",
       "      <th>broad_date</th>\n",
       "      <th>chatterer</th>\n",
       "      <th>chat_time</th>\n",
       "      <th>chat_contents</th>\n",
       "    </tr>\n",
       "  </thead>\n",
       "  <tbody>\n",
       "    <tr>\n",
       "      <th>0</th>\n",
       "      <td>8266174</td>\n",
       "      <td>yapyap30</td>\n",
       "      <td>2018-12-08</td>\n",
       "      <td>&lt;뱃살몽땅 (yeppt7f)&gt;</td>\n",
       "      <td>00:00:04</td>\n",
       "      <td>성태님 레바 ㄹㅇ 개쉽읍니다 홧팅</td>\n",
       "    </tr>\n",
       "    <tr>\n",
       "      <th>1</th>\n",
       "      <td>8266175</td>\n",
       "      <td>yapyap30</td>\n",
       "      <td>2018-12-08</td>\n",
       "      <td>&lt;isolet77&gt;</td>\n",
       "      <td>00:00:04</td>\n",
       "      <td>배소리안나니까 편안하네</td>\n",
       "    </tr>\n",
       "    <tr>\n",
       "      <th>2</th>\n",
       "      <td>8266176</td>\n",
       "      <td>yapyap30</td>\n",
       "      <td>2018-12-08</td>\n",
       "      <td>&lt;문둥이 (mundung2)&gt;</td>\n",
       "      <td>00:00:05</td>\n",
       "      <td>얍얍님 저도 58이었는데 저 대둡니다</td>\n",
       "    </tr>\n",
       "    <tr>\n",
       "      <th>3</th>\n",
       "      <td>8266177</td>\n",
       "      <td>yapyap30</td>\n",
       "      <td>2018-12-08</td>\n",
       "      <td>&lt;kakle0428&gt;</td>\n",
       "      <td>00:00:05</td>\n",
       "      <td>아니 키하고 어깨 좁으니까 58이라도 상대적으로 ㅆ머두지</td>\n",
       "    </tr>\n",
       "    <tr>\n",
       "      <th>4</th>\n",
       "      <td>8266178</td>\n",
       "      <td>yapyap30</td>\n",
       "      <td>2018-12-08</td>\n",
       "      <td>&lt;리을비 (leech211)&gt;</td>\n",
       "      <td>00:00:06</td>\n",
       "      <td>59쓰는애는 머리진짜 큰건데</td>\n",
       "    </tr>\n",
       "  </tbody>\n",
       "</table>\n",
       "</div>"
      ],
      "text/plain": [
       "   chat_id streamer_name  broad_date         chatterer chat_time  \\\n",
       "0  8266174      yapyap30  2018-12-08  <뱃살몽땅 (yeppt7f)>  00:00:04   \n",
       "1  8266175      yapyap30  2018-12-08        <isolet77>  00:00:04   \n",
       "2  8266176      yapyap30  2018-12-08  <문둥이 (mundung2)>  00:00:05   \n",
       "3  8266177      yapyap30  2018-12-08       <kakle0428>  00:00:05   \n",
       "4  8266178      yapyap30  2018-12-08  <리을비 (leech211)>  00:00:06   \n",
       "\n",
       "                     chat_contents  \n",
       "0               성태님 레바 ㄹㅇ 개쉽읍니다 홧팅  \n",
       "1                     배소리안나니까 편안하네  \n",
       "2             얍얍님 저도 58이었는데 저 대둡니다  \n",
       "3  아니 키하고 어깨 좁으니까 58이라도 상대적으로 ㅆ머두지  \n",
       "4                  59쓰는애는 머리진짜 큰건데  "
      ]
     },
     "execution_count": 7,
     "metadata": {},
     "output_type": "execute_result"
    }
   ],
   "source": [
    "chat_data.head()"
   ]
  },
  {
   "cell_type": "code",
   "execution_count": 8,
   "metadata": {
    "scrolled": true
   },
   "outputs": [
    {
     "name": "stdout",
     "output_type": "stream",
     "text": [
      "채팅 로그의 수: 110398\n",
      "순수 시청자 수: 6500\n"
     ]
    }
   ],
   "source": [
    "print(\"채팅 로그의 수: %s\" % (chat_data.shape[0]))\n",
    "print(\"순수 시청자 수: %s\" % (len(list(chat_data['chatterer'].unique()))))"
   ]
  },
  {
   "cell_type": "code",
   "execution_count": 9,
   "metadata": {
    "scrolled": true
   },
   "outputs": [
    {
     "name": "stdout",
     "output_type": "stream",
     "text": [
      "채팅로그의 시작과 끝 : 00:00:04 ~ 23:59:56 \n"
     ]
    }
   ],
   "source": [
    "print(\"채팅로그의 시작과 끝 : %s ~ %s \" % (sorted(chat_data['chat_time'])[0], sorted(chat_data['chat_time'])[-1]))"
   ]
  },
  {
   "cell_type": "markdown",
   "metadata": {},
   "source": [
    "### 시간데이터를 DatetimeIndex 로 변경"
   ]
  },
  {
   "cell_type": "code",
   "execution_count": 10,
   "metadata": {},
   "outputs": [],
   "source": [
    "chat_data['time'] = pd.to_datetime(\n",
    "    chat_data['broad_date'].apply(lambda x : \",\".join(x.split(\"-\"))) + \",\" + \\\n",
    "    chat_data['chat_time'].apply(lambda x : \",\".join(x.split(\":\"))), \n",
    "                                  format=\"%Y,%m,%d,%H,%M,%S\")\n"
   ]
  },
  {
   "cell_type": "code",
   "execution_count": 11,
   "metadata": {},
   "outputs": [],
   "source": [
    "chat_data_reindex = chat_data.set_index('time')"
   ]
  },
  {
   "cell_type": "markdown",
   "metadata": {},
   "source": [
    "### pd.Datetime index 생성"
   ]
  },
  {
   "cell_type": "code",
   "execution_count": 12,
   "metadata": {},
   "outputs": [
    {
     "data": {
      "text/html": [
       "<div>\n",
       "<style scoped>\n",
       "    .dataframe tbody tr th:only-of-type {\n",
       "        vertical-align: middle;\n",
       "    }\n",
       "\n",
       "    .dataframe tbody tr th {\n",
       "        vertical-align: top;\n",
       "    }\n",
       "\n",
       "    .dataframe thead th {\n",
       "        text-align: right;\n",
       "    }\n",
       "</style>\n",
       "<table border=\"1\" class=\"dataframe\">\n",
       "  <thead>\n",
       "    <tr style=\"text-align: right;\">\n",
       "      <th></th>\n",
       "      <th>chat_id</th>\n",
       "      <th>streamer_name</th>\n",
       "      <th>broad_date</th>\n",
       "      <th>chatterer</th>\n",
       "      <th>chat_time</th>\n",
       "      <th>chat_contents</th>\n",
       "    </tr>\n",
       "    <tr>\n",
       "      <th>time</th>\n",
       "      <th></th>\n",
       "      <th></th>\n",
       "      <th></th>\n",
       "      <th></th>\n",
       "      <th></th>\n",
       "      <th></th>\n",
       "    </tr>\n",
       "  </thead>\n",
       "  <tbody>\n",
       "    <tr>\n",
       "      <th>2018-12-08 00:00:04</th>\n",
       "      <td>8266174</td>\n",
       "      <td>yapyap30</td>\n",
       "      <td>2018-12-08</td>\n",
       "      <td>&lt;뱃살몽땅 (yeppt7f)&gt;</td>\n",
       "      <td>00:00:04</td>\n",
       "      <td>성태님 레바 ㄹㅇ 개쉽읍니다 홧팅</td>\n",
       "    </tr>\n",
       "    <tr>\n",
       "      <th>2018-12-08 00:00:04</th>\n",
       "      <td>8266175</td>\n",
       "      <td>yapyap30</td>\n",
       "      <td>2018-12-08</td>\n",
       "      <td>&lt;isolet77&gt;</td>\n",
       "      <td>00:00:04</td>\n",
       "      <td>배소리안나니까 편안하네</td>\n",
       "    </tr>\n",
       "  </tbody>\n",
       "</table>\n",
       "</div>"
      ],
      "text/plain": [
       "                     chat_id streamer_name  broad_date         chatterer  \\\n",
       "time                                                                       \n",
       "2018-12-08 00:00:04  8266174      yapyap30  2018-12-08  <뱃살몽땅 (yeppt7f)>   \n",
       "2018-12-08 00:00:04  8266175      yapyap30  2018-12-08        <isolet77>   \n",
       "\n",
       "                    chat_time       chat_contents  \n",
       "time                                               \n",
       "2018-12-08 00:00:04  00:00:04  성태님 레바 ㄹㅇ 개쉽읍니다 홧팅  \n",
       "2018-12-08 00:00:04  00:00:04        배소리안나니까 편안하네  "
      ]
     },
     "execution_count": 12,
     "metadata": {},
     "output_type": "execute_result"
    }
   ],
   "source": [
    "chat_data_reindex.head(2)"
   ]
  },
  {
   "cell_type": "code",
   "execution_count": 13,
   "metadata": {},
   "outputs": [],
   "source": [
    "# YYYY-mm-dd HH:MM:SS 의 datetime 객체 인덱스 생성 (00:00:00 ~ 23:59:59 까지)\n",
    "index=pd.date_range(target_date, periods=86400, freq=\"S\")\n",
    "# 인덱스만 가지는 데이터 프레임 생성 (chat_data와 병합하기 위함)\n",
    "df = pd.DataFrame(index=index,)"
   ]
  },
  {
   "cell_type": "code",
   "execution_count": 14,
   "metadata": {
    "scrolled": true
   },
   "outputs": [],
   "source": [
    "# 필요없는 행 삭제\n",
    "del chat_data_reindex['chat_id']\n",
    "del chat_data_reindex['streamer_name']\n",
    "del chat_data_reindex['broad_date']\n",
    "del chat_data_reindex['chat_time']"
   ]
  },
  {
   "cell_type": "markdown",
   "metadata": {},
   "source": [
    "### 한 문장에서 특정 단어의 수 세어 컬럼으로"
   ]
  },
  {
   "cell_type": "code",
   "execution_count": 15,
   "metadata": {},
   "outputs": [],
   "source": [
    "chat_data_reindex['cnt_ㅋ'] = chat_data_reindex.chat_contents.apply(lambda x : x.count(\"ㅋ\"))\n",
    "chat_data_reindex['cnt_ㄵ'] = chat_data_reindex.chat_contents.apply(lambda x : x.count(\"ㄵ\"))\n",
    "chat_data_reindex['cnt_ㄴㅈ'] = chat_data_reindex.chat_contents.apply(lambda x : x.count(\"ㄴㅈ\"))"
   ]
  },
  {
   "cell_type": "code",
   "execution_count": 16,
   "metadata": {},
   "outputs": [
    {
     "data": {
      "text/html": [
       "<div>\n",
       "<style scoped>\n",
       "    .dataframe tbody tr th:only-of-type {\n",
       "        vertical-align: middle;\n",
       "    }\n",
       "\n",
       "    .dataframe tbody tr th {\n",
       "        vertical-align: top;\n",
       "    }\n",
       "\n",
       "    .dataframe thead th {\n",
       "        text-align: right;\n",
       "    }\n",
       "</style>\n",
       "<table border=\"1\" class=\"dataframe\">\n",
       "  <thead>\n",
       "    <tr style=\"text-align: right;\">\n",
       "      <th></th>\n",
       "      <th>cnt_chat</th>\n",
       "      <th>cnt_ㅋ</th>\n",
       "      <th>cnt_ㄵ</th>\n",
       "    </tr>\n",
       "    <tr>\n",
       "      <th>time</th>\n",
       "      <th></th>\n",
       "      <th></th>\n",
       "      <th></th>\n",
       "    </tr>\n",
       "  </thead>\n",
       "  <tbody>\n",
       "    <tr>\n",
       "      <th>2018-12-08 04:35:56</th>\n",
       "      <td>10</td>\n",
       "      <td>0</td>\n",
       "      <td>12</td>\n",
       "    </tr>\n",
       "  </tbody>\n",
       "</table>\n",
       "</div>"
      ],
      "text/plain": [
       "                     cnt_chat  cnt_ㅋ  cnt_ㄵ\n",
       "time                                       \n",
       "2018-12-08 04:35:56        10      0     12"
      ]
     },
     "execution_count": 16,
     "metadata": {},
     "output_type": "execute_result"
    }
   ],
   "source": [
    "pivot_df = chat_data_reindex.pivot_table(index=chat_data_reindex.index, aggfunc=len, values='chatterer')\n",
    "pivot_df.columns = ['cnt_chat']\n",
    "pivot_df[\"cnt_ㅋ\"] = chat_data_reindex.pivot_table(index = chat_data_reindex.index, aggfunc=sum, values='cnt_ㅋ')['cnt_ㅋ']\n",
    "pivot_df[\"cnt_ㄵ\"] = chat_data_reindex.pivot_table(index = chat_data_reindex.index, aggfunc=sum, values='cnt_ㄵ')['cnt_ㄵ'] +\\\n",
    "                    chat_data_reindex.pivot_table(index = chat_data_reindex.index, aggfunc=sum, values='cnt_ㄵ')['cnt_ㄵ']\n",
    "\n",
    "# 초당 채팅수가 6이상인 경우만\n",
    "pivot_df[pivot_df['cnt_chat'] > pivot_df['cnt_chat'].mean()]\n",
    "\n",
    "pivot_df['cnt_ㄵ'].unique()\n",
    "pivot_df[pivot_df['cnt_ㄵ'] == 12]"
   ]
  },
  {
   "cell_type": "code",
   "execution_count": 17,
   "metadata": {
    "scrolled": false
   },
   "outputs": [
    {
     "data": {
      "text/html": [
       "<div>\n",
       "<style scoped>\n",
       "    .dataframe tbody tr th:only-of-type {\n",
       "        vertical-align: middle;\n",
       "    }\n",
       "\n",
       "    .dataframe tbody tr th {\n",
       "        vertical-align: top;\n",
       "    }\n",
       "\n",
       "    .dataframe thead th {\n",
       "        text-align: right;\n",
       "    }\n",
       "</style>\n",
       "<table border=\"1\" class=\"dataframe\">\n",
       "  <thead>\n",
       "    <tr style=\"text-align: right;\">\n",
       "      <th></th>\n",
       "      <th>chatterer</th>\n",
       "      <th>chat_contents</th>\n",
       "      <th>cnt_ㅋ</th>\n",
       "      <th>cnt_ㄵ</th>\n",
       "      <th>cnt_ㄴㅈ</th>\n",
       "    </tr>\n",
       "    <tr>\n",
       "      <th>time</th>\n",
       "      <th></th>\n",
       "      <th></th>\n",
       "      <th></th>\n",
       "      <th></th>\n",
       "      <th></th>\n",
       "    </tr>\n",
       "  </thead>\n",
       "  <tbody>\n",
       "    <tr>\n",
       "      <th>2018-12-08 04:35:56</th>\n",
       "      <td>&lt;갸꿀잼몰카 (qntksamtwoddl)&gt;</td>\n",
       "      <td>ㄵ</td>\n",
       "      <td>0</td>\n",
       "      <td>1</td>\n",
       "      <td>0</td>\n",
       "    </tr>\n",
       "    <tr>\n",
       "      <th>2018-12-08 04:35:56</th>\n",
       "      <td>&lt;모드림 (chingizk)&gt;</td>\n",
       "      <td>ㄴㅈ</td>\n",
       "      <td>0</td>\n",
       "      <td>0</td>\n",
       "      <td>1</td>\n",
       "    </tr>\n",
       "    <tr>\n",
       "      <th>2018-12-08 04:35:56</th>\n",
       "      <td>&lt;%Adonbbagadon&gt;</td>\n",
       "      <td>ㄵ</td>\n",
       "      <td>0</td>\n",
       "      <td>1</td>\n",
       "      <td>0</td>\n",
       "    </tr>\n",
       "    <tr>\n",
       "      <th>2018-12-08 04:35:56</th>\n",
       "      <td>&lt;조강현을받아들여라 (take_the_steelo)&gt;</td>\n",
       "      <td>ㄵㄵ</td>\n",
       "      <td>0</td>\n",
       "      <td>2</td>\n",
       "      <td>0</td>\n",
       "    </tr>\n",
       "    <tr>\n",
       "      <th>2018-12-08 04:35:56</th>\n",
       "      <td>&lt;+하이스푸 (smallbird_1)&gt;</td>\n",
       "      <td>빯</td>\n",
       "      <td>0</td>\n",
       "      <td>0</td>\n",
       "      <td>0</td>\n",
       "    </tr>\n",
       "    <tr>\n",
       "      <th>2018-12-08 04:35:56</th>\n",
       "      <td>&lt;케메 (tkddlzh)&gt;</td>\n",
       "      <td>ㄵ</td>\n",
       "      <td>0</td>\n",
       "      <td>1</td>\n",
       "      <td>0</td>\n",
       "    </tr>\n",
       "    <tr>\n",
       "      <th>2018-12-08 04:35:56</th>\n",
       "      <td>&lt;%우리성태_이름_불러줘 (lookgochu)&gt;</td>\n",
       "      <td>개 노 잼</td>\n",
       "      <td>0</td>\n",
       "      <td>0</td>\n",
       "      <td>0</td>\n",
       "    </tr>\n",
       "    <tr>\n",
       "      <th>2018-12-08 04:35:56</th>\n",
       "      <td>&lt;비틱 (rhdiddlxjf)&gt;</td>\n",
       "      <td>아</td>\n",
       "      <td>0</td>\n",
       "      <td>0</td>\n",
       "      <td>0</td>\n",
       "    </tr>\n",
       "    <tr>\n",
       "      <th>2018-12-08 04:35:56</th>\n",
       "      <td>&lt;%하랑미 (jys4180)&gt;</td>\n",
       "      <td>angryyapOznojam</td>\n",
       "      <td>0</td>\n",
       "      <td>0</td>\n",
       "      <td>0</td>\n",
       "    </tr>\n",
       "    <tr>\n",
       "      <th>2018-12-08 04:35:56</th>\n",
       "      <td>&lt;그아악 (ghfla0606)&gt;</td>\n",
       "      <td>ㄵ</td>\n",
       "      <td>0</td>\n",
       "      <td>1</td>\n",
       "      <td>0</td>\n",
       "    </tr>\n",
       "  </tbody>\n",
       "</table>\n",
       "</div>"
      ],
      "text/plain": [
       "                                         chatterer    chat_contents  cnt_ㅋ  \\\n",
       "time                                                                         \n",
       "2018-12-08 04:35:56        <갸꿀잼몰카 (qntksamtwoddl)>                ㄵ      0   \n",
       "2018-12-08 04:35:56               <모드림 (chingizk)>               ㄴㅈ      0   \n",
       "2018-12-08 04:35:56                <%Adonbbagadon>                ㄵ      0   \n",
       "2018-12-08 04:35:56  <조강현을받아들여라 (take_the_steelo)>               ㄵㄵ      0   \n",
       "2018-12-08 04:35:56          <+하이스푸 (smallbird_1)>                빯      0   \n",
       "2018-12-08 04:35:56                 <케메 (tkddlzh)>                ㄵ      0   \n",
       "2018-12-08 04:35:56     <%우리성태_이름_불러줘 (lookgochu)>            개 노 잼      0   \n",
       "2018-12-08 04:35:56              <비틱 (rhdiddlxjf)>                아      0   \n",
       "2018-12-08 04:35:56               <%하랑미 (jys4180)>  angryyapOznojam      0   \n",
       "2018-12-08 04:35:56              <그아악 (ghfla0606)>                ㄵ      0   \n",
       "\n",
       "                     cnt_ㄵ  cnt_ㄴㅈ  \n",
       "time                                \n",
       "2018-12-08 04:35:56      1       0  \n",
       "2018-12-08 04:35:56      0       1  \n",
       "2018-12-08 04:35:56      1       0  \n",
       "2018-12-08 04:35:56      2       0  \n",
       "2018-12-08 04:35:56      0       0  \n",
       "2018-12-08 04:35:56      1       0  \n",
       "2018-12-08 04:35:56      0       0  \n",
       "2018-12-08 04:35:56      0       0  \n",
       "2018-12-08 04:35:56      0       0  \n",
       "2018-12-08 04:35:56      1       0  "
      ]
     },
     "execution_count": 17,
     "metadata": {},
     "output_type": "execute_result"
    }
   ],
   "source": [
    "chat_data_reindex[chat_data_reindex.index == \"2018-12-08 04:35:56\"]"
   ]
  },
  {
   "cell_type": "code",
   "execution_count": 30,
   "metadata": {
    "scrolled": true
   },
   "outputs": [
    {
     "data": {
      "text/html": [
       "<div>\n",
       "<style scoped>\n",
       "    .dataframe tbody tr th:only-of-type {\n",
       "        vertical-align: middle;\n",
       "    }\n",
       "\n",
       "    .dataframe tbody tr th {\n",
       "        vertical-align: top;\n",
       "    }\n",
       "\n",
       "    .dataframe thead th {\n",
       "        text-align: right;\n",
       "    }\n",
       "</style>\n",
       "<table border=\"1\" class=\"dataframe\">\n",
       "  <thead>\n",
       "    <tr style=\"text-align: right;\">\n",
       "      <th></th>\n",
       "      <th>chatterer</th>\n",
       "      <th>chat_contents</th>\n",
       "      <th>cnt_ㅋ</th>\n",
       "      <th>cnt_ㄵ</th>\n",
       "      <th>cnt_ㄴㅈ</th>\n",
       "    </tr>\n",
       "    <tr>\n",
       "      <th>time</th>\n",
       "      <th></th>\n",
       "      <th></th>\n",
       "      <th></th>\n",
       "      <th></th>\n",
       "      <th></th>\n",
       "    </tr>\n",
       "  </thead>\n",
       "  <tbody>\n",
       "    <tr>\n",
       "      <th>2018-12-08 00:00:04</th>\n",
       "      <td>&lt;뱃살몽땅 (yeppt7f)&gt;</td>\n",
       "      <td>성태님 레바 ㄹㅇ 개쉽읍니다 홧팅</td>\n",
       "      <td>0</td>\n",
       "      <td>0</td>\n",
       "      <td>0</td>\n",
       "    </tr>\n",
       "    <tr>\n",
       "      <th>2018-12-08 00:00:04</th>\n",
       "      <td>&lt;isolet77&gt;</td>\n",
       "      <td>배소리안나니까 편안하네</td>\n",
       "      <td>0</td>\n",
       "      <td>0</td>\n",
       "      <td>0</td>\n",
       "    </tr>\n",
       "    <tr>\n",
       "      <th>2018-12-08 00:00:05</th>\n",
       "      <td>&lt;문둥이 (mundung2)&gt;</td>\n",
       "      <td>얍얍님 저도 58이었는데 저 대둡니다</td>\n",
       "      <td>0</td>\n",
       "      <td>0</td>\n",
       "      <td>0</td>\n",
       "    </tr>\n",
       "    <tr>\n",
       "      <th>2018-12-08 00:00:05</th>\n",
       "      <td>&lt;kakle0428&gt;</td>\n",
       "      <td>아니 키하고 어깨 좁으니까 58이라도 상대적으로 ㅆ머두지</td>\n",
       "      <td>0</td>\n",
       "      <td>0</td>\n",
       "      <td>0</td>\n",
       "    </tr>\n",
       "    <tr>\n",
       "      <th>2018-12-08 00:00:06</th>\n",
       "      <td>&lt;리을비 (leech211)&gt;</td>\n",
       "      <td>59쓰는애는 머리진짜 큰건데</td>\n",
       "      <td>0</td>\n",
       "      <td>0</td>\n",
       "      <td>0</td>\n",
       "    </tr>\n",
       "  </tbody>\n",
       "</table>\n",
       "</div>"
      ],
      "text/plain": [
       "                            chatterer                    chat_contents  cnt_ㅋ  \\\n",
       "time                                                                            \n",
       "2018-12-08 00:00:04  <뱃살몽땅 (yeppt7f)>               성태님 레바 ㄹㅇ 개쉽읍니다 홧팅      0   \n",
       "2018-12-08 00:00:04        <isolet77>                     배소리안나니까 편안하네      0   \n",
       "2018-12-08 00:00:05  <문둥이 (mundung2)>             얍얍님 저도 58이었는데 저 대둡니다      0   \n",
       "2018-12-08 00:00:05       <kakle0428>  아니 키하고 어깨 좁으니까 58이라도 상대적으로 ㅆ머두지      0   \n",
       "2018-12-08 00:00:06  <리을비 (leech211)>                  59쓰는애는 머리진짜 큰건데      0   \n",
       "\n",
       "                     cnt_ㄵ  cnt_ㄴㅈ  \n",
       "time                                \n",
       "2018-12-08 00:00:04      0       0  \n",
       "2018-12-08 00:00:04      0       0  \n",
       "2018-12-08 00:00:05      0       0  \n",
       "2018-12-08 00:00:05      0       0  \n",
       "2018-12-08 00:00:06      0       0  "
      ]
     },
     "execution_count": 30,
     "metadata": {},
     "output_type": "execute_result"
    }
   ],
   "source": [
    "chat_data_reindex.head()"
   ]
  },
  {
   "cell_type": "markdown",
   "metadata": {},
   "source": [
    "### 시작시간 불러와 시작시간으로부터 00:00:00 으로 시작하는 컬럼만들기"
   ]
  },
  {
   "cell_type": "code",
   "execution_count": 57,
   "metadata": {
    "scrolled": true
   },
   "outputs": [
    {
     "data": {
      "text/plain": [
       "0   2019-01-03 15:49:46\n",
       "1   2019-01-04 10:59:13\n",
       "2   2019-01-07 10:57:17\n",
       "3   2019-01-07 17:53:12\n",
       "Name: broad_date, dtype: datetime64[ns]"
      ]
     },
     "execution_count": 57,
     "metadata": {},
     "output_type": "execute_result"
    }
   ],
   "source": [
    "streamer_id = 66375105\n",
    "query = \"select * from twitch_stream where streamer_id = '%s'\" % streamer_id\n",
    "broad_date_df = pd.read_sql_query(query, db_url)\n",
    "\n",
    "broad = pd.to_datetime(broad_date_df['broad_date'])\n",
    "broad.apply(lambda x : x + pd.Timedelta(\"9hours\"))  # 트위치 시간대는 UTC 기준이므로 한국시간으로 +9 하여 변경"
   ]
  },
  {
   "cell_type": "code",
   "execution_count": null,
   "metadata": {},
   "outputs": [],
   "source": []
  },
  {
   "cell_type": "code",
   "execution_count": null,
   "metadata": {},
   "outputs": [],
   "source": []
  },
  {
   "cell_type": "code",
   "execution_count": null,
   "metadata": {},
   "outputs": [],
   "source": []
  }
 ],
 "metadata": {
  "kernelspec": {
   "display_name": "Python 3",
   "language": "python",
   "name": "python3"
  },
  "language_info": {
   "codemirror_mode": {
    "name": "ipython",
    "version": 3
   },
   "file_extension": ".py",
   "mimetype": "text/x-python",
   "name": "python",
   "nbconvert_exporter": "python",
   "pygments_lexer": "ipython3",
   "version": "3.7.1"
  }
 },
 "nbformat": 4,
 "nbformat_minor": 2
}
