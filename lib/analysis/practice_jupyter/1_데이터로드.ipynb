{
 "cells": [
  {
   "cell_type": "code",
   "execution_count": 1,
   "metadata": {},
   "outputs": [],
   "source": [
    "import pandas as pd"
   ]
  },
  {
   "cell_type": "markdown",
   "metadata": {},
   "source": [
    "### 데이터 베이스 설정"
   ]
  },
  {
   "cell_type": "code",
   "execution_count": 2,
   "metadata": {},
   "outputs": [],
   "source": [
    "DB_URL = 'onad.cbjjamtlar2t.ap-northeast-2.rds.amazonaws.com'\n",
    "DB_USER = 'onad'\n",
    "DB_PASSWORD = 'rkdghktn12'\n",
    "DB_DATABASE = 'onad'\n",
    "DB_CHARSET = 'utf8mb4'\n",
    "DB_LOGFLAG  = 'False'\n",
    "DB_PORT = 3306\n",
    "\n",
    "db_url = \"mysql+pymysql://%s:%s@%s:%s/%s?charset=%s\" % (\n",
    "    DB_USER, DB_PASSWORD,\n",
    "    DB_URL, DB_PORT,\n",
    "    DB_DATABASE, DB_CHARSET\n",
    ")"
   ]
  },
  {
   "cell_type": "code",
   "execution_count": 3,
   "metadata": {},
   "outputs": [],
   "source": [
    "def data_from_sql_twitchchat(streamer, target_date):\n",
    "    query = \"\"\"\n",
    "        select * from twitch_chat where streamer_name = \"%s\" and broad_date =\"%s\"\n",
    "    \"\"\"% (streamer, target_date)\n",
    "\n",
    "    return pd.read_sql_query(query, db_url)"
   ]
  },
  {
   "cell_type": "markdown",
   "metadata": {},
   "source": [
    "### 채팅 데이터 로드"
   ]
  },
  {
   "cell_type": "code",
   "execution_count": 105,
   "metadata": {},
   "outputs": [],
   "source": [
    "streamer = \"looksam\"\n",
    "target_date = \"2018-12-27\"\n",
    "chat_data = data_from_sql_twitchchat(streamer, target_date)"
   ]
  },
  {
   "cell_type": "markdown",
   "metadata": {},
   "source": [
    "### Exploratory Data Analysis"
   ]
  },
  {
   "cell_type": "code",
   "execution_count": 106,
   "metadata": {},
   "outputs": [
    {
     "data": {
      "text/plain": [
       "(64193, 6)"
      ]
     },
     "execution_count": 106,
     "metadata": {},
     "output_type": "execute_result"
    }
   ],
   "source": [
    "chat_data.shape"
   ]
  },
  {
   "cell_type": "code",
   "execution_count": 107,
   "metadata": {},
   "outputs": [
    {
     "data": {
      "text/html": [
       "<div>\n",
       "<style scoped>\n",
       "    .dataframe tbody tr th:only-of-type {\n",
       "        vertical-align: middle;\n",
       "    }\n",
       "\n",
       "    .dataframe tbody tr th {\n",
       "        vertical-align: top;\n",
       "    }\n",
       "\n",
       "    .dataframe thead th {\n",
       "        text-align: right;\n",
       "    }\n",
       "</style>\n",
       "<table border=\"1\" class=\"dataframe\">\n",
       "  <thead>\n",
       "    <tr style=\"text-align: right;\">\n",
       "      <th></th>\n",
       "      <th>chat_id</th>\n",
       "      <th>streamer_name</th>\n",
       "      <th>broad_date</th>\n",
       "      <th>chatterer</th>\n",
       "      <th>chat_time</th>\n",
       "      <th>chat_contents</th>\n",
       "    </tr>\n",
       "  </thead>\n",
       "  <tbody>\n",
       "    <tr>\n",
       "      <th>0</th>\n",
       "      <td>5235567</td>\n",
       "      <td>looksam</td>\n",
       "      <td>2018-12-27</td>\n",
       "      <td>&lt;$Lee_sang_hyuk&gt;</td>\n",
       "      <td>17:43:26</td>\n",
       "      <td>오늘방송이 안켜진다면</td>\n",
       "    </tr>\n",
       "    <tr>\n",
       "      <th>1</th>\n",
       "      <td>5235568</td>\n",
       "      <td>looksam</td>\n",
       "      <td>2018-12-27</td>\n",
       "      <td>&lt;$Lee_sang_hyuk&gt;</td>\n",
       "      <td>17:43:36</td>\n",
       "      <td>아마도 뜨겁겠지..?</td>\n",
       "    </tr>\n",
       "    <tr>\n",
       "      <th>2</th>\n",
       "      <td>5235569</td>\n",
       "      <td>looksam</td>\n",
       "      <td>2018-12-27</td>\n",
       "      <td>&lt;rnwhdan&gt;</td>\n",
       "      <td>17:43:45</td>\n",
       "      <td>오뱅없?</td>\n",
       "    </tr>\n",
       "    <tr>\n",
       "      <th>3</th>\n",
       "      <td>5235570</td>\n",
       "      <td>looksam</td>\n",
       "      <td>2018-12-27</td>\n",
       "      <td>&lt;%당근빠따 (ambus000)&gt;</td>\n",
       "      <td>18:17:10</td>\n",
       "      <td>looksamJun looksamJun looksamJun</td>\n",
       "    </tr>\n",
       "    <tr>\n",
       "      <th>4</th>\n",
       "      <td>5235571</td>\n",
       "      <td>looksam</td>\n",
       "      <td>2018-12-27</td>\n",
       "      <td>&lt;rnwhdan&gt;</td>\n",
       "      <td>18:31:22</td>\n",
       "      <td>절 대 방 송 켜</td>\n",
       "    </tr>\n",
       "  </tbody>\n",
       "</table>\n",
       "</div>"
      ],
      "text/plain": [
       "   chat_id streamer_name  broad_date           chatterer chat_time  \\\n",
       "0  5235567       looksam  2018-12-27    <$Lee_sang_hyuk>  17:43:26   \n",
       "1  5235568       looksam  2018-12-27    <$Lee_sang_hyuk>  17:43:36   \n",
       "2  5235569       looksam  2018-12-27           <rnwhdan>  17:43:45   \n",
       "3  5235570       looksam  2018-12-27  <%당근빠따 (ambus000)>  18:17:10   \n",
       "4  5235571       looksam  2018-12-27           <rnwhdan>  18:31:22   \n",
       "\n",
       "                      chat_contents  \n",
       "0                       오늘방송이 안켜진다면  \n",
       "1                       아마도 뜨겁겠지..?  \n",
       "2                              오뱅없?  \n",
       "3  looksamJun looksamJun looksamJun  \n",
       "4                         절 대 방 송 켜  "
      ]
     },
     "execution_count": 107,
     "metadata": {},
     "output_type": "execute_result"
    }
   ],
   "source": [
    "chat_data.head()"
   ]
  },
  {
   "cell_type": "code",
   "execution_count": 108,
   "metadata": {
    "scrolled": true
   },
   "outputs": [
    {
     "name": "stdout",
     "output_type": "stream",
     "text": [
      "채팅 로그의 수: 64193\n",
      "순수 시청자 수: 4415\n"
     ]
    }
   ],
   "source": [
    "print(\"채팅 로그의 수: %s\" % (chat_data.shape[0]))\n",
    "print(\"순수 시청자 수: %s\" % (len(list(chat_data['chatterer'].unique()))))"
   ]
  },
  {
   "cell_type": "code",
   "execution_count": 109,
   "metadata": {
    "scrolled": true
   },
   "outputs": [
    {
     "name": "stdout",
     "output_type": "stream",
     "text": [
      "채팅로그의 시작과 끝 : 17:43:26 ~ 23:59:59 \n"
     ]
    }
   ],
   "source": [
    "print(\"채팅로그의 시작과 끝 : %s ~ %s \" % (sorted(chat_data['chat_time'])[0], sorted(chat_data['chat_time'])[-1]))"
   ]
  },
  {
   "cell_type": "markdown",
   "metadata": {},
   "source": [
    "### 시간데이터를 DatetimeIndex 로 변경"
   ]
  },
  {
   "cell_type": "code",
   "execution_count": 110,
   "metadata": {},
   "outputs": [],
   "source": [
    "chat_data['time'] = pd.to_datetime(\n",
    "    chat_data['broad_date'].apply(lambda x : \",\".join(x.split(\"-\"))) + \",\" + \\\n",
    "    chat_data['chat_time'].apply(lambda x : \",\".join(x.split(\":\"))), \n",
    "                                  format=\"%Y,%m,%d,%H,%M,%S\")\n"
   ]
  },
  {
   "cell_type": "code",
   "execution_count": 111,
   "metadata": {},
   "outputs": [],
   "source": [
    "chat_data_reindex = chat_data.set_index('time')"
   ]
  },
  {
   "cell_type": "code",
   "execution_count": 112,
   "metadata": {},
   "outputs": [
    {
     "data": {
      "text/html": [
       "<div>\n",
       "<style scoped>\n",
       "    .dataframe tbody tr th:only-of-type {\n",
       "        vertical-align: middle;\n",
       "    }\n",
       "\n",
       "    .dataframe tbody tr th {\n",
       "        vertical-align: top;\n",
       "    }\n",
       "\n",
       "    .dataframe thead th {\n",
       "        text-align: right;\n",
       "    }\n",
       "</style>\n",
       "<table border=\"1\" class=\"dataframe\">\n",
       "  <thead>\n",
       "    <tr style=\"text-align: right;\">\n",
       "      <th></th>\n",
       "      <th>chat_id</th>\n",
       "      <th>streamer_name</th>\n",
       "      <th>broad_date</th>\n",
       "      <th>chatterer</th>\n",
       "      <th>chat_time</th>\n",
       "      <th>chat_contents</th>\n",
       "    </tr>\n",
       "    <tr>\n",
       "      <th>time</th>\n",
       "      <th></th>\n",
       "      <th></th>\n",
       "      <th></th>\n",
       "      <th></th>\n",
       "      <th></th>\n",
       "      <th></th>\n",
       "    </tr>\n",
       "  </thead>\n",
       "  <tbody>\n",
       "    <tr>\n",
       "      <th>2018-12-27 17:43:26</th>\n",
       "      <td>5235567</td>\n",
       "      <td>looksam</td>\n",
       "      <td>2018-12-27</td>\n",
       "      <td>&lt;$Lee_sang_hyuk&gt;</td>\n",
       "      <td>17:43:26</td>\n",
       "      <td>오늘방송이 안켜진다면</td>\n",
       "    </tr>\n",
       "    <tr>\n",
       "      <th>2018-12-27 17:43:36</th>\n",
       "      <td>5235568</td>\n",
       "      <td>looksam</td>\n",
       "      <td>2018-12-27</td>\n",
       "      <td>&lt;$Lee_sang_hyuk&gt;</td>\n",
       "      <td>17:43:36</td>\n",
       "      <td>아마도 뜨겁겠지..?</td>\n",
       "    </tr>\n",
       "  </tbody>\n",
       "</table>\n",
       "</div>"
      ],
      "text/plain": [
       "                     chat_id streamer_name  broad_date         chatterer  \\\n",
       "time                                                                       \n",
       "2018-12-27 17:43:26  5235567       looksam  2018-12-27  <$Lee_sang_hyuk>   \n",
       "2018-12-27 17:43:36  5235568       looksam  2018-12-27  <$Lee_sang_hyuk>   \n",
       "\n",
       "                    chat_time chat_contents  \n",
       "time                                         \n",
       "2018-12-27 17:43:26  17:43:26   오늘방송이 안켜진다면  \n",
       "2018-12-27 17:43:36  17:43:36   아마도 뜨겁겠지..?  "
      ]
     },
     "execution_count": 112,
     "metadata": {},
     "output_type": "execute_result"
    }
   ],
   "source": [
    "chat_data_reindex.head(2)"
   ]
  },
  {
   "cell_type": "markdown",
   "metadata": {},
   "source": [
    "### pd.Datetime index 생성"
   ]
  },
  {
   "cell_type": "code",
   "execution_count": 113,
   "metadata": {},
   "outputs": [],
   "source": [
    "# YYYY-mm-dd HH:MM:SS 의 datetime 객체 인덱스 생성 (00:00:00 ~ 23:59:59 까지)\n",
    "index=pd.date_range(target_date, periods=86400, freq=\"S\")\n",
    "# 인덱스만 가지는 데이터 프레임 생성 (chat_data와 병합하기 위함)\n",
    "df = pd.DataFrame(index=index,)"
   ]
  },
  {
   "cell_type": "code",
   "execution_count": 114,
   "metadata": {
    "scrolled": true
   },
   "outputs": [],
   "source": [
    "# 필요없는 행 삭제\n",
    "del chat_data_reindex['chat_id']\n",
    "del chat_data_reindex['streamer_name']\n",
    "del chat_data_reindex['broad_date']\n",
    "del chat_data_reindex['chat_time']"
   ]
  },
  {
   "cell_type": "code",
   "execution_count": 115,
   "metadata": {},
   "outputs": [
    {
     "data": {
      "text/html": [
       "<div>\n",
       "<style scoped>\n",
       "    .dataframe tbody tr th:only-of-type {\n",
       "        vertical-align: middle;\n",
       "    }\n",
       "\n",
       "    .dataframe tbody tr th {\n",
       "        vertical-align: top;\n",
       "    }\n",
       "\n",
       "    .dataframe thead th {\n",
       "        text-align: right;\n",
       "    }\n",
       "</style>\n",
       "<table border=\"1\" class=\"dataframe\">\n",
       "  <thead>\n",
       "    <tr style=\"text-align: right;\">\n",
       "      <th></th>\n",
       "      <th>chatterer</th>\n",
       "      <th>chat_contents</th>\n",
       "    </tr>\n",
       "    <tr>\n",
       "      <th>time</th>\n",
       "      <th></th>\n",
       "      <th></th>\n",
       "    </tr>\n",
       "  </thead>\n",
       "  <tbody>\n",
       "    <tr>\n",
       "      <th>2018-12-27 17:43:26</th>\n",
       "      <td>&lt;$Lee_sang_hyuk&gt;</td>\n",
       "      <td>오늘방송이 안켜진다면</td>\n",
       "    </tr>\n",
       "    <tr>\n",
       "      <th>2018-12-27 17:43:36</th>\n",
       "      <td>&lt;$Lee_sang_hyuk&gt;</td>\n",
       "      <td>아마도 뜨겁겠지..?</td>\n",
       "    </tr>\n",
       "  </tbody>\n",
       "</table>\n",
       "</div>"
      ],
      "text/plain": [
       "                            chatterer chat_contents\n",
       "time                                               \n",
       "2018-12-27 17:43:26  <$Lee_sang_hyuk>   오늘방송이 안켜진다면\n",
       "2018-12-27 17:43:36  <$Lee_sang_hyuk>   아마도 뜨겁겠지..?"
      ]
     },
     "execution_count": 115,
     "metadata": {},
     "output_type": "execute_result"
    }
   ],
   "source": [
    "chat_data_reindex.head(2)"
   ]
  },
  {
   "cell_type": "markdown",
   "metadata": {},
   "source": [
    "### 한 문장에서 특정 단어의 수 세어 컬럼으로 생성"
   ]
  },
  {
   "cell_type": "code",
   "execution_count": 116,
   "metadata": {},
   "outputs": [],
   "source": [
    "chat_data_reindex['cnt_ㅋ'] = chat_data_reindex.chat_contents.apply(lambda x : x.count(\"ㅋ\"))\n",
    "chat_data_reindex['cnt_ㄵ'] = chat_data_reindex.chat_contents.apply(lambda x : x.count(\"ㄵ\"))\n",
    "chat_data_reindex['cnt_ㄴㅈ'] = chat_data_reindex.chat_contents.apply(lambda x : x.count(\"ㄴㅈ\"))\n",
    "chat_data_reindex['cnt_오'] = chat_data_reindex.chat_contents.apply(lambda x : x.count(\"오\"))\n",
    "chat_data_reindex['cnt_와'] = chat_data_reindex.chat_contents.apply(lambda x : x.count(\"와\"))\n",
    "chat_data_reindex['cnt_유하'] = chat_data_reindex.chat_contents.apply(lambda x : x.count(\"유하\"))\n"
   ]
  },
  {
   "cell_type": "code",
   "execution_count": 117,
   "metadata": {},
   "outputs": [
    {
     "data": {
      "text/html": [
       "<div>\n",
       "<style scoped>\n",
       "    .dataframe tbody tr th:only-of-type {\n",
       "        vertical-align: middle;\n",
       "    }\n",
       "\n",
       "    .dataframe tbody tr th {\n",
       "        vertical-align: top;\n",
       "    }\n",
       "\n",
       "    .dataframe thead th {\n",
       "        text-align: right;\n",
       "    }\n",
       "</style>\n",
       "<table border=\"1\" class=\"dataframe\">\n",
       "  <thead>\n",
       "    <tr style=\"text-align: right;\">\n",
       "      <th></th>\n",
       "      <th>chatterer</th>\n",
       "      <th>chat_contents</th>\n",
       "      <th>cnt_ㅋ</th>\n",
       "      <th>cnt_ㄵ</th>\n",
       "      <th>cnt_ㄴㅈ</th>\n",
       "      <th>cnt_오</th>\n",
       "      <th>cnt_와</th>\n",
       "      <th>cnt_유하</th>\n",
       "    </tr>\n",
       "    <tr>\n",
       "      <th>time</th>\n",
       "      <th></th>\n",
       "      <th></th>\n",
       "      <th></th>\n",
       "      <th></th>\n",
       "      <th></th>\n",
       "      <th></th>\n",
       "      <th></th>\n",
       "      <th></th>\n",
       "    </tr>\n",
       "  </thead>\n",
       "  <tbody>\n",
       "    <tr>\n",
       "      <th>2018-12-27 17:43:26</th>\n",
       "      <td>&lt;$Lee_sang_hyuk&gt;</td>\n",
       "      <td>오늘방송이 안켜진다면</td>\n",
       "      <td>0</td>\n",
       "      <td>0</td>\n",
       "      <td>0</td>\n",
       "      <td>1</td>\n",
       "      <td>0</td>\n",
       "      <td>0</td>\n",
       "    </tr>\n",
       "    <tr>\n",
       "      <th>2018-12-27 17:43:36</th>\n",
       "      <td>&lt;$Lee_sang_hyuk&gt;</td>\n",
       "      <td>아마도 뜨겁겠지..?</td>\n",
       "      <td>0</td>\n",
       "      <td>0</td>\n",
       "      <td>0</td>\n",
       "      <td>0</td>\n",
       "      <td>0</td>\n",
       "      <td>0</td>\n",
       "    </tr>\n",
       "    <tr>\n",
       "      <th>2018-12-27 17:43:45</th>\n",
       "      <td>&lt;rnwhdan&gt;</td>\n",
       "      <td>오뱅없?</td>\n",
       "      <td>0</td>\n",
       "      <td>0</td>\n",
       "      <td>0</td>\n",
       "      <td>1</td>\n",
       "      <td>0</td>\n",
       "      <td>0</td>\n",
       "    </tr>\n",
       "    <tr>\n",
       "      <th>2018-12-27 18:17:10</th>\n",
       "      <td>&lt;%당근빠따 (ambus000)&gt;</td>\n",
       "      <td>looksamJun looksamJun looksamJun</td>\n",
       "      <td>0</td>\n",
       "      <td>0</td>\n",
       "      <td>0</td>\n",
       "      <td>0</td>\n",
       "      <td>0</td>\n",
       "      <td>0</td>\n",
       "    </tr>\n",
       "    <tr>\n",
       "      <th>2018-12-27 18:31:22</th>\n",
       "      <td>&lt;rnwhdan&gt;</td>\n",
       "      <td>절 대 방 송 켜</td>\n",
       "      <td>0</td>\n",
       "      <td>0</td>\n",
       "      <td>0</td>\n",
       "      <td>0</td>\n",
       "      <td>0</td>\n",
       "      <td>0</td>\n",
       "    </tr>\n",
       "  </tbody>\n",
       "</table>\n",
       "</div>"
      ],
      "text/plain": [
       "                              chatterer                     chat_contents  \\\n",
       "time                                                                        \n",
       "2018-12-27 17:43:26    <$Lee_sang_hyuk>                       오늘방송이 안켜진다면   \n",
       "2018-12-27 17:43:36    <$Lee_sang_hyuk>                       아마도 뜨겁겠지..?   \n",
       "2018-12-27 17:43:45           <rnwhdan>                              오뱅없?   \n",
       "2018-12-27 18:17:10  <%당근빠따 (ambus000)>  looksamJun looksamJun looksamJun   \n",
       "2018-12-27 18:31:22           <rnwhdan>                         절 대 방 송 켜   \n",
       "\n",
       "                     cnt_ㅋ  cnt_ㄵ  cnt_ㄴㅈ  cnt_오  cnt_와  cnt_유하  \n",
       "time                                                             \n",
       "2018-12-27 17:43:26      0      0       0      1      0       0  \n",
       "2018-12-27 17:43:36      0      0       0      0      0       0  \n",
       "2018-12-27 17:43:45      0      0       0      1      0       0  \n",
       "2018-12-27 18:17:10      0      0       0      0      0       0  \n",
       "2018-12-27 18:31:22      0      0       0      0      0       0  "
      ]
     },
     "execution_count": 117,
     "metadata": {},
     "output_type": "execute_result"
    }
   ],
   "source": [
    "chat_data_reindex.head()"
   ]
  },
  {
   "cell_type": "markdown",
   "metadata": {},
   "source": [
    "### 해당 채팅 수 빈도를 갖는 데이터 프레임 생성"
   ]
  },
  {
   "cell_type": "code",
   "execution_count": 129,
   "metadata": {
    "scrolled": true
   },
   "outputs": [
    {
     "name": "stdout",
     "output_type": "stream",
     "text": [
      "[39, 38, 36, 33, 32, 31, 28, 27, 26, 25]\n",
      "[371, 334, 316, 302, 296, 267, 264, 251, 248, 238]\n",
      "[5, 3, 2, 1, 0]\n"
     ]
    },
    {
     "data": {
      "text/html": [
       "<div>\n",
       "<style scoped>\n",
       "    .dataframe tbody tr th:only-of-type {\n",
       "        vertical-align: middle;\n",
       "    }\n",
       "\n",
       "    .dataframe tbody tr th {\n",
       "        vertical-align: top;\n",
       "    }\n",
       "\n",
       "    .dataframe thead th {\n",
       "        text-align: right;\n",
       "    }\n",
       "</style>\n",
       "<table border=\"1\" class=\"dataframe\">\n",
       "  <thead>\n",
       "    <tr style=\"text-align: right;\">\n",
       "      <th></th>\n",
       "      <th>cnt_chat</th>\n",
       "      <th>cnt_ㅋ</th>\n",
       "      <th>cnt_ㄵ</th>\n",
       "      <th>cnt_오</th>\n",
       "      <th>cnt_와</th>\n",
       "      <th>cnt_유하</th>\n",
       "    </tr>\n",
       "    <tr>\n",
       "      <th>time</th>\n",
       "      <th></th>\n",
       "      <th></th>\n",
       "      <th></th>\n",
       "      <th></th>\n",
       "      <th></th>\n",
       "      <th></th>\n",
       "    </tr>\n",
       "  </thead>\n",
       "  <tbody>\n",
       "    <tr>\n",
       "      <th>2018-12-27 20:19:54</th>\n",
       "      <td>13</td>\n",
       "      <td>0</td>\n",
       "      <td>0</td>\n",
       "      <td>0</td>\n",
       "      <td>0</td>\n",
       "      <td>5</td>\n",
       "    </tr>\n",
       "  </tbody>\n",
       "</table>\n",
       "</div>"
      ],
      "text/plain": [
       "                     cnt_chat  cnt_ㅋ  cnt_ㄵ  cnt_오  cnt_와  cnt_유하\n",
       "time                                                             \n",
       "2018-12-27 20:19:54        13      0      0      0      0       5"
      ]
     },
     "execution_count": 129,
     "metadata": {},
     "output_type": "execute_result"
    }
   ],
   "source": [
    "pivot_df = chat_data_reindex.pivot_table(index=chat_data_reindex.index, aggfunc=len, values='chatterer')\n",
    "pivot_df.columns = ['cnt_chat']  # 컬럼 이름 할당\n",
    "pivot_df[\"cnt_ㅋ\"] = chat_data_reindex.pivot_table(index = chat_data_reindex.index, aggfunc=sum, values='cnt_ㅋ')['cnt_ㅋ']\n",
    "pivot_df[\"cnt_ㄵ\"] = chat_data_reindex.pivot_table(index = chat_data_reindex.index, aggfunc=sum, values='cnt_ㄵ')['cnt_ㄵ'] +\\\n",
    "                    chat_data_reindex.pivot_table(index = chat_data_reindex.index, aggfunc=sum, values='cnt_ㄴㅈ')['cnt_ㄴㅈ']\n",
    "pivot_df[\"cnt_오\"] = chat_data_reindex.pivot_table(index = chat_data_reindex.index, aggfunc=sum, values='cnt_오')['cnt_오']\n",
    "pivot_df[\"cnt_와\"] = chat_data_reindex.pivot_table(index = chat_data_reindex.index, aggfunc=sum, values='cnt_와')['cnt_와']\n",
    "pivot_df[\"cnt_유하\"] = chat_data_reindex.pivot_table(index = chat_data_reindex.index, aggfunc=sum, values='cnt_유하')['cnt_유하']\n",
    "\n",
    "\n",
    "# 초당 채팅수가 평균 이상인 경우만 보이도록\n",
    "pivot_df[pivot_df['cnt_chat'] > pivot_df['cnt_chat'].mean()]\n",
    "\n",
    "print(sorted(pivot_df['cnt_chat'].unique(), reverse=True)[:10])\n",
    "print(sorted(pivot_df['cnt_ㅋ'].unique(), reverse=True)[:10])\n",
    "print(sorted(pivot_df['cnt_유하'].unique(), reverse=True))\n",
    "\n",
    "pivot_df[pivot_df['cnt_유하'] == 5]  # 해당 글자가 가장 높은 구간"
   ]
  },
  {
   "cell_type": "markdown",
   "metadata": {},
   "source": [
    "### 해당 글자의 빈도수가 높은 구간의 채팅"
   ]
  },
  {
   "cell_type": "code",
   "execution_count": 130,
   "metadata": {
    "scrolled": true
   },
   "outputs": [
    {
     "data": {
      "text/html": [
       "<div>\n",
       "<style scoped>\n",
       "    .dataframe tbody tr th:only-of-type {\n",
       "        vertical-align: middle;\n",
       "    }\n",
       "\n",
       "    .dataframe tbody tr th {\n",
       "        vertical-align: top;\n",
       "    }\n",
       "\n",
       "    .dataframe thead th {\n",
       "        text-align: right;\n",
       "    }\n",
       "</style>\n",
       "<table border=\"1\" class=\"dataframe\">\n",
       "  <thead>\n",
       "    <tr style=\"text-align: right;\">\n",
       "      <th></th>\n",
       "      <th>chatterer</th>\n",
       "      <th>chat_contents</th>\n",
       "      <th>cnt_ㅋ</th>\n",
       "      <th>cnt_ㄵ</th>\n",
       "      <th>cnt_ㄴㅈ</th>\n",
       "      <th>cnt_오</th>\n",
       "      <th>cnt_와</th>\n",
       "      <th>cnt_유하</th>\n",
       "    </tr>\n",
       "    <tr>\n",
       "      <th>time</th>\n",
       "      <th></th>\n",
       "      <th></th>\n",
       "      <th></th>\n",
       "      <th></th>\n",
       "      <th></th>\n",
       "      <th></th>\n",
       "      <th></th>\n",
       "      <th></th>\n",
       "    </tr>\n",
       "  </thead>\n",
       "  <tbody>\n",
       "    <tr>\n",
       "      <th>2018-12-27 20:19:54</th>\n",
       "      <td>&lt;야지로베 (bestofbestofbestofbest)&gt;</td>\n",
       "      <td>?</td>\n",
       "      <td>0</td>\n",
       "      <td>0</td>\n",
       "      <td>0</td>\n",
       "      <td>0</td>\n",
       "      <td>0</td>\n",
       "      <td>0</td>\n",
       "    </tr>\n",
       "    <tr>\n",
       "      <th>2018-12-27 20:19:54</th>\n",
       "      <td>&lt;ace02ahn&gt;</td>\n",
       "      <td>유하</td>\n",
       "      <td>0</td>\n",
       "      <td>0</td>\n",
       "      <td>0</td>\n",
       "      <td>0</td>\n",
       "      <td>0</td>\n",
       "      <td>1</td>\n",
       "    </tr>\n",
       "    <tr>\n",
       "      <th>2018-12-27 20:19:54</th>\n",
       "      <td>&lt;클린노루 (u090)&gt;</td>\n",
       "      <td>루 밍</td>\n",
       "      <td>0</td>\n",
       "      <td>0</td>\n",
       "      <td>0</td>\n",
       "      <td>0</td>\n",
       "      <td>0</td>\n",
       "      <td>0</td>\n",
       "    </tr>\n",
       "    <tr>\n",
       "      <th>2018-12-27 20:19:54</th>\n",
       "      <td>&lt;%gurakim&gt;</td>\n",
       "      <td>?</td>\n",
       "      <td>0</td>\n",
       "      <td>0</td>\n",
       "      <td>0</td>\n",
       "      <td>0</td>\n",
       "      <td>0</td>\n",
       "      <td>0</td>\n",
       "    </tr>\n",
       "    <tr>\n",
       "      <th>2018-12-27 20:19:54</th>\n",
       "      <td>&lt;intrigue1997&gt;</td>\n",
       "      <td>ㅇㄱㅇ</td>\n",
       "      <td>0</td>\n",
       "      <td>0</td>\n",
       "      <td>0</td>\n",
       "      <td>0</td>\n",
       "      <td>0</td>\n",
       "      <td>0</td>\n",
       "    </tr>\n",
       "    <tr>\n",
       "      <th>2018-12-27 20:19:54</th>\n",
       "      <td>&lt;냠냠냠냠2 (yaaaaaaaaap)&gt;</td>\n",
       "      <td>QNA??</td>\n",
       "      <td>0</td>\n",
       "      <td>0</td>\n",
       "      <td>0</td>\n",
       "      <td>0</td>\n",
       "      <td>0</td>\n",
       "      <td>0</td>\n",
       "    </tr>\n",
       "    <tr>\n",
       "      <th>2018-12-27 20:19:54</th>\n",
       "      <td>&lt;으악새는으악울지 (euaksae)&gt;</td>\n",
       "      <td>유하</td>\n",
       "      <td>0</td>\n",
       "      <td>0</td>\n",
       "      <td>0</td>\n",
       "      <td>0</td>\n",
       "      <td>0</td>\n",
       "      <td>1</td>\n",
       "    </tr>\n",
       "    <tr>\n",
       "      <th>2018-12-27 20:19:54</th>\n",
       "      <td>&lt;%브니 (vnivni)&gt;</td>\n",
       "      <td>유하</td>\n",
       "      <td>0</td>\n",
       "      <td>0</td>\n",
       "      <td>0</td>\n",
       "      <td>0</td>\n",
       "      <td>0</td>\n",
       "      <td>1</td>\n",
       "    </tr>\n",
       "    <tr>\n",
       "      <th>2018-12-27 20:19:54</th>\n",
       "      <td>&lt;dogsell2&gt;</td>\n",
       "      <td>수금타임</td>\n",
       "      <td>0</td>\n",
       "      <td>0</td>\n",
       "      <td>0</td>\n",
       "      <td>0</td>\n",
       "      <td>0</td>\n",
       "      <td>0</td>\n",
       "    </tr>\n",
       "    <tr>\n",
       "      <th>2018-12-27 20:19:54</th>\n",
       "      <td>&lt;타워깎는마이 (wodn8520)&gt;</td>\n",
       "      <td>수금시간</td>\n",
       "      <td>0</td>\n",
       "      <td>0</td>\n",
       "      <td>0</td>\n",
       "      <td>0</td>\n",
       "      <td>0</td>\n",
       "      <td>0</td>\n",
       "    </tr>\n",
       "    <tr>\n",
       "      <th>2018-12-27 20:19:54</th>\n",
       "      <td>&lt;+카나리아 (tail0450)&gt;</td>\n",
       "      <td>유하</td>\n",
       "      <td>0</td>\n",
       "      <td>0</td>\n",
       "      <td>0</td>\n",
       "      <td>0</td>\n",
       "      <td>0</td>\n",
       "      <td>1</td>\n",
       "    </tr>\n",
       "    <tr>\n",
       "      <th>2018-12-27 20:19:54</th>\n",
       "      <td>&lt;덕배왔니 (rhodanthe1)&gt;</td>\n",
       "      <td>유하</td>\n",
       "      <td>0</td>\n",
       "      <td>0</td>\n",
       "      <td>0</td>\n",
       "      <td>0</td>\n",
       "      <td>0</td>\n",
       "      <td>1</td>\n",
       "    </tr>\n",
       "    <tr>\n",
       "      <th>2018-12-27 20:19:54</th>\n",
       "      <td>&lt;effysong&gt;</td>\n",
       "      <td>대놓고 수금</td>\n",
       "      <td>0</td>\n",
       "      <td>0</td>\n",
       "      <td>0</td>\n",
       "      <td>0</td>\n",
       "      <td>0</td>\n",
       "      <td>0</td>\n",
       "    </tr>\n",
       "  </tbody>\n",
       "</table>\n",
       "</div>"
      ],
      "text/plain": [
       "                                           chatterer chat_contents  cnt_ㅋ  \\\n",
       "time                                                                        \n",
       "2018-12-27 20:19:54  <야지로베 (bestofbestofbestofbest)>             ?      0   \n",
       "2018-12-27 20:19:54                       <ace02ahn>            유하      0   \n",
       "2018-12-27 20:19:54                    <클린노루 (u090)>           루 밍      0   \n",
       "2018-12-27 20:19:54                       <%gurakim>             ?      0   \n",
       "2018-12-27 20:19:54                   <intrigue1997>           ㅇㄱㅇ      0   \n",
       "2018-12-27 20:19:54            <냠냠냠냠2 (yaaaaaaaaap)>         QNA??      0   \n",
       "2018-12-27 20:19:54             <으악새는으악울지 (euaksae)>            유하      0   \n",
       "2018-12-27 20:19:54                   <%브니 (vnivni)>            유하      0   \n",
       "2018-12-27 20:19:54                       <dogsell2>          수금타임      0   \n",
       "2018-12-27 20:19:54              <타워깎는마이 (wodn8520)>          수금시간      0   \n",
       "2018-12-27 20:19:54               <+카나리아 (tail0450)>            유하      0   \n",
       "2018-12-27 20:19:54              <덕배왔니 (rhodanthe1)>            유하      0   \n",
       "2018-12-27 20:19:54                       <effysong>        대놓고 수금      0   \n",
       "\n",
       "                     cnt_ㄵ  cnt_ㄴㅈ  cnt_오  cnt_와  cnt_유하  \n",
       "time                                                      \n",
       "2018-12-27 20:19:54      0       0      0      0       0  \n",
       "2018-12-27 20:19:54      0       0      0      0       1  \n",
       "2018-12-27 20:19:54      0       0      0      0       0  \n",
       "2018-12-27 20:19:54      0       0      0      0       0  \n",
       "2018-12-27 20:19:54      0       0      0      0       0  \n",
       "2018-12-27 20:19:54      0       0      0      0       0  \n",
       "2018-12-27 20:19:54      0       0      0      0       1  \n",
       "2018-12-27 20:19:54      0       0      0      0       1  \n",
       "2018-12-27 20:19:54      0       0      0      0       0  \n",
       "2018-12-27 20:19:54      0       0      0      0       0  \n",
       "2018-12-27 20:19:54      0       0      0      0       1  \n",
       "2018-12-27 20:19:54      0       0      0      0       1  \n",
       "2018-12-27 20:19:54      0       0      0      0       0  "
      ]
     },
     "execution_count": 130,
     "metadata": {},
     "output_type": "execute_result"
    }
   ],
   "source": [
    "chat_data_reindex[chat_data_reindex.index == \"2018-12-27 20:19:54\"]"
   ]
  },
  {
   "cell_type": "markdown",
   "metadata": {},
   "source": [
    "### 시작시간 불러와 시작시간으로부터 00:00:00 으로 시작하는 컬럼만들기"
   ]
  },
  {
   "cell_type": "code",
   "execution_count": 141,
   "metadata": {
    "scrolled": true
   },
   "outputs": [
    {
     "data": {
      "text/plain": [
       "0   2019-01-05 18:09:46\n",
       "1   2019-01-07 18:04:45\n",
       "Name: broad_date, dtype: datetime64[ns]"
      ]
     },
     "execution_count": 141,
     "metadata": {},
     "output_type": "execute_result"
    }
   ],
   "source": [
    "streamer_id = 103861159\n",
    "query = \"select * from twitch_stream where streamer_id = '%s'\" % streamer_id\n",
    "broad_date_df = pd.read_sql_query(query, db_url)\n",
    "\n",
    "broad = pd.to_datetime(broad_date_df['broad_date'])\n",
    "broad.apply(lambda x : x + pd.Timedelta(\"9hours\"))  # 트위치 시간대는 UTC 기준이므로 한국시간으로 +9 하여 변경"
   ]
  },
  {
   "cell_type": "markdown",
   "metadata": {},
   "source": [
    "### 인덱스를 00 부터 시작"
   ]
  },
  {
   "cell_type": "code",
   "execution_count": 294,
   "metadata": {},
   "outputs": [
    {
     "data": {
      "text/plain": [
       "Timestamp('2018-12-27 17:43:26')"
      ]
     },
     "execution_count": 294,
     "metadata": {},
     "output_type": "execute_result"
    }
   ],
   "source": [
    "# 데이터프레임 복사\n",
    "index_new_df = chat_data_reindex.copy()\n",
    "index_new_df.index[0]"
   ]
  },
  {
   "cell_type": "code",
   "execution_count": 295,
   "metadata": {},
   "outputs": [],
   "source": [
    "# 방송시작시간이 다음과 같다면\n",
    "start_time = \"2018-12-27 18:53:50\"\n",
    "start_time = pd.to_datetime(start_time)\n"
   ]
  },
  {
   "cell_type": "code",
   "execution_count": 296,
   "metadata": {
    "scrolled": true
   },
   "outputs": [
    {
     "data": {
      "text/plain": [
       "DatetimeIndex(['2018-12-27 17:43:26'], dtype='datetime64[ns]', name='time', freq=None)"
      ]
     },
     "execution_count": 296,
     "metadata": {},
     "output_type": "execute_result"
    }
   ],
   "source": [
    "# 첫 채팅시간\n",
    "first_chat_time = chat_data_reindex[chat_data_reindex.index == \"2018-12-27 17:43:26\"].index.unique()\n",
    "first_chat_time"
   ]
  },
  {
   "cell_type": "code",
   "execution_count": 297,
   "metadata": {},
   "outputs": [
    {
     "data": {
      "text/plain": [
       "TimedeltaIndex(['-1 days +22:49:36'], dtype='timedelta64[ns]', name='time', freq=None)"
      ]
     },
     "execution_count": 297,
     "metadata": {},
     "output_type": "execute_result"
    }
   ],
   "source": [
    "# 첫 채팅 시간 - 방송 시작 시간 을 통해 방송시작시간으로부터 몇초가 지나고 있는지 확인 가능\n",
    "first_chat_time - start_time"
   ]
  },
  {
   "cell_type": "code",
   "execution_count": 298,
   "metadata": {},
   "outputs": [],
   "source": [
    "# 첫 채팅 시간 - 방송 시작시간을 인덱스로\n",
    "index_new_df['korea_time'] = index_new_df.index\n",
    "index_new_df.index = index_new_df['korea_time'].apply(lambda x : x - start_time)\n",
    "index_new_df.index.name = \"stream_time\""
   ]
  },
  {
   "cell_type": "code",
   "execution_count": 315,
   "metadata": {
    "scrolled": false
   },
   "outputs": [],
   "source": [
    "# 인덱스 중 방송 시작 이전의 데이터는 제외한 나머지\n",
    "new_df = index_new_df[index_new_df.index >= \"00:00:00\"]"
   ]
  },
  {
   "cell_type": "markdown",
   "metadata": {},
   "source": [
    "### 인덱스를 기준으로 피봇팅"
   ]
  },
  {
   "cell_type": "code",
   "execution_count": 324,
   "metadata": {},
   "outputs": [],
   "source": [
    "# 채팅 빈도수 데이터 준비\n",
    "new_pivot_df1 = new_df.pivot_table(index=new_df.index, values=['chat_contents'], aggfunc=len)\n",
    "# 이외의 빈도수 데이터 준비\n",
    "new_pivot_df2 = new_df.pivot_table(index=new_df.index,\n",
    "                                   values=['cnt_ㅋ','cnt_ㄵ','cnt_ㄴㅈ','cnt_오', 'cnt_와', 'cnt_유하'],\n",
    "                                  aggfunc=sum)"
   ]
  },
  {
   "cell_type": "code",
   "execution_count": 359,
   "metadata": {},
   "outputs": [],
   "source": [
    "anal_df = new_pivot_df1.merge(new_pivot_df2, on=new_pivot_df1.index)\n",
    "anal_df.set_index('key_0', inplace=True)\n",
    "anal_df.index.name = \"stream_time\""
   ]
  },
  {
   "cell_type": "code",
   "execution_count": 360,
   "metadata": {},
   "outputs": [
    {
     "data": {
      "text/html": [
       "<div>\n",
       "<style scoped>\n",
       "    .dataframe tbody tr th:only-of-type {\n",
       "        vertical-align: middle;\n",
       "    }\n",
       "\n",
       "    .dataframe tbody tr th {\n",
       "        vertical-align: top;\n",
       "    }\n",
       "\n",
       "    .dataframe thead th {\n",
       "        text-align: right;\n",
       "    }\n",
       "</style>\n",
       "<table border=\"1\" class=\"dataframe\">\n",
       "  <thead>\n",
       "    <tr style=\"text-align: right;\">\n",
       "      <th></th>\n",
       "      <th>chat_contents</th>\n",
       "      <th>cnt_ㄴㅈ</th>\n",
       "      <th>cnt_ㄵ</th>\n",
       "      <th>cnt_ㅋ</th>\n",
       "      <th>cnt_오</th>\n",
       "      <th>cnt_와</th>\n",
       "      <th>cnt_유하</th>\n",
       "    </tr>\n",
       "    <tr>\n",
       "      <th>stream_time</th>\n",
       "      <th></th>\n",
       "      <th></th>\n",
       "      <th></th>\n",
       "      <th></th>\n",
       "      <th></th>\n",
       "      <th></th>\n",
       "      <th></th>\n",
       "    </tr>\n",
       "  </thead>\n",
       "  <tbody>\n",
       "    <tr>\n",
       "      <th>00:00:02</th>\n",
       "      <td>1</td>\n",
       "      <td>0</td>\n",
       "      <td>0</td>\n",
       "      <td>3</td>\n",
       "      <td>0</td>\n",
       "      <td>1</td>\n",
       "      <td>0</td>\n",
       "    </tr>\n",
       "    <tr>\n",
       "      <th>00:00:03</th>\n",
       "      <td>1</td>\n",
       "      <td>0</td>\n",
       "      <td>0</td>\n",
       "      <td>0</td>\n",
       "      <td>0</td>\n",
       "      <td>0</td>\n",
       "      <td>0</td>\n",
       "    </tr>\n",
       "    <tr>\n",
       "      <th>00:00:04</th>\n",
       "      <td>6</td>\n",
       "      <td>0</td>\n",
       "      <td>0</td>\n",
       "      <td>1</td>\n",
       "      <td>3</td>\n",
       "      <td>0</td>\n",
       "      <td>0</td>\n",
       "    </tr>\n",
       "    <tr>\n",
       "      <th>00:00:05</th>\n",
       "      <td>1</td>\n",
       "      <td>0</td>\n",
       "      <td>0</td>\n",
       "      <td>0</td>\n",
       "      <td>0</td>\n",
       "      <td>0</td>\n",
       "      <td>0</td>\n",
       "    </tr>\n",
       "    <tr>\n",
       "      <th>00:00:06</th>\n",
       "      <td>1</td>\n",
       "      <td>0</td>\n",
       "      <td>0</td>\n",
       "      <td>0</td>\n",
       "      <td>0</td>\n",
       "      <td>0</td>\n",
       "      <td>0</td>\n",
       "    </tr>\n",
       "  </tbody>\n",
       "</table>\n",
       "</div>"
      ],
      "text/plain": [
       "             chat_contents  cnt_ㄴㅈ  cnt_ㄵ  cnt_ㅋ  cnt_오  cnt_와  cnt_유하\n",
       "stream_time                                                           \n",
       "00:00:02                 1       0      0      3      0      1       0\n",
       "00:00:03                 1       0      0      0      0      0       0\n",
       "00:00:04                 6       0      0      1      3      0       0\n",
       "00:00:05                 1       0      0      0      0      0       0\n",
       "00:00:06                 1       0      0      0      0      0       0"
      ]
     },
     "execution_count": 360,
     "metadata": {},
     "output_type": "execute_result"
    }
   ],
   "source": [
    "anal_df.head()"
   ]
  },
  {
   "cell_type": "code",
   "execution_count": null,
   "metadata": {},
   "outputs": [],
   "source": []
  }
 ],
 "metadata": {
  "kernelspec": {
   "display_name": "Python 3",
   "language": "python",
   "name": "python3"
  },
  "language_info": {
   "codemirror_mode": {
    "name": "ipython",
    "version": 3
   },
   "file_extension": ".py",
   "mimetype": "text/x-python",
   "name": "python",
   "nbconvert_exporter": "python",
   "pygments_lexer": "ipython3",
   "version": "3.7.1"
  }
 },
 "nbformat": 4,
 "nbformat_minor": 2
}
