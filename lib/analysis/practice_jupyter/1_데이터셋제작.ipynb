{
 "cells": [
  {
   "cell_type": "code",
   "execution_count": 1,
   "metadata": {},
   "outputs": [],
   "source": [
    "import pandas as pd"
   ]
  },
  {
   "cell_type": "markdown",
   "metadata": {},
   "source": [
    "### 데이터 베이스 설정"
   ]
  },
  {
   "cell_type": "code",
   "execution_count": 2,
   "metadata": {},
   "outputs": [],
   "source": [
    "DB_URL = 'onad.cbjjamtlar2t.ap-northeast-2.rds.amazonaws.com'\n",
    "DB_USER = 'onad'\n",
    "DB_PASSWORD = 'rkdghktn12'\n",
    "DB_DATABASE = 'onad'\n",
    "DB_CHARSET = 'utf8mb4'\n",
    "DB_LOGFLAG  = 'False'\n",
    "DB_PORT = 3306\n",
    "\n",
    "db_url = \"mysql+pymysql://%s:%s@%s:%s/%s?charset=%s\" % (\n",
    "    DB_USER, DB_PASSWORD,\n",
    "    DB_URL, DB_PORT,\n",
    "    DB_DATABASE, DB_CHARSET\n",
    ")"
   ]
  },
  {
   "cell_type": "code",
   "execution_count": 3,
   "metadata": {},
   "outputs": [],
   "source": [
    "def data_from_sql_twitchchat(streamer, target_date):\n",
    "    query = \"\"\"\n",
    "        select * from twitch_chat where streamer_name = \"%s\" and broad_date =\"%s\"\n",
    "    \"\"\"% (streamer, target_date)\n",
    "\n",
    "    return pd.read_sql_query(query, db_url)"
   ]
  },
  {
   "cell_type": "markdown",
   "metadata": {},
   "source": [
    "### 채팅 데이터 로드"
   ]
  },
  {
   "cell_type": "code",
   "execution_count": 4,
   "metadata": {},
   "outputs": [],
   "source": [
    "streamer = \"rhdgurwns\"\n",
    "target_date = \"2018-12-15\"\n",
    "chat_data = data_from_sql_twitchchat(streamer, target_date)"
   ]
  },
  {
   "cell_type": "markdown",
   "metadata": {},
   "source": [
    "### Exploratory Data Analysis"
   ]
  },
  {
   "cell_type": "code",
   "execution_count": 5,
   "metadata": {},
   "outputs": [
    {
     "data": {
      "text/plain": [
       "(37888, 6)"
      ]
     },
     "execution_count": 5,
     "metadata": {},
     "output_type": "execute_result"
    }
   ],
   "source": [
    "chat_data.shape"
   ]
  },
  {
   "cell_type": "code",
   "execution_count": 6,
   "metadata": {},
   "outputs": [
    {
     "data": {
      "text/html": [
       "<div>\n",
       "<style scoped>\n",
       "    .dataframe tbody tr th:only-of-type {\n",
       "        vertical-align: middle;\n",
       "    }\n",
       "\n",
       "    .dataframe tbody tr th {\n",
       "        vertical-align: top;\n",
       "    }\n",
       "\n",
       "    .dataframe thead th {\n",
       "        text-align: right;\n",
       "    }\n",
       "</style>\n",
       "<table border=\"1\" class=\"dataframe\">\n",
       "  <thead>\n",
       "    <tr style=\"text-align: right;\">\n",
       "      <th></th>\n",
       "      <th>chat_id</th>\n",
       "      <th>streamer_name</th>\n",
       "      <th>broad_date</th>\n",
       "      <th>chatterer</th>\n",
       "      <th>chat_time</th>\n",
       "      <th>chat_contents</th>\n",
       "    </tr>\n",
       "  </thead>\n",
       "  <tbody>\n",
       "    <tr>\n",
       "      <th>0</th>\n",
       "      <td>6063606</td>\n",
       "      <td>rhdgurwns</td>\n",
       "      <td>2018-12-15</td>\n",
       "      <td>&lt;%업체에게쪽쪽빨린호구 (tkatjf119)&gt;</td>\n",
       "      <td>00:38:21</td>\n",
       "      <td>?</td>\n",
       "    </tr>\n",
       "    <tr>\n",
       "      <th>1</th>\n",
       "      <td>6063607</td>\n",
       "      <td>rhdgurwns</td>\n",
       "      <td>2018-12-15</td>\n",
       "      <td>&lt;구름위에카페 (navernice0723)&gt;</td>\n",
       "      <td>05:56:09</td>\n",
       "      <td>혁준상</td>\n",
       "    </tr>\n",
       "    <tr>\n",
       "      <th>2</th>\n",
       "      <td>6063608</td>\n",
       "      <td>rhdgurwns</td>\n",
       "      <td>2018-12-15</td>\n",
       "      <td>&lt;ow_easybro&gt;</td>\n",
       "      <td>09:01:55</td>\n",
       "      <td>앵긔모씌</td>\n",
       "    </tr>\n",
       "    <tr>\n",
       "      <th>3</th>\n",
       "      <td>6063609</td>\n",
       "      <td>rhdgurwns</td>\n",
       "      <td>2018-12-15</td>\n",
       "      <td>&lt;갱생병장 (tkdrl1104)&gt;</td>\n",
       "      <td>09:47:50</td>\n",
       "      <td>혁준아 언제오냐</td>\n",
       "    </tr>\n",
       "    <tr>\n",
       "      <th>4</th>\n",
       "      <td>6063610</td>\n",
       "      <td>rhdgurwns</td>\n",
       "      <td>2018-12-15</td>\n",
       "      <td>&lt;갱생병장 (tkdrl1104)&gt;</td>\n",
       "      <td>09:48:06</td>\n",
       "      <td>!uptime</td>\n",
       "    </tr>\n",
       "  </tbody>\n",
       "</table>\n",
       "</div>"
      ],
      "text/plain": [
       "   chat_id streamer_name  broad_date                  chatterer chat_time  \\\n",
       "0  6063606     rhdgurwns  2018-12-15  <%업체에게쪽쪽빨린호구 (tkatjf119)>  00:38:21   \n",
       "1  6063607     rhdgurwns  2018-12-15   <구름위에카페 (navernice0723)>  05:56:09   \n",
       "2  6063608     rhdgurwns  2018-12-15               <ow_easybro>  09:01:55   \n",
       "3  6063609     rhdgurwns  2018-12-15         <갱생병장 (tkdrl1104)>  09:47:50   \n",
       "4  6063610     rhdgurwns  2018-12-15         <갱생병장 (tkdrl1104)>  09:48:06   \n",
       "\n",
       "  chat_contents  \n",
       "0             ?  \n",
       "1           혁준상  \n",
       "2          앵긔모씌  \n",
       "3      혁준아 언제오냐  \n",
       "4       !uptime  "
      ]
     },
     "execution_count": 6,
     "metadata": {},
     "output_type": "execute_result"
    }
   ],
   "source": [
    "chat_data.head()"
   ]
  },
  {
   "cell_type": "code",
   "execution_count": 7,
   "metadata": {
    "scrolled": true
   },
   "outputs": [
    {
     "name": "stdout",
     "output_type": "stream",
     "text": [
      "채팅 로그의 수: 37888\n",
      "순수 시청자 수: 3414\n"
     ]
    }
   ],
   "source": [
    "print(\"채팅 로그의 수: %s\" % (chat_data.shape[0]))\n",
    "print(\"순수 시청자 수: %s\" % (len(list(chat_data['chatterer'].unique()))))"
   ]
  },
  {
   "cell_type": "code",
   "execution_count": 8,
   "metadata": {
    "scrolled": false
   },
   "outputs": [
    {
     "name": "stdout",
     "output_type": "stream",
     "text": [
      "채팅로그의 시작과 끝 : 00:38:21 ~ 21:02:04 \n"
     ]
    }
   ],
   "source": [
    "print(\"채팅로그의 시작과 끝 : %s ~ %s \" % (sorted(chat_data['chat_time'])[0], sorted(chat_data['chat_time'])[-1]))"
   ]
  },
  {
   "cell_type": "markdown",
   "metadata": {},
   "source": [
    "### 시간데이터를 DatetimeIndex 로 변경"
   ]
  },
  {
   "cell_type": "code",
   "execution_count": 9,
   "metadata": {},
   "outputs": [],
   "source": [
    "chat_data['chat_time'] = chat_data['chat_time'].apply(lambda x : target_date + \" \" + x)"
   ]
  },
  {
   "cell_type": "code",
   "execution_count": 10,
   "metadata": {},
   "outputs": [
    {
     "data": {
      "text/plain": [
       "0   2018-12-15 00:38:21\n",
       "1   2018-12-15 05:56:09\n",
       "Name: time, dtype: datetime64[ns]"
      ]
     },
     "execution_count": 10,
     "metadata": {},
     "output_type": "execute_result"
    }
   ],
   "source": [
    "chat_data['time'] = pd.to_datetime(chat_data['chat_time'])\n",
    "chat_data['time'].head(2)"
   ]
  },
  {
   "cell_type": "code",
   "execution_count": 11,
   "metadata": {},
   "outputs": [],
   "source": [
    "chat_data_reindex = chat_data.set_index('time')"
   ]
  },
  {
   "cell_type": "code",
   "execution_count": 12,
   "metadata": {},
   "outputs": [
    {
     "data": {
      "text/html": [
       "<div>\n",
       "<style scoped>\n",
       "    .dataframe tbody tr th:only-of-type {\n",
       "        vertical-align: middle;\n",
       "    }\n",
       "\n",
       "    .dataframe tbody tr th {\n",
       "        vertical-align: top;\n",
       "    }\n",
       "\n",
       "    .dataframe thead th {\n",
       "        text-align: right;\n",
       "    }\n",
       "</style>\n",
       "<table border=\"1\" class=\"dataframe\">\n",
       "  <thead>\n",
       "    <tr style=\"text-align: right;\">\n",
       "      <th></th>\n",
       "      <th>chat_id</th>\n",
       "      <th>streamer_name</th>\n",
       "      <th>broad_date</th>\n",
       "      <th>chatterer</th>\n",
       "      <th>chat_time</th>\n",
       "      <th>chat_contents</th>\n",
       "    </tr>\n",
       "    <tr>\n",
       "      <th>time</th>\n",
       "      <th></th>\n",
       "      <th></th>\n",
       "      <th></th>\n",
       "      <th></th>\n",
       "      <th></th>\n",
       "      <th></th>\n",
       "    </tr>\n",
       "  </thead>\n",
       "  <tbody>\n",
       "    <tr>\n",
       "      <th>2018-12-15 00:38:21</th>\n",
       "      <td>6063606</td>\n",
       "      <td>rhdgurwns</td>\n",
       "      <td>2018-12-15</td>\n",
       "      <td>&lt;%업체에게쪽쪽빨린호구 (tkatjf119)&gt;</td>\n",
       "      <td>2018-12-15 00:38:21</td>\n",
       "      <td>?</td>\n",
       "    </tr>\n",
       "    <tr>\n",
       "      <th>2018-12-15 05:56:09</th>\n",
       "      <td>6063607</td>\n",
       "      <td>rhdgurwns</td>\n",
       "      <td>2018-12-15</td>\n",
       "      <td>&lt;구름위에카페 (navernice0723)&gt;</td>\n",
       "      <td>2018-12-15 05:56:09</td>\n",
       "      <td>혁준상</td>\n",
       "    </tr>\n",
       "  </tbody>\n",
       "</table>\n",
       "</div>"
      ],
      "text/plain": [
       "                     chat_id streamer_name  broad_date  \\\n",
       "time                                                     \n",
       "2018-12-15 00:38:21  6063606     rhdgurwns  2018-12-15   \n",
       "2018-12-15 05:56:09  6063607     rhdgurwns  2018-12-15   \n",
       "\n",
       "                                     chatterer            chat_time  \\\n",
       "time                                                                  \n",
       "2018-12-15 00:38:21  <%업체에게쪽쪽빨린호구 (tkatjf119)>  2018-12-15 00:38:21   \n",
       "2018-12-15 05:56:09   <구름위에카페 (navernice0723)>  2018-12-15 05:56:09   \n",
       "\n",
       "                    chat_contents  \n",
       "time                               \n",
       "2018-12-15 00:38:21             ?  \n",
       "2018-12-15 05:56:09           혁준상  "
      ]
     },
     "execution_count": 12,
     "metadata": {},
     "output_type": "execute_result"
    }
   ],
   "source": [
    "chat_data_reindex.head(2)"
   ]
  },
  {
   "cell_type": "markdown",
   "metadata": {},
   "source": [
    "## 분석용 데이터셋 제작\n",
    "\n",
    "#### 1. 필요없는 행 삭제"
   ]
  },
  {
   "cell_type": "code",
   "execution_count": 13,
   "metadata": {
    "scrolled": true
   },
   "outputs": [],
   "source": [
    "# 필요없는 행 삭제\n",
    "del chat_data_reindex['chat_id']\n",
    "del chat_data_reindex['streamer_name']\n",
    "del chat_data_reindex['broad_date']\n",
    "del chat_data_reindex['chat_time']"
   ]
  },
  {
   "cell_type": "code",
   "execution_count": 14,
   "metadata": {
    "scrolled": true
   },
   "outputs": [
    {
     "data": {
      "text/html": [
       "<div>\n",
       "<style scoped>\n",
       "    .dataframe tbody tr th:only-of-type {\n",
       "        vertical-align: middle;\n",
       "    }\n",
       "\n",
       "    .dataframe tbody tr th {\n",
       "        vertical-align: top;\n",
       "    }\n",
       "\n",
       "    .dataframe thead th {\n",
       "        text-align: right;\n",
       "    }\n",
       "</style>\n",
       "<table border=\"1\" class=\"dataframe\">\n",
       "  <thead>\n",
       "    <tr style=\"text-align: right;\">\n",
       "      <th></th>\n",
       "      <th>chatterer</th>\n",
       "      <th>chat_contents</th>\n",
       "    </tr>\n",
       "    <tr>\n",
       "      <th>time</th>\n",
       "      <th></th>\n",
       "      <th></th>\n",
       "    </tr>\n",
       "  </thead>\n",
       "  <tbody>\n",
       "    <tr>\n",
       "      <th>2018-12-15 00:38:21</th>\n",
       "      <td>&lt;%업체에게쪽쪽빨린호구 (tkatjf119)&gt;</td>\n",
       "      <td>?</td>\n",
       "    </tr>\n",
       "    <tr>\n",
       "      <th>2018-12-15 05:56:09</th>\n",
       "      <td>&lt;구름위에카페 (navernice0723)&gt;</td>\n",
       "      <td>혁준상</td>\n",
       "    </tr>\n",
       "  </tbody>\n",
       "</table>\n",
       "</div>"
      ],
      "text/plain": [
       "                                     chatterer chat_contents\n",
       "time                                                        \n",
       "2018-12-15 00:38:21  <%업체에게쪽쪽빨린호구 (tkatjf119)>             ?\n",
       "2018-12-15 05:56:09   <구름위에카페 (navernice0723)>           혁준상"
      ]
     },
     "execution_count": 14,
     "metadata": {},
     "output_type": "execute_result"
    }
   ],
   "source": [
    "chat_data_reindex.head(2)"
   ]
  },
  {
   "cell_type": "markdown",
   "metadata": {},
   "source": [
    "#### 2. 한 문장에서 특정 단어의 수 세어 컬럼으로 생성"
   ]
  },
  {
   "cell_type": "code",
   "execution_count": 15,
   "metadata": {},
   "outputs": [],
   "source": [
    "chat_data_reindex['cnt_ㅋ'] = chat_data_reindex.chat_contents.apply(lambda x : x.count(\"ㅋ\"))\n",
    "chat_data_reindex['cnt_ㄵ'] = chat_data_reindex.chat_contents.apply(lambda x : x.count(\"ㄵ\"))\n",
    "chat_data_reindex['cnt_ㄴㅈ'] = chat_data_reindex.chat_contents.apply(lambda x : x.count(\"ㄴㅈ\"))\n",
    "chat_data_reindex['cnt_오'] = chat_data_reindex.chat_contents.apply(lambda x : x.count(\"오\"))\n",
    "chat_data_reindex['cnt_와'] = chat_data_reindex.chat_contents.apply(lambda x : x.count(\"와\"))\n",
    "chat_data_reindex['cnt_유하'] = chat_data_reindex.chat_contents.apply(lambda x : x.count(\"유하\"))\n"
   ]
  },
  {
   "cell_type": "code",
   "execution_count": 16,
   "metadata": {},
   "outputs": [
    {
     "data": {
      "text/html": [
       "<div>\n",
       "<style scoped>\n",
       "    .dataframe tbody tr th:only-of-type {\n",
       "        vertical-align: middle;\n",
       "    }\n",
       "\n",
       "    .dataframe tbody tr th {\n",
       "        vertical-align: top;\n",
       "    }\n",
       "\n",
       "    .dataframe thead th {\n",
       "        text-align: right;\n",
       "    }\n",
       "</style>\n",
       "<table border=\"1\" class=\"dataframe\">\n",
       "  <thead>\n",
       "    <tr style=\"text-align: right;\">\n",
       "      <th></th>\n",
       "      <th>chatterer</th>\n",
       "      <th>chat_contents</th>\n",
       "      <th>cnt_ㅋ</th>\n",
       "      <th>cnt_ㄵ</th>\n",
       "      <th>cnt_ㄴㅈ</th>\n",
       "      <th>cnt_오</th>\n",
       "      <th>cnt_와</th>\n",
       "      <th>cnt_유하</th>\n",
       "    </tr>\n",
       "    <tr>\n",
       "      <th>time</th>\n",
       "      <th></th>\n",
       "      <th></th>\n",
       "      <th></th>\n",
       "      <th></th>\n",
       "      <th></th>\n",
       "      <th></th>\n",
       "      <th></th>\n",
       "      <th></th>\n",
       "    </tr>\n",
       "  </thead>\n",
       "  <tbody>\n",
       "    <tr>\n",
       "      <th>2018-12-15 00:38:21</th>\n",
       "      <td>&lt;%업체에게쪽쪽빨린호구 (tkatjf119)&gt;</td>\n",
       "      <td>?</td>\n",
       "      <td>0</td>\n",
       "      <td>0</td>\n",
       "      <td>0</td>\n",
       "      <td>0</td>\n",
       "      <td>0</td>\n",
       "      <td>0</td>\n",
       "    </tr>\n",
       "    <tr>\n",
       "      <th>2018-12-15 05:56:09</th>\n",
       "      <td>&lt;구름위에카페 (navernice0723)&gt;</td>\n",
       "      <td>혁준상</td>\n",
       "      <td>0</td>\n",
       "      <td>0</td>\n",
       "      <td>0</td>\n",
       "      <td>0</td>\n",
       "      <td>0</td>\n",
       "      <td>0</td>\n",
       "    </tr>\n",
       "  </tbody>\n",
       "</table>\n",
       "</div>"
      ],
      "text/plain": [
       "                                     chatterer chat_contents  cnt_ㅋ  cnt_ㄵ  \\\n",
       "time                                                                         \n",
       "2018-12-15 00:38:21  <%업체에게쪽쪽빨린호구 (tkatjf119)>             ?      0      0   \n",
       "2018-12-15 05:56:09   <구름위에카페 (navernice0723)>           혁준상      0      0   \n",
       "\n",
       "                     cnt_ㄴㅈ  cnt_오  cnt_와  cnt_유하  \n",
       "time                                               \n",
       "2018-12-15 00:38:21       0      0      0       0  \n",
       "2018-12-15 05:56:09       0      0      0       0  "
      ]
     },
     "execution_count": 16,
     "metadata": {},
     "output_type": "execute_result"
    }
   ],
   "source": [
    "chat_data_reindex.head(2)"
   ]
  },
  {
   "cell_type": "markdown",
   "metadata": {},
   "source": [
    "#### 3. 해당 채팅 수 빈도를 갖는 피봇 데이터 프레임 생성"
   ]
  },
  {
   "cell_type": "code",
   "execution_count": 17,
   "metadata": {
    "scrolled": true
   },
   "outputs": [
    {
     "name": "stdout",
     "output_type": "stream",
     "text": [
      "[25, 22, 21, 19, 18, 17, 16, 15, 14, 13]\n",
      "[414, 365, 236, 226, 195, 187, 181, 176, 168, 166]\n"
     ]
    },
    {
     "data": {
      "text/html": [
       "<div>\n",
       "<style scoped>\n",
       "    .dataframe tbody tr th:only-of-type {\n",
       "        vertical-align: middle;\n",
       "    }\n",
       "\n",
       "    .dataframe tbody tr th {\n",
       "        vertical-align: top;\n",
       "    }\n",
       "\n",
       "    .dataframe thead th {\n",
       "        text-align: right;\n",
       "    }\n",
       "</style>\n",
       "<table border=\"1\" class=\"dataframe\">\n",
       "  <thead>\n",
       "    <tr style=\"text-align: right;\">\n",
       "      <th></th>\n",
       "      <th>cnt_chat</th>\n",
       "      <th>cnt_ㅋ</th>\n",
       "      <th>cnt_ㄵ</th>\n",
       "      <th>cnt_오</th>\n",
       "      <th>cnt_와</th>\n",
       "      <th>cnt_유하</th>\n",
       "    </tr>\n",
       "    <tr>\n",
       "      <th>time</th>\n",
       "      <th></th>\n",
       "      <th></th>\n",
       "      <th></th>\n",
       "      <th></th>\n",
       "      <th></th>\n",
       "      <th></th>\n",
       "    </tr>\n",
       "  </thead>\n",
       "  <tbody>\n",
       "    <tr>\n",
       "      <th>2018-12-15 00:38:21</th>\n",
       "      <td>1</td>\n",
       "      <td>0</td>\n",
       "      <td>0</td>\n",
       "      <td>0</td>\n",
       "      <td>0</td>\n",
       "      <td>0</td>\n",
       "    </tr>\n",
       "    <tr>\n",
       "      <th>2018-12-15 05:56:09</th>\n",
       "      <td>1</td>\n",
       "      <td>0</td>\n",
       "      <td>0</td>\n",
       "      <td>0</td>\n",
       "      <td>0</td>\n",
       "      <td>0</td>\n",
       "    </tr>\n",
       "  </tbody>\n",
       "</table>\n",
       "</div>"
      ],
      "text/plain": [
       "                     cnt_chat  cnt_ㅋ  cnt_ㄵ  cnt_오  cnt_와  cnt_유하\n",
       "time                                                             \n",
       "2018-12-15 00:38:21         1      0      0      0      0       0\n",
       "2018-12-15 05:56:09         1      0      0      0      0       0"
      ]
     },
     "execution_count": 17,
     "metadata": {},
     "output_type": "execute_result"
    }
   ],
   "source": [
    "pivot_df = chat_data_reindex.pivot_table(index=chat_data_reindex.index, aggfunc=len, values='chatterer')\n",
    "pivot_df.columns = ['cnt_chat']  # 컬럼 이름 할당\n",
    "pivot_df[\"cnt_ㅋ\"] = chat_data_reindex.pivot_table(index = chat_data_reindex.index, aggfunc=sum, values='cnt_ㅋ')['cnt_ㅋ']\n",
    "pivot_df[\"cnt_ㄵ\"] = chat_data_reindex.pivot_table(index = chat_data_reindex.index, aggfunc=sum, values='cnt_ㄵ')['cnt_ㄵ'] +\\\n",
    "                    chat_data_reindex.pivot_table(index = chat_data_reindex.index, aggfunc=sum, values='cnt_ㄴㅈ')['cnt_ㄴㅈ']\n",
    "pivot_df[\"cnt_오\"] = chat_data_reindex.pivot_table(index = chat_data_reindex.index, aggfunc=sum, values='cnt_오')['cnt_오']\n",
    "pivot_df[\"cnt_와\"] = chat_data_reindex.pivot_table(index = chat_data_reindex.index, aggfunc=sum, values='cnt_와')['cnt_와']\n",
    "pivot_df[\"cnt_유하\"] = chat_data_reindex.pivot_table(index = chat_data_reindex.index, aggfunc=sum, values='cnt_유하')['cnt_유하']\n",
    "\n",
    "# 초당 채팅수가 평균 이상인 경우만 보이도록\n",
    "pivot_df[pivot_df['cnt_chat'] > pivot_df['cnt_chat'].mean()]\n",
    "print(sorted(pivot_df['cnt_chat'].unique(), reverse=True)[:10])\n",
    "print(sorted(pivot_df['cnt_ㅋ'].unique(), reverse=True)[:10])\n",
    "\n",
    "pivot_df.head(2)"
   ]
  },
  {
   "cell_type": "markdown",
   "metadata": {},
   "source": [
    "### 검증데이터를 추가, 검증데이터와 분석데이터간 상관관계를 알아보자\n",
    "\n",
    "- 검증데이터: yes/no 의 명목형 변수  \n",
    "- 이외의 다른 열 : 연속형 변수  \n",
    "명목형 변수와 연속형 변수의 상관관계의 경우 **`Point-biserial correlation`** 을 사용함  \n",
    "이는 scipy.stats 모듈에 pointbiserialr 메소드로 구현되어 있음\n",
    "\n",
    "#### 시험해보기 위한 치팅\n",
    "- 채팅 수가 60% 중위수 이상인 경우 모두 하이라이트영상이 있다고 가정하여 데이터프레임 생성"
   ]
  },
  {
   "cell_type": "code",
   "execution_count": 18,
   "metadata": {
    "scrolled": false
   },
   "outputs": [
    {
     "data": {
      "text/html": [
       "<div>\n",
       "<style scoped>\n",
       "    .dataframe tbody tr th:only-of-type {\n",
       "        vertical-align: middle;\n",
       "    }\n",
       "\n",
       "    .dataframe tbody tr th {\n",
       "        vertical-align: top;\n",
       "    }\n",
       "\n",
       "    .dataframe thead th {\n",
       "        text-align: right;\n",
       "    }\n",
       "</style>\n",
       "<table border=\"1\" class=\"dataframe\">\n",
       "  <thead>\n",
       "    <tr style=\"text-align: right;\">\n",
       "      <th></th>\n",
       "      <th>cnt_chat</th>\n",
       "      <th>cnt_ㅋ</th>\n",
       "      <th>cnt_ㄵ</th>\n",
       "      <th>cnt_오</th>\n",
       "      <th>cnt_와</th>\n",
       "      <th>cnt_유하</th>\n",
       "    </tr>\n",
       "    <tr>\n",
       "      <th>time</th>\n",
       "      <th></th>\n",
       "      <th></th>\n",
       "      <th></th>\n",
       "      <th></th>\n",
       "      <th></th>\n",
       "      <th></th>\n",
       "    </tr>\n",
       "  </thead>\n",
       "  <tbody>\n",
       "    <tr>\n",
       "      <th>2018-12-15 13:15:37</th>\n",
       "      <td>16</td>\n",
       "      <td>16</td>\n",
       "      <td>0</td>\n",
       "      <td>0</td>\n",
       "      <td>0</td>\n",
       "      <td>0</td>\n",
       "    </tr>\n",
       "    <tr>\n",
       "      <th>2018-12-15 13:16:25</th>\n",
       "      <td>16</td>\n",
       "      <td>0</td>\n",
       "      <td>0</td>\n",
       "      <td>0</td>\n",
       "      <td>0</td>\n",
       "      <td>0</td>\n",
       "    </tr>\n",
       "  </tbody>\n",
       "</table>\n",
       "</div>"
      ],
      "text/plain": [
       "                     cnt_chat  cnt_ㅋ  cnt_ㄵ  cnt_오  cnt_와  cnt_유하\n",
       "time                                                             \n",
       "2018-12-15 13:15:37        16     16      0      0      0       0\n",
       "2018-12-15 13:16:25        16      0      0      0      0       0"
      ]
     },
     "execution_count": 18,
     "metadata": {},
     "output_type": "execute_result"
    }
   ],
   "source": [
    "import numpy as np\n",
    "anal_df = pivot_df.copy()\n",
    "percentile = np.percentile(anal_df.cnt_chat.unique(), 70)\n",
    "anal_df[anal_df['cnt_chat'] > percentile].head(2)"
   ]
  },
  {
   "cell_type": "markdown",
   "metadata": {},
   "source": [
    "#### 전체 채팅 70% 보다 채팅 수가 높은 경우의 점들을 모두 yes 로"
   ]
  },
  {
   "cell_type": "code",
   "execution_count": 19,
   "metadata": {},
   "outputs": [],
   "source": [
    "anal_df['validation'] = anal_df['cnt_chat'].apply(lambda x : 1 if x >= percentile else 0)"
   ]
  },
  {
   "cell_type": "code",
   "execution_count": 20,
   "metadata": {
    "scrolled": true
   },
   "outputs": [
    {
     "data": {
      "text/plain": [
       "array([0, 1], dtype=int64)"
      ]
     },
     "execution_count": 20,
     "metadata": {},
     "output_type": "execute_result"
    }
   ],
   "source": [
    "anal_df['validation'].unique()"
   ]
  },
  {
   "cell_type": "markdown",
   "metadata": {},
   "source": [
    "#### scipy.stats 불러오기"
   ]
  },
  {
   "cell_type": "code",
   "execution_count": 21,
   "metadata": {
    "scrolled": true
   },
   "outputs": [
    {
     "name": "stdout",
     "output_type": "stream",
     "text": [
      "cnt_chat 상관 정도 :  0.2503603653249046\n",
      "cnt_ㅋ 상관 정도 :  0.20445949254447038\n",
      "cnt_ㄵ 상관 정도 :  -0.0021500155806833446\n",
      "cnt_오 상관 정도 :  0.009281894601281667\n",
      "cnt_와 상관 정도 :  0.09071666087105501\n",
      "cnt_유하 상관 정도 :  -0.001167740234008065\n",
      "validation 상관 정도 :  1.0\n"
     ]
    }
   ],
   "source": [
    "from scipy import stats\n",
    "for col in anal_df:\n",
    "    print(\"%s 상관 정도 : \" % col, stats.pointbiserialr(anal_df[col], anal_df['validation']).correlation)"
   ]
  },
  {
   "cell_type": "code",
   "execution_count": 22,
   "metadata": {},
   "outputs": [
    {
     "data": {
      "text/html": [
       "<div>\n",
       "<style scoped>\n",
       "    .dataframe tbody tr th:only-of-type {\n",
       "        vertical-align: middle;\n",
       "    }\n",
       "\n",
       "    .dataframe tbody tr th {\n",
       "        vertical-align: top;\n",
       "    }\n",
       "\n",
       "    .dataframe thead th {\n",
       "        text-align: right;\n",
       "    }\n",
       "</style>\n",
       "<table border=\"1\" class=\"dataframe\">\n",
       "  <thead>\n",
       "    <tr style=\"text-align: right;\">\n",
       "      <th></th>\n",
       "      <th>cnt_chat</th>\n",
       "      <th>cnt_ㅋ</th>\n",
       "      <th>cnt_ㄵ</th>\n",
       "      <th>cnt_오</th>\n",
       "      <th>cnt_와</th>\n",
       "      <th>cnt_유하</th>\n",
       "      <th>validation</th>\n",
       "    </tr>\n",
       "  </thead>\n",
       "  <tbody>\n",
       "    <tr>\n",
       "      <th>cnt_chat</th>\n",
       "      <td>1.000000</td>\n",
       "      <td>0.428453</td>\n",
       "      <td>0.027349</td>\n",
       "      <td>0.067837</td>\n",
       "      <td>0.166636</td>\n",
       "      <td>0.028116</td>\n",
       "      <td>0.250360</td>\n",
       "    </tr>\n",
       "    <tr>\n",
       "      <th>cnt_ㅋ</th>\n",
       "      <td>0.428453</td>\n",
       "      <td>1.000000</td>\n",
       "      <td>0.009147</td>\n",
       "      <td>0.003993</td>\n",
       "      <td>0.007971</td>\n",
       "      <td>-0.003505</td>\n",
       "      <td>0.204459</td>\n",
       "    </tr>\n",
       "    <tr>\n",
       "      <th>cnt_ㄵ</th>\n",
       "      <td>0.027349</td>\n",
       "      <td>0.009147</td>\n",
       "      <td>1.000000</td>\n",
       "      <td>-0.003497</td>\n",
       "      <td>0.010259</td>\n",
       "      <td>-0.001880</td>\n",
       "      <td>-0.002150</td>\n",
       "    </tr>\n",
       "    <tr>\n",
       "      <th>cnt_오</th>\n",
       "      <td>0.067837</td>\n",
       "      <td>0.003993</td>\n",
       "      <td>-0.003497</td>\n",
       "      <td>1.000000</td>\n",
       "      <td>0.013102</td>\n",
       "      <td>0.008990</td>\n",
       "      <td>0.009282</td>\n",
       "    </tr>\n",
       "    <tr>\n",
       "      <th>cnt_와</th>\n",
       "      <td>0.166636</td>\n",
       "      <td>0.007971</td>\n",
       "      <td>0.010259</td>\n",
       "      <td>0.013102</td>\n",
       "      <td>1.000000</td>\n",
       "      <td>-0.005046</td>\n",
       "      <td>0.090717</td>\n",
       "    </tr>\n",
       "    <tr>\n",
       "      <th>cnt_유하</th>\n",
       "      <td>0.028116</td>\n",
       "      <td>-0.003505</td>\n",
       "      <td>-0.001880</td>\n",
       "      <td>0.008990</td>\n",
       "      <td>-0.005046</td>\n",
       "      <td>1.000000</td>\n",
       "      <td>-0.001168</td>\n",
       "    </tr>\n",
       "    <tr>\n",
       "      <th>validation</th>\n",
       "      <td>0.250360</td>\n",
       "      <td>0.204459</td>\n",
       "      <td>-0.002150</td>\n",
       "      <td>0.009282</td>\n",
       "      <td>0.090717</td>\n",
       "      <td>-0.001168</td>\n",
       "      <td>1.000000</td>\n",
       "    </tr>\n",
       "  </tbody>\n",
       "</table>\n",
       "</div>"
      ],
      "text/plain": [
       "            cnt_chat     cnt_ㅋ     cnt_ㄵ     cnt_오     cnt_와    cnt_유하  \\\n",
       "cnt_chat    1.000000  0.428453  0.027349  0.067837  0.166636  0.028116   \n",
       "cnt_ㅋ       0.428453  1.000000  0.009147  0.003993  0.007971 -0.003505   \n",
       "cnt_ㄵ       0.027349  0.009147  1.000000 -0.003497  0.010259 -0.001880   \n",
       "cnt_오       0.067837  0.003993 -0.003497  1.000000  0.013102  0.008990   \n",
       "cnt_와       0.166636  0.007971  0.010259  0.013102  1.000000 -0.005046   \n",
       "cnt_유하      0.028116 -0.003505 -0.001880  0.008990 -0.005046  1.000000   \n",
       "validation  0.250360  0.204459 -0.002150  0.009282  0.090717 -0.001168   \n",
       "\n",
       "            validation  \n",
       "cnt_chat      0.250360  \n",
       "cnt_ㅋ         0.204459  \n",
       "cnt_ㄵ        -0.002150  \n",
       "cnt_오         0.009282  \n",
       "cnt_와         0.090717  \n",
       "cnt_유하       -0.001168  \n",
       "validation    1.000000  "
      ]
     },
     "execution_count": 22,
     "metadata": {},
     "output_type": "execute_result"
    }
   ],
   "source": [
    "anal_df.corr()"
   ]
  },
  {
   "cell_type": "markdown",
   "metadata": {},
   "source": [
    "### <center>수집한 검증데이터로 상관관계알아보자</center>\n",
    "<center>* 공혁준</center>\n",
    "\n",
    "|영상날짜|영상 시작 시간|종료시간|영상길이|\n",
    "|--|:---:|:---:|---|\n",
    "|2018-12-09|13:24:14|18:53:34|5:29:20|\n",
    "|2018-12-09|16:42:35|16:48:26|0:05:35|\n",
    "|2018-12-09|17:37:25|17:44:41|0:07:16|\n",
    "|2018-12-09|16:54:40|17:03:49|0:09:09|\n",
    "|2018-12-09|17:17:08|17:19:08|0:02:00|\n",
    "\n",
    "#### 유튜브 영상 시작시간과 끝 시간 딕셔너리 생성"
   ]
  },
  {
   "cell_type": "code",
   "execution_count": 53,
   "metadata": {},
   "outputs": [],
   "source": [
    "# 유튜브 비디오 시작시간과 끝시간\n",
    "youtube_video_time = {\n",
    "    '2018-12-09 16:42:35': '2018-12-09 16:48:26',\n",
    "    '2018-12-09 17:37:25': '2018-12-09 17:44:41',\n",
    "    '2018-12-09 16:54:40': '2018-12-09 17:03:49',\n",
    "    '2018-12-09 17:17:08': '2018-12-09 17:19:08',\n",
    "}\n",
    "youtube_video_time1207 = {\n",
    "    '2018-12-07 14:01:07': '2018-12-07 14:04:53',\n",
    "    '2018-12-07 13:39:05': '2018-12-07 13:59:53',\n",
    "    '2018-12-07 12:46:18': '2018-12-07 13:11:40',\n",
    "#     '2018-12-07 8:59:02': '14:15:13',\n",
    "}\n",
    "youtube_video_time1213 = {\n",
    "    '2018-12-13 19:58:26': '2018-12-13 14:33:24',\n",
    "}\n",
    "youtube_video_time1215 = {\n",
    "    '2018-12-15 14:29:30': '2018-12-15 14:33:24',\n",
    "    '2018-12-15 14:35:25': '2018-12-15 15:01:20',\n",
    "}"
   ]
  },
  {
   "cell_type": "markdown",
   "metadata": {},
   "source": [
    "#### 유튜브 영상 시작, 끝 까지의 모든 초 DATETIME 생성"
   ]
  },
  {
   "cell_type": "code",
   "execution_count": 54,
   "metadata": {},
   "outputs": [],
   "source": [
    "# 시작시간부터 끝 시간까지의 모든 초의 데이트타임생성\n",
    "highlight_times = [pd.date_range(start=start, end=end, freq='s') for start, end in youtube_video_time1215.items()]\n",
    "hl_times = []\n",
    "for time in highlight_times:\n",
    "    hl_times.extend(time)\n"
   ]
  },
  {
   "cell_type": "code",
   "execution_count": 55,
   "metadata": {
    "scrolled": true
   },
   "outputs": [
    {
     "data": {
      "text/plain": [
       "(1791,\n",
       " [Timestamp('2018-12-15 14:29:30', freq='S'),\n",
       "  Timestamp('2018-12-15 14:29:31', freq='S')])"
      ]
     },
     "execution_count": 55,
     "metadata": {},
     "output_type": "execute_result"
    }
   ],
   "source": [
    "len(hl_times), hl_times[:2]"
   ]
  },
  {
   "cell_type": "markdown",
   "metadata": {},
   "source": [
    "#### 채팅로그 데이터에 유튜브 영상시간에 해당하면 validation 컬럼 1으로"
   ]
  },
  {
   "cell_type": "code",
   "execution_count": 56,
   "metadata": {},
   "outputs": [
    {
     "data": {
      "text/html": [
       "<div>\n",
       "<style scoped>\n",
       "    .dataframe tbody tr th:only-of-type {\n",
       "        vertical-align: middle;\n",
       "    }\n",
       "\n",
       "    .dataframe tbody tr th {\n",
       "        vertical-align: top;\n",
       "    }\n",
       "\n",
       "    .dataframe thead th {\n",
       "        text-align: right;\n",
       "    }\n",
       "</style>\n",
       "<table border=\"1\" class=\"dataframe\">\n",
       "  <thead>\n",
       "    <tr style=\"text-align: right;\">\n",
       "      <th></th>\n",
       "      <th>chatterer</th>\n",
       "      <th>chat_contents</th>\n",
       "      <th>cnt_ㅋ</th>\n",
       "      <th>cnt_ㄵ</th>\n",
       "      <th>cnt_ㄴㅈ</th>\n",
       "      <th>cnt_오</th>\n",
       "      <th>cnt_와</th>\n",
       "      <th>cnt_유하</th>\n",
       "      <th>validation</th>\n",
       "    </tr>\n",
       "    <tr>\n",
       "      <th>time</th>\n",
       "      <th></th>\n",
       "      <th></th>\n",
       "      <th></th>\n",
       "      <th></th>\n",
       "      <th></th>\n",
       "      <th></th>\n",
       "      <th></th>\n",
       "      <th></th>\n",
       "      <th></th>\n",
       "    </tr>\n",
       "  </thead>\n",
       "  <tbody>\n",
       "    <tr>\n",
       "      <th>2018-12-15 00:38:21</th>\n",
       "      <td>&lt;%업체에게쪽쪽빨린호구 (tkatjf119)&gt;</td>\n",
       "      <td>?</td>\n",
       "      <td>0</td>\n",
       "      <td>0</td>\n",
       "      <td>0</td>\n",
       "      <td>0</td>\n",
       "      <td>0</td>\n",
       "      <td>0</td>\n",
       "      <td>0</td>\n",
       "    </tr>\n",
       "    <tr>\n",
       "      <th>2018-12-15 05:56:09</th>\n",
       "      <td>&lt;구름위에카페 (navernice0723)&gt;</td>\n",
       "      <td>혁준상</td>\n",
       "      <td>0</td>\n",
       "      <td>0</td>\n",
       "      <td>0</td>\n",
       "      <td>0</td>\n",
       "      <td>0</td>\n",
       "      <td>0</td>\n",
       "      <td>0</td>\n",
       "    </tr>\n",
       "  </tbody>\n",
       "</table>\n",
       "</div>"
      ],
      "text/plain": [
       "                                     chatterer chat_contents  cnt_ㅋ  cnt_ㄵ  \\\n",
       "time                                                                         \n",
       "2018-12-15 00:38:21  <%업체에게쪽쪽빨린호구 (tkatjf119)>             ?      0      0   \n",
       "2018-12-15 05:56:09   <구름위에카페 (navernice0723)>           혁준상      0      0   \n",
       "\n",
       "                     cnt_ㄴㅈ  cnt_오  cnt_와  cnt_유하  validation  \n",
       "time                                                           \n",
       "2018-12-15 00:38:21       0      0      0       0           0  \n",
       "2018-12-15 05:56:09       0      0      0       0           0  "
      ]
     },
     "execution_count": 56,
     "metadata": {},
     "output_type": "execute_result"
    }
   ],
   "source": [
    "chat_data_reindex.head(2)"
   ]
  },
  {
   "cell_type": "code",
   "execution_count": 57,
   "metadata": {},
   "outputs": [],
   "source": [
    "chat_data_reindex['validation'] = chat_data_reindex.index\n",
    "chat_data_reindex['validation'] = chat_data_reindex['validation'].apply(lambda x : 1 if x in hl_times else 0)"
   ]
  },
  {
   "cell_type": "code",
   "execution_count": null,
   "metadata": {},
   "outputs": [],
   "source": []
  },
  {
   "cell_type": "code",
   "execution_count": 58,
   "metadata": {},
   "outputs": [
    {
     "data": {
      "text/plain": [
       "array([0, 1], dtype=int64)"
      ]
     },
     "execution_count": 58,
     "metadata": {},
     "output_type": "execute_result"
    }
   ],
   "source": [
    "chat_data_reindex.validation.unique()"
   ]
  },
  {
   "cell_type": "code",
   "execution_count": 59,
   "metadata": {
    "scrolled": false
   },
   "outputs": [
    {
     "data": {
      "text/html": [
       "<div>\n",
       "<style scoped>\n",
       "    .dataframe tbody tr th:only-of-type {\n",
       "        vertical-align: middle;\n",
       "    }\n",
       "\n",
       "    .dataframe tbody tr th {\n",
       "        vertical-align: top;\n",
       "    }\n",
       "\n",
       "    .dataframe thead th {\n",
       "        text-align: right;\n",
       "    }\n",
       "</style>\n",
       "<table border=\"1\" class=\"dataframe\">\n",
       "  <thead>\n",
       "    <tr style=\"text-align: right;\">\n",
       "      <th></th>\n",
       "      <th>cnt_ㅋ</th>\n",
       "      <th>cnt_ㄵ</th>\n",
       "      <th>cnt_ㄴㅈ</th>\n",
       "      <th>cnt_오</th>\n",
       "      <th>cnt_와</th>\n",
       "      <th>cnt_유하</th>\n",
       "      <th>validation</th>\n",
       "    </tr>\n",
       "  </thead>\n",
       "  <tbody>\n",
       "    <tr>\n",
       "      <th>cnt_ㅋ</th>\n",
       "      <td>1.000000</td>\n",
       "      <td>-0.009981</td>\n",
       "      <td>-0.007069</td>\n",
       "      <td>-0.032052</td>\n",
       "      <td>-0.034817</td>\n",
       "      <td>-0.005925</td>\n",
       "      <td>-0.040048</td>\n",
       "    </tr>\n",
       "    <tr>\n",
       "      <th>cnt_ㄵ</th>\n",
       "      <td>-0.009981</td>\n",
       "      <td>1.000000</td>\n",
       "      <td>-0.000655</td>\n",
       "      <td>-0.003804</td>\n",
       "      <td>-0.003591</td>\n",
       "      <td>-0.000584</td>\n",
       "      <td>-0.010927</td>\n",
       "    </tr>\n",
       "    <tr>\n",
       "      <th>cnt_ㄴㅈ</th>\n",
       "      <td>-0.007069</td>\n",
       "      <td>-0.000655</td>\n",
       "      <td>1.000000</td>\n",
       "      <td>-0.002939</td>\n",
       "      <td>-0.002775</td>\n",
       "      <td>-0.000451</td>\n",
       "      <td>-0.008442</td>\n",
       "    </tr>\n",
       "    <tr>\n",
       "      <th>cnt_오</th>\n",
       "      <td>-0.032052</td>\n",
       "      <td>-0.003804</td>\n",
       "      <td>-0.002939</td>\n",
       "      <td>1.000000</td>\n",
       "      <td>-0.003828</td>\n",
       "      <td>-0.002617</td>\n",
       "      <td>-0.015810</td>\n",
       "    </tr>\n",
       "    <tr>\n",
       "      <th>cnt_와</th>\n",
       "      <td>-0.034817</td>\n",
       "      <td>-0.003591</td>\n",
       "      <td>-0.002775</td>\n",
       "      <td>-0.003828</td>\n",
       "      <td>1.000000</td>\n",
       "      <td>-0.002471</td>\n",
       "      <td>-0.008962</td>\n",
       "    </tr>\n",
       "    <tr>\n",
       "      <th>cnt_유하</th>\n",
       "      <td>-0.005925</td>\n",
       "      <td>-0.000584</td>\n",
       "      <td>-0.000451</td>\n",
       "      <td>-0.002617</td>\n",
       "      <td>-0.002471</td>\n",
       "      <td>1.000000</td>\n",
       "      <td>0.024741</td>\n",
       "    </tr>\n",
       "    <tr>\n",
       "      <th>validation</th>\n",
       "      <td>-0.040048</td>\n",
       "      <td>-0.010927</td>\n",
       "      <td>-0.008442</td>\n",
       "      <td>-0.015810</td>\n",
       "      <td>-0.008962</td>\n",
       "      <td>0.024741</td>\n",
       "      <td>1.000000</td>\n",
       "    </tr>\n",
       "  </tbody>\n",
       "</table>\n",
       "</div>"
      ],
      "text/plain": [
       "               cnt_ㅋ     cnt_ㄵ    cnt_ㄴㅈ     cnt_오     cnt_와    cnt_유하  \\\n",
       "cnt_ㅋ       1.000000 -0.009981 -0.007069 -0.032052 -0.034817 -0.005925   \n",
       "cnt_ㄵ      -0.009981  1.000000 -0.000655 -0.003804 -0.003591 -0.000584   \n",
       "cnt_ㄴㅈ     -0.007069 -0.000655  1.000000 -0.002939 -0.002775 -0.000451   \n",
       "cnt_오      -0.032052 -0.003804 -0.002939  1.000000 -0.003828 -0.002617   \n",
       "cnt_와      -0.034817 -0.003591 -0.002775 -0.003828  1.000000 -0.002471   \n",
       "cnt_유하     -0.005925 -0.000584 -0.000451 -0.002617 -0.002471  1.000000   \n",
       "validation -0.040048 -0.010927 -0.008442 -0.015810 -0.008962  0.024741   \n",
       "\n",
       "            validation  \n",
       "cnt_ㅋ        -0.040048  \n",
       "cnt_ㄵ        -0.010927  \n",
       "cnt_ㄴㅈ       -0.008442  \n",
       "cnt_오        -0.015810  \n",
       "cnt_와        -0.008962  \n",
       "cnt_유하        0.024741  \n",
       "validation    1.000000  "
      ]
     },
     "execution_count": 59,
     "metadata": {},
     "output_type": "execute_result"
    }
   ],
   "source": [
    "chat_data_reindex.corr()"
   ]
  },
  {
   "cell_type": "markdown",
   "metadata": {},
   "source": [
    "#### 빈도수로 피봇된 테이블에 validation 컬럼 추가"
   ]
  },
  {
   "cell_type": "code",
   "execution_count": 60,
   "metadata": {
    "scrolled": true
   },
   "outputs": [],
   "source": [
    "anal_df.validation = anal_df.index\n",
    "anal_df.validation = anal_df.validation.apply(lambda x : 1 if x in hl_times else 0)"
   ]
  },
  {
   "cell_type": "code",
   "execution_count": 61,
   "metadata": {},
   "outputs": [
    {
     "data": {
      "text/plain": [
       "array([0, 1], dtype=int64)"
      ]
     },
     "execution_count": 61,
     "metadata": {},
     "output_type": "execute_result"
    }
   ],
   "source": [
    "anal_df.validation.unique()"
   ]
  },
  {
   "cell_type": "code",
   "execution_count": 62,
   "metadata": {
    "scrolled": true
   },
   "outputs": [
    {
     "data": {
      "text/html": [
       "<div>\n",
       "<style scoped>\n",
       "    .dataframe tbody tr th:only-of-type {\n",
       "        vertical-align: middle;\n",
       "    }\n",
       "\n",
       "    .dataframe tbody tr th {\n",
       "        vertical-align: top;\n",
       "    }\n",
       "\n",
       "    .dataframe thead th {\n",
       "        text-align: right;\n",
       "    }\n",
       "</style>\n",
       "<table border=\"1\" class=\"dataframe\">\n",
       "  <thead>\n",
       "    <tr style=\"text-align: right;\">\n",
       "      <th></th>\n",
       "      <th>cnt_chat</th>\n",
       "      <th>cnt_ㅋ</th>\n",
       "      <th>cnt_ㄵ</th>\n",
       "      <th>cnt_오</th>\n",
       "      <th>cnt_와</th>\n",
       "      <th>cnt_유하</th>\n",
       "      <th>validation</th>\n",
       "    </tr>\n",
       "  </thead>\n",
       "  <tbody>\n",
       "    <tr>\n",
       "      <th>cnt_chat</th>\n",
       "      <td>1.000000</td>\n",
       "      <td>0.428453</td>\n",
       "      <td>0.027349</td>\n",
       "      <td>0.067837</td>\n",
       "      <td>0.166636</td>\n",
       "      <td>0.028116</td>\n",
       "      <td>0.030420</td>\n",
       "    </tr>\n",
       "    <tr>\n",
       "      <th>cnt_ㅋ</th>\n",
       "      <td>0.428453</td>\n",
       "      <td>1.000000</td>\n",
       "      <td>0.009147</td>\n",
       "      <td>0.003993</td>\n",
       "      <td>0.007971</td>\n",
       "      <td>-0.003505</td>\n",
       "      <td>-0.031910</td>\n",
       "    </tr>\n",
       "    <tr>\n",
       "      <th>cnt_ㄵ</th>\n",
       "      <td>0.027349</td>\n",
       "      <td>0.009147</td>\n",
       "      <td>1.000000</td>\n",
       "      <td>-0.003497</td>\n",
       "      <td>0.010259</td>\n",
       "      <td>-0.001880</td>\n",
       "      <td>-0.021254</td>\n",
       "    </tr>\n",
       "    <tr>\n",
       "      <th>cnt_오</th>\n",
       "      <td>0.067837</td>\n",
       "      <td>0.003993</td>\n",
       "      <td>-0.003497</td>\n",
       "      <td>1.000000</td>\n",
       "      <td>0.013102</td>\n",
       "      <td>0.008990</td>\n",
       "      <td>-0.021141</td>\n",
       "    </tr>\n",
       "    <tr>\n",
       "      <th>cnt_와</th>\n",
       "      <td>0.166636</td>\n",
       "      <td>0.007971</td>\n",
       "      <td>0.010259</td>\n",
       "      <td>0.013102</td>\n",
       "      <td>1.000000</td>\n",
       "      <td>-0.005046</td>\n",
       "      <td>-0.007894</td>\n",
       "    </tr>\n",
       "    <tr>\n",
       "      <th>cnt_유하</th>\n",
       "      <td>0.028116</td>\n",
       "      <td>-0.003505</td>\n",
       "      <td>-0.001880</td>\n",
       "      <td>0.008990</td>\n",
       "      <td>-0.005046</td>\n",
       "      <td>1.000000</td>\n",
       "      <td>0.041387</td>\n",
       "    </tr>\n",
       "    <tr>\n",
       "      <th>validation</th>\n",
       "      <td>0.030420</td>\n",
       "      <td>-0.031910</td>\n",
       "      <td>-0.021254</td>\n",
       "      <td>-0.021141</td>\n",
       "      <td>-0.007894</td>\n",
       "      <td>0.041387</td>\n",
       "      <td>1.000000</td>\n",
       "    </tr>\n",
       "  </tbody>\n",
       "</table>\n",
       "</div>"
      ],
      "text/plain": [
       "            cnt_chat     cnt_ㅋ     cnt_ㄵ     cnt_오     cnt_와    cnt_유하  \\\n",
       "cnt_chat    1.000000  0.428453  0.027349  0.067837  0.166636  0.028116   \n",
       "cnt_ㅋ       0.428453  1.000000  0.009147  0.003993  0.007971 -0.003505   \n",
       "cnt_ㄵ       0.027349  0.009147  1.000000 -0.003497  0.010259 -0.001880   \n",
       "cnt_오       0.067837  0.003993 -0.003497  1.000000  0.013102  0.008990   \n",
       "cnt_와       0.166636  0.007971  0.010259  0.013102  1.000000 -0.005046   \n",
       "cnt_유하      0.028116 -0.003505 -0.001880  0.008990 -0.005046  1.000000   \n",
       "validation  0.030420 -0.031910 -0.021254 -0.021141 -0.007894  0.041387   \n",
       "\n",
       "            validation  \n",
       "cnt_chat      0.030420  \n",
       "cnt_ㅋ        -0.031910  \n",
       "cnt_ㄵ        -0.021254  \n",
       "cnt_오        -0.021141  \n",
       "cnt_와        -0.007894  \n",
       "cnt_유하        0.041387  \n",
       "validation    1.000000  "
      ]
     },
     "execution_count": 62,
     "metadata": {},
     "output_type": "execute_result"
    }
   ],
   "source": [
    "anal_df.corr()"
   ]
  },
  {
   "cell_type": "code",
   "execution_count": 63,
   "metadata": {},
   "outputs": [
    {
     "data": {
      "text/html": [
       "<div>\n",
       "<style scoped>\n",
       "    .dataframe tbody tr th:only-of-type {\n",
       "        vertical-align: middle;\n",
       "    }\n",
       "\n",
       "    .dataframe tbody tr th {\n",
       "        vertical-align: top;\n",
       "    }\n",
       "\n",
       "    .dataframe thead th {\n",
       "        text-align: right;\n",
       "    }\n",
       "</style>\n",
       "<table border=\"1\" class=\"dataframe\">\n",
       "  <thead>\n",
       "    <tr style=\"text-align: right;\">\n",
       "      <th></th>\n",
       "      <th>cnt_chat</th>\n",
       "      <th>cnt_ㅋ</th>\n",
       "      <th>cnt_ㄵ</th>\n",
       "      <th>cnt_오</th>\n",
       "      <th>cnt_와</th>\n",
       "      <th>cnt_유하</th>\n",
       "      <th>validation</th>\n",
       "    </tr>\n",
       "    <tr>\n",
       "      <th>time</th>\n",
       "      <th></th>\n",
       "      <th></th>\n",
       "      <th></th>\n",
       "      <th></th>\n",
       "      <th></th>\n",
       "      <th></th>\n",
       "      <th></th>\n",
       "    </tr>\n",
       "  </thead>\n",
       "  <tbody>\n",
       "  </tbody>\n",
       "</table>\n",
       "</div>"
      ],
      "text/plain": [
       "Empty DataFrame\n",
       "Columns: [cnt_chat, cnt_ㅋ, cnt_ㄵ, cnt_오, cnt_와, cnt_유하, validation]\n",
       "Index: []"
      ]
     },
     "execution_count": 63,
     "metadata": {},
     "output_type": "execute_result"
    }
   ],
   "source": [
    "anal_df[anal_df['cnt_chat'] > 30]"
   ]
  },
  {
   "cell_type": "code",
   "execution_count": 64,
   "metadata": {},
   "outputs": [],
   "source": [
    "# 유튜브 영상이 존재하는지 여부를 중심으로 데이터 분할\n",
    "yes_data = anal_df[anal_df['validation'] == 1]\n",
    "no_data = anal_df[anal_df['validation'] == 0]\n",
    "\n",
    "# 분할된 데이터 인덱스를 시간으로만 변경\n",
    "# no_data.index = [i.time() for i in no_data.index]\n",
    "# yes_data.index = [i.time() for i in yes_data.index]"
   ]
  },
  {
   "cell_type": "code",
   "execution_count": 65,
   "metadata": {},
   "outputs": [
    {
     "data": {
      "text/html": [
       "<div>\n",
       "<style scoped>\n",
       "    .dataframe tbody tr th:only-of-type {\n",
       "        vertical-align: middle;\n",
       "    }\n",
       "\n",
       "    .dataframe tbody tr th {\n",
       "        vertical-align: top;\n",
       "    }\n",
       "\n",
       "    .dataframe thead th {\n",
       "        text-align: right;\n",
       "    }\n",
       "</style>\n",
       "<table border=\"1\" class=\"dataframe\">\n",
       "  <thead>\n",
       "    <tr style=\"text-align: right;\">\n",
       "      <th></th>\n",
       "      <th>cnt_chat</th>\n",
       "      <th>cnt_ㅋ</th>\n",
       "      <th>cnt_ㄵ</th>\n",
       "      <th>cnt_오</th>\n",
       "      <th>cnt_와</th>\n",
       "      <th>cnt_유하</th>\n",
       "      <th>validation</th>\n",
       "    </tr>\n",
       "    <tr>\n",
       "      <th>time</th>\n",
       "      <th></th>\n",
       "      <th></th>\n",
       "      <th></th>\n",
       "      <th></th>\n",
       "      <th></th>\n",
       "      <th></th>\n",
       "      <th></th>\n",
       "    </tr>\n",
       "  </thead>\n",
       "  <tbody>\n",
       "    <tr>\n",
       "      <th>2018-12-15 00:38:21</th>\n",
       "      <td>1</td>\n",
       "      <td>0</td>\n",
       "      <td>0</td>\n",
       "      <td>0</td>\n",
       "      <td>0</td>\n",
       "      <td>0</td>\n",
       "      <td>0</td>\n",
       "    </tr>\n",
       "    <tr>\n",
       "      <th>2018-12-15 05:56:09</th>\n",
       "      <td>1</td>\n",
       "      <td>0</td>\n",
       "      <td>0</td>\n",
       "      <td>0</td>\n",
       "      <td>0</td>\n",
       "      <td>0</td>\n",
       "      <td>0</td>\n",
       "    </tr>\n",
       "    <tr>\n",
       "      <th>2018-12-15 09:01:55</th>\n",
       "      <td>1</td>\n",
       "      <td>0</td>\n",
       "      <td>0</td>\n",
       "      <td>0</td>\n",
       "      <td>0</td>\n",
       "      <td>0</td>\n",
       "      <td>0</td>\n",
       "    </tr>\n",
       "    <tr>\n",
       "      <th>2018-12-15 09:47:50</th>\n",
       "      <td>1</td>\n",
       "      <td>0</td>\n",
       "      <td>0</td>\n",
       "      <td>1</td>\n",
       "      <td>0</td>\n",
       "      <td>0</td>\n",
       "      <td>0</td>\n",
       "    </tr>\n",
       "    <tr>\n",
       "      <th>2018-12-15 09:48:06</th>\n",
       "      <td>1</td>\n",
       "      <td>0</td>\n",
       "      <td>0</td>\n",
       "      <td>0</td>\n",
       "      <td>0</td>\n",
       "      <td>0</td>\n",
       "      <td>0</td>\n",
       "    </tr>\n",
       "  </tbody>\n",
       "</table>\n",
       "</div>"
      ],
      "text/plain": [
       "                     cnt_chat  cnt_ㅋ  cnt_ㄵ  cnt_오  cnt_와  cnt_유하  validation\n",
       "time                                                                         \n",
       "2018-12-15 00:38:21         1      0      0      0      0       0           0\n",
       "2018-12-15 05:56:09         1      0      0      0      0       0           0\n",
       "2018-12-15 09:01:55         1      0      0      0      0       0           0\n",
       "2018-12-15 09:47:50         1      0      0      1      0       0           0\n",
       "2018-12-15 09:48:06         1      0      0      0      0       0           0"
      ]
     },
     "execution_count": 65,
     "metadata": {},
     "output_type": "execute_result"
    }
   ],
   "source": [
    "no_data.head()"
   ]
  },
  {
   "cell_type": "code",
   "execution_count": 66,
   "metadata": {
    "scrolled": true
   },
   "outputs": [
    {
     "name": "stdout",
     "output_type": "stream",
     "text": [
      "cnt_chat_pvalue:  1.2094460372658519e-19\n",
      "유의함\n",
      "cnt_ㅋ_pvalue:  1.9014321061653052e-22\n",
      "유의함\n",
      "cnt_ㄵ_pvalue:  0.0\n",
      "유의함\n",
      "cnt_오_pvalue:  1.68018374052508e-06\n",
      "유의함\n",
      "cnt_와_pvalue:  3.084823167790185e-62\n",
      "유의함\n",
      "cnt_유하_pvalue:  0.0\n",
      "유의함\n",
      "validation_pvalue:  nan\n"
     ]
    },
    {
     "name": "stderr",
     "output_type": "stream",
     "text": [
      "C:\\ProgramData\\Anaconda3\\lib\\site-packages\\scipy\\stats\\morestats.py:1852: RuntimeWarning: divide by zero encountered in log\n",
      "  numer = (Ntot*1.0 - k) * log(spsq) - np.sum((Ni - 1.0)*log(ssq), axis=0)\n",
      "C:\\ProgramData\\Anaconda3\\lib\\site-packages\\scipy\\stats\\morestats.py:1852: RuntimeWarning: invalid value encountered in double_scalars\n",
      "  numer = (Ntot*1.0 - k) * log(spsq) - np.sum((Ni - 1.0)*log(ssq), axis=0)\n",
      "C:\\ProgramData\\Anaconda3\\lib\\site-packages\\scipy\\stats\\_distn_infrastructure.py:879: RuntimeWarning: invalid value encountered in greater\n",
      "  return (self.a < x) & (x < self.b)\n",
      "C:\\ProgramData\\Anaconda3\\lib\\site-packages\\scipy\\stats\\_distn_infrastructure.py:879: RuntimeWarning: invalid value encountered in less\n",
      "  return (self.a < x) & (x < self.b)\n",
      "C:\\ProgramData\\Anaconda3\\lib\\site-packages\\scipy\\stats\\_distn_infrastructure.py:1821: RuntimeWarning: invalid value encountered in less_equal\n",
      "  cond2 = cond0 & (x <= self.a)\n"
     ]
    }
   ],
   "source": [
    "# 등분산 검정\n",
    "for i in anal_df:\n",
    "    print(\"%s_pvalue: \" % i, stats.bartlett(yes_data[i], no_data[i]).pvalue)\n",
    "    if stats.bartlett(yes_data[i], no_data[i]).pvalue < 0.01: print(\"유의함\")"
   ]
  },
  {
   "cell_type": "code",
   "execution_count": 67,
   "metadata": {
    "scrolled": true
   },
   "outputs": [
    {
     "name": "stdout",
     "output_type": "stream",
     "text": [
      "cnt_chat_pvalue:  Ks_2sampResult(statistic=0.12004277412782594, pvalue=8.654719112986728e-18)\n",
      "유의함\n",
      "cnt_ㅋ_pvalue:  Ks_2sampResult(statistic=0.06702337584791107, pvalue=7.73028425602356e-06)\n",
      "유의함\n",
      "cnt_ㄵ_pvalue:  Ks_2sampResult(statistic=0.004189008042895459, pvalue=1.0)\n",
      "cnt_오_pvalue:  Ks_2sampResult(statistic=0.014742081860637968, pvalue=0.9237351013066842)\n",
      "cnt_와_pvalue:  Ks_2sampResult(statistic=0.002095902149934492, pvalue=0.9999999999999999)\n",
      "cnt_유하_pvalue:  Ks_2sampResult(statistic=0.004548327063981783, pvalue=1.0)\n",
      "validation_pvalue:  Ks_2sampResult(statistic=1.0, pvalue=0.0)\n",
      "유의함\n"
     ]
    }
   ],
   "source": [
    "# 정규성 검정\n",
    "# Kolmogorov-Smirnov 검정은 사실 정규 분포에 국한되지 않고 두 표본이 같은 분포를 따르는지 확인할 수 있는 방법이다. \n",
    "# scipy.stats.ks_2samp()\n",
    "for i in anal_df:\n",
    "    print(\"%s_pvalue: \"% i, stats.ks_2samp(yes_data[i], no_data[i]))\n",
    "    if stats.ks_2samp(yes_data[i], no_data[i]).pvalue < 0.01: print(\"유의함\")"
   ]
  },
  {
   "cell_type": "code",
   "execution_count": 68,
   "metadata": {},
   "outputs": [
    {
     "name": "stdout",
     "output_type": "stream",
     "text": [
      "Ttest_indResult(statistic=3.5350494889066018, pvalue=0.00040906429707951366)\n",
      "유의함\n",
      "Ttest_indResult(statistic=-3.7084500925039876, pvalue=0.00020936755961593038)\n",
      "유의함\n",
      "Ttest_indResult(statistic=-2.469314792300396, pvalue=0.013549495945113474)\n",
      "Ttest_indResult(statistic=-2.4561841675860925, pvalue=0.014054627160502845)\n",
      "Ttest_indResult(statistic=-0.9169632948327949, pvalue=0.35917826444145606)\n",
      "Ttest_indResult(statistic=4.811489998989973, pvalue=1.5143032181985728e-06)\n",
      "유의함\n",
      "Ttest_indResult(statistic=inf, pvalue=0.0)\n",
      "유의함\n"
     ]
    }
   ],
   "source": [
    "# ttest\n",
    "for i in anal_df:\n",
    "    print(stats.ttest_ind(yes_data[i], no_data[i]))\n",
    "    if stats.ttest_ind(yes_data[i], no_data[i]).pvalue < 0.01: print(\"유의함\")    "
   ]
  },
  {
   "cell_type": "code",
   "execution_count": 69,
   "metadata": {},
   "outputs": [
    {
     "data": {
      "text/html": [
       "<div>\n",
       "<style scoped>\n",
       "    .dataframe tbody tr th:only-of-type {\n",
       "        vertical-align: middle;\n",
       "    }\n",
       "\n",
       "    .dataframe tbody tr th {\n",
       "        vertical-align: top;\n",
       "    }\n",
       "\n",
       "    .dataframe thead th {\n",
       "        text-align: right;\n",
       "    }\n",
       "</style>\n",
       "<table border=\"1\" class=\"dataframe\">\n",
       "  <thead>\n",
       "    <tr style=\"text-align: right;\">\n",
       "      <th></th>\n",
       "      <th>cnt_chat</th>\n",
       "      <th>cnt_ㅋ</th>\n",
       "      <th>cnt_ㄵ</th>\n",
       "      <th>cnt_오</th>\n",
       "      <th>cnt_와</th>\n",
       "      <th>cnt_유하</th>\n",
       "      <th>validation</th>\n",
       "    </tr>\n",
       "  </thead>\n",
       "  <tbody>\n",
       "    <tr>\n",
       "      <th>count</th>\n",
       "      <td>1558.000000</td>\n",
       "      <td>1558.000000</td>\n",
       "      <td>1558.0</td>\n",
       "      <td>1558.000000</td>\n",
       "      <td>1558.000000</td>\n",
       "      <td>1558.000000</td>\n",
       "      <td>1558.0</td>\n",
       "    </tr>\n",
       "    <tr>\n",
       "      <th>mean</th>\n",
       "      <td>3.000642</td>\n",
       "      <td>3.543004</td>\n",
       "      <td>0.0</td>\n",
       "      <td>0.036585</td>\n",
       "      <td>0.037227</td>\n",
       "      <td>0.005777</td>\n",
       "      <td>1.0</td>\n",
       "    </tr>\n",
       "    <tr>\n",
       "      <th>std</th>\n",
       "      <td>1.945137</td>\n",
       "      <td>12.070246</td>\n",
       "      <td>0.0</td>\n",
       "      <td>0.219351</td>\n",
       "      <td>0.199294</td>\n",
       "      <td>0.083854</td>\n",
       "      <td>0.0</td>\n",
       "    </tr>\n",
       "    <tr>\n",
       "      <th>min</th>\n",
       "      <td>1.000000</td>\n",
       "      <td>0.000000</td>\n",
       "      <td>0.0</td>\n",
       "      <td>0.000000</td>\n",
       "      <td>0.000000</td>\n",
       "      <td>0.000000</td>\n",
       "      <td>1.0</td>\n",
       "    </tr>\n",
       "    <tr>\n",
       "      <th>25%</th>\n",
       "      <td>2.000000</td>\n",
       "      <td>0.000000</td>\n",
       "      <td>0.0</td>\n",
       "      <td>0.000000</td>\n",
       "      <td>0.000000</td>\n",
       "      <td>0.000000</td>\n",
       "      <td>1.0</td>\n",
       "    </tr>\n",
       "    <tr>\n",
       "      <th>50%</th>\n",
       "      <td>3.000000</td>\n",
       "      <td>0.000000</td>\n",
       "      <td>0.0</td>\n",
       "      <td>0.000000</td>\n",
       "      <td>0.000000</td>\n",
       "      <td>0.000000</td>\n",
       "      <td>1.0</td>\n",
       "    </tr>\n",
       "    <tr>\n",
       "      <th>75%</th>\n",
       "      <td>4.000000</td>\n",
       "      <td>0.000000</td>\n",
       "      <td>0.0</td>\n",
       "      <td>0.000000</td>\n",
       "      <td>0.000000</td>\n",
       "      <td>0.000000</td>\n",
       "      <td>1.0</td>\n",
       "    </tr>\n",
       "    <tr>\n",
       "      <th>max</th>\n",
       "      <td>12.000000</td>\n",
       "      <td>120.000000</td>\n",
       "      <td>0.0</td>\n",
       "      <td>5.000000</td>\n",
       "      <td>2.000000</td>\n",
       "      <td>2.000000</td>\n",
       "      <td>1.0</td>\n",
       "    </tr>\n",
       "  </tbody>\n",
       "</table>\n",
       "</div>"
      ],
      "text/plain": [
       "          cnt_chat        cnt_ㅋ   cnt_ㄵ        cnt_오        cnt_와  \\\n",
       "count  1558.000000  1558.000000  1558.0  1558.000000  1558.000000   \n",
       "mean      3.000642     3.543004     0.0     0.036585     0.037227   \n",
       "std       1.945137    12.070246     0.0     0.219351     0.199294   \n",
       "min       1.000000     0.000000     0.0     0.000000     0.000000   \n",
       "25%       2.000000     0.000000     0.0     0.000000     0.000000   \n",
       "50%       3.000000     0.000000     0.0     0.000000     0.000000   \n",
       "75%       4.000000     0.000000     0.0     0.000000     0.000000   \n",
       "max      12.000000   120.000000     0.0     5.000000     2.000000   \n",
       "\n",
       "            cnt_유하  validation  \n",
       "count  1558.000000      1558.0  \n",
       "mean      0.005777         1.0  \n",
       "std       0.083854         0.0  \n",
       "min       0.000000         1.0  \n",
       "25%       0.000000         1.0  \n",
       "50%       0.000000         1.0  \n",
       "75%       0.000000         1.0  \n",
       "max       2.000000         1.0  "
      ]
     },
     "execution_count": 69,
     "metadata": {},
     "output_type": "execute_result"
    }
   ],
   "source": [
    "yes_data.describe()"
   ]
  },
  {
   "cell_type": "code",
   "execution_count": 70,
   "metadata": {
    "scrolled": true
   },
   "outputs": [
    {
     "data": {
      "text/html": [
       "<div>\n",
       "<style scoped>\n",
       "    .dataframe tbody tr th:only-of-type {\n",
       "        vertical-align: middle;\n",
       "    }\n",
       "\n",
       "    .dataframe tbody tr th {\n",
       "        vertical-align: top;\n",
       "    }\n",
       "\n",
       "    .dataframe thead th {\n",
       "        text-align: right;\n",
       "    }\n",
       "</style>\n",
       "<table border=\"1\" class=\"dataframe\">\n",
       "  <thead>\n",
       "    <tr style=\"text-align: right;\">\n",
       "      <th></th>\n",
       "      <th>cnt_chat</th>\n",
       "      <th>cnt_ㅋ</th>\n",
       "      <th>cnt_ㄵ</th>\n",
       "      <th>cnt_오</th>\n",
       "      <th>cnt_와</th>\n",
       "      <th>cnt_유하</th>\n",
       "      <th>validation</th>\n",
       "    </tr>\n",
       "  </thead>\n",
       "  <tbody>\n",
       "    <tr>\n",
       "      <th>count</th>\n",
       "      <td>11936.000000</td>\n",
       "      <td>11936.000000</td>\n",
       "      <td>11936.000000</td>\n",
       "      <td>11936.000000</td>\n",
       "      <td>11936.000000</td>\n",
       "      <td>11936.000000</td>\n",
       "      <td>11936.0</td>\n",
       "    </tr>\n",
       "    <tr>\n",
       "      <th>mean</th>\n",
       "      <td>2.782590</td>\n",
       "      <td>4.981149</td>\n",
       "      <td>0.004608</td>\n",
       "      <td>0.052363</td>\n",
       "      <td>0.043985</td>\n",
       "      <td>0.000670</td>\n",
       "      <td>0.0</td>\n",
       "    </tr>\n",
       "    <tr>\n",
       "      <th>std</th>\n",
       "      <td>2.331059</td>\n",
       "      <td>14.672669</td>\n",
       "      <td>0.073654</td>\n",
       "      <td>0.240839</td>\n",
       "      <td>0.281820</td>\n",
       "      <td>0.028938</td>\n",
       "      <td>0.0</td>\n",
       "    </tr>\n",
       "    <tr>\n",
       "      <th>min</th>\n",
       "      <td>1.000000</td>\n",
       "      <td>0.000000</td>\n",
       "      <td>0.000000</td>\n",
       "      <td>0.000000</td>\n",
       "      <td>0.000000</td>\n",
       "      <td>0.000000</td>\n",
       "      <td>0.0</td>\n",
       "    </tr>\n",
       "    <tr>\n",
       "      <th>25%</th>\n",
       "      <td>1.000000</td>\n",
       "      <td>0.000000</td>\n",
       "      <td>0.000000</td>\n",
       "      <td>0.000000</td>\n",
       "      <td>0.000000</td>\n",
       "      <td>0.000000</td>\n",
       "      <td>0.0</td>\n",
       "    </tr>\n",
       "    <tr>\n",
       "      <th>50%</th>\n",
       "      <td>2.000000</td>\n",
       "      <td>0.000000</td>\n",
       "      <td>0.000000</td>\n",
       "      <td>0.000000</td>\n",
       "      <td>0.000000</td>\n",
       "      <td>0.000000</td>\n",
       "      <td>0.0</td>\n",
       "    </tr>\n",
       "    <tr>\n",
       "      <th>75%</th>\n",
       "      <td>4.000000</td>\n",
       "      <td>3.000000</td>\n",
       "      <td>0.000000</td>\n",
       "      <td>0.000000</td>\n",
       "      <td>0.000000</td>\n",
       "      <td>0.000000</td>\n",
       "      <td>0.0</td>\n",
       "    </tr>\n",
       "    <tr>\n",
       "      <th>max</th>\n",
       "      <td>25.000000</td>\n",
       "      <td>414.000000</td>\n",
       "      <td>2.000000</td>\n",
       "      <td>4.000000</td>\n",
       "      <td>10.000000</td>\n",
       "      <td>2.000000</td>\n",
       "      <td>0.0</td>\n",
       "    </tr>\n",
       "  </tbody>\n",
       "</table>\n",
       "</div>"
      ],
      "text/plain": [
       "           cnt_chat         cnt_ㅋ         cnt_ㄵ         cnt_오         cnt_와  \\\n",
       "count  11936.000000  11936.000000  11936.000000  11936.000000  11936.000000   \n",
       "mean       2.782590      4.981149      0.004608      0.052363      0.043985   \n",
       "std        2.331059     14.672669      0.073654      0.240839      0.281820   \n",
       "min        1.000000      0.000000      0.000000      0.000000      0.000000   \n",
       "25%        1.000000      0.000000      0.000000      0.000000      0.000000   \n",
       "50%        2.000000      0.000000      0.000000      0.000000      0.000000   \n",
       "75%        4.000000      3.000000      0.000000      0.000000      0.000000   \n",
       "max       25.000000    414.000000      2.000000      4.000000     10.000000   \n",
       "\n",
       "             cnt_유하  validation  \n",
       "count  11936.000000     11936.0  \n",
       "mean       0.000670         0.0  \n",
       "std        0.028938         0.0  \n",
       "min        0.000000         0.0  \n",
       "25%        0.000000         0.0  \n",
       "50%        0.000000         0.0  \n",
       "75%        0.000000         0.0  \n",
       "max        2.000000         0.0  "
      ]
     },
     "execution_count": 70,
     "metadata": {},
     "output_type": "execute_result"
    }
   ],
   "source": [
    "no_data.describe()"
   ]
  },
  {
   "cell_type": "code",
   "execution_count": 71,
   "metadata": {},
   "outputs": [
    {
     "data": {
      "image/png": "[encoded data removed]",
      "text/plain": [
       "<Figure size 1152x288 with 1 Axes>"
      ]
     },
     "metadata": {
      "needs_background": "light"
     },
     "output_type": "display_data"
    }
   ],
   "source": [
    "from matplotlib import pyplot as plt\n",
    "plt.figure(figsize=(16,4))\n",
    "plt.plot(no_data.index, no_data['cnt_ㅋ'])\n",
    "plt.plot(yes_data.index, yes_data['cnt_ㅋ'])\n",
    "plt.show()\n"
   ]
  },
  {
   "cell_type": "code",
   "execution_count": 72,
   "metadata": {
    "scrolled": true
   },
   "outputs": [
    {
     "data": {
      "text/html": [
       "<div>\n",
       "<style scoped>\n",
       "    .dataframe tbody tr th:only-of-type {\n",
       "        vertical-align: middle;\n",
       "    }\n",
       "\n",
       "    .dataframe tbody tr th {\n",
       "        vertical-align: top;\n",
       "    }\n",
       "\n",
       "    .dataframe thead th {\n",
       "        text-align: right;\n",
       "    }\n",
       "</style>\n",
       "<table border=\"1\" class=\"dataframe\">\n",
       "  <thead>\n",
       "    <tr style=\"text-align: right;\">\n",
       "      <th></th>\n",
       "      <th>cnt_chat</th>\n",
       "      <th>cnt_ㅋ</th>\n",
       "      <th>cnt_ㄵ</th>\n",
       "      <th>cnt_오</th>\n",
       "      <th>cnt_와</th>\n",
       "      <th>cnt_유하</th>\n",
       "      <th>validation</th>\n",
       "    </tr>\n",
       "    <tr>\n",
       "      <th>time</th>\n",
       "      <th></th>\n",
       "      <th></th>\n",
       "      <th></th>\n",
       "      <th></th>\n",
       "      <th></th>\n",
       "      <th></th>\n",
       "      <th></th>\n",
       "    </tr>\n",
       "  </thead>\n",
       "  <tbody>\n",
       "    <tr>\n",
       "      <th>2018-12-15 14:25:56</th>\n",
       "      <td>21</td>\n",
       "      <td>365</td>\n",
       "      <td>0</td>\n",
       "      <td>0</td>\n",
       "      <td>0</td>\n",
       "      <td>0</td>\n",
       "      <td>0</td>\n",
       "    </tr>\n",
       "    <tr>\n",
       "      <th>2018-12-15 14:28:01</th>\n",
       "      <td>21</td>\n",
       "      <td>226</td>\n",
       "      <td>0</td>\n",
       "      <td>0</td>\n",
       "      <td>0</td>\n",
       "      <td>0</td>\n",
       "      <td>0</td>\n",
       "    </tr>\n",
       "    <tr>\n",
       "      <th>2018-12-15 14:28:02</th>\n",
       "      <td>11</td>\n",
       "      <td>236</td>\n",
       "      <td>0</td>\n",
       "      <td>0</td>\n",
       "      <td>0</td>\n",
       "      <td>0</td>\n",
       "      <td>0</td>\n",
       "    </tr>\n",
       "    <tr>\n",
       "      <th>2018-12-15 14:29:25</th>\n",
       "      <td>25</td>\n",
       "      <td>414</td>\n",
       "      <td>0</td>\n",
       "      <td>0</td>\n",
       "      <td>0</td>\n",
       "      <td>0</td>\n",
       "      <td>0</td>\n",
       "    </tr>\n",
       "  </tbody>\n",
       "</table>\n",
       "</div>"
      ],
      "text/plain": [
       "                     cnt_chat  cnt_ㅋ  cnt_ㄵ  cnt_오  cnt_와  cnt_유하  validation\n",
       "time                                                                         \n",
       "2018-12-15 14:25:56        21    365      0      0      0       0           0\n",
       "2018-12-15 14:28:01        21    226      0      0      0       0           0\n",
       "2018-12-15 14:28:02        11    236      0      0      0       0           0\n",
       "2018-12-15 14:29:25        25    414      0      0      0       0           0"
      ]
     },
     "execution_count": 72,
     "metadata": {},
     "output_type": "execute_result"
    }
   ],
   "source": [
    "no_data[no_data['cnt_ㅋ'] > 200]"
   ]
  },
  {
   "cell_type": "code",
   "execution_count": 73,
   "metadata": {},
   "outputs": [
    {
     "data": {
      "text/html": [
       "<div>\n",
       "<style scoped>\n",
       "    .dataframe tbody tr th:only-of-type {\n",
       "        vertical-align: middle;\n",
       "    }\n",
       "\n",
       "    .dataframe tbody tr th {\n",
       "        vertical-align: top;\n",
       "    }\n",
       "\n",
       "    .dataframe thead th {\n",
       "        text-align: right;\n",
       "    }\n",
       "</style>\n",
       "<table border=\"1\" class=\"dataframe\">\n",
       "  <thead>\n",
       "    <tr style=\"text-align: right;\">\n",
       "      <th></th>\n",
       "      <th>chatterer</th>\n",
       "      <th>chat_contents</th>\n",
       "      <th>cnt_ㅋ</th>\n",
       "      <th>cnt_ㄵ</th>\n",
       "      <th>cnt_ㄴㅈ</th>\n",
       "      <th>cnt_오</th>\n",
       "      <th>cnt_와</th>\n",
       "      <th>cnt_유하</th>\n",
       "      <th>validation</th>\n",
       "    </tr>\n",
       "    <tr>\n",
       "      <th>time</th>\n",
       "      <th></th>\n",
       "      <th></th>\n",
       "      <th></th>\n",
       "      <th></th>\n",
       "      <th></th>\n",
       "      <th></th>\n",
       "      <th></th>\n",
       "      <th></th>\n",
       "      <th></th>\n",
       "    </tr>\n",
       "  </thead>\n",
       "  <tbody>\n",
       "  </tbody>\n",
       "</table>\n",
       "</div>"
      ],
      "text/plain": [
       "Empty DataFrame\n",
       "Columns: [chatterer, chat_contents, cnt_ㅋ, cnt_ㄵ, cnt_ㄴㅈ, cnt_오, cnt_와, cnt_유하, validation]\n",
       "Index: []"
      ]
     },
     "execution_count": 73,
     "metadata": {},
     "output_type": "execute_result"
    }
   ],
   "source": [
    "chat_data_reindex[chat_data_reindex.index==\"2018-12-07 13:36:19\"]"
   ]
  },
  {
   "cell_type": "code",
   "execution_count": 74,
   "metadata": {
    "scrolled": true
   },
   "outputs": [
    {
     "data": {
      "image/png": "[encoded data removed]",
      "text/plain": [
       "<Figure size 1152x288 with 1 Axes>"
      ]
     },
     "metadata": {
      "needs_background": "light"
     },
     "output_type": "display_data"
    }
   ],
   "source": [
    "plt.figure(figsize=(16,4))\n",
    "plt.plot(no_data.index, no_data['cnt_chat'])\n",
    "plt.plot(yes_data.index, yes_data['cnt_chat'])\n",
    "plt.show()\n"
   ]
  },
  {
   "cell_type": "code",
   "execution_count": 45,
   "metadata": {},
   "outputs": [
    {
     "data": {
      "text/html": [
       "<div>\n",
       "<style scoped>\n",
       "    .dataframe tbody tr th:only-of-type {\n",
       "        vertical-align: middle;\n",
       "    }\n",
       "\n",
       "    .dataframe tbody tr th {\n",
       "        vertical-align: top;\n",
       "    }\n",
       "\n",
       "    .dataframe thead th {\n",
       "        text-align: right;\n",
       "    }\n",
       "</style>\n",
       "<table border=\"1\" class=\"dataframe\">\n",
       "  <thead>\n",
       "    <tr style=\"text-align: right;\">\n",
       "      <th></th>\n",
       "      <th>cnt_chat</th>\n",
       "      <th>cnt_ㅋ</th>\n",
       "      <th>cnt_ㄵ</th>\n",
       "      <th>cnt_오</th>\n",
       "      <th>cnt_와</th>\n",
       "      <th>cnt_유하</th>\n",
       "      <th>validation</th>\n",
       "    </tr>\n",
       "    <tr>\n",
       "      <th>time</th>\n",
       "      <th></th>\n",
       "      <th></th>\n",
       "      <th></th>\n",
       "      <th></th>\n",
       "      <th></th>\n",
       "      <th></th>\n",
       "      <th></th>\n",
       "    </tr>\n",
       "  </thead>\n",
       "  <tbody>\n",
       "    <tr>\n",
       "      <th>2018-12-15 00:38:21</th>\n",
       "      <td>1</td>\n",
       "      <td>0</td>\n",
       "      <td>0</td>\n",
       "      <td>0</td>\n",
       "      <td>0</td>\n",
       "      <td>0</td>\n",
       "      <td>0</td>\n",
       "    </tr>\n",
       "    <tr>\n",
       "      <th>2018-12-15 05:56:09</th>\n",
       "      <td>1</td>\n",
       "      <td>0</td>\n",
       "      <td>0</td>\n",
       "      <td>0</td>\n",
       "      <td>0</td>\n",
       "      <td>0</td>\n",
       "      <td>0</td>\n",
       "    </tr>\n",
       "    <tr>\n",
       "      <th>2018-12-15 09:01:55</th>\n",
       "      <td>1</td>\n",
       "      <td>0</td>\n",
       "      <td>0</td>\n",
       "      <td>0</td>\n",
       "      <td>0</td>\n",
       "      <td>0</td>\n",
       "      <td>0</td>\n",
       "    </tr>\n",
       "    <tr>\n",
       "      <th>2018-12-15 09:47:50</th>\n",
       "      <td>1</td>\n",
       "      <td>0</td>\n",
       "      <td>0</td>\n",
       "      <td>1</td>\n",
       "      <td>0</td>\n",
       "      <td>0</td>\n",
       "      <td>0</td>\n",
       "    </tr>\n",
       "    <tr>\n",
       "      <th>2018-12-15 09:48:06</th>\n",
       "      <td>1</td>\n",
       "      <td>0</td>\n",
       "      <td>0</td>\n",
       "      <td>0</td>\n",
       "      <td>0</td>\n",
       "      <td>0</td>\n",
       "      <td>0</td>\n",
       "    </tr>\n",
       "  </tbody>\n",
       "</table>\n",
       "</div>"
      ],
      "text/plain": [
       "                     cnt_chat  cnt_ㅋ  cnt_ㄵ  cnt_오  cnt_와  cnt_유하  validation\n",
       "time                                                                         \n",
       "2018-12-15 00:38:21         1      0      0      0      0       0           0\n",
       "2018-12-15 05:56:09         1      0      0      0      0       0           0\n",
       "2018-12-15 09:01:55         1      0      0      0      0       0           0\n",
       "2018-12-15 09:47:50         1      0      0      1      0       0           0\n",
       "2018-12-15 09:48:06         1      0      0      0      0       0           0"
      ]
     },
     "execution_count": 45,
     "metadata": {},
     "output_type": "execute_result"
    }
   ],
   "source": [
    "anal_df[anal_df['validation'] == 0][:5]"
   ]
  },
  {
   "cell_type": "code",
   "execution_count": 75,
   "metadata": {},
   "outputs": [],
   "source": [
    "anal_df.to_csv(\"rhdgurwns_2019_12_15.csv\")"
   ]
  },
  {
   "cell_type": "code",
   "execution_count": null,
   "metadata": {},
   "outputs": [],
   "source": []
  }
 ],
 "metadata": {
  "kernelspec": {
   "display_name": "Python 3",
   "language": "python",
   "name": "python3"
  },
  "language_info": {
   "codemirror_mode": {
    "name": "ipython",
    "version": 3
   },
   "file_extension": ".py",
   "mimetype": "text/x-python",
   "name": "python",
   "nbconvert_exporter": "python",
   "pygments_lexer": "ipython3",
   "version": "3.7.1"
  }
 },
 "nbformat": 4,
 "nbformat_minor": 2
}
