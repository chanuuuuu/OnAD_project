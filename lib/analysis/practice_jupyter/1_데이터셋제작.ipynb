{
 "cells": [
  {
   "cell_type": "code",
   "execution_count": 1,
   "metadata": {},
   "outputs": [],
   "source": [
    "import pandas as pd"
   ]
  },
  {
   "cell_type": "markdown",
   "metadata": {},
   "source": [
    "### 데이터 베이스 설정"
   ]
  },
  {
   "cell_type": "code",
   "execution_count": 2,
   "metadata": {},
   "outputs": [],
   "source": [
    "DB_URL = 'onad.cbjjamtlar2t.ap-northeast-2.rds.amazonaws.com'\n",
    "DB_USER = 'onad'\n",
    "DB_PASSWORD = 'rkdghktn12'\n",
    "DB_DATABASE = 'onad'\n",
    "DB_CHARSET = 'utf8mb4'\n",
    "DB_LOGFLAG  = 'False'\n",
    "DB_PORT = 3306\n",
    "\n",
    "db_url = \"mysql+pymysql://%s:%s@%s:%s/%s?charset=%s\" % (\n",
    "    DB_USER, DB_PASSWORD,\n",
    "    DB_URL, DB_PORT,\n",
    "    DB_DATABASE, DB_CHARSET\n",
    ")"
   ]
  },
  {
   "cell_type": "code",
   "execution_count": 3,
   "metadata": {},
   "outputs": [],
   "source": [
    "def data_from_sql_twitchchat(streamer, target_date):\n",
    "    query = \"\"\"\n",
    "        select * from twitch_chat where streamer_name = \"%s\" and broad_date =\"%s\"\n",
    "    \"\"\"% (streamer, target_date)\n",
    "\n",
    "    return pd.read_sql_query(query, db_url)"
   ]
  },
  {
   "cell_type": "markdown",
   "metadata": {},
   "source": [
    "### 채팅 데이터 로드"
   ]
  },
  {
   "cell_type": "code",
   "execution_count": 4,
   "metadata": {},
   "outputs": [],
   "source": [
    "streamer = \"rhdgurwns\"\n",
    "target_date = \"2018-12-07\"\n",
    "chat_data = data_from_sql_twitchchat(streamer, target_date)"
   ]
  },
  {
   "cell_type": "markdown",
   "metadata": {},
   "source": [
    "### Exploratory Data Analysis"
   ]
  },
  {
   "cell_type": "code",
   "execution_count": 5,
   "metadata": {},
   "outputs": [
    {
     "data": {
      "text/plain": [
       "(43246, 6)"
      ]
     },
     "execution_count": 5,
     "metadata": {},
     "output_type": "execute_result"
    }
   ],
   "source": [
    "chat_data.shape"
   ]
  },
  {
   "cell_type": "code",
   "execution_count": 6,
   "metadata": {},
   "outputs": [
    {
     "data": {
      "text/html": [
       "<div>\n",
       "<style scoped>\n",
       "    .dataframe tbody tr th:only-of-type {\n",
       "        vertical-align: middle;\n",
       "    }\n",
       "\n",
       "    .dataframe tbody tr th {\n",
       "        vertical-align: top;\n",
       "    }\n",
       "\n",
       "    .dataframe thead th {\n",
       "        text-align: right;\n",
       "    }\n",
       "</style>\n",
       "<table border=\"1\" class=\"dataframe\">\n",
       "  <thead>\n",
       "    <tr style=\"text-align: right;\">\n",
       "      <th></th>\n",
       "      <th>chat_id</th>\n",
       "      <th>streamer_name</th>\n",
       "      <th>broad_date</th>\n",
       "      <th>chatterer</th>\n",
       "      <th>chat_time</th>\n",
       "      <th>chat_contents</th>\n",
       "    </tr>\n",
       "  </thead>\n",
       "  <tbody>\n",
       "    <tr>\n",
       "      <th>0</th>\n",
       "      <td>6101494</td>\n",
       "      <td>rhdgurwns</td>\n",
       "      <td>2018-12-07</td>\n",
       "      <td>&lt;ow_easybro&gt;</td>\n",
       "      <td>08:21:23</td>\n",
       "      <td>얍</td>\n",
       "    </tr>\n",
       "    <tr>\n",
       "      <th>1</th>\n",
       "      <td>6101495</td>\n",
       "      <td>rhdgurwns</td>\n",
       "      <td>2018-12-07</td>\n",
       "      <td>&lt;loksk3&gt;</td>\n",
       "      <td>08:59:20</td>\n",
       "      <td>반갑고</td>\n",
       "    </tr>\n",
       "    <tr>\n",
       "      <th>2</th>\n",
       "      <td>6101496</td>\n",
       "      <td>rhdgurwns</td>\n",
       "      <td>2018-12-07</td>\n",
       "      <td>&lt;qhldlql1&gt;</td>\n",
       "      <td>08:59:49</td>\n",
       "      <td>ㅎㅇ</td>\n",
       "    </tr>\n",
       "    <tr>\n",
       "      <th>3</th>\n",
       "      <td>6101497</td>\n",
       "      <td>rhdgurwns</td>\n",
       "      <td>2018-12-07</td>\n",
       "      <td>&lt;qhldlql1&gt;</td>\n",
       "      <td>08:59:52</td>\n",
       "      <td>1빠</td>\n",
       "    </tr>\n",
       "    <tr>\n",
       "      <th>4</th>\n",
       "      <td>6101498</td>\n",
       "      <td>rhdgurwns</td>\n",
       "      <td>2018-12-07</td>\n",
       "      <td>&lt;치느님치멘 (wjd760543)&gt;</td>\n",
       "      <td>08:59:58</td>\n",
       "      <td>2ㅃ</td>\n",
       "    </tr>\n",
       "  </tbody>\n",
       "</table>\n",
       "</div>"
      ],
      "text/plain": [
       "   chat_id streamer_name  broad_date            chatterer chat_time  \\\n",
       "0  6101494     rhdgurwns  2018-12-07         <ow_easybro>  08:21:23   \n",
       "1  6101495     rhdgurwns  2018-12-07             <loksk3>  08:59:20   \n",
       "2  6101496     rhdgurwns  2018-12-07           <qhldlql1>  08:59:49   \n",
       "3  6101497     rhdgurwns  2018-12-07           <qhldlql1>  08:59:52   \n",
       "4  6101498     rhdgurwns  2018-12-07  <치느님치멘 (wjd760543)>  08:59:58   \n",
       "\n",
       "  chat_contents  \n",
       "0             얍  \n",
       "1           반갑고  \n",
       "2            ㅎㅇ  \n",
       "3            1빠  \n",
       "4            2ㅃ  "
      ]
     },
     "execution_count": 6,
     "metadata": {},
     "output_type": "execute_result"
    }
   ],
   "source": [
    "chat_data.head()"
   ]
  },
  {
   "cell_type": "code",
   "execution_count": 7,
   "metadata": {
    "scrolled": true
   },
   "outputs": [
    {
     "name": "stdout",
     "output_type": "stream",
     "text": [
      "채팅 로그의 수: 43246\n",
      "순수 시청자 수: 3163\n"
     ]
    }
   ],
   "source": [
    "print(\"채팅 로그의 수: %s\" % (chat_data.shape[0]))\n",
    "print(\"순수 시청자 수: %s\" % (len(list(chat_data['chatterer'].unique()))))"
   ]
  },
  {
   "cell_type": "code",
   "execution_count": 8,
   "metadata": {
    "scrolled": false
   },
   "outputs": [
    {
     "name": "stdout",
     "output_type": "stream",
     "text": [
      "채팅로그의 시작과 끝 : 08:21:23 ~ 14:20:40 \n"
     ]
    }
   ],
   "source": [
    "print(\"채팅로그의 시작과 끝 : %s ~ %s \" % (sorted(chat_data['chat_time'])[0], sorted(chat_data['chat_time'])[-1]))"
   ]
  },
  {
   "cell_type": "markdown",
   "metadata": {},
   "source": [
    "### 시간데이터를 DatetimeIndex 로 변경"
   ]
  },
  {
   "cell_type": "code",
   "execution_count": 9,
   "metadata": {},
   "outputs": [],
   "source": [
    "chat_data['chat_time'] = chat_data['chat_time'].apply(lambda x : target_date + \" \" + x)"
   ]
  },
  {
   "cell_type": "code",
   "execution_count": 10,
   "metadata": {},
   "outputs": [
    {
     "data": {
      "text/plain": [
       "0   2018-12-07 08:21:23\n",
       "1   2018-12-07 08:59:20\n",
       "Name: time, dtype: datetime64[ns]"
      ]
     },
     "execution_count": 10,
     "metadata": {},
     "output_type": "execute_result"
    }
   ],
   "source": [
    "chat_data['time'] = pd.to_datetime(chat_data['chat_time'])\n",
    "chat_data['time'].head(2)"
   ]
  },
  {
   "cell_type": "code",
   "execution_count": 11,
   "metadata": {},
   "outputs": [],
   "source": [
    "chat_data_reindex = chat_data.set_index('time')"
   ]
  },
  {
   "cell_type": "code",
   "execution_count": 12,
   "metadata": {},
   "outputs": [
    {
     "data": {
      "text/html": [
       "<div>\n",
       "<style scoped>\n",
       "    .dataframe tbody tr th:only-of-type {\n",
       "        vertical-align: middle;\n",
       "    }\n",
       "\n",
       "    .dataframe tbody tr th {\n",
       "        vertical-align: top;\n",
       "    }\n",
       "\n",
       "    .dataframe thead th {\n",
       "        text-align: right;\n",
       "    }\n",
       "</style>\n",
       "<table border=\"1\" class=\"dataframe\">\n",
       "  <thead>\n",
       "    <tr style=\"text-align: right;\">\n",
       "      <th></th>\n",
       "      <th>chat_id</th>\n",
       "      <th>streamer_name</th>\n",
       "      <th>broad_date</th>\n",
       "      <th>chatterer</th>\n",
       "      <th>chat_time</th>\n",
       "      <th>chat_contents</th>\n",
       "    </tr>\n",
       "    <tr>\n",
       "      <th>time</th>\n",
       "      <th></th>\n",
       "      <th></th>\n",
       "      <th></th>\n",
       "      <th></th>\n",
       "      <th></th>\n",
       "      <th></th>\n",
       "    </tr>\n",
       "  </thead>\n",
       "  <tbody>\n",
       "    <tr>\n",
       "      <th>2018-12-07 08:21:23</th>\n",
       "      <td>6101494</td>\n",
       "      <td>rhdgurwns</td>\n",
       "      <td>2018-12-07</td>\n",
       "      <td>&lt;ow_easybro&gt;</td>\n",
       "      <td>2018-12-07 08:21:23</td>\n",
       "      <td>얍</td>\n",
       "    </tr>\n",
       "    <tr>\n",
       "      <th>2018-12-07 08:59:20</th>\n",
       "      <td>6101495</td>\n",
       "      <td>rhdgurwns</td>\n",
       "      <td>2018-12-07</td>\n",
       "      <td>&lt;loksk3&gt;</td>\n",
       "      <td>2018-12-07 08:59:20</td>\n",
       "      <td>반갑고</td>\n",
       "    </tr>\n",
       "  </tbody>\n",
       "</table>\n",
       "</div>"
      ],
      "text/plain": [
       "                     chat_id streamer_name  broad_date     chatterer  \\\n",
       "time                                                                   \n",
       "2018-12-07 08:21:23  6101494     rhdgurwns  2018-12-07  <ow_easybro>   \n",
       "2018-12-07 08:59:20  6101495     rhdgurwns  2018-12-07      <loksk3>   \n",
       "\n",
       "                               chat_time chat_contents  \n",
       "time                                                    \n",
       "2018-12-07 08:21:23  2018-12-07 08:21:23             얍  \n",
       "2018-12-07 08:59:20  2018-12-07 08:59:20           반갑고  "
      ]
     },
     "execution_count": 12,
     "metadata": {},
     "output_type": "execute_result"
    }
   ],
   "source": [
    "chat_data_reindex.head(2)"
   ]
  },
  {
   "cell_type": "markdown",
   "metadata": {},
   "source": [
    "## 분석용 데이터셋 제작\n",
    "\n",
    "#### 1. 필요없는 행 삭제"
   ]
  },
  {
   "cell_type": "code",
   "execution_count": 13,
   "metadata": {
    "scrolled": true
   },
   "outputs": [],
   "source": [
    "# 필요없는 행 삭제\n",
    "del chat_data_reindex['chat_id']\n",
    "del chat_data_reindex['streamer_name']\n",
    "del chat_data_reindex['broad_date']\n",
    "del chat_data_reindex['chat_time']"
   ]
  },
  {
   "cell_type": "code",
   "execution_count": 14,
   "metadata": {
    "scrolled": false
   },
   "outputs": [
    {
     "data": {
      "text/html": [
       "<div>\n",
       "<style scoped>\n",
       "    .dataframe tbody tr th:only-of-type {\n",
       "        vertical-align: middle;\n",
       "    }\n",
       "\n",
       "    .dataframe tbody tr th {\n",
       "        vertical-align: top;\n",
       "    }\n",
       "\n",
       "    .dataframe thead th {\n",
       "        text-align: right;\n",
       "    }\n",
       "</style>\n",
       "<table border=\"1\" class=\"dataframe\">\n",
       "  <thead>\n",
       "    <tr style=\"text-align: right;\">\n",
       "      <th></th>\n",
       "      <th>chatterer</th>\n",
       "      <th>chat_contents</th>\n",
       "    </tr>\n",
       "    <tr>\n",
       "      <th>time</th>\n",
       "      <th></th>\n",
       "      <th></th>\n",
       "    </tr>\n",
       "  </thead>\n",
       "  <tbody>\n",
       "    <tr>\n",
       "      <th>2018-12-07 08:21:23</th>\n",
       "      <td>&lt;ow_easybro&gt;</td>\n",
       "      <td>얍</td>\n",
       "    </tr>\n",
       "    <tr>\n",
       "      <th>2018-12-07 08:59:20</th>\n",
       "      <td>&lt;loksk3&gt;</td>\n",
       "      <td>반갑고</td>\n",
       "    </tr>\n",
       "  </tbody>\n",
       "</table>\n",
       "</div>"
      ],
      "text/plain": [
       "                        chatterer chat_contents\n",
       "time                                           \n",
       "2018-12-07 08:21:23  <ow_easybro>             얍\n",
       "2018-12-07 08:59:20      <loksk3>           반갑고"
      ]
     },
     "execution_count": 14,
     "metadata": {},
     "output_type": "execute_result"
    }
   ],
   "source": [
    "chat_data_reindex.head(2)"
   ]
  },
  {
   "cell_type": "markdown",
   "metadata": {},
   "source": [
    "#### 2. 한 문장에서 특정 단어의 수 세어 컬럼으로 생성"
   ]
  },
  {
   "cell_type": "code",
   "execution_count": 15,
   "metadata": {},
   "outputs": [],
   "source": [
    "chat_data_reindex['cnt_ㅋ'] = chat_data_reindex.chat_contents.apply(lambda x : x.count(\"ㅋ\"))\n",
    "chat_data_reindex['cnt_ㄵ'] = chat_data_reindex.chat_contents.apply(lambda x : x.count(\"ㄵ\"))\n",
    "chat_data_reindex['cnt_ㄴㅈ'] = chat_data_reindex.chat_contents.apply(lambda x : x.count(\"ㄴㅈ\"))\n",
    "chat_data_reindex['cnt_오'] = chat_data_reindex.chat_contents.apply(lambda x : x.count(\"오\"))\n",
    "chat_data_reindex['cnt_와'] = chat_data_reindex.chat_contents.apply(lambda x : x.count(\"와\"))\n",
    "chat_data_reindex['cnt_유하'] = chat_data_reindex.chat_contents.apply(lambda x : x.count(\"유하\"))\n"
   ]
  },
  {
   "cell_type": "code",
   "execution_count": 16,
   "metadata": {},
   "outputs": [
    {
     "data": {
      "text/html": [
       "<div>\n",
       "<style scoped>\n",
       "    .dataframe tbody tr th:only-of-type {\n",
       "        vertical-align: middle;\n",
       "    }\n",
       "\n",
       "    .dataframe tbody tr th {\n",
       "        vertical-align: top;\n",
       "    }\n",
       "\n",
       "    .dataframe thead th {\n",
       "        text-align: right;\n",
       "    }\n",
       "</style>\n",
       "<table border=\"1\" class=\"dataframe\">\n",
       "  <thead>\n",
       "    <tr style=\"text-align: right;\">\n",
       "      <th></th>\n",
       "      <th>chatterer</th>\n",
       "      <th>chat_contents</th>\n",
       "      <th>cnt_ㅋ</th>\n",
       "      <th>cnt_ㄵ</th>\n",
       "      <th>cnt_ㄴㅈ</th>\n",
       "      <th>cnt_오</th>\n",
       "      <th>cnt_와</th>\n",
       "      <th>cnt_유하</th>\n",
       "    </tr>\n",
       "    <tr>\n",
       "      <th>time</th>\n",
       "      <th></th>\n",
       "      <th></th>\n",
       "      <th></th>\n",
       "      <th></th>\n",
       "      <th></th>\n",
       "      <th></th>\n",
       "      <th></th>\n",
       "      <th></th>\n",
       "    </tr>\n",
       "  </thead>\n",
       "  <tbody>\n",
       "    <tr>\n",
       "      <th>2018-12-07 08:21:23</th>\n",
       "      <td>&lt;ow_easybro&gt;</td>\n",
       "      <td>얍</td>\n",
       "      <td>0</td>\n",
       "      <td>0</td>\n",
       "      <td>0</td>\n",
       "      <td>0</td>\n",
       "      <td>0</td>\n",
       "      <td>0</td>\n",
       "    </tr>\n",
       "    <tr>\n",
       "      <th>2018-12-07 08:59:20</th>\n",
       "      <td>&lt;loksk3&gt;</td>\n",
       "      <td>반갑고</td>\n",
       "      <td>0</td>\n",
       "      <td>0</td>\n",
       "      <td>0</td>\n",
       "      <td>0</td>\n",
       "      <td>0</td>\n",
       "      <td>0</td>\n",
       "    </tr>\n",
       "  </tbody>\n",
       "</table>\n",
       "</div>"
      ],
      "text/plain": [
       "                        chatterer chat_contents  cnt_ㅋ  cnt_ㄵ  cnt_ㄴㅈ  cnt_오  \\\n",
       "time                                                                           \n",
       "2018-12-07 08:21:23  <ow_easybro>             얍      0      0       0      0   \n",
       "2018-12-07 08:59:20      <loksk3>           반갑고      0      0       0      0   \n",
       "\n",
       "                     cnt_와  cnt_유하  \n",
       "time                                \n",
       "2018-12-07 08:21:23      0       0  \n",
       "2018-12-07 08:59:20      0       0  "
      ]
     },
     "execution_count": 16,
     "metadata": {},
     "output_type": "execute_result"
    }
   ],
   "source": [
    "chat_data_reindex.head(2)"
   ]
  },
  {
   "cell_type": "markdown",
   "metadata": {},
   "source": [
    "#### 3. 해당 채팅 수 빈도를 갖는 피봇 데이터 프레임 생성"
   ]
  },
  {
   "cell_type": "code",
   "execution_count": 17,
   "metadata": {
    "scrolled": true
   },
   "outputs": [
    {
     "name": "stdout",
     "output_type": "stream",
     "text": [
      "[23, 22, 21, 19, 18, 17, 16, 15, 14, 13]\n",
      "[278, 277, 269, 261, 252, 238, 228, 226, 219, 206]\n"
     ]
    },
    {
     "data": {
      "text/html": [
       "<div>\n",
       "<style scoped>\n",
       "    .dataframe tbody tr th:only-of-type {\n",
       "        vertical-align: middle;\n",
       "    }\n",
       "\n",
       "    .dataframe tbody tr th {\n",
       "        vertical-align: top;\n",
       "    }\n",
       "\n",
       "    .dataframe thead th {\n",
       "        text-align: right;\n",
       "    }\n",
       "</style>\n",
       "<table border=\"1\" class=\"dataframe\">\n",
       "  <thead>\n",
       "    <tr style=\"text-align: right;\">\n",
       "      <th></th>\n",
       "      <th>cnt_chat</th>\n",
       "      <th>cnt_ㅋ</th>\n",
       "      <th>cnt_ㄵ</th>\n",
       "      <th>cnt_오</th>\n",
       "      <th>cnt_와</th>\n",
       "      <th>cnt_유하</th>\n",
       "    </tr>\n",
       "    <tr>\n",
       "      <th>time</th>\n",
       "      <th></th>\n",
       "      <th></th>\n",
       "      <th></th>\n",
       "      <th></th>\n",
       "      <th></th>\n",
       "      <th></th>\n",
       "    </tr>\n",
       "  </thead>\n",
       "  <tbody>\n",
       "    <tr>\n",
       "      <th>2018-12-07 08:21:23</th>\n",
       "      <td>1</td>\n",
       "      <td>0</td>\n",
       "      <td>0</td>\n",
       "      <td>0</td>\n",
       "      <td>0</td>\n",
       "      <td>0</td>\n",
       "    </tr>\n",
       "    <tr>\n",
       "      <th>2018-12-07 08:59:20</th>\n",
       "      <td>1</td>\n",
       "      <td>0</td>\n",
       "      <td>0</td>\n",
       "      <td>0</td>\n",
       "      <td>0</td>\n",
       "      <td>0</td>\n",
       "    </tr>\n",
       "  </tbody>\n",
       "</table>\n",
       "</div>"
      ],
      "text/plain": [
       "                     cnt_chat  cnt_ㅋ  cnt_ㄵ  cnt_오  cnt_와  cnt_유하\n",
       "time                                                             \n",
       "2018-12-07 08:21:23         1      0      0      0      0       0\n",
       "2018-12-07 08:59:20         1      0      0      0      0       0"
      ]
     },
     "execution_count": 17,
     "metadata": {},
     "output_type": "execute_result"
    }
   ],
   "source": [
    "pivot_df = chat_data_reindex.pivot_table(index=chat_data_reindex.index, aggfunc=len, values='chatterer')\n",
    "pivot_df.columns = ['cnt_chat']  # 컬럼 이름 할당\n",
    "pivot_df[\"cnt_ㅋ\"] = chat_data_reindex.pivot_table(index = chat_data_reindex.index, aggfunc=sum, values='cnt_ㅋ')['cnt_ㅋ']\n",
    "pivot_df[\"cnt_ㄵ\"] = chat_data_reindex.pivot_table(index = chat_data_reindex.index, aggfunc=sum, values='cnt_ㄵ')['cnt_ㄵ'] +\\\n",
    "                    chat_data_reindex.pivot_table(index = chat_data_reindex.index, aggfunc=sum, values='cnt_ㄴㅈ')['cnt_ㄴㅈ']\n",
    "pivot_df[\"cnt_오\"] = chat_data_reindex.pivot_table(index = chat_data_reindex.index, aggfunc=sum, values='cnt_오')['cnt_오']\n",
    "pivot_df[\"cnt_와\"] = chat_data_reindex.pivot_table(index = chat_data_reindex.index, aggfunc=sum, values='cnt_와')['cnt_와']\n",
    "pivot_df[\"cnt_유하\"] = chat_data_reindex.pivot_table(index = chat_data_reindex.index, aggfunc=sum, values='cnt_유하')['cnt_유하']\n",
    "\n",
    "# 초당 채팅수가 평균 이상인 경우만 보이도록\n",
    "pivot_df[pivot_df['cnt_chat'] > pivot_df['cnt_chat'].mean()]\n",
    "print(sorted(pivot_df['cnt_chat'].unique(), reverse=True)[:10])\n",
    "print(sorted(pivot_df['cnt_ㅋ'].unique(), reverse=True)[:10])\n",
    "\n",
    "pivot_df.head(2)"
   ]
  },
  {
   "cell_type": "markdown",
   "metadata": {},
   "source": [
    "### 검증데이터를 추가, 검증데이터와 분석데이터간 상관관계를 알아보자\n",
    "\n",
    "- 검증데이터: yes/no 의 명목형 변수  \n",
    "- 이외의 다른 열 : 연속형 변수  \n",
    "명목형 변수와 연속형 변수의 상관관계의 경우 **`Point-biserial correlation`** 을 사용함  \n",
    "이는 scipy.stats 모듈에 pointbiserialr 메소드로 구현되어 있음\n",
    "\n",
    "#### 시험해보기 위한 치팅\n",
    "- 채팅 수가 60% 중위수 이상인 경우 모두 하이라이트영상이 있다고 가정하여 데이터프레임 생성"
   ]
  },
  {
   "cell_type": "code",
   "execution_count": 18,
   "metadata": {
    "scrolled": false
   },
   "outputs": [
    {
     "data": {
      "text/html": [
       "<div>\n",
       "<style scoped>\n",
       "    .dataframe tbody tr th:only-of-type {\n",
       "        vertical-align: middle;\n",
       "    }\n",
       "\n",
       "    .dataframe tbody tr th {\n",
       "        vertical-align: top;\n",
       "    }\n",
       "\n",
       "    .dataframe thead th {\n",
       "        text-align: right;\n",
       "    }\n",
       "</style>\n",
       "<table border=\"1\" class=\"dataframe\">\n",
       "  <thead>\n",
       "    <tr style=\"text-align: right;\">\n",
       "      <th></th>\n",
       "      <th>cnt_chat</th>\n",
       "      <th>cnt_ㅋ</th>\n",
       "      <th>cnt_ㄵ</th>\n",
       "      <th>cnt_오</th>\n",
       "      <th>cnt_와</th>\n",
       "      <th>cnt_유하</th>\n",
       "    </tr>\n",
       "    <tr>\n",
       "      <th>time</th>\n",
       "      <th></th>\n",
       "      <th></th>\n",
       "      <th></th>\n",
       "      <th></th>\n",
       "      <th></th>\n",
       "      <th></th>\n",
       "    </tr>\n",
       "  </thead>\n",
       "  <tbody>\n",
       "    <tr>\n",
       "      <th>2018-12-07 13:33:11</th>\n",
       "      <td>16</td>\n",
       "      <td>170</td>\n",
       "      <td>0</td>\n",
       "      <td>0</td>\n",
       "      <td>0</td>\n",
       "      <td>0</td>\n",
       "    </tr>\n",
       "    <tr>\n",
       "      <th>2018-12-07 13:33:15</th>\n",
       "      <td>18</td>\n",
       "      <td>127</td>\n",
       "      <td>0</td>\n",
       "      <td>0</td>\n",
       "      <td>0</td>\n",
       "      <td>0</td>\n",
       "    </tr>\n",
       "  </tbody>\n",
       "</table>\n",
       "</div>"
      ],
      "text/plain": [
       "                     cnt_chat  cnt_ㅋ  cnt_ㄵ  cnt_오  cnt_와  cnt_유하\n",
       "time                                                             \n",
       "2018-12-07 13:33:11        16    170      0      0      0       0\n",
       "2018-12-07 13:33:15        18    127      0      0      0       0"
      ]
     },
     "execution_count": 18,
     "metadata": {},
     "output_type": "execute_result"
    }
   ],
   "source": [
    "import numpy as np\n",
    "anal_df = pivot_df.copy()\n",
    "percentile = np.percentile(anal_df.cnt_chat.unique(), 70)\n",
    "anal_df[anal_df['cnt_chat'] > percentile].head(2)"
   ]
  },
  {
   "cell_type": "markdown",
   "metadata": {},
   "source": [
    "#### 전체 채팅 70% 보다 채팅 수가 높은 경우의 점들을 모두 yes 로"
   ]
  },
  {
   "cell_type": "code",
   "execution_count": 19,
   "metadata": {},
   "outputs": [],
   "source": [
    "anal_df['validation'] = anal_df['cnt_chat'].apply(lambda x : 1 if x >= percentile else 0)"
   ]
  },
  {
   "cell_type": "code",
   "execution_count": 20,
   "metadata": {
    "scrolled": true
   },
   "outputs": [
    {
     "data": {
      "text/plain": [
       "array([0, 1], dtype=int64)"
      ]
     },
     "execution_count": 20,
     "metadata": {},
     "output_type": "execute_result"
    }
   ],
   "source": [
    "anal_df['validation'].unique()"
   ]
  },
  {
   "cell_type": "markdown",
   "metadata": {},
   "source": [
    "#### scipy.stats 불러오기"
   ]
  },
  {
   "cell_type": "code",
   "execution_count": 21,
   "metadata": {
    "scrolled": true
   },
   "outputs": [
    {
     "name": "stdout",
     "output_type": "stream",
     "text": [
      "cnt_chat 상관 정도 :  0.23685589641202878\n",
      "cnt_ㅋ 상관 정도 :  0.26031797896702774\n",
      "cnt_ㄵ 상관 정도 :  -0.0018019371392378135\n",
      "cnt_오 상관 정도 :  0.02267098076202392\n",
      "cnt_와 상관 정도 :  -0.007229065966109369\n",
      "cnt_유하 상관 정도 :  -0.00030543758743950224\n",
      "validation 상관 정도 :  1.0\n"
     ]
    }
   ],
   "source": [
    "from scipy import stats\n",
    "for col in anal_df:\n",
    "    print(\"%s 상관 정도 : \" % col, stats.pointbiserialr(anal_df[col], anal_df['validation']).correlation)"
   ]
  },
  {
   "cell_type": "code",
   "execution_count": 23,
   "metadata": {},
   "outputs": [
    {
     "data": {
      "text/html": [
       "<div>\n",
       "<style scoped>\n",
       "    .dataframe tbody tr th:only-of-type {\n",
       "        vertical-align: middle;\n",
       "    }\n",
       "\n",
       "    .dataframe tbody tr th {\n",
       "        vertical-align: top;\n",
       "    }\n",
       "\n",
       "    .dataframe thead th {\n",
       "        text-align: right;\n",
       "    }\n",
       "</style>\n",
       "<table border=\"1\" class=\"dataframe\">\n",
       "  <thead>\n",
       "    <tr style=\"text-align: right;\">\n",
       "      <th></th>\n",
       "      <th>cnt_chat</th>\n",
       "      <th>cnt_ㅋ</th>\n",
       "      <th>cnt_ㄵ</th>\n",
       "      <th>cnt_오</th>\n",
       "      <th>cnt_와</th>\n",
       "      <th>cnt_유하</th>\n",
       "      <th>validation</th>\n",
       "    </tr>\n",
       "  </thead>\n",
       "  <tbody>\n",
       "    <tr>\n",
       "      <th>cnt_chat</th>\n",
       "      <td>1.000000</td>\n",
       "      <td>0.533525</td>\n",
       "      <td>0.015900</td>\n",
       "      <td>0.140496</td>\n",
       "      <td>0.131126</td>\n",
       "      <td>0.031330</td>\n",
       "      <td>0.236856</td>\n",
       "    </tr>\n",
       "    <tr>\n",
       "      <th>cnt_ㅋ</th>\n",
       "      <td>0.533525</td>\n",
       "      <td>1.000000</td>\n",
       "      <td>-0.004600</td>\n",
       "      <td>0.049282</td>\n",
       "      <td>0.044256</td>\n",
       "      <td>0.050496</td>\n",
       "      <td>0.260318</td>\n",
       "    </tr>\n",
       "    <tr>\n",
       "      <th>cnt_ㄵ</th>\n",
       "      <td>0.015900</td>\n",
       "      <td>-0.004600</td>\n",
       "      <td>1.000000</td>\n",
       "      <td>-0.010315</td>\n",
       "      <td>-0.009778</td>\n",
       "      <td>-0.000413</td>\n",
       "      <td>-0.001802</td>\n",
       "    </tr>\n",
       "    <tr>\n",
       "      <th>cnt_오</th>\n",
       "      <td>0.140496</td>\n",
       "      <td>0.049282</td>\n",
       "      <td>-0.010315</td>\n",
       "      <td>1.000000</td>\n",
       "      <td>0.021177</td>\n",
       "      <td>-0.001749</td>\n",
       "      <td>0.022671</td>\n",
       "    </tr>\n",
       "    <tr>\n",
       "      <th>cnt_와</th>\n",
       "      <td>0.131126</td>\n",
       "      <td>0.044256</td>\n",
       "      <td>-0.009778</td>\n",
       "      <td>0.021177</td>\n",
       "      <td>1.000000</td>\n",
       "      <td>-0.001657</td>\n",
       "      <td>-0.007229</td>\n",
       "    </tr>\n",
       "    <tr>\n",
       "      <th>cnt_유하</th>\n",
       "      <td>0.031330</td>\n",
       "      <td>0.050496</td>\n",
       "      <td>-0.000413</td>\n",
       "      <td>-0.001749</td>\n",
       "      <td>-0.001657</td>\n",
       "      <td>1.000000</td>\n",
       "      <td>-0.000305</td>\n",
       "    </tr>\n",
       "    <tr>\n",
       "      <th>validation</th>\n",
       "      <td>0.236856</td>\n",
       "      <td>0.260318</td>\n",
       "      <td>-0.001802</td>\n",
       "      <td>0.022671</td>\n",
       "      <td>-0.007229</td>\n",
       "      <td>-0.000305</td>\n",
       "      <td>1.000000</td>\n",
       "    </tr>\n",
       "  </tbody>\n",
       "</table>\n",
       "</div>"
      ],
      "text/plain": [
       "            cnt_chat     cnt_ㅋ     cnt_ㄵ     cnt_오     cnt_와    cnt_유하  \\\n",
       "cnt_chat    1.000000  0.533525  0.015900  0.140496  0.131126  0.031330   \n",
       "cnt_ㅋ       0.533525  1.000000 -0.004600  0.049282  0.044256  0.050496   \n",
       "cnt_ㄵ       0.015900 -0.004600  1.000000 -0.010315 -0.009778 -0.000413   \n",
       "cnt_오       0.140496  0.049282 -0.010315  1.000000  0.021177 -0.001749   \n",
       "cnt_와       0.131126  0.044256 -0.009778  0.021177  1.000000 -0.001657   \n",
       "cnt_유하      0.031330  0.050496 -0.000413 -0.001749 -0.001657  1.000000   \n",
       "validation  0.236856  0.260318 -0.001802  0.022671 -0.007229 -0.000305   \n",
       "\n",
       "            validation  \n",
       "cnt_chat      0.236856  \n",
       "cnt_ㅋ         0.260318  \n",
       "cnt_ㄵ        -0.001802  \n",
       "cnt_오         0.022671  \n",
       "cnt_와        -0.007229  \n",
       "cnt_유하       -0.000305  \n",
       "validation    1.000000  "
      ]
     },
     "execution_count": 23,
     "metadata": {},
     "output_type": "execute_result"
    }
   ],
   "source": [
    "anal_df.corr()"
   ]
  },
  {
   "cell_type": "markdown",
   "metadata": {},
   "source": [
    "### <center>수집한 검증데이터로 상관관계알아보자</center>\n",
    "<center>* 공혁준</center>\n",
    "\n",
    "|영상날짜|영상 시작 시간|종료시간|영상길이|\n",
    "|--|:---:|:---:|---|\n",
    "|2018-12-09|13:24:14|18:53:34|5:29:20|\n",
    "|2018-12-09|16:42:35|16:48:26|0:05:35|\n",
    "|2018-12-09|17:37:25|17:44:41|0:07:16|\n",
    "|2018-12-09|16:54:40|17:03:49|0:09:09|\n",
    "|2018-12-09|17:17:08|17:19:08|0:02:00|\n",
    "\n",
    "#### 유튜브 영상 시작시간과 끝 시간 딕셔너리 생성"
   ]
  },
  {
   "cell_type": "code",
   "execution_count": 24,
   "metadata": {},
   "outputs": [],
   "source": [
    "# 유튜브 비디오 시작시간과 끝시간\n",
    "youtube_video_time = {\n",
    "    '2018-12-09 16:42:35': '2018-12-09 16:48:26',\n",
    "    '2018-12-09 17:37:25': '2018-12-09 17:44:41',\n",
    "    '2018-12-09 16:54:40': '2018-12-09 17:03:49',\n",
    "    '2018-12-09 17:17:08': '2018-12-09 17:19:08',\n",
    "}\n",
    "youtube_video_time1207 = {\n",
    "    '2018-12-07 14:01:07': '2018-12-07 14:04:53',\n",
    "    '2018-12-07 13:39:05': '2018-12-07 13:59:53',\n",
    "    '2018-12-07 12:46:18': '2018-12-07 13:11:40',\n",
    "#     '2018-12-07 8:59:02': '14:15:13',\n",
    "}\n",
    "youtube_video_time1213 = {\n",
    "    '2018-12-13 19:58:26': '2018-12-13 14:33:24',\n",
    "}\n",
    "youtube_video_time1215 = {\n",
    "    '2018-12-15 14:29:30': '2018-12-15 14:33:24',\n",
    "    '2018-12-15 14:35:25': '2018-12-15 15:01:20',\n",
    "}"
   ]
  },
  {
   "cell_type": "markdown",
   "metadata": {},
   "source": [
    "#### 유튜브 영상 시작, 끝 까지의 모든 초 DATETIME 생성"
   ]
  },
  {
   "cell_type": "code",
   "execution_count": 25,
   "metadata": {},
   "outputs": [],
   "source": [
    "# 시작시간부터 끝 시간까지의 모든 초의 데이트타임생성\n",
    "highlight_times = [pd.date_range(start=start, end=end, freq='s') for start, end in youtube_video_time1207.items()]\n",
    "hl_times = []\n",
    "for time in highlight_times:\n",
    "    hl_times.extend(time)\n"
   ]
  },
  {
   "cell_type": "code",
   "execution_count": 26,
   "metadata": {
    "scrolled": true
   },
   "outputs": [
    {
     "data": {
      "text/plain": [
       "(2999,\n",
       " [Timestamp('2018-12-07 14:01:07', freq='S'),\n",
       "  Timestamp('2018-12-07 14:01:08', freq='S')])"
      ]
     },
     "execution_count": 26,
     "metadata": {},
     "output_type": "execute_result"
    }
   ],
   "source": [
    "len(hl_times), hl_times[:2]"
   ]
  },
  {
   "cell_type": "markdown",
   "metadata": {},
   "source": [
    "#### 채팅로그 데이터에 유튜브 영상시간에 해당하면 validation 컬럼 1으로"
   ]
  },
  {
   "cell_type": "code",
   "execution_count": 27,
   "metadata": {},
   "outputs": [
    {
     "data": {
      "text/html": [
       "<div>\n",
       "<style scoped>\n",
       "    .dataframe tbody tr th:only-of-type {\n",
       "        vertical-align: middle;\n",
       "    }\n",
       "\n",
       "    .dataframe tbody tr th {\n",
       "        vertical-align: top;\n",
       "    }\n",
       "\n",
       "    .dataframe thead th {\n",
       "        text-align: right;\n",
       "    }\n",
       "</style>\n",
       "<table border=\"1\" class=\"dataframe\">\n",
       "  <thead>\n",
       "    <tr style=\"text-align: right;\">\n",
       "      <th></th>\n",
       "      <th>chatterer</th>\n",
       "      <th>chat_contents</th>\n",
       "      <th>cnt_ㅋ</th>\n",
       "      <th>cnt_ㄵ</th>\n",
       "      <th>cnt_ㄴㅈ</th>\n",
       "      <th>cnt_오</th>\n",
       "      <th>cnt_와</th>\n",
       "      <th>cnt_유하</th>\n",
       "    </tr>\n",
       "    <tr>\n",
       "      <th>time</th>\n",
       "      <th></th>\n",
       "      <th></th>\n",
       "      <th></th>\n",
       "      <th></th>\n",
       "      <th></th>\n",
       "      <th></th>\n",
       "      <th></th>\n",
       "      <th></th>\n",
       "    </tr>\n",
       "  </thead>\n",
       "  <tbody>\n",
       "    <tr>\n",
       "      <th>2018-12-07 08:21:23</th>\n",
       "      <td>&lt;ow_easybro&gt;</td>\n",
       "      <td>얍</td>\n",
       "      <td>0</td>\n",
       "      <td>0</td>\n",
       "      <td>0</td>\n",
       "      <td>0</td>\n",
       "      <td>0</td>\n",
       "      <td>0</td>\n",
       "    </tr>\n",
       "    <tr>\n",
       "      <th>2018-12-07 08:59:20</th>\n",
       "      <td>&lt;loksk3&gt;</td>\n",
       "      <td>반갑고</td>\n",
       "      <td>0</td>\n",
       "      <td>0</td>\n",
       "      <td>0</td>\n",
       "      <td>0</td>\n",
       "      <td>0</td>\n",
       "      <td>0</td>\n",
       "    </tr>\n",
       "  </tbody>\n",
       "</table>\n",
       "</div>"
      ],
      "text/plain": [
       "                        chatterer chat_contents  cnt_ㅋ  cnt_ㄵ  cnt_ㄴㅈ  cnt_오  \\\n",
       "time                                                                           \n",
       "2018-12-07 08:21:23  <ow_easybro>             얍      0      0       0      0   \n",
       "2018-12-07 08:59:20      <loksk3>           반갑고      0      0       0      0   \n",
       "\n",
       "                     cnt_와  cnt_유하  \n",
       "time                                \n",
       "2018-12-07 08:21:23      0       0  \n",
       "2018-12-07 08:59:20      0       0  "
      ]
     },
     "execution_count": 27,
     "metadata": {},
     "output_type": "execute_result"
    }
   ],
   "source": [
    "chat_data_reindex.head(2)"
   ]
  },
  {
   "cell_type": "code",
   "execution_count": 48,
   "metadata": {},
   "outputs": [],
   "source": [
    "chat_data_reindex['label'] = chat_data_reindex.index\n",
    "chat_data_reindex['label'] = chat_data_reindex['label'].apply(lambda x : 1 if x in hl_times else 0)"
   ]
  },
  {
   "cell_type": "code",
   "execution_count": 49,
   "metadata": {},
   "outputs": [
    {
     "data": {
      "text/plain": [
       "array([0, 1], dtype=int64)"
      ]
     },
     "execution_count": 49,
     "metadata": {},
     "output_type": "execute_result"
    }
   ],
   "source": [
    "chat_data_reindex.validation.unique()"
   ]
  },
  {
   "cell_type": "markdown",
   "metadata": {},
   "source": [
    "#### 빈도수로 피봇된 테이블에 validation 컬럼 추가"
   ]
  },
  {
   "cell_type": "code",
   "execution_count": 31,
   "metadata": {
    "scrolled": true
   },
   "outputs": [],
   "source": [
    "anal_df.validation = anal_df.index\n",
    "anal_df.validation = anal_df.validation.apply(lambda x : 1 if x in hl_times else 0)"
   ]
  },
  {
   "cell_type": "code",
   "execution_count": 32,
   "metadata": {},
   "outputs": [
    {
     "data": {
      "text/plain": [
       "array([0, 1], dtype=int64)"
      ]
     },
     "execution_count": 32,
     "metadata": {},
     "output_type": "execute_result"
    }
   ],
   "source": [
    "anal_df.validation.unique()"
   ]
  },
  {
   "cell_type": "code",
   "execution_count": 33,
   "metadata": {
    "scrolled": true
   },
   "outputs": [
    {
     "data": {
      "text/html": [
       "<div>\n",
       "<style scoped>\n",
       "    .dataframe tbody tr th:only-of-type {\n",
       "        vertical-align: middle;\n",
       "    }\n",
       "\n",
       "    .dataframe tbody tr th {\n",
       "        vertical-align: top;\n",
       "    }\n",
       "\n",
       "    .dataframe thead th {\n",
       "        text-align: right;\n",
       "    }\n",
       "</style>\n",
       "<table border=\"1\" class=\"dataframe\">\n",
       "  <thead>\n",
       "    <tr style=\"text-align: right;\">\n",
       "      <th></th>\n",
       "      <th>cnt_chat</th>\n",
       "      <th>cnt_ㅋ</th>\n",
       "      <th>cnt_ㄵ</th>\n",
       "      <th>cnt_오</th>\n",
       "      <th>cnt_와</th>\n",
       "      <th>cnt_유하</th>\n",
       "      <th>validation</th>\n",
       "    </tr>\n",
       "  </thead>\n",
       "  <tbody>\n",
       "    <tr>\n",
       "      <th>cnt_chat</th>\n",
       "      <td>1.000000</td>\n",
       "      <td>0.533525</td>\n",
       "      <td>0.015900</td>\n",
       "      <td>0.140496</td>\n",
       "      <td>0.131126</td>\n",
       "      <td>0.031330</td>\n",
       "      <td>0.270852</td>\n",
       "    </tr>\n",
       "    <tr>\n",
       "      <th>cnt_ㅋ</th>\n",
       "      <td>0.533525</td>\n",
       "      <td>1.000000</td>\n",
       "      <td>-0.004600</td>\n",
       "      <td>0.049282</td>\n",
       "      <td>0.044256</td>\n",
       "      <td>0.050496</td>\n",
       "      <td>0.093870</td>\n",
       "    </tr>\n",
       "    <tr>\n",
       "      <th>cnt_ㄵ</th>\n",
       "      <td>0.015900</td>\n",
       "      <td>-0.004600</td>\n",
       "      <td>1.000000</td>\n",
       "      <td>-0.010315</td>\n",
       "      <td>-0.009778</td>\n",
       "      <td>-0.000413</td>\n",
       "      <td>-0.019279</td>\n",
       "    </tr>\n",
       "    <tr>\n",
       "      <th>cnt_오</th>\n",
       "      <td>0.140496</td>\n",
       "      <td>0.049282</td>\n",
       "      <td>-0.010315</td>\n",
       "      <td>1.000000</td>\n",
       "      <td>0.021177</td>\n",
       "      <td>-0.001749</td>\n",
       "      <td>0.042912</td>\n",
       "    </tr>\n",
       "    <tr>\n",
       "      <th>cnt_와</th>\n",
       "      <td>0.131126</td>\n",
       "      <td>0.044256</td>\n",
       "      <td>-0.009778</td>\n",
       "      <td>0.021177</td>\n",
       "      <td>1.000000</td>\n",
       "      <td>-0.001657</td>\n",
       "      <td>0.032068</td>\n",
       "    </tr>\n",
       "    <tr>\n",
       "      <th>cnt_유하</th>\n",
       "      <td>0.031330</td>\n",
       "      <td>0.050496</td>\n",
       "      <td>-0.000413</td>\n",
       "      <td>-0.001749</td>\n",
       "      <td>-0.001657</td>\n",
       "      <td>1.000000</td>\n",
       "      <td>0.017025</td>\n",
       "    </tr>\n",
       "    <tr>\n",
       "      <th>validation</th>\n",
       "      <td>0.270852</td>\n",
       "      <td>0.093870</td>\n",
       "      <td>-0.019279</td>\n",
       "      <td>0.042912</td>\n",
       "      <td>0.032068</td>\n",
       "      <td>0.017025</td>\n",
       "      <td>1.000000</td>\n",
       "    </tr>\n",
       "  </tbody>\n",
       "</table>\n",
       "</div>"
      ],
      "text/plain": [
       "            cnt_chat     cnt_ㅋ     cnt_ㄵ     cnt_오     cnt_와    cnt_유하  \\\n",
       "cnt_chat    1.000000  0.533525  0.015900  0.140496  0.131126  0.031330   \n",
       "cnt_ㅋ       0.533525  1.000000 -0.004600  0.049282  0.044256  0.050496   \n",
       "cnt_ㄵ       0.015900 -0.004600  1.000000 -0.010315 -0.009778 -0.000413   \n",
       "cnt_오       0.140496  0.049282 -0.010315  1.000000  0.021177 -0.001749   \n",
       "cnt_와       0.131126  0.044256 -0.009778  0.021177  1.000000 -0.001657   \n",
       "cnt_유하      0.031330  0.050496 -0.000413 -0.001749 -0.001657  1.000000   \n",
       "validation  0.270852  0.093870 -0.019279  0.042912  0.032068  0.017025   \n",
       "\n",
       "            validation  \n",
       "cnt_chat      0.270852  \n",
       "cnt_ㅋ         0.093870  \n",
       "cnt_ㄵ        -0.019279  \n",
       "cnt_오         0.042912  \n",
       "cnt_와         0.032068  \n",
       "cnt_유하        0.017025  \n",
       "validation    1.000000  "
      ]
     },
     "execution_count": 33,
     "metadata": {},
     "output_type": "execute_result"
    }
   ],
   "source": [
    "anal_df.corr()"
   ]
  },
  {
   "cell_type": "code",
   "execution_count": 47,
   "metadata": {},
   "outputs": [
    {
     "data": {
      "text/html": [
       "<div>\n",
       "<style scoped>\n",
       "    .dataframe tbody tr th:only-of-type {\n",
       "        vertical-align: middle;\n",
       "    }\n",
       "\n",
       "    .dataframe tbody tr th {\n",
       "        vertical-align: top;\n",
       "    }\n",
       "\n",
       "    .dataframe thead th {\n",
       "        text-align: right;\n",
       "    }\n",
       "</style>\n",
       "<table border=\"1\" class=\"dataframe\">\n",
       "  <thead>\n",
       "    <tr style=\"text-align: right;\">\n",
       "      <th></th>\n",
       "      <th>cnt_chat</th>\n",
       "      <th>cnt_ㅋ</th>\n",
       "      <th>cnt_ㄵ</th>\n",
       "      <th>cnt_오</th>\n",
       "      <th>cnt_와</th>\n",
       "      <th>cnt_유하</th>\n",
       "      <th>validation</th>\n",
       "    </tr>\n",
       "    <tr>\n",
       "      <th>time</th>\n",
       "      <th></th>\n",
       "      <th></th>\n",
       "      <th></th>\n",
       "      <th></th>\n",
       "      <th></th>\n",
       "      <th></th>\n",
       "      <th></th>\n",
       "    </tr>\n",
       "  </thead>\n",
       "  <tbody>\n",
       "    <tr>\n",
       "      <th>2018-12-07 13:37:53</th>\n",
       "      <td>21</td>\n",
       "      <td>26</td>\n",
       "      <td>0</td>\n",
       "      <td>0</td>\n",
       "      <td>0</td>\n",
       "      <td>0</td>\n",
       "      <td>0</td>\n",
       "    </tr>\n",
       "    <tr>\n",
       "      <th>2018-12-07 13:38:32</th>\n",
       "      <td>22</td>\n",
       "      <td>261</td>\n",
       "      <td>0</td>\n",
       "      <td>1</td>\n",
       "      <td>0</td>\n",
       "      <td>0</td>\n",
       "      <td>0</td>\n",
       "    </tr>\n",
       "    <tr>\n",
       "      <th>2018-12-07 13:39:39</th>\n",
       "      <td>22</td>\n",
       "      <td>75</td>\n",
       "      <td>0</td>\n",
       "      <td>0</td>\n",
       "      <td>0</td>\n",
       "      <td>0</td>\n",
       "      <td>1</td>\n",
       "    </tr>\n",
       "    <tr>\n",
       "      <th>2018-12-07 14:01:48</th>\n",
       "      <td>22</td>\n",
       "      <td>143</td>\n",
       "      <td>0</td>\n",
       "      <td>0</td>\n",
       "      <td>0</td>\n",
       "      <td>0</td>\n",
       "      <td>1</td>\n",
       "    </tr>\n",
       "    <tr>\n",
       "      <th>2018-12-07 14:01:49</th>\n",
       "      <td>23</td>\n",
       "      <td>219</td>\n",
       "      <td>0</td>\n",
       "      <td>1</td>\n",
       "      <td>0</td>\n",
       "      <td>0</td>\n",
       "      <td>1</td>\n",
       "    </tr>\n",
       "  </tbody>\n",
       "</table>\n",
       "</div>"
      ],
      "text/plain": [
       "                     cnt_chat  cnt_ㅋ  cnt_ㄵ  cnt_오  cnt_와  cnt_유하  validation\n",
       "time                                                                         \n",
       "2018-12-07 13:37:53        21     26      0      0      0       0           0\n",
       "2018-12-07 13:38:32        22    261      0      1      0       0           0\n",
       "2018-12-07 13:39:39        22     75      0      0      0       0           1\n",
       "2018-12-07 14:01:48        22    143      0      0      0       0           1\n",
       "2018-12-07 14:01:49        23    219      0      1      0       0           1"
      ]
     },
     "execution_count": 47,
     "metadata": {},
     "output_type": "execute_result"
    }
   ],
   "source": [
    "anal_df[anal_df['cnt_chat'] > 20]\n",
    "# 분석용 데이터 셋\n",
    "\n",
    "# validation :\n",
    "# 하이라이트 영상으로 실제 올라간 경우 : 1,\n",
    "# 하이라이트 영상으로 올라가지 않은 경우 :0\n",
    "\n",
    "# 단어를 모두 흥미/ 등등의 카테고리화"
   ]
  },
  {
   "cell_type": "code",
   "execution_count": 35,
   "metadata": {},
   "outputs": [],
   "source": [
    "# 유튜브 영상이 존재하는지 여부를 중심으로 데이터 분할\n",
    "yes_data = anal_df[anal_df['label'] == 1]\n",
    "no_data = anal_df[anal_df['label'] == 0]\n",
    "\n",
    "# 분할된 데이터 인덱스를 시간으로만 변경\n",
    "# no_data.index = [i.time() for i in no_data.index]\n",
    "# yes_data.index = [i.time() for i in yes_data.index]"
   ]
  },
  {
   "cell_type": "code",
   "execution_count": 36,
   "metadata": {},
   "outputs": [
    {
     "data": {
      "text/html": [
       "<div>\n",
       "<style scoped>\n",
       "    .dataframe tbody tr th:only-of-type {\n",
       "        vertical-align: middle;\n",
       "    }\n",
       "\n",
       "    .dataframe tbody tr th {\n",
       "        vertical-align: top;\n",
       "    }\n",
       "\n",
       "    .dataframe thead th {\n",
       "        text-align: right;\n",
       "    }\n",
       "</style>\n",
       "<table border=\"1\" class=\"dataframe\">\n",
       "  <thead>\n",
       "    <tr style=\"text-align: right;\">\n",
       "      <th></th>\n",
       "      <th>cnt_chat</th>\n",
       "      <th>cnt_ㅋ</th>\n",
       "      <th>cnt_ㄵ</th>\n",
       "      <th>cnt_오</th>\n",
       "      <th>cnt_와</th>\n",
       "      <th>cnt_유하</th>\n",
       "      <th>validation</th>\n",
       "    </tr>\n",
       "    <tr>\n",
       "      <th>time</th>\n",
       "      <th></th>\n",
       "      <th></th>\n",
       "      <th></th>\n",
       "      <th></th>\n",
       "      <th></th>\n",
       "      <th></th>\n",
       "      <th></th>\n",
       "    </tr>\n",
       "  </thead>\n",
       "  <tbody>\n",
       "    <tr>\n",
       "      <th>2018-12-07 08:21:23</th>\n",
       "      <td>1</td>\n",
       "      <td>0</td>\n",
       "      <td>0</td>\n",
       "      <td>0</td>\n",
       "      <td>0</td>\n",
       "      <td>0</td>\n",
       "      <td>0</td>\n",
       "    </tr>\n",
       "    <tr>\n",
       "      <th>2018-12-07 08:59:20</th>\n",
       "      <td>1</td>\n",
       "      <td>0</td>\n",
       "      <td>0</td>\n",
       "      <td>0</td>\n",
       "      <td>0</td>\n",
       "      <td>0</td>\n",
       "      <td>0</td>\n",
       "    </tr>\n",
       "    <tr>\n",
       "      <th>2018-12-07 08:59:49</th>\n",
       "      <td>1</td>\n",
       "      <td>0</td>\n",
       "      <td>0</td>\n",
       "      <td>0</td>\n",
       "      <td>0</td>\n",
       "      <td>0</td>\n",
       "      <td>0</td>\n",
       "    </tr>\n",
       "    <tr>\n",
       "      <th>2018-12-07 08:59:52</th>\n",
       "      <td>1</td>\n",
       "      <td>0</td>\n",
       "      <td>0</td>\n",
       "      <td>0</td>\n",
       "      <td>0</td>\n",
       "      <td>0</td>\n",
       "      <td>0</td>\n",
       "    </tr>\n",
       "    <tr>\n",
       "      <th>2018-12-07 08:59:58</th>\n",
       "      <td>2</td>\n",
       "      <td>0</td>\n",
       "      <td>0</td>\n",
       "      <td>0</td>\n",
       "      <td>0</td>\n",
       "      <td>0</td>\n",
       "      <td>0</td>\n",
       "    </tr>\n",
       "  </tbody>\n",
       "</table>\n",
       "</div>"
      ],
      "text/plain": [
       "                     cnt_chat  cnt_ㅋ  cnt_ㄵ  cnt_오  cnt_와  cnt_유하  validation\n",
       "time                                                                         \n",
       "2018-12-07 08:21:23         1      0      0      0      0       0           0\n",
       "2018-12-07 08:59:20         1      0      0      0      0       0           0\n",
       "2018-12-07 08:59:49         1      0      0      0      0       0           0\n",
       "2018-12-07 08:59:52         1      0      0      0      0       0           0\n",
       "2018-12-07 08:59:58         2      0      0      0      0       0           0"
      ]
     },
     "execution_count": 36,
     "metadata": {},
     "output_type": "execute_result"
    }
   ],
   "source": [
    "no_data.head()"
   ]
  },
  {
   "cell_type": "code",
   "execution_count": 37,
   "metadata": {
    "scrolled": true
   },
   "outputs": [
    {
     "name": "stdout",
     "output_type": "stream",
     "text": [
      "cnt_chat_pvalue:  5.3004579138429735e-161\n",
      "유의함\n",
      "cnt_ㅋ_pvalue:  6.901999378529401e-220\n",
      "유의함\n",
      "cnt_ㄵ_pvalue:  0.0\n",
      "유의함\n",
      "cnt_오_pvalue:  5.688701647535172e-101\n",
      "유의함\n",
      "cnt_와_pvalue:  2.8016889690615178e-86\n",
      "유의함\n",
      "cnt_유하_pvalue:  0.0\n",
      "유의함\n",
      "validation_pvalue:  nan\n"
     ]
    },
    {
     "name": "stderr",
     "output_type": "stream",
     "text": [
      "C:\\ProgramData\\Anaconda3\\lib\\site-packages\\scipy\\stats\\morestats.py:1852: RuntimeWarning: divide by zero encountered in log\n",
      "  numer = (Ntot*1.0 - k) * log(spsq) - np.sum((Ni - 1.0)*log(ssq), axis=0)\n",
      "C:\\ProgramData\\Anaconda3\\lib\\site-packages\\scipy\\stats\\morestats.py:1852: RuntimeWarning: invalid value encountered in double_scalars\n",
      "  numer = (Ntot*1.0 - k) * log(spsq) - np.sum((Ni - 1.0)*log(ssq), axis=0)\n",
      "C:\\ProgramData\\Anaconda3\\lib\\site-packages\\scipy\\stats\\_distn_infrastructure.py:879: RuntimeWarning: invalid value encountered in greater\n",
      "  return (self.a < x) & (x < self.b)\n",
      "C:\\ProgramData\\Anaconda3\\lib\\site-packages\\scipy\\stats\\_distn_infrastructure.py:879: RuntimeWarning: invalid value encountered in less\n",
      "  return (self.a < x) & (x < self.b)\n",
      "C:\\ProgramData\\Anaconda3\\lib\\site-packages\\scipy\\stats\\_distn_infrastructure.py:1821: RuntimeWarning: invalid value encountered in less_equal\n",
      "  cond2 = cond0 & (x <= self.a)\n"
     ]
    }
   ],
   "source": [
    "# 등분산 검정\n",
    "for i in anal_df:\n",
    "    print(\"%s_pvalue: \" % i, stats.bartlett(yes_data[i], no_data[i]).pvalue)\n",
    "    if stats.bartlett(yes_data[i], no_data[i]).pvalue < 0.01: print(\"유의함\")"
   ]
  },
  {
   "cell_type": "code",
   "execution_count": 38,
   "metadata": {
    "scrolled": true
   },
   "outputs": [
    {
     "name": "stdout",
     "output_type": "stream",
     "text": [
      "cnt_chat_pvalue:  Ks_2sampResult(statistic=0.2796365843160465, pvalue=3.105830325142427e-153)\n",
      "유의함\n",
      "cnt_ㅋ_pvalue:  Ks_2sampResult(statistic=0.08496909247255158, pvalue=1.5576729763222488e-14)\n",
      "유의함\n",
      "cnt_ㄵ_pvalue:  Ks_2sampResult(statistic=0.002671031318989603, pvalue=0.9999999999999999)\n",
      "cnt_오_pvalue:  Ks_2sampResult(statistic=0.020711544197548393, pvalue=0.2893528243965644)\n",
      "cnt_와_pvalue:  Ks_2sampResult(statistic=0.013584726945496062, pvalue=0.8007026380156653)\n",
      "cnt_유하_pvalue:  Ks_2sampResult(statistic=0.00035984166966529507, pvalue=1.0000000000000018)\n",
      "validation_pvalue:  Ks_2sampResult(statistic=1.0, pvalue=0.0)\n",
      "유의함\n"
     ]
    }
   ],
   "source": [
    "# 정규성 검정\n",
    "# Kolmogorov-Smirnov 검정은 사실 정규 분포에 국한되지 않고 두 표본이 같은 분포를 따르는지 확인할 수 있는 방법이다. \n",
    "# scipy.stats.ks_2samp()\n",
    "for i in anal_df:\n",
    "    print(\"%s_pvalue: \"% i, stats.ks_2samp(yes_data[i], no_data[i]))\n",
    "    if stats.ks_2samp(yes_data[i], no_data[i]).pvalue < 0.01: print(\"유의함\")"
   ]
  },
  {
   "cell_type": "code",
   "execution_count": 39,
   "metadata": {},
   "outputs": [
    {
     "name": "stdout",
     "output_type": "stream",
     "text": [
      "Ttest_indResult(statistic=33.62216620868954, pvalue=1.4128032246889417e-238)\n",
      "유의함\n",
      "Ttest_indResult(statistic=11.26666918292028, pvalue=2.548598705678316e-29)\n",
      "유의함\n",
      "Ttest_indResult(statistic=-2.3041119415644498, pvalue=0.021230645124097336)\n",
      "Ttest_indResult(statistic=5.132458944022697, pvalue=2.897354200601421e-07)\n",
      "유의함\n",
      "Ttest_indResult(statistic=3.833918324156586, pvalue=0.00012665941514396252)\n",
      "유의함\n",
      "Ttest_indResult(statistic=2.0346520398146053, pvalue=0.04190433406551452)\n",
      "Ttest_indResult(statistic=inf, pvalue=0.0)\n",
      "유의함\n"
     ]
    }
   ],
   "source": [
    "# ttest\n",
    "for i in anal_df:\n",
    "    print(stats.ttest_ind(yes_data[i], no_data[i]))\n",
    "    if stats.ttest_ind(yes_data[i], no_data[i]).pvalue < 0.01: print(\"유의함\")    "
   ]
  },
  {
   "cell_type": "code",
   "execution_count": 40,
   "metadata": {},
   "outputs": [
    {
     "data": {
      "text/html": [
       "<div>\n",
       "<style scoped>\n",
       "    .dataframe tbody tr th:only-of-type {\n",
       "        vertical-align: middle;\n",
       "    }\n",
       "\n",
       "    .dataframe tbody tr th {\n",
       "        vertical-align: top;\n",
       "    }\n",
       "\n",
       "    .dataframe thead th {\n",
       "        text-align: right;\n",
       "    }\n",
       "</style>\n",
       "<table border=\"1\" class=\"dataframe\">\n",
       "  <thead>\n",
       "    <tr style=\"text-align: right;\">\n",
       "      <th></th>\n",
       "      <th>cnt_chat</th>\n",
       "      <th>cnt_ㅋ</th>\n",
       "      <th>cnt_ㄵ</th>\n",
       "      <th>cnt_오</th>\n",
       "      <th>cnt_와</th>\n",
       "      <th>cnt_유하</th>\n",
       "      <th>validation</th>\n",
       "    </tr>\n",
       "  </thead>\n",
       "  <tbody>\n",
       "    <tr>\n",
       "      <th>count</th>\n",
       "      <td>2779.000000</td>\n",
       "      <td>2779.000000</td>\n",
       "      <td>2779.000000</td>\n",
       "      <td>2779.000000</td>\n",
       "      <td>2779.000000</td>\n",
       "      <td>2779.000000</td>\n",
       "      <td>2779.0</td>\n",
       "    </tr>\n",
       "    <tr>\n",
       "      <th>mean</th>\n",
       "      <td>4.348687</td>\n",
       "      <td>8.806045</td>\n",
       "      <td>0.000720</td>\n",
       "      <td>0.093919</td>\n",
       "      <td>0.066931</td>\n",
       "      <td>0.000360</td>\n",
       "      <td>1.0</td>\n",
       "    </tr>\n",
       "    <tr>\n",
       "      <th>std</th>\n",
       "      <td>3.045558</td>\n",
       "      <td>21.092467</td>\n",
       "      <td>0.026822</td>\n",
       "      <td>0.397294</td>\n",
       "      <td>0.313800</td>\n",
       "      <td>0.018969</td>\n",
       "      <td>0.0</td>\n",
       "    </tr>\n",
       "    <tr>\n",
       "      <th>min</th>\n",
       "      <td>1.000000</td>\n",
       "      <td>0.000000</td>\n",
       "      <td>0.000000</td>\n",
       "      <td>0.000000</td>\n",
       "      <td>0.000000</td>\n",
       "      <td>0.000000</td>\n",
       "      <td>1.0</td>\n",
       "    </tr>\n",
       "    <tr>\n",
       "      <th>25%</th>\n",
       "      <td>2.000000</td>\n",
       "      <td>0.000000</td>\n",
       "      <td>0.000000</td>\n",
       "      <td>0.000000</td>\n",
       "      <td>0.000000</td>\n",
       "      <td>0.000000</td>\n",
       "      <td>1.0</td>\n",
       "    </tr>\n",
       "    <tr>\n",
       "      <th>50%</th>\n",
       "      <td>4.000000</td>\n",
       "      <td>0.000000</td>\n",
       "      <td>0.000000</td>\n",
       "      <td>0.000000</td>\n",
       "      <td>0.000000</td>\n",
       "      <td>0.000000</td>\n",
       "      <td>1.0</td>\n",
       "    </tr>\n",
       "    <tr>\n",
       "      <th>75%</th>\n",
       "      <td>6.000000</td>\n",
       "      <td>9.000000</td>\n",
       "      <td>0.000000</td>\n",
       "      <td>0.000000</td>\n",
       "      <td>0.000000</td>\n",
       "      <td>0.000000</td>\n",
       "      <td>1.0</td>\n",
       "    </tr>\n",
       "    <tr>\n",
       "      <th>max</th>\n",
       "      <td>23.000000</td>\n",
       "      <td>278.000000</td>\n",
       "      <td>1.000000</td>\n",
       "      <td>6.000000</td>\n",
       "      <td>5.000000</td>\n",
       "      <td>1.000000</td>\n",
       "      <td>1.0</td>\n",
       "    </tr>\n",
       "  </tbody>\n",
       "</table>\n",
       "</div>"
      ],
      "text/plain": [
       "          cnt_chat        cnt_ㅋ        cnt_ㄵ        cnt_오        cnt_와  \\\n",
       "count  2779.000000  2779.000000  2779.000000  2779.000000  2779.000000   \n",
       "mean      4.348687     8.806045     0.000720     0.093919     0.066931   \n",
       "std       3.045558    21.092467     0.026822     0.397294     0.313800   \n",
       "min       1.000000     0.000000     0.000000     0.000000     0.000000   \n",
       "25%       2.000000     0.000000     0.000000     0.000000     0.000000   \n",
       "50%       4.000000     0.000000     0.000000     0.000000     0.000000   \n",
       "75%       6.000000     9.000000     0.000000     0.000000     0.000000   \n",
       "max      23.000000   278.000000     1.000000     6.000000     5.000000   \n",
       "\n",
       "            cnt_유하  validation  \n",
       "count  2779.000000      2779.0  \n",
       "mean      0.000360         1.0  \n",
       "std       0.018969         0.0  \n",
       "min       0.000000         1.0  \n",
       "25%       0.000000         1.0  \n",
       "50%       0.000000         1.0  \n",
       "75%       0.000000         1.0  \n",
       "max       1.000000         1.0  "
      ]
     },
     "execution_count": 40,
     "metadata": {},
     "output_type": "execute_result"
    }
   ],
   "source": [
    "yes_data.describe()\n",
    "# 실제 유튜브 영상으로 올라간 시간대의 기술통계"
   ]
  },
  {
   "cell_type": "code",
   "execution_count": 41,
   "metadata": {
    "scrolled": true
   },
   "outputs": [
    {
     "data": {
      "text/html": [
       "<div>\n",
       "<style scoped>\n",
       "    .dataframe tbody tr th:only-of-type {\n",
       "        vertical-align: middle;\n",
       "    }\n",
       "\n",
       "    .dataframe tbody tr th {\n",
       "        vertical-align: top;\n",
       "    }\n",
       "\n",
       "    .dataframe thead th {\n",
       "        text-align: right;\n",
       "    }\n",
       "</style>\n",
       "<table border=\"1\" class=\"dataframe\">\n",
       "  <thead>\n",
       "    <tr style=\"text-align: right;\">\n",
       "      <th></th>\n",
       "      <th>cnt_chat</th>\n",
       "      <th>cnt_ㅋ</th>\n",
       "      <th>cnt_ㄵ</th>\n",
       "      <th>cnt_오</th>\n",
       "      <th>cnt_와</th>\n",
       "      <th>cnt_유하</th>\n",
       "      <th>validation</th>\n",
       "    </tr>\n",
       "  </thead>\n",
       "  <tbody>\n",
       "    <tr>\n",
       "      <th>count</th>\n",
       "      <td>11502.000000</td>\n",
       "      <td>11502.000000</td>\n",
       "      <td>11502.000000</td>\n",
       "      <td>11502.000000</td>\n",
       "      <td>11502.000000</td>\n",
       "      <td>11502.0</td>\n",
       "      <td>11502.0</td>\n",
       "    </tr>\n",
       "    <tr>\n",
       "      <th>mean</th>\n",
       "      <td>2.709181</td>\n",
       "      <td>5.146062</td>\n",
       "      <td>0.004173</td>\n",
       "      <td>0.059555</td>\n",
       "      <td>0.046340</td>\n",
       "      <td>0.0</td>\n",
       "      <td>0.0</td>\n",
       "    </tr>\n",
       "    <tr>\n",
       "      <th>std</th>\n",
       "      <td>2.089765</td>\n",
       "      <td>13.630308</td>\n",
       "      <td>0.077904</td>\n",
       "      <td>0.294015</td>\n",
       "      <td>0.237422</td>\n",
       "      <td>0.0</td>\n",
       "      <td>0.0</td>\n",
       "    </tr>\n",
       "    <tr>\n",
       "      <th>min</th>\n",
       "      <td>1.000000</td>\n",
       "      <td>0.000000</td>\n",
       "      <td>0.000000</td>\n",
       "      <td>0.000000</td>\n",
       "      <td>0.000000</td>\n",
       "      <td>0.0</td>\n",
       "      <td>0.0</td>\n",
       "    </tr>\n",
       "    <tr>\n",
       "      <th>25%</th>\n",
       "      <td>1.000000</td>\n",
       "      <td>0.000000</td>\n",
       "      <td>0.000000</td>\n",
       "      <td>0.000000</td>\n",
       "      <td>0.000000</td>\n",
       "      <td>0.0</td>\n",
       "      <td>0.0</td>\n",
       "    </tr>\n",
       "    <tr>\n",
       "      <th>50%</th>\n",
       "      <td>2.000000</td>\n",
       "      <td>0.000000</td>\n",
       "      <td>0.000000</td>\n",
       "      <td>0.000000</td>\n",
       "      <td>0.000000</td>\n",
       "      <td>0.0</td>\n",
       "      <td>0.0</td>\n",
       "    </tr>\n",
       "    <tr>\n",
       "      <th>75%</th>\n",
       "      <td>4.000000</td>\n",
       "      <td>4.000000</td>\n",
       "      <td>0.000000</td>\n",
       "      <td>0.000000</td>\n",
       "      <td>0.000000</td>\n",
       "      <td>0.0</td>\n",
       "      <td>0.0</td>\n",
       "    </tr>\n",
       "    <tr>\n",
       "      <th>max</th>\n",
       "      <td>22.000000</td>\n",
       "      <td>277.000000</td>\n",
       "      <td>3.000000</td>\n",
       "      <td>10.000000</td>\n",
       "      <td>5.000000</td>\n",
       "      <td>0.0</td>\n",
       "      <td>0.0</td>\n",
       "    </tr>\n",
       "  </tbody>\n",
       "</table>\n",
       "</div>"
      ],
      "text/plain": [
       "           cnt_chat         cnt_ㅋ         cnt_ㄵ         cnt_오         cnt_와  \\\n",
       "count  11502.000000  11502.000000  11502.000000  11502.000000  11502.000000   \n",
       "mean       2.709181      5.146062      0.004173      0.059555      0.046340   \n",
       "std        2.089765     13.630308      0.077904      0.294015      0.237422   \n",
       "min        1.000000      0.000000      0.000000      0.000000      0.000000   \n",
       "25%        1.000000      0.000000      0.000000      0.000000      0.000000   \n",
       "50%        2.000000      0.000000      0.000000      0.000000      0.000000   \n",
       "75%        4.000000      4.000000      0.000000      0.000000      0.000000   \n",
       "max       22.000000    277.000000      3.000000     10.000000      5.000000   \n",
       "\n",
       "        cnt_유하  validation  \n",
       "count  11502.0     11502.0  \n",
       "mean       0.0         0.0  \n",
       "std        0.0         0.0  \n",
       "min        0.0         0.0  \n",
       "25%        0.0         0.0  \n",
       "50%        0.0         0.0  \n",
       "75%        0.0         0.0  \n",
       "max        0.0         0.0  "
      ]
     },
     "execution_count": 41,
     "metadata": {},
     "output_type": "execute_result"
    }
   ],
   "source": [
    "no_data.describe()\n",
    "# 하이라이트 영상으로 올라가지 않은 시간대의 기술통계"
   ]
  },
  {
   "cell_type": "code",
   "execution_count": 50,
   "metadata": {},
   "outputs": [
    {
     "data": {
      "image/png": "[encoded data removed]",
      "text/plain": [
       "<Figure size 1152x288 with 1 Axes>"
      ]
     },
     "metadata": {
      "needs_background": "light"
     },
     "output_type": "display_data"
    }
   ],
   "source": [
    "from matplotlib import pyplot as plt\n",
    "plt.figure(figsize=(16,4))\n",
    "plt.plot(no_data.index, no_data['cnt_ㅋ'])\n",
    "plt.plot(yes_data.index, yes_data['cnt_ㅋ'])\n",
    "plt.show()\n",
    "# 유튜브 편집자 개인에 대한 학습 / 개인의 편집 스타일(평균 영상시간/ 영상의 채팅빈도수/ 'ㅋ' 수 등등)을 학습하여\n",
    "# 편집점을 추천해주는 방식"
   ]
  },
  {
   "cell_type": "code",
   "execution_count": 53,
   "metadata": {
    "scrolled": true
   },
   "outputs": [
    {
     "data": {
      "text/html": [
       "<div>\n",
       "<style scoped>\n",
       "    .dataframe tbody tr th:only-of-type {\n",
       "        vertical-align: middle;\n",
       "    }\n",
       "\n",
       "    .dataframe tbody tr th {\n",
       "        vertical-align: top;\n",
       "    }\n",
       "\n",
       "    .dataframe thead th {\n",
       "        text-align: right;\n",
       "    }\n",
       "</style>\n",
       "<table border=\"1\" class=\"dataframe\">\n",
       "  <thead>\n",
       "    <tr style=\"text-align: right;\">\n",
       "      <th></th>\n",
       "      <th>cnt_chat</th>\n",
       "      <th>cnt_ㅋ</th>\n",
       "      <th>cnt_ㄵ</th>\n",
       "      <th>cnt_오</th>\n",
       "      <th>cnt_와</th>\n",
       "      <th>cnt_유하</th>\n",
       "      <th>validation</th>\n",
       "    </tr>\n",
       "    <tr>\n",
       "      <th>time</th>\n",
       "      <th></th>\n",
       "      <th></th>\n",
       "      <th></th>\n",
       "      <th></th>\n",
       "      <th></th>\n",
       "      <th></th>\n",
       "      <th></th>\n",
       "    </tr>\n",
       "  </thead>\n",
       "  <tbody>\n",
       "    <tr>\n",
       "      <th>2018-12-07 13:33:13</th>\n",
       "      <td>13</td>\n",
       "      <td>277</td>\n",
       "      <td>0</td>\n",
       "      <td>0</td>\n",
       "      <td>0</td>\n",
       "      <td>0</td>\n",
       "      <td>0</td>\n",
       "    </tr>\n",
       "    <tr>\n",
       "      <th>2018-12-07 13:36:19</th>\n",
       "      <td>14</td>\n",
       "      <td>252</td>\n",
       "      <td>0</td>\n",
       "      <td>0</td>\n",
       "      <td>0</td>\n",
       "      <td>0</td>\n",
       "      <td>0</td>\n",
       "    </tr>\n",
       "    <tr>\n",
       "      <th>2018-12-07 13:38:32</th>\n",
       "      <td>22</td>\n",
       "      <td>261</td>\n",
       "      <td>0</td>\n",
       "      <td>1</td>\n",
       "      <td>0</td>\n",
       "      <td>0</td>\n",
       "      <td>0</td>\n",
       "    </tr>\n",
       "    <tr>\n",
       "      <th>2018-12-07 14:01:15</th>\n",
       "      <td>13</td>\n",
       "      <td>269</td>\n",
       "      <td>0</td>\n",
       "      <td>0</td>\n",
       "      <td>0</td>\n",
       "      <td>0</td>\n",
       "      <td>1</td>\n",
       "    </tr>\n",
       "    <tr>\n",
       "      <th>2018-12-07 14:01:17</th>\n",
       "      <td>15</td>\n",
       "      <td>278</td>\n",
       "      <td>0</td>\n",
       "      <td>0</td>\n",
       "      <td>0</td>\n",
       "      <td>0</td>\n",
       "      <td>1</td>\n",
       "    </tr>\n",
       "  </tbody>\n",
       "</table>\n",
       "</div>"
      ],
      "text/plain": [
       "                     cnt_chat  cnt_ㅋ  cnt_ㄵ  cnt_오  cnt_와  cnt_유하  validation\n",
       "time                                                                         \n",
       "2018-12-07 13:33:13        13    277      0      0      0       0           0\n",
       "2018-12-07 13:36:19        14    252      0      0      0       0           0\n",
       "2018-12-07 13:38:32        22    261      0      1      0       0           0\n",
       "2018-12-07 14:01:15        13    269      0      0      0       0           1\n",
       "2018-12-07 14:01:17        15    278      0      0      0       0           1"
      ]
     },
     "execution_count": 53,
     "metadata": {},
     "output_type": "execute_result"
    }
   ],
   "source": [
    "anal_df[anal_df['cnt_ㅋ'] > 250]"
   ]
  },
  {
   "cell_type": "code",
   "execution_count": 70,
   "metadata": {},
   "outputs": [
    {
     "data": {
      "text/html": [
       "<div>\n",
       "<style scoped>\n",
       "    .dataframe tbody tr th:only-of-type {\n",
       "        vertical-align: middle;\n",
       "    }\n",
       "\n",
       "    .dataframe tbody tr th {\n",
       "        vertical-align: top;\n",
       "    }\n",
       "\n",
       "    .dataframe thead th {\n",
       "        text-align: right;\n",
       "    }\n",
       "</style>\n",
       "<table border=\"1\" class=\"dataframe\">\n",
       "  <thead>\n",
       "    <tr style=\"text-align: right;\">\n",
       "      <th></th>\n",
       "      <th>chatterer</th>\n",
       "      <th>chat_contents</th>\n",
       "      <th>cnt_ㅋ</th>\n",
       "      <th>cnt_ㄵ</th>\n",
       "      <th>cnt_ㄴㅈ</th>\n",
       "      <th>cnt_오</th>\n",
       "      <th>cnt_와</th>\n",
       "      <th>cnt_유하</th>\n",
       "      <th>validation</th>\n",
       "      <th>label</th>\n",
       "    </tr>\n",
       "    <tr>\n",
       "      <th>time</th>\n",
       "      <th></th>\n",
       "      <th></th>\n",
       "      <th></th>\n",
       "      <th></th>\n",
       "      <th></th>\n",
       "      <th></th>\n",
       "      <th></th>\n",
       "      <th></th>\n",
       "      <th></th>\n",
       "      <th></th>\n",
       "    </tr>\n",
       "  </thead>\n",
       "  <tbody>\n",
       "    <tr>\n",
       "      <th>2018-12-07 14:01:15</th>\n",
       "      <td>&lt;베리멜론 (ccg5821)&gt;</td>\n",
       "      <td>공혁준 월드컵ㅋㅋㅋㅋㅋㅋㅋㅋㅋ</td>\n",
       "      <td>9</td>\n",
       "      <td>0</td>\n",
       "      <td>0</td>\n",
       "      <td>0</td>\n",
       "      <td>0</td>\n",
       "      <td>0</td>\n",
       "      <td>1</td>\n",
       "      <td>1</td>\n",
       "    </tr>\n",
       "    <tr>\n",
       "      <th>2018-12-07 14:01:15</th>\n",
       "      <td>&lt;아크닉스 (qudcks52091)&gt;</td>\n",
       "      <td>ㅋㅋㅋㅋㅋㅋㅋㅋㅋㅋㅋㅋㅋㅋ</td>\n",
       "      <td>14</td>\n",
       "      <td>0</td>\n",
       "      <td>0</td>\n",
       "      <td>0</td>\n",
       "      <td>0</td>\n",
       "      <td>0</td>\n",
       "      <td>1</td>\n",
       "      <td>1</td>\n",
       "    </tr>\n",
       "  </tbody>\n",
       "</table>\n",
       "</div>"
      ],
      "text/plain": [
       "                                chatterer     chat_contents  cnt_ㅋ  cnt_ㄵ  \\\n",
       "time                                                                        \n",
       "2018-12-07 14:01:15      <베리멜론 (ccg5821)>  공혁준 월드컵ㅋㅋㅋㅋㅋㅋㅋㅋㅋ      9      0   \n",
       "2018-12-07 14:01:15  <아크닉스 (qudcks52091)>    ㅋㅋㅋㅋㅋㅋㅋㅋㅋㅋㅋㅋㅋㅋ     14      0   \n",
       "\n",
       "                     cnt_ㄴㅈ  cnt_오  cnt_와  cnt_유하  validation  label  \n",
       "time                                                                  \n",
       "2018-12-07 14:01:15       0      0      0       0           1      1  \n",
       "2018-12-07 14:01:15       0      0      0       0           1      1  "
      ]
     },
     "execution_count": 70,
     "metadata": {},
     "output_type": "execute_result"
    }
   ],
   "source": [
    "chat_data_reindex[chat_data_reindex.index==\"2018-12-07 14:01:15\"].head(2)"
   ]
  },
  {
   "cell_type": "code",
   "execution_count": 45,
   "metadata": {
    "scrolled": false
   },
   "outputs": [
    {
     "data": {
      "image/png": "[encoded data removed]",
      "text/plain": [
       "<Figure size 1152x288 with 1 Axes>"
      ]
     },
     "metadata": {
      "needs_background": "light"
     },
     "output_type": "display_data"
    }
   ],
   "source": [
    "plt.figure(figsize=(16,4))\n",
    "plt.plot(no_data.index, no_data['cnt_chat'])\n",
    "plt.plot(yes_data.index, yes_data['cnt_chat'])\n",
    "plt.show()\n"
   ]
  },
  {
   "cell_type": "code",
   "execution_count": 72,
   "metadata": {},
   "outputs": [
    {
     "data": {
      "text/html": [
       "<div>\n",
       "<style scoped>\n",
       "    .dataframe tbody tr th:only-of-type {\n",
       "        vertical-align: middle;\n",
       "    }\n",
       "\n",
       "    .dataframe tbody tr th {\n",
       "        vertical-align: top;\n",
       "    }\n",
       "\n",
       "    .dataframe thead th {\n",
       "        text-align: right;\n",
       "    }\n",
       "</style>\n",
       "<table border=\"1\" class=\"dataframe\">\n",
       "  <thead>\n",
       "    <tr style=\"text-align: right;\">\n",
       "      <th></th>\n",
       "      <th>cnt_chat</th>\n",
       "      <th>cnt_ㅋ</th>\n",
       "      <th>cnt_ㄵ</th>\n",
       "      <th>cnt_오</th>\n",
       "      <th>cnt_와</th>\n",
       "      <th>cnt_유하</th>\n",
       "      <th>validation</th>\n",
       "    </tr>\n",
       "    <tr>\n",
       "      <th>time</th>\n",
       "      <th></th>\n",
       "      <th></th>\n",
       "      <th></th>\n",
       "      <th></th>\n",
       "      <th></th>\n",
       "      <th></th>\n",
       "      <th></th>\n",
       "    </tr>\n",
       "  </thead>\n",
       "  <tbody>\n",
       "    <tr>\n",
       "      <th>2018-12-07 13:37:53</th>\n",
       "      <td>21</td>\n",
       "      <td>26</td>\n",
       "      <td>0</td>\n",
       "      <td>0</td>\n",
       "      <td>0</td>\n",
       "      <td>0</td>\n",
       "      <td>0</td>\n",
       "    </tr>\n",
       "    <tr>\n",
       "      <th>2018-12-07 13:38:32</th>\n",
       "      <td>22</td>\n",
       "      <td>261</td>\n",
       "      <td>0</td>\n",
       "      <td>1</td>\n",
       "      <td>0</td>\n",
       "      <td>0</td>\n",
       "      <td>0</td>\n",
       "    </tr>\n",
       "    <tr>\n",
       "      <th>2018-12-07 13:39:39</th>\n",
       "      <td>22</td>\n",
       "      <td>75</td>\n",
       "      <td>0</td>\n",
       "      <td>0</td>\n",
       "      <td>0</td>\n",
       "      <td>0</td>\n",
       "      <td>1</td>\n",
       "    </tr>\n",
       "    <tr>\n",
       "      <th>2018-12-07 14:01:48</th>\n",
       "      <td>22</td>\n",
       "      <td>143</td>\n",
       "      <td>0</td>\n",
       "      <td>0</td>\n",
       "      <td>0</td>\n",
       "      <td>0</td>\n",
       "      <td>1</td>\n",
       "    </tr>\n",
       "    <tr>\n",
       "      <th>2018-12-07 14:01:49</th>\n",
       "      <td>23</td>\n",
       "      <td>219</td>\n",
       "      <td>0</td>\n",
       "      <td>1</td>\n",
       "      <td>0</td>\n",
       "      <td>0</td>\n",
       "      <td>1</td>\n",
       "    </tr>\n",
       "  </tbody>\n",
       "</table>\n",
       "</div>"
      ],
      "text/plain": [
       "                     cnt_chat  cnt_ㅋ  cnt_ㄵ  cnt_오  cnt_와  cnt_유하  validation\n",
       "time                                                                         \n",
       "2018-12-07 13:37:53        21     26      0      0      0       0           0\n",
       "2018-12-07 13:38:32        22    261      0      1      0       0           0\n",
       "2018-12-07 13:39:39        22     75      0      0      0       0           1\n",
       "2018-12-07 14:01:48        22    143      0      0      0       0           1\n",
       "2018-12-07 14:01:49        23    219      0      1      0       0           1"
      ]
     },
     "execution_count": 72,
     "metadata": {},
     "output_type": "execute_result"
    }
   ],
   "source": [
    "anal_df[anal_df['cnt_chat'] > 20]"
   ]
  },
  {
   "cell_type": "code",
   "execution_count": null,
   "metadata": {},
   "outputs": [],
   "source": []
  }
 ],
 "metadata": {
  "kernelspec": {
   "display_name": "Python 3",
   "language": "python",
   "name": "python3"
  },
  "language_info": {
   "codemirror_mode": {
    "name": "ipython",
    "version": 3
   },
   "file_extension": ".py",
   "mimetype": "text/x-python",
   "name": "python",
   "nbconvert_exporter": "python",
   "pygments_lexer": "ipython3",
   "version": "3.7.1"
  }
 },
 "nbformat": 4,
 "nbformat_minor": 2
}
