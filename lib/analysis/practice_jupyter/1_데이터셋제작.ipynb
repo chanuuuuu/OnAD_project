{
 "cells": [
  {
   "cell_type": "code",
   "execution_count": 1,
   "metadata": {},
   "outputs": [],
   "source": [
    "import pandas as pd"
   ]
  },
  {
   "cell_type": "markdown",
   "metadata": {},
   "source": [
    "### 데이터 베이스 설정"
   ]
  },
  {
   "cell_type": "code",
   "execution_count": 2,
   "metadata": {},
   "outputs": [],
   "source": [
    "DB_URL = 'onad.cbjjamtlar2t.ap-northeast-2.rds.amazonaws.com'\n",
    "DB_USER = 'onad'\n",
    "DB_PASSWORD = 'rkdghktn12'\n",
    "DB_DATABASE = 'onad'\n",
    "DB_CHARSET = 'utf8mb4'\n",
    "DB_LOGFLAG  = 'False'\n",
    "DB_PORT = 3306\n",
    "\n",
    "db_url = \"mysql+pymysql://%s:%s@%s:%s/%s?charset=%s\" % (\n",
    "    DB_USER, DB_PASSWORD,\n",
    "    DB_URL, DB_PORT,\n",
    "    DB_DATABASE, DB_CHARSET\n",
    ")"
   ]
  },
  {
   "cell_type": "code",
   "execution_count": 3,
   "metadata": {},
   "outputs": [],
   "source": [
    "def data_from_sql_twitchchat(streamer, target_date):\n",
    "    query = \"\"\"\n",
    "        select * from twitch_chat where streamer_name = \"%s\" and broad_date =\"%s\"\n",
    "    \"\"\"% (streamer, target_date)\n",
    "\n",
    "    return pd.read_sql_query(query, db_url)"
   ]
  },
  {
   "cell_type": "markdown",
   "metadata": {},
   "source": [
    "### 채팅 데이터 로드"
   ]
  },
  {
   "cell_type": "code",
   "execution_count": 440,
   "metadata": {},
   "outputs": [],
   "source": [
    "streamer = \"rhdgurwns\"\n",
    "target_date = \"2018-12-09\"\n",
    "chat_data = data_from_sql_twitchchat(streamer, target_date)"
   ]
  },
  {
   "cell_type": "markdown",
   "metadata": {},
   "source": [
    "### Exploratory Data Analysis"
   ]
  },
  {
   "cell_type": "code",
   "execution_count": 441,
   "metadata": {},
   "outputs": [
    {
     "data": {
      "text/plain": [
       "(57597, 6)"
      ]
     },
     "execution_count": 441,
     "metadata": {},
     "output_type": "execute_result"
    }
   ],
   "source": [
    "chat_data.shape"
   ]
  },
  {
   "cell_type": "code",
   "execution_count": 442,
   "metadata": {},
   "outputs": [
    {
     "data": {
      "text/html": [
       "<div>\n",
       "<style scoped>\n",
       "    .dataframe tbody tr th:only-of-type {\n",
       "        vertical-align: middle;\n",
       "    }\n",
       "\n",
       "    .dataframe tbody tr th {\n",
       "        vertical-align: top;\n",
       "    }\n",
       "\n",
       "    .dataframe thead th {\n",
       "        text-align: right;\n",
       "    }\n",
       "</style>\n",
       "<table border=\"1\" class=\"dataframe\">\n",
       "  <thead>\n",
       "    <tr style=\"text-align: right;\">\n",
       "      <th></th>\n",
       "      <th>chat_id</th>\n",
       "      <th>streamer_name</th>\n",
       "      <th>broad_date</th>\n",
       "      <th>chatterer</th>\n",
       "      <th>chat_time</th>\n",
       "      <th>chat_contents</th>\n",
       "    </tr>\n",
       "  </thead>\n",
       "  <tbody>\n",
       "    <tr>\n",
       "      <th>0</th>\n",
       "      <td>5804896</td>\n",
       "      <td>rhdgurwns</td>\n",
       "      <td>2018-12-09</td>\n",
       "      <td>&lt;명부러전 (worldbest29)&gt;</td>\n",
       "      <td>08:02:31</td>\n",
       "      <td>공혁준 방송켜라</td>\n",
       "    </tr>\n",
       "    <tr>\n",
       "      <th>1</th>\n",
       "      <td>5804897</td>\n",
       "      <td>rhdgurwns</td>\n",
       "      <td>2018-12-09</td>\n",
       "      <td>&lt;명부러전 (worldbest29)&gt;</td>\n",
       "      <td>08:02:39</td>\n",
       "      <td>방송켜 뽀뽀 쪽</td>\n",
       "    </tr>\n",
       "    <tr>\n",
       "      <th>2</th>\n",
       "      <td>5804898</td>\n",
       "      <td>rhdgurwns</td>\n",
       "      <td>2018-12-09</td>\n",
       "      <td>&lt;럼주 (geonw90)&gt;</td>\n",
       "      <td>09:12:19</td>\n",
       "      <td>오뱅없?</td>\n",
       "    </tr>\n",
       "    <tr>\n",
       "      <th>3</th>\n",
       "      <td>5804899</td>\n",
       "      <td>rhdgurwns</td>\n",
       "      <td>2018-12-09</td>\n",
       "      <td>&lt;@%rhdqurwns1&gt;</td>\n",
       "      <td>09:18:23</td>\n",
       "      <td>없을수도</td>\n",
       "    </tr>\n",
       "    <tr>\n",
       "      <th>4</th>\n",
       "      <td>5804900</td>\n",
       "      <td>rhdgurwns</td>\n",
       "      <td>2018-12-09</td>\n",
       "      <td>&lt;@%rhdqurwns1&gt;</td>\n",
       "      <td>09:18:34</td>\n",
       "      <td>방송에서 자세히 말을안하니까..</td>\n",
       "    </tr>\n",
       "  </tbody>\n",
       "</table>\n",
       "</div>"
      ],
      "text/plain": [
       "   chat_id streamer_name  broad_date             chatterer chat_time  \\\n",
       "0  5804896     rhdgurwns  2018-12-09  <명부러전 (worldbest29)>  08:02:31   \n",
       "1  5804897     rhdgurwns  2018-12-09  <명부러전 (worldbest29)>  08:02:39   \n",
       "2  5804898     rhdgurwns  2018-12-09        <럼주 (geonw90)>  09:12:19   \n",
       "3  5804899     rhdgurwns  2018-12-09        <@%rhdqurwns1>  09:18:23   \n",
       "4  5804900     rhdgurwns  2018-12-09        <@%rhdqurwns1>  09:18:34   \n",
       "\n",
       "       chat_contents  \n",
       "0           공혁준 방송켜라  \n",
       "1           방송켜 뽀뽀 쪽  \n",
       "2               오뱅없?  \n",
       "3               없을수도  \n",
       "4  방송에서 자세히 말을안하니까..  "
      ]
     },
     "execution_count": 442,
     "metadata": {},
     "output_type": "execute_result"
    }
   ],
   "source": [
    "chat_data.head()"
   ]
  },
  {
   "cell_type": "code",
   "execution_count": 443,
   "metadata": {
    "scrolled": true
   },
   "outputs": [
    {
     "name": "stdout",
     "output_type": "stream",
     "text": [
      "채팅 로그의 수: 57597\n",
      "순수 시청자 수: 4950\n"
     ]
    }
   ],
   "source": [
    "print(\"채팅 로그의 수: %s\" % (chat_data.shape[0]))\n",
    "print(\"순수 시청자 수: %s\" % (len(list(chat_data['chatterer'].unique()))))"
   ]
  },
  {
   "cell_type": "code",
   "execution_count": 444,
   "metadata": {
    "scrolled": true
   },
   "outputs": [
    {
     "name": "stdout",
     "output_type": "stream",
     "text": [
      "채팅로그의 시작과 끝 : 08:02:31 ~ 22:18:28 \n"
     ]
    }
   ],
   "source": [
    "print(\"채팅로그의 시작과 끝 : %s ~ %s \" % (sorted(chat_data['chat_time'])[0], sorted(chat_data['chat_time'])[-1]))"
   ]
  },
  {
   "cell_type": "markdown",
   "metadata": {},
   "source": [
    "### 시간데이터를 DatetimeIndex 로 변경"
   ]
  },
  {
   "cell_type": "code",
   "execution_count": 110,
   "metadata": {},
   "outputs": [],
   "source": [
    "chat_data['time'] = pd.to_datetime(\n",
    "    chat_data['broad_date'].apply(lambda x : \",\".join(x.split(\"-\"))) + \",\" + \\\n",
    "    chat_data['chat_time'].apply(lambda x : \",\".join(x.split(\":\"))), \n",
    "                                  format=\"%Y,%m,%d,%H,%M,%S\")\n"
   ]
  },
  {
   "cell_type": "code",
   "execution_count": 111,
   "metadata": {},
   "outputs": [],
   "source": [
    "chat_data_reindex = chat_data.set_index('time')"
   ]
  },
  {
   "cell_type": "code",
   "execution_count": 112,
   "metadata": {},
   "outputs": [
    {
     "data": {
      "text/html": [
       "<div>\n",
       "<style scoped>\n",
       "    .dataframe tbody tr th:only-of-type {\n",
       "        vertical-align: middle;\n",
       "    }\n",
       "\n",
       "    .dataframe tbody tr th {\n",
       "        vertical-align: top;\n",
       "    }\n",
       "\n",
       "    .dataframe thead th {\n",
       "        text-align: right;\n",
       "    }\n",
       "</style>\n",
       "<table border=\"1\" class=\"dataframe\">\n",
       "  <thead>\n",
       "    <tr style=\"text-align: right;\">\n",
       "      <th></th>\n",
       "      <th>chat_id</th>\n",
       "      <th>streamer_name</th>\n",
       "      <th>broad_date</th>\n",
       "      <th>chatterer</th>\n",
       "      <th>chat_time</th>\n",
       "      <th>chat_contents</th>\n",
       "    </tr>\n",
       "    <tr>\n",
       "      <th>time</th>\n",
       "      <th></th>\n",
       "      <th></th>\n",
       "      <th></th>\n",
       "      <th></th>\n",
       "      <th></th>\n",
       "      <th></th>\n",
       "    </tr>\n",
       "  </thead>\n",
       "  <tbody>\n",
       "    <tr>\n",
       "      <th>2018-12-27 17:43:26</th>\n",
       "      <td>5235567</td>\n",
       "      <td>looksam</td>\n",
       "      <td>2018-12-27</td>\n",
       "      <td>&lt;$Lee_sang_hyuk&gt;</td>\n",
       "      <td>17:43:26</td>\n",
       "      <td>오늘방송이 안켜진다면</td>\n",
       "    </tr>\n",
       "    <tr>\n",
       "      <th>2018-12-27 17:43:36</th>\n",
       "      <td>5235568</td>\n",
       "      <td>looksam</td>\n",
       "      <td>2018-12-27</td>\n",
       "      <td>&lt;$Lee_sang_hyuk&gt;</td>\n",
       "      <td>17:43:36</td>\n",
       "      <td>아마도 뜨겁겠지..?</td>\n",
       "    </tr>\n",
       "  </tbody>\n",
       "</table>\n",
       "</div>"
      ],
      "text/plain": [
       "                     chat_id streamer_name  broad_date         chatterer  \\\n",
       "time                                                                       \n",
       "2018-12-27 17:43:26  5235567       looksam  2018-12-27  <$Lee_sang_hyuk>   \n",
       "2018-12-27 17:43:36  5235568       looksam  2018-12-27  <$Lee_sang_hyuk>   \n",
       "\n",
       "                    chat_time chat_contents  \n",
       "time                                         \n",
       "2018-12-27 17:43:26  17:43:26   오늘방송이 안켜진다면  \n",
       "2018-12-27 17:43:36  17:43:36   아마도 뜨겁겠지..?  "
      ]
     },
     "execution_count": 112,
     "metadata": {},
     "output_type": "execute_result"
    }
   ],
   "source": [
    "chat_data_reindex.head(2)"
   ]
  },
  {
   "cell_type": "markdown",
   "metadata": {},
   "source": [
    "### pd.Datetime index 생성"
   ]
  },
  {
   "cell_type": "code",
   "execution_count": 113,
   "metadata": {},
   "outputs": [],
   "source": [
    "# YYYY-mm-dd HH:MM:SS 의 datetime 객체 인덱스 생성 (00:00:00 ~ 23:59:59 까지)\n",
    "index=pd.date_range(target_date, periods=86400, freq=\"S\")\n",
    "# 인덱스만 가지는 데이터 프레임 생성 (chat_data와 병합하기 위함)\n",
    "df = pd.DataFrame(index=index,)"
   ]
  },
  {
   "cell_type": "code",
   "execution_count": 114,
   "metadata": {
    "scrolled": true
   },
   "outputs": [],
   "source": [
    "# 필요없는 행 삭제\n",
    "del chat_data_reindex['chat_id']\n",
    "del chat_data_reindex['streamer_name']\n",
    "del chat_data_reindex['broad_date']\n",
    "del chat_data_reindex['chat_time']"
   ]
  },
  {
   "cell_type": "code",
   "execution_count": 115,
   "metadata": {},
   "outputs": [
    {
     "data": {
      "text/html": [
       "<div>\n",
       "<style scoped>\n",
       "    .dataframe tbody tr th:only-of-type {\n",
       "        vertical-align: middle;\n",
       "    }\n",
       "\n",
       "    .dataframe tbody tr th {\n",
       "        vertical-align: top;\n",
       "    }\n",
       "\n",
       "    .dataframe thead th {\n",
       "        text-align: right;\n",
       "    }\n",
       "</style>\n",
       "<table border=\"1\" class=\"dataframe\">\n",
       "  <thead>\n",
       "    <tr style=\"text-align: right;\">\n",
       "      <th></th>\n",
       "      <th>chatterer</th>\n",
       "      <th>chat_contents</th>\n",
       "    </tr>\n",
       "    <tr>\n",
       "      <th>time</th>\n",
       "      <th></th>\n",
       "      <th></th>\n",
       "    </tr>\n",
       "  </thead>\n",
       "  <tbody>\n",
       "    <tr>\n",
       "      <th>2018-12-27 17:43:26</th>\n",
       "      <td>&lt;$Lee_sang_hyuk&gt;</td>\n",
       "      <td>오늘방송이 안켜진다면</td>\n",
       "    </tr>\n",
       "    <tr>\n",
       "      <th>2018-12-27 17:43:36</th>\n",
       "      <td>&lt;$Lee_sang_hyuk&gt;</td>\n",
       "      <td>아마도 뜨겁겠지..?</td>\n",
       "    </tr>\n",
       "  </tbody>\n",
       "</table>\n",
       "</div>"
      ],
      "text/plain": [
       "                            chatterer chat_contents\n",
       "time                                               \n",
       "2018-12-27 17:43:26  <$Lee_sang_hyuk>   오늘방송이 안켜진다면\n",
       "2018-12-27 17:43:36  <$Lee_sang_hyuk>   아마도 뜨겁겠지..?"
      ]
     },
     "execution_count": 115,
     "metadata": {},
     "output_type": "execute_result"
    }
   ],
   "source": [
    "chat_data_reindex.head(2)"
   ]
  },
  {
   "cell_type": "markdown",
   "metadata": {},
   "source": [
    "### 한 문장에서 특정 단어의 수 세어 컬럼으로 생성"
   ]
  },
  {
   "cell_type": "code",
   "execution_count": 361,
   "metadata": {},
   "outputs": [],
   "source": [
    "chat_data_reindex['cnt_ㅋ'] = chat_data_reindex.chat_contents.apply(lambda x : x.count(\"ㅋ\"))\n",
    "chat_data_reindex['cnt_ㄵ'] = chat_data_reindex.chat_contents.apply(lambda x : x.count(\"ㄵ\"))\n",
    "chat_data_reindex['cnt_ㄴㅈ'] = chat_data_reindex.chat_contents.apply(lambda x : x.count(\"ㄴㅈ\"))\n",
    "chat_data_reindex['cnt_오'] = chat_data_reindex.chat_contents.apply(lambda x : x.count(\"오\"))\n",
    "chat_data_reindex['cnt_와'] = chat_data_reindex.chat_contents.apply(lambda x : x.count(\"와\"))\n",
    "chat_data_reindex['cnt_유하'] = chat_data_reindex.chat_contents.apply(lambda x : x.count(\"유하\"))\n",
    "chat_data_reindex['cnt_수금'] = chat_data_reindex.chat_contents.apply(lambda x : x.count(\"수금\"))\n"
   ]
  },
  {
   "cell_type": "code",
   "execution_count": 362,
   "metadata": {},
   "outputs": [
    {
     "data": {
      "text/html": [
       "<div>\n",
       "<style scoped>\n",
       "    .dataframe tbody tr th:only-of-type {\n",
       "        vertical-align: middle;\n",
       "    }\n",
       "\n",
       "    .dataframe tbody tr th {\n",
       "        vertical-align: top;\n",
       "    }\n",
       "\n",
       "    .dataframe thead th {\n",
       "        text-align: right;\n",
       "    }\n",
       "</style>\n",
       "<table border=\"1\" class=\"dataframe\">\n",
       "  <thead>\n",
       "    <tr style=\"text-align: right;\">\n",
       "      <th></th>\n",
       "      <th>chatterer</th>\n",
       "      <th>chat_contents</th>\n",
       "      <th>cnt_ㅋ</th>\n",
       "      <th>cnt_ㄵ</th>\n",
       "      <th>cnt_ㄴㅈ</th>\n",
       "      <th>cnt_오</th>\n",
       "      <th>cnt_와</th>\n",
       "      <th>cnt_유하</th>\n",
       "      <th>cnt_수금</th>\n",
       "    </tr>\n",
       "    <tr>\n",
       "      <th>time</th>\n",
       "      <th></th>\n",
       "      <th></th>\n",
       "      <th></th>\n",
       "      <th></th>\n",
       "      <th></th>\n",
       "      <th></th>\n",
       "      <th></th>\n",
       "      <th></th>\n",
       "      <th></th>\n",
       "    </tr>\n",
       "  </thead>\n",
       "  <tbody>\n",
       "    <tr>\n",
       "      <th>2018-12-27 17:43:26</th>\n",
       "      <td>&lt;$Lee_sang_hyuk&gt;</td>\n",
       "      <td>오늘방송이 안켜진다면</td>\n",
       "      <td>0</td>\n",
       "      <td>0</td>\n",
       "      <td>0</td>\n",
       "      <td>1</td>\n",
       "      <td>0</td>\n",
       "      <td>0</td>\n",
       "      <td>0</td>\n",
       "    </tr>\n",
       "    <tr>\n",
       "      <th>2018-12-27 17:43:36</th>\n",
       "      <td>&lt;$Lee_sang_hyuk&gt;</td>\n",
       "      <td>아마도 뜨겁겠지..?</td>\n",
       "      <td>0</td>\n",
       "      <td>0</td>\n",
       "      <td>0</td>\n",
       "      <td>0</td>\n",
       "      <td>0</td>\n",
       "      <td>0</td>\n",
       "      <td>0</td>\n",
       "    </tr>\n",
       "    <tr>\n",
       "      <th>2018-12-27 17:43:45</th>\n",
       "      <td>&lt;rnwhdan&gt;</td>\n",
       "      <td>오뱅없?</td>\n",
       "      <td>0</td>\n",
       "      <td>0</td>\n",
       "      <td>0</td>\n",
       "      <td>1</td>\n",
       "      <td>0</td>\n",
       "      <td>0</td>\n",
       "      <td>0</td>\n",
       "    </tr>\n",
       "    <tr>\n",
       "      <th>2018-12-27 18:17:10</th>\n",
       "      <td>&lt;%당근빠따 (ambus000)&gt;</td>\n",
       "      <td>looksamJun looksamJun looksamJun</td>\n",
       "      <td>0</td>\n",
       "      <td>0</td>\n",
       "      <td>0</td>\n",
       "      <td>0</td>\n",
       "      <td>0</td>\n",
       "      <td>0</td>\n",
       "      <td>0</td>\n",
       "    </tr>\n",
       "    <tr>\n",
       "      <th>2018-12-27 18:31:22</th>\n",
       "      <td>&lt;rnwhdan&gt;</td>\n",
       "      <td>절 대 방 송 켜</td>\n",
       "      <td>0</td>\n",
       "      <td>0</td>\n",
       "      <td>0</td>\n",
       "      <td>0</td>\n",
       "      <td>0</td>\n",
       "      <td>0</td>\n",
       "      <td>0</td>\n",
       "    </tr>\n",
       "  </tbody>\n",
       "</table>\n",
       "</div>"
      ],
      "text/plain": [
       "                              chatterer                     chat_contents  \\\n",
       "time                                                                        \n",
       "2018-12-27 17:43:26    <$Lee_sang_hyuk>                       오늘방송이 안켜진다면   \n",
       "2018-12-27 17:43:36    <$Lee_sang_hyuk>                       아마도 뜨겁겠지..?   \n",
       "2018-12-27 17:43:45           <rnwhdan>                              오뱅없?   \n",
       "2018-12-27 18:17:10  <%당근빠따 (ambus000)>  looksamJun looksamJun looksamJun   \n",
       "2018-12-27 18:31:22           <rnwhdan>                         절 대 방 송 켜   \n",
       "\n",
       "                     cnt_ㅋ  cnt_ㄵ  cnt_ㄴㅈ  cnt_오  cnt_와  cnt_유하  cnt_수금  \n",
       "time                                                                     \n",
       "2018-12-27 17:43:26      0      0       0      1      0       0       0  \n",
       "2018-12-27 17:43:36      0      0       0      0      0       0       0  \n",
       "2018-12-27 17:43:45      0      0       0      1      0       0       0  \n",
       "2018-12-27 18:17:10      0      0       0      0      0       0       0  \n",
       "2018-12-27 18:31:22      0      0       0      0      0       0       0  "
      ]
     },
     "execution_count": 362,
     "metadata": {},
     "output_type": "execute_result"
    }
   ],
   "source": [
    "chat_data_reindex.head()"
   ]
  },
  {
   "cell_type": "markdown",
   "metadata": {},
   "source": [
    "### 해당 채팅 수 빈도를 갖는 데이터 프레임 생성"
   ]
  },
  {
   "cell_type": "code",
   "execution_count": 394,
   "metadata": {
    "scrolled": true
   },
   "outputs": [
    {
     "name": "stdout",
     "output_type": "stream",
     "text": [
      "[39, 38, 36, 33, 32, 31, 28, 27, 26, 25]\n",
      "[371, 334, 316, 302, 296, 267, 264, 251, 248, 238]\n",
      "[6, 4, 3, 2, 1, 0]\n"
     ]
    },
    {
     "data": {
      "text/html": [
       "<div>\n",
       "<style scoped>\n",
       "    .dataframe tbody tr th:only-of-type {\n",
       "        vertical-align: middle;\n",
       "    }\n",
       "\n",
       "    .dataframe tbody tr th {\n",
       "        vertical-align: top;\n",
       "    }\n",
       "\n",
       "    .dataframe thead th {\n",
       "        text-align: right;\n",
       "    }\n",
       "</style>\n",
       "<table border=\"1\" class=\"dataframe\">\n",
       "  <thead>\n",
       "    <tr style=\"text-align: right;\">\n",
       "      <th></th>\n",
       "      <th>cnt_chat</th>\n",
       "      <th>cnt_ㅋ</th>\n",
       "      <th>cnt_ㄵ</th>\n",
       "      <th>cnt_오</th>\n",
       "      <th>cnt_와</th>\n",
       "      <th>cnt_유하</th>\n",
       "      <th>cnt_수금</th>\n",
       "    </tr>\n",
       "    <tr>\n",
       "      <th>time</th>\n",
       "      <th></th>\n",
       "      <th></th>\n",
       "      <th></th>\n",
       "      <th></th>\n",
       "      <th></th>\n",
       "      <th></th>\n",
       "      <th></th>\n",
       "    </tr>\n",
       "  </thead>\n",
       "  <tbody>\n",
       "    <tr>\n",
       "      <th>2018-12-27 20:20:02</th>\n",
       "      <td>22</td>\n",
       "      <td>71</td>\n",
       "      <td>0</td>\n",
       "      <td>0</td>\n",
       "      <td>0</td>\n",
       "      <td>1</td>\n",
       "      <td>6</td>\n",
       "    </tr>\n",
       "  </tbody>\n",
       "</table>\n",
       "</div>"
      ],
      "text/plain": [
       "                     cnt_chat  cnt_ㅋ  cnt_ㄵ  cnt_오  cnt_와  cnt_유하  cnt_수금\n",
       "time                                                                     \n",
       "2018-12-27 20:20:02        22     71      0      0      0       1       6"
      ]
     },
     "execution_count": 394,
     "metadata": {},
     "output_type": "execute_result"
    }
   ],
   "source": [
    "pivot_df = chat_data_reindex.pivot_table(index=chat_data_reindex.index, aggfunc=len, values='chatterer')\n",
    "pivot_df.columns = ['cnt_chat']  # 컬럼 이름 할당\n",
    "pivot_df[\"cnt_ㅋ\"] = chat_data_reindex.pivot_table(index = chat_data_reindex.index, aggfunc=sum, values='cnt_ㅋ')['cnt_ㅋ']\n",
    "pivot_df[\"cnt_ㄵ\"] = chat_data_reindex.pivot_table(index = chat_data_reindex.index, aggfunc=sum, values='cnt_ㄵ')['cnt_ㄵ'] +\\\n",
    "                    chat_data_reindex.pivot_table(index = chat_data_reindex.index, aggfunc=sum, values='cnt_ㄴㅈ')['cnt_ㄴㅈ']\n",
    "pivot_df[\"cnt_오\"] = chat_data_reindex.pivot_table(index = chat_data_reindex.index, aggfunc=sum, values='cnt_오')['cnt_오']\n",
    "pivot_df[\"cnt_와\"] = chat_data_reindex.pivot_table(index = chat_data_reindex.index, aggfunc=sum, values='cnt_와')['cnt_와']\n",
    "pivot_df[\"cnt_유하\"] = chat_data_reindex.pivot_table(index = chat_data_reindex.index, aggfunc=sum, values='cnt_유하')['cnt_유하']\n",
    "pivot_df[\"cnt_수금\"] = chat_data_reindex.pivot_table(index = chat_data_reindex.index, aggfunc=sum, values='cnt_수금')['cnt_수금']\n",
    "\n",
    "\n",
    "# 초당 채팅수가 평균 이상인 경우만 보이도록\n",
    "pivot_df[pivot_df['cnt_chat'] > pivot_df['cnt_chat'].mean()]\n",
    "\n",
    "print(sorted(pivot_df['cnt_chat'].unique(), reverse=True)[:10])\n",
    "print(sorted(pivot_df['cnt_ㅋ'].unique(), reverse=True)[:10])\n",
    "print(sorted(pivot_df['cnt_수금'].unique(), reverse=True))\n",
    "\n",
    "pivot_df[pivot_df['cnt_수금'] == 6]  # 해당 글자가 가장 높은 구간"
   ]
  },
  {
   "cell_type": "markdown",
   "metadata": {},
   "source": [
    "### 해당 글자의 빈도수가 높은 구간의 채팅"
   ]
  },
  {
   "cell_type": "code",
   "execution_count": 395,
   "metadata": {
    "scrolled": true
   },
   "outputs": [
    {
     "data": {
      "text/html": [
       "<div>\n",
       "<style scoped>\n",
       "    .dataframe tbody tr th:only-of-type {\n",
       "        vertical-align: middle;\n",
       "    }\n",
       "\n",
       "    .dataframe tbody tr th {\n",
       "        vertical-align: top;\n",
       "    }\n",
       "\n",
       "    .dataframe thead th {\n",
       "        text-align: right;\n",
       "    }\n",
       "</style>\n",
       "<table border=\"1\" class=\"dataframe\">\n",
       "  <thead>\n",
       "    <tr style=\"text-align: right;\">\n",
       "      <th></th>\n",
       "      <th>chatterer</th>\n",
       "      <th>chat_contents</th>\n",
       "      <th>cnt_ㅋ</th>\n",
       "      <th>cnt_ㄵ</th>\n",
       "      <th>cnt_ㄴㅈ</th>\n",
       "      <th>cnt_오</th>\n",
       "      <th>cnt_와</th>\n",
       "      <th>cnt_유하</th>\n",
       "      <th>cnt_수금</th>\n",
       "    </tr>\n",
       "    <tr>\n",
       "      <th>time</th>\n",
       "      <th></th>\n",
       "      <th></th>\n",
       "      <th></th>\n",
       "      <th></th>\n",
       "      <th></th>\n",
       "      <th></th>\n",
       "      <th></th>\n",
       "      <th></th>\n",
       "      <th></th>\n",
       "    </tr>\n",
       "  </thead>\n",
       "  <tbody>\n",
       "    <tr>\n",
       "      <th>2018-12-27 20:20:02</th>\n",
       "      <td>&lt;$wonseok1827&gt;</td>\n",
       "      <td>???????????????</td>\n",
       "      <td>0</td>\n",
       "      <td>0</td>\n",
       "      <td>0</td>\n",
       "      <td>0</td>\n",
       "      <td>0</td>\n",
       "      <td>0</td>\n",
       "      <td>0</td>\n",
       "    </tr>\n",
       "    <tr>\n",
       "      <th>2018-12-27 20:20:02</th>\n",
       "      <td>&lt;라디보바2 (rlaalstj2104)&gt;</td>\n",
       "      <td>ㅋㅋㅋㅋㅋㅋㅋㅋㅋㅋㅋㅋㅋㅋㅋㅋㅋㅋㅋㅋㅋㅋㅋㅋㅋㅋㅋㅋㅋㅋㅋㅋㅋㅋㅋㅋ</td>\n",
       "      <td>36</td>\n",
       "      <td>0</td>\n",
       "      <td>0</td>\n",
       "      <td>0</td>\n",
       "      <td>0</td>\n",
       "      <td>0</td>\n",
       "      <td>0</td>\n",
       "    </tr>\n",
       "    <tr>\n",
       "      <th>2018-12-27 20:20:02</th>\n",
       "      <td>&lt;717l7i&gt;</td>\n",
       "      <td>월수입</td>\n",
       "      <td>0</td>\n",
       "      <td>0</td>\n",
       "      <td>0</td>\n",
       "      <td>0</td>\n",
       "      <td>0</td>\n",
       "      <td>0</td>\n",
       "      <td>0</td>\n",
       "    </tr>\n",
       "    <tr>\n",
       "      <th>2018-12-27 20:20:02</th>\n",
       "      <td>&lt;hwahyunn&gt;</td>\n",
       "      <td>수 금 박 사</td>\n",
       "      <td>0</td>\n",
       "      <td>0</td>\n",
       "      <td>0</td>\n",
       "      <td>0</td>\n",
       "      <td>0</td>\n",
       "      <td>0</td>\n",
       "      <td>0</td>\n",
       "    </tr>\n",
       "    <tr>\n",
       "      <th>2018-12-27 20:20:02</th>\n",
       "      <td>&lt;반짝콩 (mightybeenflash)&gt;</td>\n",
       "      <td>개역겹다 ㄹㅇ</td>\n",
       "      <td>0</td>\n",
       "      <td>0</td>\n",
       "      <td>0</td>\n",
       "      <td>0</td>\n",
       "      <td>0</td>\n",
       "      <td>0</td>\n",
       "      <td>0</td>\n",
       "    </tr>\n",
       "    <tr>\n",
       "      <th>2018-12-27 20:20:02</th>\n",
       "      <td>&lt;예절주입기__ (jsho1313)&gt;</td>\n",
       "      <td>ㅋㅋㅋㅋㅋㅋㅋㅋㅋㅋㅋㅋㅋㅋㅋㅋㅋㅋㅋㅋㅋㅋㅋㅋㅋㅋㅋㅋㅋ</td>\n",
       "      <td>29</td>\n",
       "      <td>0</td>\n",
       "      <td>0</td>\n",
       "      <td>0</td>\n",
       "      <td>0</td>\n",
       "      <td>0</td>\n",
       "      <td>0</td>\n",
       "    </tr>\n",
       "    <tr>\n",
       "      <th>2018-12-27 20:20:02</th>\n",
       "      <td>&lt;얍얍씨밥세끼챙겨드세요 (didgus486)&gt;</td>\n",
       "      <td>유하</td>\n",
       "      <td>0</td>\n",
       "      <td>0</td>\n",
       "      <td>0</td>\n",
       "      <td>0</td>\n",
       "      <td>0</td>\n",
       "      <td>1</td>\n",
       "      <td>0</td>\n",
       "    </tr>\n",
       "    <tr>\n",
       "      <th>2018-12-27 20:20:02</th>\n",
       "      <td>&lt;알딱이 (alsdud3162)&gt;</td>\n",
       "      <td>스금한다</td>\n",
       "      <td>0</td>\n",
       "      <td>0</td>\n",
       "      <td>0</td>\n",
       "      <td>0</td>\n",
       "      <td>0</td>\n",
       "      <td>0</td>\n",
       "      <td>0</td>\n",
       "    </tr>\n",
       "    <tr>\n",
       "      <th>2018-12-27 20:20:02</th>\n",
       "      <td>&lt;Tain1218&gt;</td>\n",
       "      <td>밍</td>\n",
       "      <td>0</td>\n",
       "      <td>0</td>\n",
       "      <td>0</td>\n",
       "      <td>0</td>\n",
       "      <td>0</td>\n",
       "      <td>0</td>\n",
       "      <td>0</td>\n",
       "    </tr>\n",
       "    <tr>\n",
       "      <th>2018-12-27 20:20:02</th>\n",
       "      <td>&lt;+탱글탱글탱커 (hs1jhy)&gt;</td>\n",
       "      <td>수금타임</td>\n",
       "      <td>0</td>\n",
       "      <td>0</td>\n",
       "      <td>0</td>\n",
       "      <td>0</td>\n",
       "      <td>0</td>\n",
       "      <td>0</td>\n",
       "      <td>1</td>\n",
       "    </tr>\n",
       "    <tr>\n",
       "      <th>2018-12-27 20:20:02</th>\n",
       "      <td>&lt;차스 (akmj4869)&gt;</td>\n",
       "      <td>수금타임 on</td>\n",
       "      <td>0</td>\n",
       "      <td>0</td>\n",
       "      <td>0</td>\n",
       "      <td>0</td>\n",
       "      <td>0</td>\n",
       "      <td>0</td>\n",
       "      <td>1</td>\n",
       "    </tr>\n",
       "    <tr>\n",
       "      <th>2018-12-27 20:20:02</th>\n",
       "      <td>&lt;%$빼애에엥 (kaylan__)&gt;</td>\n",
       "      <td>무엇이든 물어보세요</td>\n",
       "      <td>0</td>\n",
       "      <td>0</td>\n",
       "      <td>0</td>\n",
       "      <td>0</td>\n",
       "      <td>0</td>\n",
       "      <td>0</td>\n",
       "      <td>0</td>\n",
       "    </tr>\n",
       "    <tr>\n",
       "      <th>2018-12-27 20:20:02</th>\n",
       "      <td>&lt;parent_love_good_steelo&gt;</td>\n",
       "      <td>수 금 박 사</td>\n",
       "      <td>0</td>\n",
       "      <td>0</td>\n",
       "      <td>0</td>\n",
       "      <td>0</td>\n",
       "      <td>0</td>\n",
       "      <td>0</td>\n",
       "      <td>0</td>\n",
       "    </tr>\n",
       "    <tr>\n",
       "      <th>2018-12-27 20:20:02</th>\n",
       "      <td>&lt;silk62&gt;</td>\n",
       "      <td>수금박사</td>\n",
       "      <td>0</td>\n",
       "      <td>0</td>\n",
       "      <td>0</td>\n",
       "      <td>0</td>\n",
       "      <td>0</td>\n",
       "      <td>0</td>\n",
       "      <td>1</td>\n",
       "    </tr>\n",
       "    <tr>\n",
       "      <th>2018-12-27 20:20:02</th>\n",
       "      <td>&lt;kmojh&gt;</td>\n",
       "      <td>(수금타임)</td>\n",
       "      <td>0</td>\n",
       "      <td>0</td>\n",
       "      <td>0</td>\n",
       "      <td>0</td>\n",
       "      <td>0</td>\n",
       "      <td>0</td>\n",
       "      <td>1</td>\n",
       "    </tr>\n",
       "    <tr>\n",
       "      <th>2018-12-27 20:20:02</th>\n",
       "      <td>&lt;룩붕이 (lookboong2)&gt;</td>\n",
       "      <td>재밌네 진행해봐</td>\n",
       "      <td>0</td>\n",
       "      <td>0</td>\n",
       "      <td>0</td>\n",
       "      <td>0</td>\n",
       "      <td>0</td>\n",
       "      <td>0</td>\n",
       "      <td>0</td>\n",
       "    </tr>\n",
       "    <tr>\n",
       "      <th>2018-12-27 20:20:02</th>\n",
       "      <td>&lt;+혁사모 (pgw9546)&gt;</td>\n",
       "      <td>곰보한테 배웟냐?</td>\n",
       "      <td>0</td>\n",
       "      <td>0</td>\n",
       "      <td>0</td>\n",
       "      <td>0</td>\n",
       "      <td>0</td>\n",
       "      <td>0</td>\n",
       "      <td>0</td>\n",
       "    </tr>\n",
       "    <tr>\n",
       "      <th>2018-12-27 20:20:02</th>\n",
       "      <td>&lt;핳동숙 (2audwo)&gt;</td>\n",
       "      <td>절 대 하 지 마</td>\n",
       "      <td>0</td>\n",
       "      <td>0</td>\n",
       "      <td>0</td>\n",
       "      <td>0</td>\n",
       "      <td>0</td>\n",
       "      <td>0</td>\n",
       "      <td>0</td>\n",
       "    </tr>\n",
       "    <tr>\n",
       "      <th>2018-12-27 20:20:02</th>\n",
       "      <td>&lt;안되나숑 (wnsdnjs123)&gt;</td>\n",
       "      <td>ㅋㅋㅋㅋㅋㅋ</td>\n",
       "      <td>6</td>\n",
       "      <td>0</td>\n",
       "      <td>0</td>\n",
       "      <td>0</td>\n",
       "      <td>0</td>\n",
       "      <td>0</td>\n",
       "      <td>0</td>\n",
       "    </tr>\n",
       "    <tr>\n",
       "      <th>2018-12-27 20:20:02</th>\n",
       "      <td>&lt;pdj931&gt;</td>\n",
       "      <td>수금 하겠다는 말</td>\n",
       "      <td>0</td>\n",
       "      <td>0</td>\n",
       "      <td>0</td>\n",
       "      <td>0</td>\n",
       "      <td>0</td>\n",
       "      <td>0</td>\n",
       "      <td>1</td>\n",
       "    </tr>\n",
       "    <tr>\n",
       "      <th>2018-12-27 20:20:02</th>\n",
       "      <td>&lt;클린노루 (u090)&gt;</td>\n",
       "      <td>도 네 이 션??</td>\n",
       "      <td>0</td>\n",
       "      <td>0</td>\n",
       "      <td>0</td>\n",
       "      <td>0</td>\n",
       "      <td>0</td>\n",
       "      <td>0</td>\n",
       "      <td>0</td>\n",
       "    </tr>\n",
       "    <tr>\n",
       "      <th>2018-12-27 20:20:02</th>\n",
       "      <td>&lt;슈빔 (kjyshy1)&gt;</td>\n",
       "      <td>수금 ON</td>\n",
       "      <td>0</td>\n",
       "      <td>0</td>\n",
       "      <td>0</td>\n",
       "      <td>0</td>\n",
       "      <td>0</td>\n",
       "      <td>0</td>\n",
       "      <td>1</td>\n",
       "    </tr>\n",
       "  </tbody>\n",
       "</table>\n",
       "</div>"
      ],
      "text/plain": [
       "                                     chatterer  \\\n",
       "time                                             \n",
       "2018-12-27 20:20:02             <$wonseok1827>   \n",
       "2018-12-27 20:20:02     <라디보바2 (rlaalstj2104)>   \n",
       "2018-12-27 20:20:02                   <717l7i>   \n",
       "2018-12-27 20:20:02                 <hwahyunn>   \n",
       "2018-12-27 20:20:02    <반짝콩 (mightybeenflash)>   \n",
       "2018-12-27 20:20:02       <예절주입기__ (jsho1313)>   \n",
       "2018-12-27 20:20:02  <얍얍씨밥세끼챙겨드세요 (didgus486)>   \n",
       "2018-12-27 20:20:02         <알딱이 (alsdud3162)>   \n",
       "2018-12-27 20:20:02                 <Tain1218>   \n",
       "2018-12-27 20:20:02         <+탱글탱글탱커 (hs1jhy)>   \n",
       "2018-12-27 20:20:02            <차스 (akmj4869)>   \n",
       "2018-12-27 20:20:02        <%$빼애에엥 (kaylan__)>   \n",
       "2018-12-27 20:20:02  <parent_love_good_steelo>   \n",
       "2018-12-27 20:20:02                   <silk62>   \n",
       "2018-12-27 20:20:02                    <kmojh>   \n",
       "2018-12-27 20:20:02         <룩붕이 (lookboong2)>   \n",
       "2018-12-27 20:20:02           <+혁사모 (pgw9546)>   \n",
       "2018-12-27 20:20:02             <핳동숙 (2audwo)>   \n",
       "2018-12-27 20:20:02        <안되나숑 (wnsdnjs123)>   \n",
       "2018-12-27 20:20:02                   <pdj931>   \n",
       "2018-12-27 20:20:02              <클린노루 (u090)>   \n",
       "2018-12-27 20:20:02             <슈빔 (kjyshy1)>   \n",
       "\n",
       "                                            chat_contents  cnt_ㅋ  cnt_ㄵ  \\\n",
       "time                                                                      \n",
       "2018-12-27 20:20:02                       ???????????????      0      0   \n",
       "2018-12-27 20:20:02  ㅋㅋㅋㅋㅋㅋㅋㅋㅋㅋㅋㅋㅋㅋㅋㅋㅋㅋㅋㅋㅋㅋㅋㅋㅋㅋㅋㅋㅋㅋㅋㅋㅋㅋㅋㅋ     36      0   \n",
       "2018-12-27 20:20:02                                   월수입      0      0   \n",
       "2018-12-27 20:20:02                               수 금 박 사      0      0   \n",
       "2018-12-27 20:20:02                               개역겹다 ㄹㅇ      0      0   \n",
       "2018-12-27 20:20:02         ㅋㅋㅋㅋㅋㅋㅋㅋㅋㅋㅋㅋㅋㅋㅋㅋㅋㅋㅋㅋㅋㅋㅋㅋㅋㅋㅋㅋㅋ     29      0   \n",
       "2018-12-27 20:20:02                                    유하      0      0   \n",
       "2018-12-27 20:20:02                                  스금한다      0      0   \n",
       "2018-12-27 20:20:02                                     밍      0      0   \n",
       "2018-12-27 20:20:02                                  수금타임      0      0   \n",
       "2018-12-27 20:20:02                               수금타임 on      0      0   \n",
       "2018-12-27 20:20:02                            무엇이든 물어보세요      0      0   \n",
       "2018-12-27 20:20:02                               수 금 박 사      0      0   \n",
       "2018-12-27 20:20:02                                  수금박사      0      0   \n",
       "2018-12-27 20:20:02                                (수금타임)      0      0   \n",
       "2018-12-27 20:20:02                              재밌네 진행해봐      0      0   \n",
       "2018-12-27 20:20:02                             곰보한테 배웟냐?      0      0   \n",
       "2018-12-27 20:20:02                             절 대 하 지 마      0      0   \n",
       "2018-12-27 20:20:02                                ㅋㅋㅋㅋㅋㅋ      6      0   \n",
       "2018-12-27 20:20:02                             수금 하겠다는 말      0      0   \n",
       "2018-12-27 20:20:02                             도 네 이 션??      0      0   \n",
       "2018-12-27 20:20:02                                 수금 ON      0      0   \n",
       "\n",
       "                     cnt_ㄴㅈ  cnt_오  cnt_와  cnt_유하  cnt_수금  \n",
       "time                                                       \n",
       "2018-12-27 20:20:02       0      0      0       0       0  \n",
       "2018-12-27 20:20:02       0      0      0       0       0  \n",
       "2018-12-27 20:20:02       0      0      0       0       0  \n",
       "2018-12-27 20:20:02       0      0      0       0       0  \n",
       "2018-12-27 20:20:02       0      0      0       0       0  \n",
       "2018-12-27 20:20:02       0      0      0       0       0  \n",
       "2018-12-27 20:20:02       0      0      0       1       0  \n",
       "2018-12-27 20:20:02       0      0      0       0       0  \n",
       "2018-12-27 20:20:02       0      0      0       0       0  \n",
       "2018-12-27 20:20:02       0      0      0       0       1  \n",
       "2018-12-27 20:20:02       0      0      0       0       1  \n",
       "2018-12-27 20:20:02       0      0      0       0       0  \n",
       "2018-12-27 20:20:02       0      0      0       0       0  \n",
       "2018-12-27 20:20:02       0      0      0       0       1  \n",
       "2018-12-27 20:20:02       0      0      0       0       1  \n",
       "2018-12-27 20:20:02       0      0      0       0       0  \n",
       "2018-12-27 20:20:02       0      0      0       0       0  \n",
       "2018-12-27 20:20:02       0      0      0       0       0  \n",
       "2018-12-27 20:20:02       0      0      0       0       0  \n",
       "2018-12-27 20:20:02       0      0      0       0       1  \n",
       "2018-12-27 20:20:02       0      0      0       0       0  \n",
       "2018-12-27 20:20:02       0      0      0       0       1  "
      ]
     },
     "execution_count": 395,
     "metadata": {},
     "output_type": "execute_result"
    }
   ],
   "source": [
    "chat_data_reindex[chat_data_reindex.index == \"2018-12-27 20:20:02\"]"
   ]
  },
  {
   "cell_type": "markdown",
   "metadata": {},
   "source": [
    "### 시작시간 불러와 시작시간으로부터 00:00:00 으로 시작하는 컬럼만들기"
   ]
  },
  {
   "cell_type": "code",
   "execution_count": 396,
   "metadata": {
    "scrolled": true
   },
   "outputs": [
    {
     "data": {
      "text/plain": [
       "0   2019-01-05 18:09:46\n",
       "1   2019-01-07 18:04:45\n",
       "Name: broad_date, dtype: datetime64[ns]"
      ]
     },
     "execution_count": 396,
     "metadata": {},
     "output_type": "execute_result"
    }
   ],
   "source": [
    "streamer_id = 103861159\n",
    "query = \"select * from twitch_stream where streamer_id = '%s'\" % streamer_id\n",
    "broad_date_df = pd.read_sql_query(query, db_url)\n",
    "\n",
    "broad = pd.to_datetime(broad_date_df['broad_date'])\n",
    "broad.apply(lambda x : x + pd.Timedelta(\"9hours\"))  # 트위치 시간대는 UTC 기준이므로 한국시간으로 +9 하여 변경"
   ]
  },
  {
   "cell_type": "markdown",
   "metadata": {},
   "source": [
    "### 인덱스를 00 부터 시작"
   ]
  },
  {
   "cell_type": "code",
   "execution_count": 397,
   "metadata": {},
   "outputs": [
    {
     "data": {
      "text/plain": [
       "Timestamp('2018-12-27 17:43:26')"
      ]
     },
     "execution_count": 397,
     "metadata": {},
     "output_type": "execute_result"
    }
   ],
   "source": [
    "# 데이터프레임 복사\n",
    "index_new_df = chat_data_reindex.copy()\n",
    "index_new_df.index[0]"
   ]
  },
  {
   "cell_type": "code",
   "execution_count": 398,
   "metadata": {},
   "outputs": [],
   "source": [
    "# 방송시작시간이 다음과 같다면\n",
    "start_time = \"2018-12-27 18:53:50\"\n",
    "start_time = pd.to_datetime(start_time)\n"
   ]
  },
  {
   "cell_type": "code",
   "execution_count": 399,
   "metadata": {
    "scrolled": true
   },
   "outputs": [
    {
     "data": {
      "text/plain": [
       "DatetimeIndex(['2018-12-27 17:43:26'], dtype='datetime64[ns]', name='time', freq=None)"
      ]
     },
     "execution_count": 399,
     "metadata": {},
     "output_type": "execute_result"
    }
   ],
   "source": [
    "# 첫 채팅시간\n",
    "first_chat_time = chat_data_reindex[chat_data_reindex.index == \"2018-12-27 17:43:26\"].index.unique()\n",
    "first_chat_time"
   ]
  },
  {
   "cell_type": "code",
   "execution_count": 400,
   "metadata": {},
   "outputs": [
    {
     "data": {
      "text/plain": [
       "TimedeltaIndex(['-1 days +22:49:36'], dtype='timedelta64[ns]', name='time', freq=None)"
      ]
     },
     "execution_count": 400,
     "metadata": {},
     "output_type": "execute_result"
    }
   ],
   "source": [
    "# 첫 채팅 시간 - 방송 시작 시간 을 통해 방송시작시간으로부터 몇초가 지나고 있는지 확인 가능\n",
    "first_chat_time - start_time"
   ]
  },
  {
   "cell_type": "code",
   "execution_count": 401,
   "metadata": {},
   "outputs": [],
   "source": [
    "# 첫 채팅 시간 - 방송 시작시간을 인덱스로\n",
    "index_new_df['korea_time'] = index_new_df.index\n",
    "index_new_df.index = index_new_df['korea_time'].apply(lambda x : x - start_time)\n",
    "index_new_df.index.name = \"stream_time\""
   ]
  },
  {
   "cell_type": "code",
   "execution_count": 402,
   "metadata": {
    "scrolled": false
   },
   "outputs": [],
   "source": [
    "# 인덱스 중 방송 시작 이전의 데이터는 제외한 나머지\n",
    "new_df = index_new_df[index_new_df.index >= \"00:00:00\"]"
   ]
  },
  {
   "cell_type": "markdown",
   "metadata": {},
   "source": [
    "### 인덱스를 기준으로 피봇팅"
   ]
  },
  {
   "cell_type": "code",
   "execution_count": 403,
   "metadata": {},
   "outputs": [],
   "source": [
    "# 채팅 빈도수 데이터 준비\n",
    "new_pivot_df1 = new_df.pivot_table(index=new_df.index, values=['chat_contents'], aggfunc=len)\n",
    "\n",
    "# 이외의 빈도수 데이터 준비\n",
    "new_pivot_df2 = new_df.pivot_table(index=new_df.index,\n",
    "                                   values=['cnt_ㅋ','cnt_ㄵ','cnt_ㄴㅈ','cnt_오', 'cnt_와', 'cnt_유하'],\n",
    "                                  aggfunc=sum)"
   ]
  },
  {
   "cell_type": "code",
   "execution_count": 411,
   "metadata": {},
   "outputs": [
    {
     "data": {
      "text/plain": [
       "Index(['chat_contents', 'cnt_ㄴㅈ', 'cnt_ㄵ', 'cnt_ㅋ', 'cnt_오', 'cnt_와',\n",
       "       'cnt_유하'],\n",
       "      dtype='object')"
      ]
     },
     "execution_count": 411,
     "metadata": {},
     "output_type": "execute_result"
    }
   ],
   "source": [
    "anal_df = new_pivot_df1.merge(new_pivot_df2, on=new_pivot_df1.index)\n",
    "anal_df.set_index('key_0', inplace=True)\n",
    "anal_df.index.name = \"stream_time\"\n"
   ]
  },
  {
   "cell_type": "code",
   "execution_count": 407,
   "metadata": {},
   "outputs": [
    {
     "data": {
      "text/html": [
       "<div>\n",
       "<style scoped>\n",
       "    .dataframe tbody tr th:only-of-type {\n",
       "        vertical-align: middle;\n",
       "    }\n",
       "\n",
       "    .dataframe tbody tr th {\n",
       "        vertical-align: top;\n",
       "    }\n",
       "\n",
       "    .dataframe thead th {\n",
       "        text-align: right;\n",
       "    }\n",
       "</style>\n",
       "<table border=\"1\" class=\"dataframe\">\n",
       "  <thead>\n",
       "    <tr style=\"text-align: right;\">\n",
       "      <th></th>\n",
       "      <th>chat_contents</th>\n",
       "      <th>cnt_ㄴㅈ</th>\n",
       "      <th>cnt_ㄵ</th>\n",
       "      <th>cnt_ㅋ</th>\n",
       "      <th>cnt_오</th>\n",
       "      <th>cnt_와</th>\n",
       "      <th>cnt_유하</th>\n",
       "    </tr>\n",
       "    <tr>\n",
       "      <th>stream_time</th>\n",
       "      <th></th>\n",
       "      <th></th>\n",
       "      <th></th>\n",
       "      <th></th>\n",
       "      <th></th>\n",
       "      <th></th>\n",
       "      <th></th>\n",
       "    </tr>\n",
       "  </thead>\n",
       "  <tbody>\n",
       "    <tr>\n",
       "      <th>00:00:02</th>\n",
       "      <td>1</td>\n",
       "      <td>0</td>\n",
       "      <td>0</td>\n",
       "      <td>3</td>\n",
       "      <td>0</td>\n",
       "      <td>1</td>\n",
       "      <td>0</td>\n",
       "    </tr>\n",
       "    <tr>\n",
       "      <th>00:00:03</th>\n",
       "      <td>1</td>\n",
       "      <td>0</td>\n",
       "      <td>0</td>\n",
       "      <td>0</td>\n",
       "      <td>0</td>\n",
       "      <td>0</td>\n",
       "      <td>0</td>\n",
       "    </tr>\n",
       "    <tr>\n",
       "      <th>00:00:04</th>\n",
       "      <td>6</td>\n",
       "      <td>0</td>\n",
       "      <td>0</td>\n",
       "      <td>1</td>\n",
       "      <td>3</td>\n",
       "      <td>0</td>\n",
       "      <td>0</td>\n",
       "    </tr>\n",
       "    <tr>\n",
       "      <th>00:00:05</th>\n",
       "      <td>1</td>\n",
       "      <td>0</td>\n",
       "      <td>0</td>\n",
       "      <td>0</td>\n",
       "      <td>0</td>\n",
       "      <td>0</td>\n",
       "      <td>0</td>\n",
       "    </tr>\n",
       "    <tr>\n",
       "      <th>00:00:06</th>\n",
       "      <td>1</td>\n",
       "      <td>0</td>\n",
       "      <td>0</td>\n",
       "      <td>0</td>\n",
       "      <td>0</td>\n",
       "      <td>0</td>\n",
       "      <td>0</td>\n",
       "    </tr>\n",
       "  </tbody>\n",
       "</table>\n",
       "</div>"
      ],
      "text/plain": [
       "             chat_contents  cnt_ㄴㅈ  cnt_ㄵ  cnt_ㅋ  cnt_오  cnt_와  cnt_유하\n",
       "stream_time                                                           \n",
       "00:00:02                 1       0      0      3      0      1       0\n",
       "00:00:03                 1       0      0      0      0      0       0\n",
       "00:00:04                 6       0      0      1      3      0       0\n",
       "00:00:05                 1       0      0      0      0      0       0\n",
       "00:00:06                 1       0      0      0      0      0       0"
      ]
     },
     "execution_count": 407,
     "metadata": {},
     "output_type": "execute_result"
    }
   ],
   "source": [
    "anal_df.head()"
   ]
  },
  {
   "cell_type": "markdown",
   "metadata": {},
   "source": [
    "### 검증데이터를 추가, 검증데이터와 분석데이터간 상관관계를 알아보자\n",
    "\n",
    "- 검증데이터: yes/no 의 명목형 변수  \n",
    "- 이외의 다른 열 : 연속형 변수  \n",
    "명목형 변수와 연속형 변수의 상관관계의 경우 **`Point-biserial correlation`** 을 사용함  \n",
    "이는 scipy.stats 모듈에 pointbiserialr 메소드로 구현되어 있음\n",
    "\n",
    "#### 시험해보기 위한 치팅\n",
    "- 채팅 수가 60% 중위수 이상인 경우 모두 하이라이트영상이 있다고 가정하여 데이터프레임 생성"
   ]
  },
  {
   "cell_type": "code",
   "execution_count": 435,
   "metadata": {
    "scrolled": true
   },
   "outputs": [
    {
     "data": {
      "text/html": [
       "<div>\n",
       "<style scoped>\n",
       "    .dataframe tbody tr th:only-of-type {\n",
       "        vertical-align: middle;\n",
       "    }\n",
       "\n",
       "    .dataframe tbody tr th {\n",
       "        vertical-align: top;\n",
       "    }\n",
       "\n",
       "    .dataframe thead th {\n",
       "        text-align: right;\n",
       "    }\n",
       "</style>\n",
       "<table border=\"1\" class=\"dataframe\">\n",
       "  <thead>\n",
       "    <tr style=\"text-align: right;\">\n",
       "      <th></th>\n",
       "      <th>chat_contents</th>\n",
       "      <th>cnt_ㄴㅈ</th>\n",
       "      <th>cnt_ㄵ</th>\n",
       "      <th>cnt_ㅋ</th>\n",
       "      <th>cnt_오</th>\n",
       "      <th>cnt_와</th>\n",
       "      <th>cnt_유하</th>\n",
       "      <th>validation</th>\n",
       "    </tr>\n",
       "    <tr>\n",
       "      <th>stream_time</th>\n",
       "      <th></th>\n",
       "      <th></th>\n",
       "      <th></th>\n",
       "      <th></th>\n",
       "      <th></th>\n",
       "      <th></th>\n",
       "      <th></th>\n",
       "      <th></th>\n",
       "    </tr>\n",
       "  </thead>\n",
       "  <tbody>\n",
       "    <tr>\n",
       "      <th>00:20:49</th>\n",
       "      <td>22</td>\n",
       "      <td>0</td>\n",
       "      <td>0</td>\n",
       "      <td>5</td>\n",
       "      <td>3</td>\n",
       "      <td>3</td>\n",
       "      <td>0</td>\n",
       "      <td>1</td>\n",
       "    </tr>\n",
       "    <tr>\n",
       "      <th>00:36:25</th>\n",
       "      <td>21</td>\n",
       "      <td>0</td>\n",
       "      <td>0</td>\n",
       "      <td>17</td>\n",
       "      <td>0</td>\n",
       "      <td>0</td>\n",
       "      <td>0</td>\n",
       "      <td>1</td>\n",
       "    </tr>\n",
       "    <tr>\n",
       "      <th>00:37:10</th>\n",
       "      <td>22</td>\n",
       "      <td>0</td>\n",
       "      <td>0</td>\n",
       "      <td>8</td>\n",
       "      <td>1</td>\n",
       "      <td>0</td>\n",
       "      <td>0</td>\n",
       "      <td>1</td>\n",
       "    </tr>\n",
       "    <tr>\n",
       "      <th>00:37:12</th>\n",
       "      <td>25</td>\n",
       "      <td>0</td>\n",
       "      <td>0</td>\n",
       "      <td>14</td>\n",
       "      <td>0</td>\n",
       "      <td>0</td>\n",
       "      <td>0</td>\n",
       "      <td>1</td>\n",
       "    </tr>\n",
       "    <tr>\n",
       "      <th>00:37:31</th>\n",
       "      <td>23</td>\n",
       "      <td>0</td>\n",
       "      <td>0</td>\n",
       "      <td>248</td>\n",
       "      <td>0</td>\n",
       "      <td>0</td>\n",
       "      <td>0</td>\n",
       "      <td>1</td>\n",
       "    </tr>\n",
       "  </tbody>\n",
       "</table>\n",
       "</div>"
      ],
      "text/plain": [
       "             chat_contents  cnt_ㄴㅈ  cnt_ㄵ  cnt_ㅋ  cnt_오  cnt_와  cnt_유하  \\\n",
       "stream_time                                                              \n",
       "00:20:49                22       0      0      5      3      3       0   \n",
       "00:36:25                21       0      0     17      0      0       0   \n",
       "00:37:10                22       0      0      8      1      0       0   \n",
       "00:37:12                25       0      0     14      0      0       0   \n",
       "00:37:31                23       0      0    248      0      0       0   \n",
       "\n",
       "             validation  \n",
       "stream_time              \n",
       "00:20:49              1  \n",
       "00:36:25              1  \n",
       "00:37:10              1  \n",
       "00:37:12              1  \n",
       "00:37:31              1  "
      ]
     },
     "execution_count": 435,
     "metadata": {},
     "output_type": "execute_result"
    }
   ],
   "source": [
    "import numpy as np\n",
    "percentile = np.percentile(anal_df.chat_contents.unique(), 70)\n",
    "anal_df[anal_df['chat_contents'] > percentile_60].head(5)"
   ]
  },
  {
   "cell_type": "code",
   "execution_count": 436,
   "metadata": {},
   "outputs": [],
   "source": [
    "anal_df['validation'] = anal_df['chat_contents'].apply(lambda x : 1 if x >= percentile else 0)"
   ]
  },
  {
   "cell_type": "code",
   "execution_count": 437,
   "metadata": {
    "scrolled": true
   },
   "outputs": [
    {
     "data": {
      "text/plain": [
       "array([0, 1], dtype=int64)"
      ]
     },
     "execution_count": 437,
     "metadata": {},
     "output_type": "execute_result"
    }
   ],
   "source": [
    "anal_df['validation'].unique()"
   ]
  },
  {
   "cell_type": "markdown",
   "metadata": {},
   "source": [
    "#### scipy.stats 불러오기"
   ]
  },
  {
   "cell_type": "code",
   "execution_count": 438,
   "metadata": {
    "scrolled": true
   },
   "outputs": [
    {
     "name": "stdout",
     "output_type": "stream",
     "text": [
      "chat_contents 상관 정도 :  0.23198985901377472\n",
      "cnt_ㄴㅈ 상관 정도 :  -0.0016685854538941738\n",
      "cnt_ㄵ 상관 정도 :  0.009108262095028404\n",
      "cnt_ㅋ 상관 정도 :  0.08650590461405516\n",
      "cnt_오 상관 정도 :  0.019138265202727735\n",
      "cnt_와 상관 정도 :  0.06473002579664976\n",
      "cnt_유하 상관 정도 :  0.02237208866731631\n",
      "validation 상관 정도 :  1.0\n"
     ]
    }
   ],
   "source": [
    "from scipy import stats\n",
    "for col in anal_df:\n",
    "    print(\"%s 상관 정도 : \" % col, stats.pointbiserialr(anal_df[col], anal_df['validation']).correlation)"
   ]
  },
  {
   "cell_type": "code",
   "execution_count": 439,
   "metadata": {},
   "outputs": [
    {
     "data": {
      "text/html": [
       "<div>\n",
       "<style scoped>\n",
       "    .dataframe tbody tr th:only-of-type {\n",
       "        vertical-align: middle;\n",
       "    }\n",
       "\n",
       "    .dataframe tbody tr th {\n",
       "        vertical-align: top;\n",
       "    }\n",
       "\n",
       "    .dataframe thead th {\n",
       "        text-align: right;\n",
       "    }\n",
       "</style>\n",
       "<table border=\"1\" class=\"dataframe\">\n",
       "  <thead>\n",
       "    <tr style=\"text-align: right;\">\n",
       "      <th></th>\n",
       "      <th>chat_contents</th>\n",
       "      <th>cnt_ㄴㅈ</th>\n",
       "      <th>cnt_ㄵ</th>\n",
       "      <th>cnt_ㅋ</th>\n",
       "      <th>cnt_오</th>\n",
       "      <th>cnt_와</th>\n",
       "      <th>cnt_유하</th>\n",
       "      <th>validation</th>\n",
       "    </tr>\n",
       "  </thead>\n",
       "  <tbody>\n",
       "    <tr>\n",
       "      <th>chat_contents</th>\n",
       "      <td>1.000000</td>\n",
       "      <td>0.019593</td>\n",
       "      <td>0.051020</td>\n",
       "      <td>0.515119</td>\n",
       "      <td>0.129426</td>\n",
       "      <td>0.204489</td>\n",
       "      <td>0.075268</td>\n",
       "      <td>0.231990</td>\n",
       "    </tr>\n",
       "    <tr>\n",
       "      <th>cnt_ㄴㅈ</th>\n",
       "      <td>0.019593</td>\n",
       "      <td>1.000000</td>\n",
       "      <td>0.193046</td>\n",
       "      <td>-0.003860</td>\n",
       "      <td>-0.007517</td>\n",
       "      <td>0.001845</td>\n",
       "      <td>-0.002067</td>\n",
       "      <td>-0.001669</td>\n",
       "    </tr>\n",
       "    <tr>\n",
       "      <th>cnt_ㄵ</th>\n",
       "      <td>0.051020</td>\n",
       "      <td>0.193046</td>\n",
       "      <td>1.000000</td>\n",
       "      <td>0.009728</td>\n",
       "      <td>0.019842</td>\n",
       "      <td>0.070790</td>\n",
       "      <td>0.002200</td>\n",
       "      <td>0.009108</td>\n",
       "    </tr>\n",
       "    <tr>\n",
       "      <th>cnt_ㅋ</th>\n",
       "      <td>0.515119</td>\n",
       "      <td>-0.003860</td>\n",
       "      <td>0.009728</td>\n",
       "      <td>1.000000</td>\n",
       "      <td>0.023803</td>\n",
       "      <td>0.071581</td>\n",
       "      <td>0.046684</td>\n",
       "      <td>0.086506</td>\n",
       "    </tr>\n",
       "    <tr>\n",
       "      <th>cnt_오</th>\n",
       "      <td>0.129426</td>\n",
       "      <td>-0.007517</td>\n",
       "      <td>0.019842</td>\n",
       "      <td>0.023803</td>\n",
       "      <td>1.000000</td>\n",
       "      <td>0.068881</td>\n",
       "      <td>-0.005094</td>\n",
       "      <td>0.019138</td>\n",
       "    </tr>\n",
       "    <tr>\n",
       "      <th>cnt_와</th>\n",
       "      <td>0.204489</td>\n",
       "      <td>0.001845</td>\n",
       "      <td>0.070790</td>\n",
       "      <td>0.071581</td>\n",
       "      <td>0.068881</td>\n",
       "      <td>1.000000</td>\n",
       "      <td>0.016995</td>\n",
       "      <td>0.064730</td>\n",
       "    </tr>\n",
       "    <tr>\n",
       "      <th>cnt_유하</th>\n",
       "      <td>0.075268</td>\n",
       "      <td>-0.002067</td>\n",
       "      <td>0.002200</td>\n",
       "      <td>0.046684</td>\n",
       "      <td>-0.005094</td>\n",
       "      <td>0.016995</td>\n",
       "      <td>1.000000</td>\n",
       "      <td>0.022372</td>\n",
       "    </tr>\n",
       "    <tr>\n",
       "      <th>validation</th>\n",
       "      <td>0.231990</td>\n",
       "      <td>-0.001669</td>\n",
       "      <td>0.009108</td>\n",
       "      <td>0.086506</td>\n",
       "      <td>0.019138</td>\n",
       "      <td>0.064730</td>\n",
       "      <td>0.022372</td>\n",
       "      <td>1.000000</td>\n",
       "    </tr>\n",
       "  </tbody>\n",
       "</table>\n",
       "</div>"
      ],
      "text/plain": [
       "               chat_contents    cnt_ㄴㅈ     cnt_ㄵ     cnt_ㅋ     cnt_오  \\\n",
       "chat_contents       1.000000  0.019593  0.051020  0.515119  0.129426   \n",
       "cnt_ㄴㅈ              0.019593  1.000000  0.193046 -0.003860 -0.007517   \n",
       "cnt_ㄵ               0.051020  0.193046  1.000000  0.009728  0.019842   \n",
       "cnt_ㅋ               0.515119 -0.003860  0.009728  1.000000  0.023803   \n",
       "cnt_오               0.129426 -0.007517  0.019842  0.023803  1.000000   \n",
       "cnt_와               0.204489  0.001845  0.070790  0.071581  0.068881   \n",
       "cnt_유하              0.075268 -0.002067  0.002200  0.046684 -0.005094   \n",
       "validation          0.231990 -0.001669  0.009108  0.086506  0.019138   \n",
       "\n",
       "                  cnt_와    cnt_유하  validation  \n",
       "chat_contents  0.204489  0.075268    0.231990  \n",
       "cnt_ㄴㅈ         0.001845 -0.002067   -0.001669  \n",
       "cnt_ㄵ          0.070790  0.002200    0.009108  \n",
       "cnt_ㅋ          0.071581  0.046684    0.086506  \n",
       "cnt_오          0.068881 -0.005094    0.019138  \n",
       "cnt_와          1.000000  0.016995    0.064730  \n",
       "cnt_유하         0.016995  1.000000    0.022372  \n",
       "validation     0.064730  0.022372    1.000000  "
      ]
     },
     "execution_count": 439,
     "metadata": {},
     "output_type": "execute_result"
    }
   ],
   "source": [
    "anal_df.corr()"
   ]
  },
  {
   "cell_type": "markdown",
   "metadata": {},
   "source": [
    "### 수집한 검증데이터로 상관관계알아보자\n"
   ]
  },
  {
   "cell_type": "code",
   "execution_count": null,
   "metadata": {},
   "outputs": [],
   "source": []
  }
 ],
 "metadata": {
  "kernelspec": {
   "display_name": "Python 3",
   "language": "python",
   "name": "python3"
  },
  "language_info": {
   "codemirror_mode": {
    "name": "ipython",
    "version": 3
   },
   "file_extension": ".py",
   "mimetype": "text/x-python",
   "name": "python",
   "nbconvert_exporter": "python",
   "pygments_lexer": "ipython3",
   "version": "3.7.1"
  }
 },
 "nbformat": 4,
 "nbformat_minor": 2
}
