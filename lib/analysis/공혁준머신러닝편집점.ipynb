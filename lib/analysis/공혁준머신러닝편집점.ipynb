{
 "cells": [
  {
   "cell_type": "code",
   "execution_count": 1,
   "metadata": {},
   "outputs": [],
   "source": [
    "import numpy as np\n",
    "import pandas as pd"
   ]
  },
  {
   "cell_type": "code",
   "execution_count": 2,
   "metadata": {},
   "outputs": [],
   "source": [
    "import pandas as pd\n",
    "\n",
    "DB_URL = 'onad.cbjjamtlar2t.ap-northeast-2.rds.amazonaws.com'\n",
    "DB_USER = 'onad'\n",
    "DB_PASSWORD = 'rkdghktn12'\n",
    "DB_DATABASE = 'onad'\n",
    "DB_CHARSET = 'utf8mb4'\n",
    "DB_LOGFLAG  = 'False'\n",
    "DB_PORT = 3306\n",
    "\n",
    "db_url = \"mysql+pymysql://%s:%s@%s:%s/%s?charset=%s\" % (\n",
    "    DB_USER, DB_PASSWORD,\n",
    "    DB_URL, DB_PORT,\n",
    "    DB_DATABASE, DB_CHARSET\n",
    ")\n",
    "\n",
    "def data_from_sql_twitchchat(streamer, target_date):\n",
    "    query = \"\"\"\n",
    "        select * from twitch_chat where streamer_name = \"%s\" and broad_date =\"%s\"\n",
    "    \"\"\"% (streamer, target_date)\n",
    "\n",
    "    return pd.read_sql_query(query, db_url)"
   ]
  },
  {
   "cell_type": "code",
   "execution_count": 100,
   "metadata": {},
   "outputs": [],
   "source": [
    "streamer = \"rhdgurwns\"\n",
    "target_date = \"2019-01-06\"\n",
    "df = data_from_sql_twitchchat(streamer, target_date)"
   ]
  },
  {
   "cell_type": "code",
   "execution_count": 167,
   "metadata": {
    "scrolled": false
   },
   "outputs": [
    {
     "data": {
      "text/html": [
       "<div>\n",
       "<style scoped>\n",
       "    .dataframe tbody tr th:only-of-type {\n",
       "        vertical-align: middle;\n",
       "    }\n",
       "\n",
       "    .dataframe tbody tr th {\n",
       "        vertical-align: top;\n",
       "    }\n",
       "\n",
       "    .dataframe thead th {\n",
       "        text-align: right;\n",
       "    }\n",
       "</style>\n",
       "<table border=\"1\" class=\"dataframe\">\n",
       "  <thead>\n",
       "    <tr style=\"text-align: right;\">\n",
       "      <th></th>\n",
       "      <th>chat_id</th>\n",
       "      <th>streamer_name</th>\n",
       "      <th>broad_date</th>\n",
       "      <th>chatterer</th>\n",
       "      <th>chat_time</th>\n",
       "      <th>chat_contents</th>\n",
       "    </tr>\n",
       "  </thead>\n",
       "  <tbody>\n",
       "    <tr>\n",
       "      <th>0</th>\n",
       "      <td>18350970</td>\n",
       "      <td>rhdgurwns</td>\n",
       "      <td>2019-01-06</td>\n",
       "      <td>&lt;%친애하는강현님께 (wls4429)&gt;</td>\n",
       "      <td>08:59:49</td>\n",
       "      <td>혁하</td>\n",
       "    </tr>\n",
       "    <tr>\n",
       "      <th>1</th>\n",
       "      <td>18350971</td>\n",
       "      <td>rhdgurwns</td>\n",
       "      <td>2019-01-06</td>\n",
       "      <td>&lt;junsu3680&gt;</td>\n",
       "      <td>09:00:21</td>\n",
       "      <td>혁ㅎ</td>\n",
       "    </tr>\n",
       "  </tbody>\n",
       "</table>\n",
       "</div>"
      ],
      "text/plain": [
       "    chat_id streamer_name  broad_date              chatterer  chat_time  \\\n",
       "0  18350970     rhdgurwns  2019-01-06  <%친애하는강현님께 (wls4429)>   08:59:49   \n",
       "1  18350971     rhdgurwns  2019-01-06            <junsu3680>   09:00:21   \n",
       "\n",
       "  chat_contents  \n",
       "0            혁하  \n",
       "1            혁ㅎ  "
      ]
     },
     "execution_count": 167,
     "metadata": {},
     "output_type": "execute_result"
    }
   ],
   "source": [
    "chat_df = df.copy()\n",
    "chat_df.head(2)"
   ]
  },
  {
   "cell_type": "code",
   "execution_count": 168,
   "metadata": {},
   "outputs": [],
   "source": [
    "# 인덱스 변경\n",
    "chat_df['chat_time'] = chat_df['chat_time'].apply(lambda x : target_date + \" \" + x)\n",
    "chat_df.index = pd.to_datetime(chat_df['chat_time'])"
   ]
  },
  {
   "cell_type": "code",
   "execution_count": 169,
   "metadata": {},
   "outputs": [],
   "source": [
    "# 필요없는 컬럼 제거\n",
    "del chat_df['chat_id']\n",
    "del chat_df['streamer_name']\n",
    "del chat_df['broad_date']"
   ]
  },
  {
   "cell_type": "code",
   "execution_count": 170,
   "metadata": {
    "scrolled": true
   },
   "outputs": [],
   "source": [
    "start_time = chat_df[chat_df['chat_contents'] == \"혁하\"].index[5]"
   ]
  },
  {
   "cell_type": "code",
   "execution_count": 171,
   "metadata": {},
   "outputs": [],
   "source": [
    "chat_df['stream_time'] = chat_df.index\n",
    "chat_df['stream_time'] = chat_df['stream_time'].apply(lambda x : x - start_time)\n",
    "chat_df = chat_df[chat_df.stream_time >= \"00:00:00\"]"
   ]
  },
  {
   "cell_type": "code",
   "execution_count": 172,
   "metadata": {
    "scrolled": true
   },
   "outputs": [
    {
     "data": {
      "text/html": [
       "<div>\n",
       "<style scoped>\n",
       "    .dataframe tbody tr th:only-of-type {\n",
       "        vertical-align: middle;\n",
       "    }\n",
       "\n",
       "    .dataframe tbody tr th {\n",
       "        vertical-align: top;\n",
       "    }\n",
       "\n",
       "    .dataframe thead th {\n",
       "        text-align: right;\n",
       "    }\n",
       "</style>\n",
       "<table border=\"1\" class=\"dataframe\">\n",
       "  <thead>\n",
       "    <tr style=\"text-align: right;\">\n",
       "      <th></th>\n",
       "      <th>chatterer</th>\n",
       "      <th>chat_time</th>\n",
       "      <th>chat_contents</th>\n",
       "      <th>stream_time</th>\n",
       "    </tr>\n",
       "    <tr>\n",
       "      <th>chat_time</th>\n",
       "      <th></th>\n",
       "      <th></th>\n",
       "      <th></th>\n",
       "      <th></th>\n",
       "    </tr>\n",
       "  </thead>\n",
       "  <tbody>\n",
       "    <tr>\n",
       "      <th>2019-01-06 09:00:34</th>\n",
       "      <td>&lt;LURV&gt;</td>\n",
       "      <td>2019-01-06  09:00:34</td>\n",
       "      <td>&lt;3 &lt;3 &lt;3</td>\n",
       "      <td>00:00:00</td>\n",
       "    </tr>\n",
       "    <tr>\n",
       "      <th>2019-01-06 09:00:34</th>\n",
       "      <td>&lt;소중이 (gasasung)&gt;</td>\n",
       "      <td>2019-01-06  09:00:34</td>\n",
       "      <td>혁하</td>\n",
       "      <td>00:00:00</td>\n",
       "    </tr>\n",
       "    <tr>\n",
       "      <th>2019-01-06 09:00:34</th>\n",
       "      <td>&lt;서새붐 (dmltmf123)&gt;</td>\n",
       "      <td>2019-01-06  09:00:34</td>\n",
       "      <td>G</td>\n",
       "      <td>00:00:00</td>\n",
       "    </tr>\n",
       "    <tr>\n",
       "      <th>2019-01-06 09:00:34</th>\n",
       "      <td>&lt;mok05177&gt;</td>\n",
       "      <td>2019-01-06  09:00:34</td>\n",
       "      <td>혁하</td>\n",
       "      <td>00:00:00</td>\n",
       "    </tr>\n",
       "    <tr>\n",
       "      <th>2019-01-06 09:00:36</th>\n",
       "      <td>&lt;허로빈 (heorobin)&gt;</td>\n",
       "      <td>2019-01-06  09:00:36</td>\n",
       "      <td>공하</td>\n",
       "      <td>00:00:02</td>\n",
       "    </tr>\n",
       "  </tbody>\n",
       "</table>\n",
       "</div>"
      ],
      "text/plain": [
       "                             chatterer             chat_time chat_contents  \\\n",
       "chat_time                                                                    \n",
       "2019-01-06 09:00:34             <LURV>  2019-01-06  09:00:34      <3 <3 <3   \n",
       "2019-01-06 09:00:34   <소중이 (gasasung)>  2019-01-06  09:00:34            혁하   \n",
       "2019-01-06 09:00:34  <서새붐 (dmltmf123)>  2019-01-06  09:00:34             G   \n",
       "2019-01-06 09:00:34         <mok05177>  2019-01-06  09:00:34            혁하   \n",
       "2019-01-06 09:00:36   <허로빈 (heorobin)>  2019-01-06  09:00:36            공하   \n",
       "\n",
       "                    stream_time  \n",
       "chat_time                        \n",
       "2019-01-06 09:00:34    00:00:00  \n",
       "2019-01-06 09:00:34    00:00:00  \n",
       "2019-01-06 09:00:34    00:00:00  \n",
       "2019-01-06 09:00:34    00:00:00  \n",
       "2019-01-06 09:00:36    00:00:02  "
      ]
     },
     "execution_count": 172,
     "metadata": {},
     "output_type": "execute_result"
    }
   ],
   "source": [
    "chat_df.head()"
   ]
  },
  {
   "cell_type": "code",
   "execution_count": 173,
   "metadata": {},
   "outputs": [
    {
     "data": {
      "text/plain": [
       "(14.130434782608695, 2.77320746235109)"
      ]
     },
     "execution_count": 173,
     "metadata": {},
     "output_type": "execute_result"
    }
   ],
   "source": [
    "anal_df = chat_df.pivot_table(index=chat_df.index, values='chatterer', aggfunc=len).loc[:, ['chatterer']]\n",
    "anal_df.columns = ['cnt_chat']\n",
    "\n",
    "word_list = ['ㅋ', 'ㄵ', '오', '와', '유하']\n",
    "\n",
    "for word in word_list:\n",
    "    target_word = \"cnt_\" + word\n",
    "    chat_df[target_word] =  chat_df.chat_contents.apply(lambda x : x.count(word))\n",
    "    anal_df[target_word] = chat_df.pivot_table(index=chat_df.index, values=target_word, aggfunc=sum).loc[:, target_word]\n",
    "\n",
    "anal_df['cnt_chat'].unique().mean(), anal_df['cnt_chat'].mean()\n"
   ]
  },
  {
   "cell_type": "code",
   "execution_count": 174,
   "metadata": {
    "scrolled": true
   },
   "outputs": [
    {
     "data": {
      "text/html": [
       "<div>\n",
       "<style scoped>\n",
       "    .dataframe tbody tr th:only-of-type {\n",
       "        vertical-align: middle;\n",
       "    }\n",
       "\n",
       "    .dataframe tbody tr th {\n",
       "        vertical-align: top;\n",
       "    }\n",
       "\n",
       "    .dataframe thead th {\n",
       "        text-align: right;\n",
       "    }\n",
       "</style>\n",
       "<table border=\"1\" class=\"dataframe\">\n",
       "  <thead>\n",
       "    <tr style=\"text-align: right;\">\n",
       "      <th></th>\n",
       "      <th>cnt_chat</th>\n",
       "      <th>cnt_ㅋ</th>\n",
       "      <th>cnt_ㄵ</th>\n",
       "      <th>cnt_오</th>\n",
       "      <th>cnt_와</th>\n",
       "      <th>cnt_유하</th>\n",
       "    </tr>\n",
       "    <tr>\n",
       "      <th>chat_time</th>\n",
       "      <th></th>\n",
       "      <th></th>\n",
       "      <th></th>\n",
       "      <th></th>\n",
       "      <th></th>\n",
       "      <th></th>\n",
       "    </tr>\n",
       "  </thead>\n",
       "  <tbody>\n",
       "    <tr>\n",
       "      <th>2019-01-06 09:00:34</th>\n",
       "      <td>4</td>\n",
       "      <td>0</td>\n",
       "      <td>0</td>\n",
       "      <td>0</td>\n",
       "      <td>0</td>\n",
       "      <td>0</td>\n",
       "    </tr>\n",
       "    <tr>\n",
       "      <th>2019-01-06 09:00:36</th>\n",
       "      <td>1</td>\n",
       "      <td>0</td>\n",
       "      <td>0</td>\n",
       "      <td>0</td>\n",
       "      <td>0</td>\n",
       "      <td>0</td>\n",
       "    </tr>\n",
       "    <tr>\n",
       "      <th>2019-01-06 09:00:41</th>\n",
       "      <td>1</td>\n",
       "      <td>0</td>\n",
       "      <td>0</td>\n",
       "      <td>0</td>\n",
       "      <td>0</td>\n",
       "      <td>0</td>\n",
       "    </tr>\n",
       "    <tr>\n",
       "      <th>2019-01-06 09:00:45</th>\n",
       "      <td>2</td>\n",
       "      <td>0</td>\n",
       "      <td>0</td>\n",
       "      <td>0</td>\n",
       "      <td>0</td>\n",
       "      <td>0</td>\n",
       "    </tr>\n",
       "    <tr>\n",
       "      <th>2019-01-06 09:00:46</th>\n",
       "      <td>1</td>\n",
       "      <td>0</td>\n",
       "      <td>0</td>\n",
       "      <td>0</td>\n",
       "      <td>0</td>\n",
       "      <td>0</td>\n",
       "    </tr>\n",
       "  </tbody>\n",
       "</table>\n",
       "</div>"
      ],
      "text/plain": [
       "                     cnt_chat  cnt_ㅋ  cnt_ㄵ  cnt_오  cnt_와  cnt_유하\n",
       "chat_time                                                        \n",
       "2019-01-06 09:00:34         4      0      0      0      0       0\n",
       "2019-01-06 09:00:36         1      0      0      0      0       0\n",
       "2019-01-06 09:00:41         1      0      0      0      0       0\n",
       "2019-01-06 09:00:45         2      0      0      0      0       0\n",
       "2019-01-06 09:00:46         1      0      0      0      0       0"
      ]
     },
     "execution_count": 174,
     "metadata": {},
     "output_type": "execute_result"
    }
   ],
   "source": [
    "anal_df.head()"
   ]
  },
  {
   "cell_type": "markdown",
   "metadata": {},
   "source": [
    "### 스케일링작업"
   ]
  },
  {
   "cell_type": "code",
   "execution_count": 175,
   "metadata": {},
   "outputs": [
    {
     "name": "stderr",
     "output_type": "stream",
     "text": [
      "C:\\ProgramData\\Anaconda3\\lib\\site-packages\\sklearn\\preprocessing\\data.py:323: DataConversionWarning: Data with input dtype int64 were all converted to float64 by MinMaxScaler.\n",
      "  return self.partial_fit(X, y)\n"
     ]
    }
   ],
   "source": [
    "from sklearn.preprocessing import MinMaxScaler\n",
    "sc = MinMaxScaler()\n",
    "x_train = sc.fit_transform(anal_df)"
   ]
  },
  {
   "cell_type": "code",
   "execution_count": 176,
   "metadata": {},
   "outputs": [
    {
     "data": {
      "text/plain": [
       "array([[0.06818182, 0.        , 0.        , 0.        , 0.        ,\n",
       "        0.        ],\n",
       "       [0.        , 0.        , 0.        , 0.        , 0.        ,\n",
       "        0.        ],\n",
       "       [0.        , 0.        , 0.        , 0.        , 0.        ,\n",
       "        0.        ],\n",
       "       ...,\n",
       "       [0.        , 0.        , 0.        , 0.        , 0.        ,\n",
       "        0.        ],\n",
       "       [0.        , 0.        , 0.        , 0.        , 0.        ,\n",
       "        0.        ],\n",
       "       [0.        , 0.        , 0.        , 0.        , 0.        ,\n",
       "        0.        ]])"
      ]
     },
     "execution_count": 176,
     "metadata": {},
     "output_type": "execute_result"
    }
   ],
   "source": [
    "x_train"
   ]
  },
  {
   "cell_type": "markdown",
   "metadata": {},
   "source": [
    "### 공혁준 머신러닝 모델 가져오기"
   ]
  },
  {
   "cell_type": "code",
   "execution_count": 177,
   "metadata": {},
   "outputs": [],
   "source": [
    "import pickle\n",
    "\n",
    "model_url = \"../../ml_model/rhdgurwns_GaussianNB.pickle\"\n",
    "with open(model_url, 'rb') as fp:\n",
    "    model = pickle.load(fp)"
   ]
  },
  {
   "cell_type": "code",
   "execution_count": 178,
   "metadata": {},
   "outputs": [],
   "source": [
    "pre = model.predict(x_train)\n",
    "anal_df['predict'] = pre"
   ]
  },
  {
   "cell_type": "code",
   "execution_count": 179,
   "metadata": {},
   "outputs": [],
   "source": [
    "yes_data = anal_df[anal_df['predict'] == 1]\n",
    "no_data = anal_df[anal_df['predict'] == 0]"
   ]
  },
  {
   "cell_type": "code",
   "execution_count": 180,
   "metadata": {},
   "outputs": [
    {
     "data": {
      "text/plain": [
       "(1936, 7)"
      ]
     },
     "execution_count": 180,
     "metadata": {},
     "output_type": "execute_result"
    }
   ],
   "source": [
    "yes_data.shape"
   ]
  },
  {
   "cell_type": "code",
   "execution_count": 181,
   "metadata": {},
   "outputs": [
    {
     "data": {
      "text/plain": [
       "(15860, 7)"
      ]
     },
     "execution_count": 181,
     "metadata": {},
     "output_type": "execute_result"
    }
   ],
   "source": [
    "no_data.shape"
   ]
  },
  {
   "cell_type": "code",
   "execution_count": 182,
   "metadata": {},
   "outputs": [
    {
     "data": {
      "text/plain": [
       "array([ 1,  3,  4,  8,  2,  9,  6,  5,  7, 15, 11, 10, 14, 12, 13, 43, 16,\n",
       "       21, 20, 18, 19, 23, 45], dtype=int64)"
      ]
     },
     "execution_count": 182,
     "metadata": {},
     "output_type": "execute_result"
    }
   ],
   "source": [
    "yes_data['cnt_chat'].unique()"
   ]
  },
  {
   "cell_type": "code",
   "execution_count": 183,
   "metadata": {},
   "outputs": [
    {
     "data": {
      "text/plain": [
       "array([ 4,  1,  2,  3,  5,  6,  8,  7,  9, 10, 12], dtype=int64)"
      ]
     },
     "execution_count": 183,
     "metadata": {},
     "output_type": "execute_result"
    }
   ],
   "source": [
    "no_data['cnt_chat'].unique()"
   ]
  },
  {
   "cell_type": "code",
   "execution_count": 198,
   "metadata": {},
   "outputs": [
    {
     "data": {
      "image/png": "[encoded data removed]",
      "text/plain": [
       "<Figure size 1152x288 with 1 Axes>"
      ]
     },
     "metadata": {
      "needs_background": "light"
     },
     "output_type": "display_data"
    }
   ],
   "source": [
    "import matplotlib.pyplot as plt\n",
    "plt.figure(figsize=(16,4))\n",
    "yes_data['cnt_chat'].plot(c='green')\n",
    "\n",
    "no_data['cnt_chat'].plot(c='y')\n",
    "plt.show()"
   ]
  },
  {
   "cell_type": "code",
   "execution_count": 199,
   "metadata": {},
   "outputs": [
    {
     "data": {
      "text/html": [
       "<div>\n",
       "<style scoped>\n",
       "    .dataframe tbody tr th:only-of-type {\n",
       "        vertical-align: middle;\n",
       "    }\n",
       "\n",
       "    .dataframe tbody tr th {\n",
       "        vertical-align: top;\n",
       "    }\n",
       "\n",
       "    .dataframe thead th {\n",
       "        text-align: right;\n",
       "    }\n",
       "</style>\n",
       "<table border=\"1\" class=\"dataframe\">\n",
       "  <thead>\n",
       "    <tr style=\"text-align: right;\">\n",
       "      <th></th>\n",
       "      <th>cnt_chat</th>\n",
       "      <th>cnt_ㅋ</th>\n",
       "      <th>cnt_ㄵ</th>\n",
       "      <th>cnt_오</th>\n",
       "      <th>cnt_와</th>\n",
       "      <th>cnt_유하</th>\n",
       "      <th>predict</th>\n",
       "    </tr>\n",
       "    <tr>\n",
       "      <th>chat_time</th>\n",
       "      <th></th>\n",
       "      <th></th>\n",
       "      <th></th>\n",
       "      <th></th>\n",
       "      <th></th>\n",
       "      <th></th>\n",
       "      <th></th>\n",
       "    </tr>\n",
       "  </thead>\n",
       "  <tbody>\n",
       "    <tr>\n",
       "      <th>2019-01-06 11:18:53</th>\n",
       "      <td>43</td>\n",
       "      <td>21</td>\n",
       "      <td>0</td>\n",
       "      <td>0</td>\n",
       "      <td>27</td>\n",
       "      <td>0</td>\n",
       "      <td>1</td>\n",
       "    </tr>\n",
       "    <tr>\n",
       "      <th>2019-01-06 12:14:28</th>\n",
       "      <td>21</td>\n",
       "      <td>7</td>\n",
       "      <td>0</td>\n",
       "      <td>0</td>\n",
       "      <td>0</td>\n",
       "      <td>0</td>\n",
       "      <td>1</td>\n",
       "    </tr>\n",
       "    <tr>\n",
       "      <th>2019-01-06 15:11:00</th>\n",
       "      <td>23</td>\n",
       "      <td>42</td>\n",
       "      <td>0</td>\n",
       "      <td>0</td>\n",
       "      <td>0</td>\n",
       "      <td>0</td>\n",
       "      <td>1</td>\n",
       "    </tr>\n",
       "    <tr>\n",
       "      <th>2019-01-06 15:11:27</th>\n",
       "      <td>45</td>\n",
       "      <td>184</td>\n",
       "      <td>0</td>\n",
       "      <td>0</td>\n",
       "      <td>0</td>\n",
       "      <td>0</td>\n",
       "      <td>1</td>\n",
       "    </tr>\n",
       "  </tbody>\n",
       "</table>\n",
       "</div>"
      ],
      "text/plain": [
       "                     cnt_chat  cnt_ㅋ  cnt_ㄵ  cnt_오  cnt_와  cnt_유하  predict\n",
       "chat_time                                                                 \n",
       "2019-01-06 11:18:53        43     21      0      0     27       0        1\n",
       "2019-01-06 12:14:28        21      7      0      0      0       0        1\n",
       "2019-01-06 15:11:00        23     42      0      0      0       0        1\n",
       "2019-01-06 15:11:27        45    184      0      0      0       0        1"
      ]
     },
     "execution_count": 199,
     "metadata": {},
     "output_type": "execute_result"
    }
   ],
   "source": [
    "yes_data[yes_data['cnt_chat'] > 20].head()"
   ]
  },
  {
   "cell_type": "code",
   "execution_count": 197,
   "metadata": {},
   "outputs": [
    {
     "data": {
      "text/html": [
       "<div>\n",
       "<style scoped>\n",
       "    .dataframe tbody tr th:only-of-type {\n",
       "        vertical-align: middle;\n",
       "    }\n",
       "\n",
       "    .dataframe tbody tr th {\n",
       "        vertical-align: top;\n",
       "    }\n",
       "\n",
       "    .dataframe thead th {\n",
       "        text-align: right;\n",
       "    }\n",
       "</style>\n",
       "<table border=\"1\" class=\"dataframe\">\n",
       "  <thead>\n",
       "    <tr style=\"text-align: right;\">\n",
       "      <th></th>\n",
       "      <th>chatterer</th>\n",
       "      <th>chat_time</th>\n",
       "      <th>chat_contents</th>\n",
       "      <th>stream_time</th>\n",
       "      <th>cnt_ㅋ</th>\n",
       "      <th>cnt_ㄵ</th>\n",
       "      <th>cnt_오</th>\n",
       "      <th>cnt_와</th>\n",
       "      <th>cnt_유하</th>\n",
       "    </tr>\n",
       "    <tr>\n",
       "      <th>chat_time</th>\n",
       "      <th></th>\n",
       "      <th></th>\n",
       "      <th></th>\n",
       "      <th></th>\n",
       "      <th></th>\n",
       "      <th></th>\n",
       "      <th></th>\n",
       "      <th></th>\n",
       "      <th></th>\n",
       "    </tr>\n",
       "  </thead>\n",
       "  <tbody>\n",
       "    <tr>\n",
       "      <th>2019-01-06 09:24:25</th>\n",
       "      <td>&lt;+시그프리드 (kr_siegfried)&gt;</td>\n",
       "      <td>2019-01-06  09:24:25</td>\n",
       "      <td>지랄하네</td>\n",
       "      <td>00:23:51</td>\n",
       "      <td>0</td>\n",
       "      <td>0</td>\n",
       "      <td>0</td>\n",
       "      <td>0</td>\n",
       "      <td>0</td>\n",
       "    </tr>\n",
       "    <tr>\n",
       "      <th>2019-01-06 09:24:25</th>\n",
       "      <td>&lt;안일무새 (regulus2721)&gt;</td>\n",
       "      <td>2019-01-06  09:24:25</td>\n",
       "      <td>명</td>\n",
       "      <td>00:23:51</td>\n",
       "      <td>0</td>\n",
       "      <td>0</td>\n",
       "      <td>0</td>\n",
       "      <td>0</td>\n",
       "      <td>0</td>\n",
       "    </tr>\n",
       "    <tr>\n",
       "      <th>2019-01-06 09:24:25</th>\n",
       "      <td>&lt;moon_je&gt;</td>\n",
       "      <td>2019-01-06  09:24:25</td>\n",
       "      <td>명</td>\n",
       "      <td>00:23:51</td>\n",
       "      <td>0</td>\n",
       "      <td>0</td>\n",
       "      <td>0</td>\n",
       "      <td>0</td>\n",
       "      <td>0</td>\n",
       "    </tr>\n",
       "    <tr>\n",
       "      <th>2019-01-06 09:24:25</th>\n",
       "      <td>&lt;+capthook2&gt;</td>\n",
       "      <td>2019-01-06  09:24:25</td>\n",
       "      <td>????????</td>\n",
       "      <td>00:23:51</td>\n",
       "      <td>0</td>\n",
       "      <td>0</td>\n",
       "      <td>0</td>\n",
       "      <td>0</td>\n",
       "      <td>0</td>\n",
       "    </tr>\n",
       "    <tr>\n",
       "      <th>2019-01-06 09:24:25</th>\n",
       "      <td>&lt;RedRina_&gt;</td>\n",
       "      <td>2019-01-06  09:24:25</td>\n",
       "      <td>ㅋㅋㅋㅋㅋㅋㅋㅋㅋㅋㅋㅋㅋㅋㅋㅋㅋㅋㅋ</td>\n",
       "      <td>00:23:51</td>\n",
       "      <td>19</td>\n",
       "      <td>0</td>\n",
       "      <td>0</td>\n",
       "      <td>0</td>\n",
       "      <td>0</td>\n",
       "    </tr>\n",
       "    <tr>\n",
       "      <th>2019-01-06 09:24:25</th>\n",
       "      <td>&lt;이무것도아닌사람 (ronie1492)&gt;</td>\n",
       "      <td>2019-01-06  09:24:25</td>\n",
       "      <td>해</td>\n",
       "      <td>00:23:51</td>\n",
       "      <td>0</td>\n",
       "      <td>0</td>\n",
       "      <td>0</td>\n",
       "      <td>0</td>\n",
       "      <td>0</td>\n",
       "    </tr>\n",
       "    <tr>\n",
       "      <th>2019-01-06 09:24:25</th>\n",
       "      <td>&lt;아마니 (kll6321)&gt;</td>\n",
       "      <td>2019-01-06  09:24:25</td>\n",
       "      <td>유튜버임</td>\n",
       "      <td>00:23:51</td>\n",
       "      <td>0</td>\n",
       "      <td>0</td>\n",
       "      <td>0</td>\n",
       "      <td>0</td>\n",
       "      <td>0</td>\n",
       "    </tr>\n",
       "    <tr>\n",
       "      <th>2019-01-06 09:24:25</th>\n",
       "      <td>&lt;흐앙렐라합방해 (1212asasqwqw4)&gt;</td>\n",
       "      <td>2019-01-06  09:24:25</td>\n",
       "      <td>명</td>\n",
       "      <td>00:23:51</td>\n",
       "      <td>0</td>\n",
       "      <td>0</td>\n",
       "      <td>0</td>\n",
       "      <td>0</td>\n",
       "      <td>0</td>\n",
       "    </tr>\n",
       "  </tbody>\n",
       "</table>\n",
       "</div>"
      ],
      "text/plain": [
       "                                     chatterer             chat_time  \\\n",
       "chat_time                                                              \n",
       "2019-01-06 09:24:25    <+시그프리드 (kr_siegfried)>  2019-01-06  09:24:25   \n",
       "2019-01-06 09:24:25       <안일무새 (regulus2721)>  2019-01-06  09:24:25   \n",
       "2019-01-06 09:24:25                  <moon_je>  2019-01-06  09:24:25   \n",
       "2019-01-06 09:24:25               <+capthook2>  2019-01-06  09:24:25   \n",
       "2019-01-06 09:24:25                 <RedRina_>  2019-01-06  09:24:25   \n",
       "2019-01-06 09:24:25     <이무것도아닌사람 (ronie1492)>  2019-01-06  09:24:25   \n",
       "2019-01-06 09:24:25            <아마니 (kll6321)>  2019-01-06  09:24:25   \n",
       "2019-01-06 09:24:25  <흐앙렐라합방해 (1212asasqwqw4)>  2019-01-06  09:24:25   \n",
       "\n",
       "                           chat_contents stream_time  cnt_ㅋ  cnt_ㄵ  cnt_오  \\\n",
       "chat_time                                                                   \n",
       "2019-01-06 09:24:25                 지랄하네    00:23:51      0      0      0   \n",
       "2019-01-06 09:24:25                    명    00:23:51      0      0      0   \n",
       "2019-01-06 09:24:25                    명    00:23:51      0      0      0   \n",
       "2019-01-06 09:24:25             ????????    00:23:51      0      0      0   \n",
       "2019-01-06 09:24:25  ㅋㅋㅋㅋㅋㅋㅋㅋㅋㅋㅋㅋㅋㅋㅋㅋㅋㅋㅋ    00:23:51     19      0      0   \n",
       "2019-01-06 09:24:25                    해    00:23:51      0      0      0   \n",
       "2019-01-06 09:24:25                 유튜버임    00:23:51      0      0      0   \n",
       "2019-01-06 09:24:25                    명    00:23:51      0      0      0   \n",
       "\n",
       "                     cnt_와  cnt_유하  \n",
       "chat_time                           \n",
       "2019-01-06 09:24:25      0       0  \n",
       "2019-01-06 09:24:25      0       0  \n",
       "2019-01-06 09:24:25      0       0  \n",
       "2019-01-06 09:24:25      0       0  \n",
       "2019-01-06 09:24:25      0       0  \n",
       "2019-01-06 09:24:25      0       0  \n",
       "2019-01-06 09:24:25      0       0  \n",
       "2019-01-06 09:24:25      0       0  "
      ]
     },
     "execution_count": 197,
     "metadata": {},
     "output_type": "execute_result"
    }
   ],
   "source": [
    "yes_data.index\n",
    "chat_df[chat_df.index == yes_data.index[4]]"
   ]
  },
  {
   "cell_type": "code",
   "execution_count": null,
   "metadata": {},
   "outputs": [],
   "source": []
  }
 ],
 "metadata": {
  "kernelspec": {
   "display_name": "Python 3",
   "language": "python",
   "name": "python3"
  },
  "language_info": {
   "codemirror_mode": {
    "name": "ipython",
    "version": 3
   },
   "file_extension": ".py",
   "mimetype": "text/x-python",
   "name": "python",
   "nbconvert_exporter": "python",
   "pygments_lexer": "ipython3",
   "version": "3.7.1"
  }
 },
 "nbformat": 4,
 "nbformat_minor": 2
}
