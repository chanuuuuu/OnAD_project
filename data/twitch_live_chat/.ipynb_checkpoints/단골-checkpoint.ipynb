{
 "cells": [
  {
   "cell_type": "code",
   "execution_count": 3,
   "metadata": {},
   "outputs": [],
   "source": [
    "with open('2018-12-06_#cocopopp671.log','r',encoding='utf-8') as f:\n",
    "    chat_user = list({log.replace(\"\\n\",\" \")[12:].split(\">\")[0].replace(\"<\",\" \") for log in f.readlines()[1:]})\n",
    "    "
   ]
  },
  {
   "cell_type": "code",
   "execution_count": 4,
   "metadata": {},
   "outputs": [
    {
     "name": "stdout",
     "output_type": "stream",
     "text": [
      "2715 ['payparking', 'goodhotfreshfly', '다프트펑크 (minwooho221)', '%$demersseman', 'yyycathyyy', '%떵심이 (dbsrnjsqja)', '%쌍방개이득 (cjstkdla4563)', '%+_베어_ (kkong0718)', '츄파츄릅츄릅 (gzon4th)', '%쏘는중임 (khhpop)', '급소_가격 (gorigoru)', '아플_ (alrzl2205)', '증상 (hdy17)', '일이삼사육 (dukja3)', '루루룻 (karsia123)', '%+신연지 (zkfrywn)', '나꾸빙티 (jrj0329)', '다이너마이트 (ksg0708)', 'Byul117', '차이트게버 (zeitgeber07)', '최미피 (choimiffy)', '코쿠마 (bjdj1230)', '이디엠 (sekernite)', '+inbon0102', '만유인력의법칙 (prog1239)', '읍무새 (rimpadora1)', '쭈니쭈니쿤 (pyh1526)', '쭈니쿤을조련시킨조강현 (maknoobpa3)', '차하루 (ckgkfn)', '%햄찌뿌셔지구뿌셔 (weg1327)', '가문밥 (tjddn278)', 'dmdtmrp143', '경호_ (demical)', '프로그21 (rornflqks3)', 'ksi9191', '%$gAv1n_Er1c', '므난아르 (bjo1516)', '20171122전역 (anne8756)', 'racebeat', '수라발 (jsj12223)', 'Marinpord', '안전한호구마 (hnst001)', '드루거 (akdirdkel)', '달렉 (parkk1212)', 'dlfjs124', 'lot0223', '%내일은없다 (hoy415)', '%+뭘또그런걸다 (shouldnthaveto)', '갈릭핫도그 (ehdgus8888)', 'zwjd', '팔콧 (hellfoxs)', 'humai4', '구구구구구구 (id2255)', '난부우우자가될꺼야 (jopdfe)', '연동꿀주먹 (mgd951)', '%스카이콩콩 (mist2020)', '샛노란 (ksy4403)', '르시트 (ristst)', 'hyun3217', '건방진고양이 (cleusewifz)', '마나그프레 (senja10)', '혁준이나루찜 (hyeokgun13)', '흐락 (thasldna)', '김로봇 (wngud0811)', '못난호랭이 (snoy1653)', '그스트림 (rainingdawning)', '+람토 (tricta30)', '보배비 (jicf8456)', '만월화 (rktmf1408)', '%minsik784', '고시오 (ghdcjf83)', '귤쥬세요 (lime2555)', '첵스온더얍얍 (reiyan92)', '메뚜기삼분요리 (rhdbsgk7)', '데메싱 (koesoh)', '치요남 (ehdwns33)', '나무를보아요 (friendcj98)', '%정자동왕정윤 (mjy8308)', 'jinchui', '갓겜ㅇㅇ (wogns7155)', '엔타로초승다르 (ppanee)', '팔건다팔앗어 (forevernmk)', '마지막타즈딩고 (nonegrey)', '스걱스걱 (mikzest)', 'firewooood', 'tkpjoug12', '한손에오뎅 (darkniade)', 'hansj0420', 'yoovely', '워리어하쉴 (mymailda)', '주녁2 (wnsurk)', '레카도라 (jounjjang)', '첵스오즈먼지모찌 (hamham45)', 'toddydong426', '티없이알몸아이 (poll15)', '고인카고 (kargox3)', '리얼스타 (star12jin1)', '쉬렌 (dh0714)', '이브쿤 (fhakek3)', '뱅플 (dbstmdgus240)', '탐전사 (ejnu1234)', '여신님만팔로우 (psh91130)', '양말쓴늑대 (yang0329)', '레잌으 (shinelake)', 'mulrantor', '백꼬옴 (min4192)', 'PLeeeeeee', '저저럿 (kudou59)', '구이임 (khs5617)', '%$비뮤 (tlxl125)', '하나둘삼 (titleid747)', '프로망겜러 (whiskey842)', '스팔타커스 (toobi786)', '노르고르 (zoxoals345)', '닉네임뭐로하란거냐 (neverwt)', 'ayly12', '한번잡사바 (yoonym123)', '용역왔니 (ahaha1369)', '$슈빔 (kjyshy1)', '%올리비아허시 (hee6325)', '묵새 (perio2002)', '빙수 (seungmin704)', '$민트에휘핑 (ehd1991)', '+알트탭 (alteb)', '%청아라 (sft1394)', 'psh776', '김로헨 (qmdlrhdfyd)', '어느맑은날에 (hr027)', '내꺼해라 (sksslrjek)', 'sohong2', 'avakdh', '마포구백수 (jinsuk2200)', '로아대기열일때만방송봄 (cs950414)', '닭발맨 (dakbalman)', '카페모카초코 (tedhun7897)', '아킬레스59 (xhal456)', '쪼끼 (yasuru93)', 'aaaaaaaaaak', 'poppylove142', '히오0928 (hio920928)', '%끄윽 (guuuuk_)', '리테리테 (y2804)', 'qpfmxhdgps12', '트롤마시아 (adksehdwn)', '가야금임 (darkrikardo)', 'dl961212', '%+빌리지 (bogerce)', 'yyeop', '+kyehwan', '뜌쀼뜌쀼 (buuu9513)', '%karabim', '외로운인생 (sbcho0630)', '서새봄서쌍배 (mintae1201)', '%아즈_미니모 (kin4751)', '방구모드 (sygsky)', '현켄 (meycen79)', '월광의루드비히 (jjb7288)', '%알스디 (alsdy)', '아낌 (dave34good)', '칼지금이니 (qudtkd123)', '%만두라면_ (ddestar)', '%+태9 (ao0316)', '대은 (grrrrgi)', '말랑백지 (bjbjbj0729)', '보기 (wiqppr)', 'inpitar', '고말해 (tlswhvk1112)', '쌈구리 (kuhen92)', '12523922', 'alohagems', '으컁 (zcraxs)', '그쟁_유키비 (yukibee)', '졸린눈고양이 (catblues80)', '칠썽사이다 (vmfmxltm)', '냥냔이 (j_arm)', '준댕 (jundang125)', '프리뷰 (nightmarego)', 'lightuser2', '%kimtroll84', '모젤 (onlyme0328)', '왔다갔니 (wjddn9047)', '다사니 (sunghan8652)', 'eksal159', '정오복이 (rush4421967)', 'asdfzxcv41', '닥닥이 (nshlovejj)', '$공기밥1개더 (rolexred)', '므르르 (taimini11)', '+자유로운남자 (freeman0313)', '+곰보마스터조강현 (ho304903)', '아키핀터 (mercy5525)', 'sung94120', '증말루다가 (ruiklaus)', '청풍풍 (doriweon)', '%려탕 (ryoetang)', 'ace7749', '호그다 (pedro0420)', '프레드베어 (sk7270)', '강릉아조씨ㅇㅁㅇ (er1421)', '움찔굼찔 (saha007bangbang)', 'gissjj', '쭈워닝 (joowon3759)', '%^Stay_Hydrated_Bot', '꾸르르르르륵 (stree518)', '토그랑 (paparo528)', '섿나 (sedna90377)', '딩가딩가딩 (wjk1030)', '브르파 (nicolamaru)', 'eotls9077', '달콤한꿀함유 (ohohsung)', '메이 (djaakdhkgud2)', '坂本龍馬 (sksmsfkdlej)', '한길로 (lv0423vl)', '룰라랄라87 (fnffnfkffk87)', '트린이_건 (icutfc827)', '1팩남따효니 (tjdmsxor20)', '+학금의기둥서방견우 (gyunwoo)', 'Woong3193', '목우촌햄 (arcadiag)', '꽃민이 (flowermin7722)', 'khj0505', '이동달 (dongdal1388)', '팔톤트럭 (8ttruck)', '비니큐 (teya52)', '와5772 (dlwnsqja00)', '처제거긴안돼 (pjcstar0529)', 'yecalx', '사이다좋아합니다 (dnwls326)', '거대가슴르건즈 (yoodyddms001)', 'yspp', 'isolet77', '차를치면카톡 (kjh7422)', '은밀기동대 (kjh890808)', '이택기이동훈정태준 (deuleuleong)', '유령호박 (jackpyros)', 'mrk9042', '않이저기요 (anhc0326)', '뛰뛰빵빵 (skswjsans)', '김머한 (dodo919)', '아응드에 (zxklg4)', '파인애플피자와민트초코 (vhrwnr0446)', 'hanguler', '겨울감성 (aq123465)', '+퉤한 (thany1020)', '%똥영감 (seonghoon907)', '로펜 (ropen440)', '$련령 (yjk7402)', 'beadamonster', '용사김꿀뀌 (leo9563)', '테엥 (youngjin8002)', '%나페 (ekdksk45)', '돌적 (doljuk)', 'rkdrudals93', '오늘은달라 (jinlong420)', '꿈의나라 (harain0904)', '+켈록켈록 (jerry2206)', '우동이_ (kojacos617)', '아틀란틱 (alstjd3010)', 'eerie_glow', 'gi5o', '강현이의췌장을먹고싶어 (dght12)', '츄츄느님 (gmffjrkfl)', '%스낵 (injae6629)', '게으른판다 (new89)', '가정용짐승 (blackgorae)', '차니롤2 (yang8345)', '+_베베 (be8e)', '%슬슬 (pdh999)', '견습생 (k2013s)', '예루살렘왕국 (kiofje1099)', '+성인 (kkamew)', '선킹 (sunking0105)', '카리카리 (karupi999)', '휴ㅈㅣ (beskinny)', 'back_gom', '%김정29현 (01040387906)', '은행나뭇잎 (wnsgh85231)', '밍밍한커피 (overcomemyself)', 'lut3254', '란세르 (ransere)', '꼬리뼈박살러 (laybreak)', '겜도우 (gemdow)', 'sweetmelody123', 'DamCho22', '%지니어스풍 (wind9006)', '에리카링고 (gtb2010)', '리스 (polaris7216)', '양맨 (yangjinwook)', '보통의시청자 (bugkingdoms)', '가출한길냥이 (boojh0425)', '+기타의요정 (lairde)', '냇꽃 (ktwon4556)', '커여운몸 (p909007)', '진식이 (nkh4048)', '겨울곰 (wintermateo)', 'woosu', '마일도카 (sakura337)', 'skyluky1', 'bible_e', '%$망고쩀 (tommisch2021)', '이제백수1년 (wls3928)', '슈클임 (dno06102)', '넝신 (kcy0609)', '붕탁꾼_러온 (skgjwjq111)', '%마하바라타 (rohsy15)', '덴드 (do0203)', '오픈마인드 (hkim59)', '바나나연유 (wjdtjsdn2003)', '꽃_밭 (hyeongnam94)', '+소울블루 (pupleramen)', '小笠原綸子 (lee_ji_eun_uaena)', 'kmw548', '우르사돈 (urusadon)', '+칭찬해 (inthesky1223)', '퀵뷰쥬세요퀵뷰 (abc814)', '토끼8ㅅ8 (1uuuu1)', '민댕댕님 (jukwoo)', '스타레인 (minoaru)', '%호갱시대 (snj3953)', '+미트럴스핀 (chekyokyo)', '강성안 (ksa5466)', '달아랑 (joona0124)', '4nrray', '%fug6sinsa', '%$디지털치매초승달 (thscodud423)', '마신왔니 (masincross2)', '브루드링 (jun2654)', '미확인생물체 (han9013)', 'sjcha1209', '01twilight', '%$독닥붕 (dokdakboong)', 'limrogo', 'qoqoqoqo4', '어그로가끌립니다 (sharows1)', '%Casperd12', '푸르온 (syi1206)', '방갓_ (sunsu0824)', 'wonder1103', '카푸치노커피 (bban00)', '검은이름 (strongadol)', '갈비뜯다들킨스 (hongsun22)', '%주노_ (juno_vastest)', '차임 (piabt30000)', '유영민 (typhoon001)', '%$DreamHighP', '오늘회식이다 (parkeon)', 'plzaconcertinkoreamuse', '불꽃남자춘봉 (moiness2)', '오지구요 (clfhzl12)', '말고기스프 (cabbegego123)', '페스탈로치 (whdgus1412)', '%뒹굴뒹굴전문가 (nowgnas1234)', '내잘못은아니야 (kyoto13)', 'skajjkj', '잔피 (jan_p1)', 'jjho1106', '리복치 (reebokchi)', '리버푸르 (gotjd0993as)', '하이데른 (ll9916ll)', 'FlvJ', '자냐 (alpha3026)', '유닭 (leesulgi)', '끼룡 (dkpuriss)', '+OKJUN99', 'goodday326', '코숀도르 (6214yasiri)', '파랑매실 (kim0334)', '+사랑한드아 (lightund)', '로맨틱_아이 (roai11)', '1jongnamwon', '+꼬북꼬북 (ggo_book)', 'Munzie300', 'raindrop0227', 'Fawust0102', 'ChrisaroniNCheese', '밀라네스타 (milanesta25)', 'qtg26', '열역학제어역학기아아악 (gsu3212)', '근명 (menuf2sm)', '+_테디베어_ (rlaehdals120)', '키요 (kozelhs)', '에그시 (eggcy19)', '끄꽁 (jisang1118)', '뚜루루뚜룹뚜루웁 (tosla04)', '도리카무 (supercreek)', 'aigamerz', '여왕님의개 (queen_of_dog)', 'terrorism00', '엘리1 (aod2r)', 'kwjmc', '알라딘_ (ljsep)', 'code00j', 'peterssj6802', '알망_ (almang)', '감귤주스 (blacktea37)', '발청국장 (moolgalbie)', '룩공얍똘조아 (lookgongyapddol)', '태오임당 (suga7985)', '아레니우스1 (hanryul9097)', '샤크랑 (akdmlwjstk)', '애몽 (onjess)', '팡머_ (phonack)', '+Nezha2079', '토라블루제이 (wls2128)', '쉬트 (isg2016)', '메피스트로스 (mephistroth_kr)', '근환 (cat188)', '이학천 (sphak1123)', '깜장바우 (ggamjangdol)', '루다람쥐 (polarisss77)', '%토치우드 (rycbar)', '하시얀 (ekzmfld1)', '+은하__ (galaxy__)', '디벨로퍼스 (ferocedev)', '오늘예비군감 (yun0460)', '심심한사람 (rlaekqls001)', '김도진김래원김태평김영태 (intwitch89)', '슾햄찌 (lv_jniii)', '%초생 (parry0505)', 'MAYAUKKKKKK', '+데붐 (deboom47)', '간사한웃음 (koss394)', '나루의라이벌 (blazewyrm)', '궁금해요핑퐁 (songgod)', '잠이쏟아진다 (egius)', '떡방앗간아들 (bleyes2878)', '야생마생마 (yasengma1)', 'huuuam', '같이웃자 (yopr2354)', '젤리구미 (ywymom1004)', 'do_you_know_ddahyoni', '검정샤프 (tltkddp2)', '$곤지암탈출환자 (ilypjh)', '엉귀 (skullgray1)', '뽀에엥 (snsd0809)', '난못생겼어 (harritige)', 'bluesky1999', '뚝배기사냥꾼 (viserys0118)', '넥서스 (nowueo)', 'dissyfinger', '황경240 (ddeuougi88)', '감자탕요정 (bjham96)', '빙수녹차 (zozwe2200)', 'rndnjfdbrdlf', 'fudkwnr', 'ikibiai', '시에나트 (syenart)', '이무것도아닌사람 (ronie1492)', '치혀닝 (clgus8592)', '설희나 (seoulheena)', '%마티당 (smarty112358)', '%+생물돌이 (kimjih12)', '샤무_ (tian0619)', 'sowhy42', '지구르크 (livepear)', '밤페이군 (bampeikin)', '슬픈남자 (a_sadman)', '알리첵스오즈 (bbibbi)', '야이노마 (sollavim)', '디미트리 (ysh7687)', '%별로냐메로나 (janonm225)', '조망키 (alsrl425167)', 'zorechert', 'twitchsaver', '%$noxioustrap7', '%한국풍산개 (pungsan_dog)', '%나하하하 (ok1248)', '+맹구찡 (vonom1234)', '트위치_그루밍 (wh123dydgns)', '동네훈남 (twitch6583)', '아크서클 (arkcircle)', '+칼제로 (khaizero)', '빵한개 (breadkim67)', '구테이데 (mjuvd)', '개알못 (6708white)', '천우희 (cwoohee)', '쌀힘 (ssalhim)', 'pro10dan', 'skawns404', '%리제자 (sa0208e15)', 'feeltheflowee', 'Youran1004', '요염한순대 (ickgoo)', '크리스피롤빵 (dmyang13)', 'MoonSlash151', '한반도의마지막희망조강현 (last_hope_of_korea_gombo)', 'didxorhks1', '운놀뱡 (rlflssla2)', '파워후 (ppaowho)', '이놈진짜다 (dncndaks)', '두글자로얍얍 (briantyler)', 'sj123123', 'kl0402', '델타플러스 (thjhero)', '이소룡추리닝 (skycow2000)', 'rupllesica', '태양의기사솔라 (gusckddhqk)', '라라참 (radflame3)', '기대기대기대기 (gidaey)', '그치만_ (wonfamily)', 'taros2', 'sssssssong', '이수이 (dltndl)', '_헤미요 (hemiyo)', '투명우산 (leeeunjae0723)', '태연김 (xrarmy)', '카오스할래 (honggi2080)', '중고기타 (cjuo014)', '드라임 (wltjd020815)', '으아아아아아아아 (raicou123)', '아랑기스 (astrohikari)', '%최팔보 (ggp2o)', 'greatkya', '%drunkenminer12', '매력적인아리 (persona9624)', '낭만고양이2 (dlrudgks1)', '$배찌낑 (bazzykking)', '%머가리텅빈진효 (sinjaekyu)', '팬더팬다 (dongdo01)', '김준민 (wnsals1346)', '이루다람쥐 (dewprince7)', '분홍주암주의 (rorotoo)', '아스미스 (sabjilhane)', 'water767', '나의영웅호날두 (myheroho)', '로스트아크야힘을내 (lost_ark_please_wake_up)', '%파이즈 (leehj3585)', '%플라망고 (jaeyomi)', '가스펠 (dx5050)', '테파 (orcjun)', 'whdgus0525', '비폭식주의자 (paranhaner)', '암컷연지벌레 (herolemon2)', '+타샤님 (hsj1172)', '야돈 (yadontails)', 'mocha1289', 'qwertyoon', 'buzz190', 'redpaper21', 'miskywine', '%금문 (zenev94)', 'csw9595', '%zerokoolATR', '%태연해 (pigandu)', '쥐즈린 (mouse_zrin)', 'hjw6196', '이가놈 (mapadubu)', '공익따무새 (gongikdda)', '파피야 (k82311213)', '부기오 (reds1379)', '장승배기 (supreme_hks)', '노엘갤러거의높이나는새들 (0asis)', '뿌른 (creatures88)', 'hb626', '부두교에너무심취하진말게 (kysnew)', '바켜눅 (toritori99)', '태연한이지금 (taeyeon_dlwlrma)', '고요한숲속 (goyohantree)', 'commercialfilm', '신세계의신이된조강현 (salachi02)', '%아메리카노 (sirbqms)', '+칠곡이 (leebyeonguk)', '노량진가자미 (uu0509)', 'darkcrete', '+이거머징 (youggkil)', '%인성대장판다 (junwoo326)', '마루나래 (elankana)', '똥싸는토끼 (ohfari)', 'leopard9049', '퓨탕형 (oas1st)', '푸아드 (rewerii)', '$배추_ (sgrm2574)', '람이ㅋㅋ (dhrlfskaz)', 'wpwjddl97', 'onespecial0425', '위무지강 (placebo3444)', 'catsnake72', '김그레이트 (dngkgpgp)', '썽주참외 (korean_melon)', '%$맨날맨날귀여워 (everyday_cute)', '사이사이 (sai3151)', '신사개미 (flxowns)', '사이시옷 (moonjisd)', '지리대사초 (ejj0420)', 'Xormrrja', '+라시엘 (kicd3131)', '마이마이마이 (wlwhzld1212)', '베이그런트 (muxydozi)', '빅풋볼매니저맨 (aa20145)', '%다양한능력자 (djqlrvnf)', '우사인동숙2 (rheodud11)', '코그 (gusdyddla)', 'akajjk', '쯉쯉마스터 (sdsung7465)', 'executor951', '이블락킹 (ganary220)', '%+차동이 (pueu96)', 'zheng55', '가정교사 (ash901)', '나자렛의몽키스패너 (ses2love1)', '딤그레이 (dimgray91)', 'closepoen', '3illo3y', 'kajami99', '인투더구름 (uhbazn)', '앵크동이 (fever1090)', 'llliiillllill', '무지_ (sk30101234)', '비븨비비븨비븨 (vbivbiv)', '일렉트로마스터 (jk1226)', '아이스초코 (coc2002)', '$하나만이라도 (sms5199)', '세계인정협회 (shinmk97730)', '성만이 (tmfflqvj)', 'lemonwasp', '륜아저씨 (wpxm123)', '느그동수칸 (zoxoals123)', '익뚜 (blessor0324)', '꼬부기조아 (rhqnrlwhdk28)', '극한의혼모노 (honmono18)', '달라라라 (jayce5282)', 'athena_alpha', '세주냐 (lolrellx)', 'NC6A', '홈런슛 (tpdlrjs)', 'dhzmdnjfldj', '횩리 (hyocklee)', '짱돌각 (wodlrfleldk)', '혀니쓰 (hide154)', '카페인폭발펑펑 (shirokishi228)', '수박맨 (shindha4)', 'away_from_keyboard', '%현선 (ready221)', '고래송 (alecls)', '익재공 (ikjaegong)', '쿠아롱_ (ghkd8930)', '얍골딱동실딱룩골딱 (yapgoldddak)', '땜냥이 (eoasiddl)', '시온_ (dirtynight)', '서포터소나만해요 (cx9achim)', 'ykp1124', '%북극뚱냥이 (sym0310)', 'alsrn16', 'doys84', 'kanye1000', '로비전문가 (kimsm9165)', 'lunk28', '뭐로할까용 (overwatch222)', '하욥 (changsun414)', '타우렌칩튼 (chieftain11)', '+래피드샷 (alstn3434)', 'jini5542', '%rookie9027', 'chunglin07', '요단강삼각자 (gamja0346)', '아시페로 (sumidion1)', 'wed256', '+선신 (tjstls)', '____포효 (living_won)', '제가좀귀엽습니다만 (monllini)', '고마하소 (cveras1)', '탱크쭈쭈 (tankzzuzzu)', '오비이락은개뿔 (nono9309)', '리프트린 (astrataraxia)', '덩쿨뿌리 (xodid4561)', '언제까지어깨춤을추게할꺼 (hobhob831)', '기물파손 (rnjsalswo369)', '리이히기디 (poi03)', '$osuoragoku', '김치찌개마스터 (ruteon08)', '신세계의신이될자조강현 (sinsekaigombo)', '하늘색레몬 (sadstar1122)', 'hdk0918', 'jing071776', '+화이트포니테일 (whiteponytail87)', '%샤건 (cgope)', '레이어스 (babonube)', '진성풍뎅 (doyoun)', '%$눈알미아 (squllsaver)', '부자만세 (whkstmxls)', '크라이 (wook0458)', '누렁여사 (gudwn3325)', '릴스타 (wngusxo3)', 'in5u', '+도구상 (shanginmann)', '비락시케 (zpx925)', '울랄랑 (seng93)', '176센치43키로 (altndml5362)', '교자만두 (ppotsticker)', '당신은탈모빔에맞았습니다 (sangil6548)', '닉그지 (qqaazzzx1)', 'nun_nugu', '+아르센루핀 (arsenelupins)', '%국가정보원유리 (oreosweet)', 'breeze0223', '%탈다림의군주 (lyoung30)', '상냥한닉네임 (ecec2102)', '순둥이라이프 (rlckddl1435)', '그림갈 (ashgrimgar)', '크크닝 (lebind12)', '휘두르개 (chocopie0947)', '오버워치대흥겜 (gkrkgk)', '뿌시 (hso4614)', '쿨닭 (jungjahyeok)', '술재이 (qhrtm0704)', '어설픈만능인 (rlawogud357)', '디바 (intosky0328)', '뮬라이트 (sh3332)', '%레지스타 (rio7828)', '익군이 (sungik0418)', '+여가랑 (ehdcks0327)', '머라할 (bluesky8753)', '팝시 (pabc777)', 'leejaerin', 'dlaghdud', '아조시예오 (ehdgus1318)', '우결조아 (thalaudrud74)', '강용희 (awdrg45)', '블러드헬001 (15236a)', '쿠마몬카와이 (minilip)', '김포르 (topkpr)', '나이토리아 (naitoria)', '%+이세입 (leesave)', 'popo11230', '수르르까아저씨 (go855)', '블루플래닛 (vx9191)', '정벅자 (drakegom)', 'silvanfrost', '%라미꼬 (wkfksla90s)', '골드가고싶어 (ehdgus528)', '녹즙매니아 (latte_ori)', '국제망신 (gookjemangsin)', 'tmdgns045', '스우비인 (henry6403)', '잉여소굴 (rkew123)', '+메멘토_모리 (sindox2)', '드리젤라 (reelection)', 'Netbecad', '우노_우노 (skadbsgh123)', '~%초승달 (cocopopp671)', 'msag23', '%할수있는게없어요 (ksj2051)', 'qsdf', 'Momkj', '열개의달과여섯개의해 (wlsntus)', '시공갓 (as7650)', '야마돌이 (diakehfdl)', '박노움 (park_gnome)', '해협 (yuyu153)', 'TTiGGu0310', '용그리용 (phy0415)', '집사냥 (mg_k0518)', '양념스프 (kcw8jaderain)', '강우기냥 (cjkensin)', '냉난방_ (ghdks)', '끈끈이주걱 (colorchips)', 'wnsurk94', 'Ryan_GSL', '루메스 (bsh098)', '택수 (congcode)', '먑먑조아 (hikmdgj)', '달빵이ㅡ (supremh)', '58라자죽기 (kevin9232)', '노래는제발 (hanqisme)', '불타는간짬뽕 (huustar1535)', '+칼라트라바 (rlawhdtls1234)', '로톨 (lf21wd)', '로레인 (gruthic)', '신선한소주쥬 (akryepqlf)', '광주의빛견자희 (gwangjulight)', '_차우 (hino7401)', '개쥐양 (monojoon9)', 'haemi310', '호구왓트 (ho9wat)', 'jmliyer', '구라탄 (dlfrb00)', '스믹_ (bjs1354)', '루미아님 (jt8191)', '단홍 (demonicwhite)', '말랑말랑곱추 (pwjalove)', '관공 (twkingwoo)', '%+선택적지구인 (81reborn)', '%그건아니다 (minority02299)', 'dlanscks456', '블리자드충 (won0217)', '카르스트_ (karst_c)', '별빛한밤 (thinking5184)', '비얌 (sys0902)', '$낙스어 (piece136)', '탈탈털렸다 (koar7849)', '닥터조 (vampire3231)', '떵폼잡는소울 (choigyu8575)', '롯데는내년에 (lucky9847)', '러비더비소연 (njaao223)', '아하하히히 (greent1234)', '%마스테마 (bbb1008)', '+프프플 (kingjsm)', '범연 (wor001)', 'anisnameisjohncena', '레마코 (hsuper189)', '짜장쿤 (jjajang1215)', '오자미차 (cloud_wood)', '톰잭슨 (thsls1004)', '루미너스 (luminous0207)', '꿈동 (jhspng100)', 'whdqja0206', '종이접기 (paper_9)', 'middl2', '신인식 (thetwowin)', '알트키이 (iinnssuu)', 'taroget', '바빗 (13846)', '포동이만두 (heojm0602)', '최허들 (dngy5437)', '나식이 (belladonna0)', 'PigeonTwo', '아시람 (asiramkjh)', '에디게레로 (kumwang)', '키린키린 (bestartist)', 'aqw8888', '영슨123 (youngson1990)', '한잔할래 (gnsdudak)', '면봉님 (cidgnl30526)', '그누1 (salt4058)', '오댕오댕 (xortn147)', '으앙주금 (incolore9)', '급식쟁이 (swiss973d)', 'leewu82', '양념백숙 (0911jsh)', '이거다이거 (fndltm1213)', '핵와플 (kipereu)', 'AWE3', '세메이온 (semeion00)', 'GaRangB', '+있는데요없습니다 (lvlvlvl)', '달콤한변저씨 (kago333)', '꼬라보네 (zntjfls)', 'shumirotw', '함두릴라 (shs0119)', '쿠루쿠루 (dragon2493)', '지나가는노루 (zinoru)', 'AttitudeHS', 'kimhg3263', '잉마을 (hirasawa02)', '빅불 (psi13245)', '우즈키짱 (maner98)', 'kimhongil', 'sdz6496', '쵸록비 (uhahaha0426)', '양념찡 (jenehyen2)', 'pat1654', '서주니 (asj4916)', 'dlgudrb2383', 'oslain11', '%+마야노예 (bastato)', '짜우드 (zzaud)', '%치약맛망고 (tmxk4557)', 'donaband1019', '엔타로태사다르 (ryupsa)', '%에고왕 (ego0083)', '%+YtseJamSC2', '누구에게나시련은 (shw8848)', '지민시은 (heydeep)', 'grinsimpson', '갸르릉 (hwan0119)', 'dooconge', '%+시공의아들 (ehdals24)', '%여심믹서기쌍베 (qko3)', '휜수염 (taifum0929)', '암울한영혼 (khj9708530)', '+강생약사 (kdy19251)', 'ro0ts2', 'mellow_mood_', '턍아 (elsolar94)', '+차누님 (wlfkf452)', 'wntkd8776', '+뭐먹지오늘 (pajud13)', '햄스케 (ddunghoyam)', '+존야 (park1223)', '멘붕중입니다 (bkmental)', 'doraiva', 'sherrramo', '소독용에탄올 (herbgreen112)', '나비주인 (qwertylch)', '사람임까 (djawodyd0)', 'minimanimoooo', '에테르노 (min102407)', 'kintex24', 'kagawa1203', '미쓰라_ (tomyes)', '비활성화중 (dudwo1914)', '+under_the_duvet', '디프0 (deeep3)', '옥자사냥 (szsz148)', '꼬맹러 (ehdghks153)', '실화 (silhwa)', '박쥐남 (ikhyeons)', '슬론 (naslon13)', '쎄시봉_ (pjmccc)', '억지는안되요 (khan_of_twitch)', 'vample7890', '웃긴님 (smlee2040)', 'ljb2893', '청하한잔 (jun9940)', 'Shkim2205', 'swiftmulagir', '+bakong93', '빨간맛콜라 (zingup0)', '아재노출을_위하여 (faz485)', '킹호준 (kinghojun)', '구름에걸친달 (dudrms657)', '파도파도명장면 (sswitch25)', 'ShinHaNeul', '이시테 (dkdisp)', '가보자심해로 (ehdro1243)', '거실 (cerl26)', '%김치맛쿠키 (toothmonsters)', '+설인 (thesnowmans)', '+miisiiicii', 'lilykasper', '미끄 (mik0911)', '달로오스 (daidalos375)', 'jack0540', '냠냠이 (skytaejin)', 'mandragon112', 'O1EI', '%긍정소년 (no1sniperbs)', '챠니스 (chachasong0)', 'sko1', 'graycoma', '공식완쓰 (dlrjsghk0)', 'wogus1632', 'aruarianj', '+에어1278 (dinero1278)', '째까 (jjaekka)', '+호다다닥 (juju1995tw)', '조이보이 (wndfkd123)', '할조 (joungoh)', '누니오네 (ehdgur338)', '유라탄수브라히모비치 (dbrkgus90)', 'ye0e', 'yapyapj0', '댄싱모신모모 (dancemomo)', '멸종위기의새봄추정수리 (anthesis13)', '시곗바늘 (qkr8125)', '핫조이 (been7142)', 'samdasu', 'piccolo28', '%+TEAMMATEplays', '%+지메코 (rhwlgns97)', '리카댕 (yth1111kr)', '날코 (rlawpql5454)', '옆동네아재 (hchandpsy)', '+신전떡볶이매운맛 (gogle618)', '석아 (dwt94)', '%익명의아이디 (seckiru)', '하늘색담당 (sipidnight)', '희히희히 (djwjej)', '그건니가 (sbtt9)', '제로크 (lgmdlekd)', '$공방님 (101427)', '%+zhaohao888', '스퐁지밥 (kdj6571)', 'afterglow09', '페퍼로니마니아 (lww59099)', '꽃장수 (rrr1224)', '자라나랏머리머리 (tpzjs24)', '야채임 (sakura960130)', '반달고미잉 (gksmf0627)', '%란다우 (landau0)', '%453102', '하이요_ (redberet_sas)', '다다익선임 (qaws8070)', '+합리적의심 (poro_ri)', '트수만믿어 (tsutrust)', 'logan7749', '질문만하는사람 (tmdans92)', '조강현잘생겼다 (just_gombo)', '트위치처음와여 (kh93222)', 'tfcrdx4444', 'Ehdgus3612', '%$드레여캐이뻐염 (ppyong96)', 'vtwinkle', '효룡 (daer22)', '소다파워 (mr6705)', 'Jumhy8', '카빌 (whi34)', '교기먄두 (fptmql)', '아크마 (soundhs)', '생각팔이 (anatanus)', '김두둔 (kyw8549)', '간지포풍남 (gmald88)', '히히힣후헤헿 (thaos333)', '흥영킁영 (rmflsehr)', '괴델 (lheesoo89)', '파괴의신최영준 (sorhd12)', '맨프리드 (manfrid90)', '고구마냠냠냠 (chitoss0101)', '초모노 (kasj32)', 'Occult68', '비구름처럼 (nidtssldf)', '달뜨는창문에 (kaseto)', '$소시지니 (sosigenie)', '금빛지평선 (kdhsay)', '+침착하게침 (dodohan2)', '얄리얄리얄라성얄라리얄라 (sinabro00)', '%물갱이 (kureass)', '리레사_ (relessa)', '이사익 (airacid)', '금요일밤독서실에간다고 (cldrn157)', '벤하트 (benhearts)', '응가 (camputor)', 'cotisol', '임성원 (swstyle93)', '침입자 (jys11234)', '알쓰 (so6302)', '쪼바 (dusxo3571)', '지로원 (yicho93)', '은숙이 (dobob85)', '열역학제1법칙 (xorqja15)', '난뭐임 (woghdqnghkf)', '헤이본 (icarus7112)', '호구그자체 (tkdgns4210)', '용정차 (wjdfyd03)', '차니닝 (limegul10)', '딩구리딩굴 (yang31118)', '박력 (dbtjdgus0323)', '티익스프레스 (tlstjdgh8)', '신이될테다 (ssdd5591)', '기자재 (sjk1003)', '상피리이 (sangpill23)', '신입의정석 (kosh1219)', '행복회로가동 (hanbyul1590)', 'nymphetamine7', '공혁준이정환김종수전상빈 (rowktlr25)', '안통수 (dkstjdals13)', '종수돼지 (morrislee90)', 'teambbanga', '캐제마 (kjmzero714)', '아니도대체왜 (kgt6863)', '파랑파 (seikys12)', 'kibi1234', '빛킹 (orol7894)', 'newskdy', 'fhfh8948', 'geta9', '나이저모건 (rhodrhkfl)', 'dyd9134', '궁써서지켜줄게 (angelchurky)', '바지락칼콕스 (rusa9)', '%+까뿌치노 (cappuchino)', '호루스 (rokky08)', '연어샐러드 (wew1414)', '난미니 (zero25252)', '히마와리 (gusdnr04)', 'buf0819', '졷메이어 (whygeorgia)', '푸른부엉이 (wlsaud123)', '그거내꺼야 (byblos11)', '녹차맛나 (ori6555)', '베오 (fomi917)', 'hie555', '테이노스 (ks05ks)', 'amat12', '황족투스 (leemg0304)', '재송동개백수 (busan072)', '거상_빌런 (dark45089)', '메루메루메루메루메루메 (jdj777)', '따옥 (checkclean)', '성부성자그리고조강현 (butay053)', '견습 (killdsha)', 'Mytoyl', '어멩찌 (amage_kim)', '수성이다 (life72of)', 'd34fmut35', '백두의냥냥펀치 (chaincontrol1)', '개답답해 (sy980414)', 'yyy1580', 'no1psc', '거울에다비치네 (palsik0210)', '$킹치만 (kakaengus)', '암크리트 (xmdyd1212)', '카시아린 (akl017)', '+NaanNaanNaan', '방학인데집못가는대학생 (lbh8685)', '블랙별 (jjw16)', '+송나우 (songnowz)', '술끊자 (lmc8833)', 'wlsgud1023', '추추추워 (metalbird0)', 'inno777', '랏쇼몽 (ratshomon)', 'ryuzld', '코코볼윾두 (wogusrla77)', 'realgold', '5초 (timestk)', '하나둘셋쑥 (hana125)', '갸루취향을숨기고픈조강현 (redfly2001)', '엉털꼬털겨털득털 (wbs0520)', '디락 (paul_dirac_190288)', '피이카 (pigtaile)', '마인드헌터 (cjnsmj)', '인생영화추천 (twobigcow)', '힐러임0 (healim)', '면디 (ssi13579)', '초승딸 (god_given_)', '삐린 (mypakrmk)', '불타는허수아비 (newpjh6629)', '슈터슈터 (guswnd321)', '공포의원탱쌍검국왕님 (whalehee)', '존슨즈베이 (mino022)', '버블헤드 (anansi0)', '좋아요는좋아요 (kwonmg7)', 'croie213', '똑나연 (1aby)', '행복한정수리 (younsuk09)', '차임새 (wpqlworld)', '돠루 (ehrbs1016)', 'BMO123123', 'pppki', '술이들어간다4 (kkcc5011)', '+링딩동수칸 (ohrlacl)', '빡슈 (vbvnvm123)', '초승달텀 (qkrwjdwls4567)', '칭찬맨 (asnemblue)', '갸앜아아앜앜 (hyobin111)', 'easyhun0', '트레더 (rnghd1)', '사각팬티 (sg2522)', 'zayah_', '아이스버킷아리나이라 (cloud40000)', '계피소년 (cinnaboy7)', '블랭말랑카우 (aaycolor)', 'mqsha', 'mircle94', '룩톨 (gwg9327)', 'humorous2', '라시다비가일 (rashdabigulie)', '주객룸 (g6802684i)', '%$파란맛_ (blue_flavor)', '극락조 (s0610s)', '사비두비다비 (bjkk5775)', '놀탱이 (ptmahs)', '%치즈만두 (wnstjr1410)', '도레시피 (rococo7)', 'gta3614', '$검상_ (shark2157)', '+몹슬레이어 (my5114)', '나는조강현없이살수없다 (i_cant_live_without_gombo)', 'jch3407', 'finn_lee', '환상미소 (kmjesk94)', '%홍망내 (hongmn)', '똥싸고겜만함 (bono8178)', '%지렁이는길지렁 (hmc19940513)', '비스무스 (moos0920)', '야만만이 (audtjq16)', '때녹이 (luyzxc1885)', '숭숭ㅇ (seu0522)', 'oshwan664', '+통감자애오 (jhha86)', '잇힝해용 (gilho0643)', 'wys223', '돗포 (sanghak3da)', '+잇츠디퍼런트 (esp22)', '말도안되크흠 (anwhrjs1)', '곰귤 (gomgyul)', '스텔라아르투아 (dygks2918)', '꾸린내 (psy1113)', '고생끝에조강현이온다 (kkh991113)', 'anpulto01', '르슈_ (wtower98)', '관자놀이 (skghdeo)', '뀨뀨님 (532ks)', '놀꿍 (whrudgns1109)', '시아누크빌 (seojs2010)', 'vmxh0102', '콜롬빈 (lyssaa73)', 'stardust11', 'parnet89', '차분한오리 (artiace)', '메__롱 (merongida)', 'sbs3665', '+에키드나 (karawldud)', '+arthurcurry_', '오과장 (thexcm)', '골드망치 (zmzmcl1004)', 'coseyy', '이젠정말 (koosmoto)', '%네오시덤 (jkyd77)', '하늘사수 (bigba84)', 'dock9900', 'Vcoc2002', 'ghkdldj13', '+리오엘룬 (skatn51)', '뽀또로 (skykim7789)', 'gakkyholic', '+비돌 (corj667)', '지겁구닌 (pyeongg96)', '나후밍 (okatsu0312)', 'Wjsrudwns123', '쑥슉쑥슉 (dkdjdo)', '다짜고짜키스갈기는김성태 (hsw0194)', '아기펭귄핑구 (kwan123123)', '서빈동 (uijin06155)', 'a0w0', '멀록1 (kt3051)', '욱리둥절 (dudry123)', 'tedyboy2', '노인사냥꾼조강현 (oldman_hunter_steelo)', '너바라기 (csj5515)', '콜라게이 (dhduswnsah)', '씁쓸한각설탕 (whgksruf98)', '간츠 (mphone9930707)', '히국이 (kyong8230)', '밀라넬로 (milanello)', '류트의선율 (rlvod9389)', '+꽃방달봉 (dalbong86)', 'SSparta7', 'yusin0095', 'dldydwn02', '비빈냉면 (seungjinc)', 'Dj9398', '새싹이 (wlsdnjf2230)', '테오도르_ (teolee98)', '서든병맛 (fool1998)', 'ending012', '기훈4736 (rlgns2306)', '+starsung228', 'Highlandead', '쿠키33 (beancookie)', '깁수니 (1000car)', '%마미무마미 (dabamylord)', '%아옳왕 (murlocking89)', '+트수몬 (cofe1122)', '랜타뒤 (kuheang)', '시온___ (sion__96)', 'MILINAE88', 'damuncheon', '눈사이먼도미 (taeko0318)', '푸스 (ryul9487)', '%ZuZuBi', '%오올이 (audcjf4645)', '%+로카샤카 (loka_shaka)', 'work452', '%강챙이 (ministop92)', '곰돌리안 (gomdolian)', '춘시기 (chunsick)', 'mathbasil', '유정형 (vfvf12345)', '매운찜닭 (qorghkwmd)', '죽염사탕 (wnwnrkrkq723)', '+하하하하핳핳 (9910293)', '%패트리샤 (be_tricky02)', '%$BLUEM4NG0', '+미로안다 (duty0310)', '촘촘10 (thdtjdgus10)', '게으른잉여_ (scn03003)', '레오이 (leoyun88)', '항상영원히 (blue6607)', '신경성실신 (islandch)', '히요냥꾼 (hiyo6)', '$spicy2015', '%키노피오_ (wooka2)', '모험이 (wlsqja925)', 'zbezda1436', 'gksrnr12', '%트위치보는사람 (sadmoonp)', '우스갯소리 (yu2070)', '6708white', '넌내비타민 (skyx456)', 'curnul98', '호우호우호호 (sjh8660)', '새봄먕이 (dhy01052)', '다그런거지머 (newnirvana)', 'alswlals1013', '유부녀가매도하면업계포상 (kazaha12)', '닉몰라 (bk4012)', '%+라나야 (meliky9)', '딸기맛입술 (d0718068)', '%헬렐렐렐레 (zhvlsktek)', '환불탈영토끼얍얍 (stupidyapyap)', '미지비 (chlwkqcy12)', 'Bananao_O', '쏘이캔들 (yongja111)', '+애플에이드 (asolution01)', '%솔라리안 (jewdas2)', '%송천 (ssk622)', '%위스티브 (steve860831)', '인생힘내자 (ehgud2068)', '닉세탁전문 (heejaek)', '신훈 (sinhu1)', '꾸물꾸물숭사리 (onesix16ace)', '아오태보해 (rhaudwo777)', '팟국수 (xodndla)', '우회전 (gkswnd)', '리온엔메시 (aofhdd)', '암울한은자씨 (jch6957)', 'sing52', '우동맨 (blackqkr)', '키델라 (sinabro)', '넌양심도없냐 (as8587)', '마라탕좋아 (ys_sung)', '헤이드_ (hyde9021)', '영맹 (yeongmeng)', '토니우 (vvsh1989)', 'jjung0518', 'thgustn5663', 'ehfltjsdn3', '우리호우호우형 (hola218)', '기리쒸 (myrhfqoddl)', '만듀크파이어 (skyjj233)', '황족리버풀 (raspberryss1)', '%그건쫌 (kym159)', '$Mooooooong', '치즈고릴라 (qkdrkf123)', '묘한고양이 (kktae9813)', '주님오늘도한놈보내요 (natxmu)', 'aiw1818', 'bts06107', '카르테츠 (nell1503)', '이응잉 (jhkim5935)', '여래 (dnjstjr77)', '차찮스 (sole9305)', '그믐별 (dbdneldch22)', '72드림카카오 (hhighbury)', '%+파란더하기빨간 (have9208)', '우베맛 (gotic31)', '불타는군단 (jyj7456)', '검찰청철창살쌍철창살 (ggpo37)', '%+skcjoanne7', 'Revokedrevo', '%에피나스틴염산염 (mapatofu)', '하얀눈꼽 (andmltlr)', '%몬보살 (pao51311)', '가람마루 (wwkd0608)', 'genre3', '%레이드한 (wnsgur4u)', '왕구_ (wkyooou1)', '+jjy03081', '손돌 (ball772000)', '%폰테인 (fonteins)', '메밀소바 (islespinalonga)', '+크리엔 (ehfwhrkr)', 'psm3857', 'rnfmaejddl', '다방백수 (hjk4195)', '백만돌이 (akaihulk)', '류트콩 (dogu1004)', '크크뇽 (rumraisin6789)', '세쿠시한사람 (ricky1208)', 'yoons0104', 'iwbap0110', '보탱이 (ybs0827)', '관리사 (ballpoin)', '나의펫들 (sky902003)', '초코사과 (chocoapple_)', '두근두군 (ozsupz)', 'Fortuna54000', '오징어먹자 (wlgns5041)', '싸갈쓰바갈쓰 (saeng_sun)', '시작되는밝음 (100spit)', '아린 (potatocomett)', '일름보 (1rmbo)', '카벙클 (kns71107)', '위장술 (sonicbuster0228)', '풍선희 (rudeh1230)', '%킹아영 (kingayoung)', '세미___ (psecres)', 'axch1', '아기상어뚜르뚜뚜르 (aadjj00)', '천꼬강 (redrikaro12)', 'bqlp123', '도토리다판다 (gkgkgk867)', 'diar2700', '뒤집기하는붕어빵 (fishbread97)', '디스머신_ (thismachine9)', '피로 (piro5030)', '노루맛사탕 (cloverprince)', '%+김핑포 (kimpingpo)', '세도나꾼 (ksm9476)', '김레온 (kim_leon)', '라임즙07 (citrusjuice07)', '띠또_ (cardi0125)', '커넛 (fludounts)', 'jae5300', '시미트리 (wlimit1926)', '업계포상주세요 (ok_mono)', '하스안끄냐 (dqta)', '정수리화이트홀 (priapus1234)', 'denisobich', 'zuerst2712', '입대에서제대까지 (xogns819)', 'dh9049', '바바예투 (meisters2)', '햄토리딱딱 (abbandone2)', '블랙이브 (hackw007)', '와칸호 (gjwjd7777)', '발리라허벅지핥짝 (valeera_leg_peropero)', '막국 (depheus)', 'youmujina', '로팍 (dofwnd)', 'jn0704', '%블랙야크킹 (modenrock)', '쾰른왕동스캇 (kimgt1013)', '%$두유해브자신 (do_you_have_jashin)', 'falconv612', '호로롤롤로 (zmzm2424)', '돌보 (megashowking)', '웨이워드 (wayward1111)', '우정9급 (sozl195)', '기본설계 (basicdesign)', '여친회피복장 (dhfem77)', 'hyun0007', '%이뤄지길 (wlsdn2626)', '카태원 (wona48171)', '%시앨_ (ciel0228)', '아주착함요 (snkvk001)', '김펠레 (tsream)', 'wtrsjn1', '나뭇퐁 (qap39ic)', '아미노 (popnerd)', '재니당 (lifedesigner78)', '%+대댕큐 (daedaengkyu)', '+핑퐁입니닷 (cloud_dream)', 'cacao3864', '%$들쑥날쑥 (delight1119)', '카이룬 (kairune01)', 'hwangarv', '쌍호리 (alclzn)', '하지말아요 (trbn3542)', 'guitarfreaks', '씨규 (gmlrb93)', 'zoojh00', '솽어 (jih1897)', '우주뿌쇼 (lyrical204)', '인블이 (ming9s)', '먀량 (myaryang)', 'yuris27', '%$빈란드 (bysdwl)', '호구마조아 (hosi8215)', '시력이 (viento1120)', '카쉬냅 (kashnap)', '버나드쇼 (pusuc)', 'guswns3333', '잉쪼롱쪼롱잉 (amber1004)', '항상푸른하늘 (azxgvc)', '고루저 (belkoch)', '깜장고래 (dydgml1026)', '현장삼장 (jhjjjh1217)', '니드링 (dlwogml07)', '구독노루 (alitu39)', '%+비담 (hootowl)', '%구독암살자 (amsalcoco)', '청실_ (csil6562)', '풍무동포안관 (junhokim12)', '하석찬_ (haseokchan)', '공기담 (air5827)', '저스틴벌렌더 (yabuki1012)', '+슈잇슈팟 (ths2737)', '가부려 (anstn10311)', 'Arenba', '으아아하품 (g6j31h853)', '티모는항심센빠이 (finalheroez)', '현실돼지 (devted)', '레바의모근 (wjdekqrofl)', '태니후니 (0linknil0)', '%+토페 (qqhjk12)', 'gettingoveritot', '하나비 (gnsl2002kr)', '큐뀨 (idori21)', '피구르 (skan0813)', '득이는득득이 (guild0327)', 'khspkj', '골든레종 (wmf4545)', '+나브리 (seungyoin)', 'wjdtn4996', '고대신을섬기리라 (yjh20809)', '참치팔이 (akaseolc)', 'krongkrong93', 'hibye1004', '%$lugreat_', '데라토 (wjh1461)', '백핸더 (lightbaek)', 'aspsuwall', 'ヤ물개 (sealdog6)', '산플 (sanflne)', '내맘하나 (tkdehfnl)', '%+김툰치 (kimtunechi)', '룩삼구독 (looksamsub)', '삼광팔이 (zxc618)', '아뷁 (rksekwnwls)', '헤이드룬 (sansa1190)', 'hsd_ongi', '앵무개 (dodan0629)', '햄촤 (hamcha12)', '마지마장머시슴 (chachaism)', '사근동학식충 (likewise1031)', '자색실험쥐 (blodapple)', '에스포린 (mdbgustkd)', '%illlilill', 'qkffpstldkqmffor', '%$무조달 (khj9615)', '%띠이요옹 (sooyoil)', '음유시인_ (hwonhwon77)', 'PROPHET1104', '출발출발김출발 (ssp04046)', '티벳토끼 (drybox222)', '쩌러임 (tjwlsdn07)', '침착한시공 (swk1201)', '안피 (hysteric0916)', '부처사랑교회 (pss1032)', '취미로요리하는사람 (hwanta0218)', '계동츈 (abab1233)', '웁감정 (psy5736)', '%정진현 (sobo9368)', '+copperkan', 'ruingodshiva', '개좋은빛살구 (goldmoon922)', 'sorbonnestu', '42toure', '맛그린 (westwood1004)', '루루플루 (wna8fgh1)', '선마 (sunglassmask)', '우와동학만세 (gotlr7314)', '샌님 (shortple)', '%산기슭공돌이 (lmyung53)', '%에구 (usera2001)', '트톡 (mint3047)', '힛뽀 (hippo8427)', '할끄없넹 (micheurugi)', 'Kid0124', '몰캉말캉몰랑 (sarinkura)', '룰러드래곤 (2dadragon)', '바나올라 (gandarima)', '싸박이 (psychodr2)', '킹왕갓승달 (aqusizkoudan)', 'Leaques', '천의목소리 (iqnpfri)', '신인류 (s201064)', '리얼겜돌이 (jyn34938)', '눜킹 (nuk951123)', '%+크우아 (leehan5952)', '%큰곰박사 (xorjs1212)', '돼지콧구녕 (xodud3212)', '까망2 (fvccdkkk)', '실험관속너 (zzslaemf2030)', '캐스퍼_ (casper0242)', '+주루룬 (wwnswwns02)', '티없는달 (manasvijnana)', '쭈샨 (km7767)', '%$네이트리버스 (naterivers)', 'woojsm', '쌍두마차 (pachus1)', '치즈샤인 (nicenicech)', '+mindcircus1', '공포정치 (sbvmg12)', '+떡상상이 (burdentikk)', '아랑스 (ghkdrn9)', '브리트니점순 (yuryungssi)', '재희98 (jaehee9851)', '얼푸 (gnldnjs210)', '삽살너구리 (tywin38)', '복살 (terry84621124)', '명치에팔콘펀치 (cottonowl)', '홍쉐풍 (hm00016)', '+Eregbueye', 'heterodyne128', 'sssuper0807', 'knw9120', 'ronaldo4749', '%$보우노 (hamgooni)', '오오리2 (wan5ive)', '%+종덕 (bluemoon1510)', '%+_밤바람_ (thenightwind)', '토마토마토2 (fguy6369)', 'rlaehd1002', '다임구혁 (gurdyd9)', 'isan1231', '%+사모얀 (yt16sun)', '계실 (wonwook159)', '%+보스턴테리어 (dqert22)', '키드스제스트 (kidszest)', '$chkn2001', '%^StreamElements', '겜발로한당 (wlgusclfclf)', '%영태야살좀빼자 (dlcndals1)', '베르날웨버 (zetgoon)', '루테란의방패한동숙 (pox1330)', '로키어스 (wind9103)', '%챠크켈 (jhg402)', '+노노농 (kbs2188)', 'Hsung0302', '러블리은 (mylingmin123)', '느긋한강아지 (dogdrip159)', '밀리시타 (sister8755)', 'ZedekiahTheMetaSage', '킥도_ (kdh950217)', 'Seongvirtue', '확률미분방정식 (warbringer235)', '%빔누 (bimnoo)', '얍얍이빡머가리 (wnl6266)', '%자충수 (nojemlol)', '령목애리 (reinhard17)', '고구마호박 (kdhssk)', '양시백 (yangsibaek)', '칸심종자 (shinso6925)', 'mindol7901', 'BruiWood', '스크류바 (sscrewbar)', '브읍 (dakyeum2)', '장전동꿀주먹 (rgw1992)', '우억매운탕 (warpd12)', '쿠악2 (cookiecrocodile)', '팬치냥이 (ilbb09)', '%flo_r', '쿄야님 (hkyoya)', '타자치는노예 (rmscjf132)', '수리케이 (sanghyuk0120)', '레호구 (tmddbstkfk)', '클레드원톱 (twitch_god_kled)', '킴래빗 (qjsdur93)', 'jsy1218', 'KoreanBronze2', '%$waruiiiii', 'kkhhoo55', '카일라 (kailra27)', '%데오도란트 (aktkfnd)', '세라코어 (myruepang)', '로드오브윈터펠 (kokofresh)', '+rlatldud1122', '여우링 (yoon94)', '데드셀 (enthusiasm1)', '십로 (10ro)', '+가울겨을 (aynsg)', '장미 (isnl2)', '에참꽁 (wjdghks0601)', '별콩이랑 (soulmate0722)', 'rudghks0523', '바람통로 (mulandu)', '크림밤나방 (sjs51220)', '데몰리션맨 (iklinda)', 'dkswjdehls1', '빵구똥구 (bumjoon4)', '따봄듀오 (wemston)', '마카베 (we_areyoung)', '%호굴이 (hogul2)', 'harass12', '우리정글잘한다잉 (soyosanhang)', '%$나비요정 (s014r221)', 'tterflyaki', '$만태_ (ht4380)', '%+전국피자연합회 (yes_pizza_yes)', 'loto177', '바비노 (lowe3100)', '열하나요 (jslee1108)', '폐치스 (shamun0104)', '+수메탈 (duomasaru)', 'ridgway2', '%이름짓기어려워요 (luna0515)', 'joje1283', '%순한맛펭귄 (keyjjang5)', '도리송 (dorysong)', '%규잉규 (woom102)', '%우범소년 (kimwoobeom)', 'UhungE', '%진짜루다가 (wlajawls)', '설화임당 (sulhwaaaa)', '갉작 (ayaka1112)', '슬각 (lamaaaaant)', '칼라나이프 (kmffe1206)', '핍보이__ (hyongkui)', 'wos1840', 'ozel1234', '%$꿀과자 (honeycookie87)', '우리첵스귀엽죠 (rudghkss081)', '큐디엠테크 (cadncam)', '대별 (balloter)', 'hongyg3229', 'duaeod1', '딸기맛스테이크 (ljy0775)', '%노답맨 (vomlpokn)', '상한푸딩 (noeyis)', '쩐대리 (wjswlgns2237)', '트롤파크 (tjdghks067)', '상아_ (finegrace)', '니얌 (sunni2658)', '크랑카랑 (crank6rang)', '%샤우토 (shouto11)', 'kgy0330cldrn', '간츠0103 (gantz555)', 'oselro', '봉봉이봉봉 (chlqhd0825)', '광찍 (knwr11)', '뚜스 (doos3008)', 'Reewise', '뒹굴어 (gmlsskfp2)', '+하이돌이 (erickhun964)', 'DorianVain', '초승달맘을훔친공혁준 (moreflyhigh)', '드박 (hks9933)', '띠용띠용이띠용 (shawn6954)', '야르몽 (owool90o)', 'dmstjd1138', 'Djxman7', 'zxzxz7', '마들님 (madlenim)', 'king_bowser15', '네고 (deagu15)', '아이아리제 (aialize1117)', 'Nayamalo', '감자먹임 (kbcheon1)', '랜ㄷㅣ (follandi)', '+기분이넘나좋아요 (a7844839)', 'astpsxj114', '$박한태 (mithril7)', 'tijo345', '기트럴 (pch35)', '이부키츠바사 (wsteno)', '뱡운놀 (rlflssla123)', 'yeezy350_', '%니니닙 (ryhte05)', '태홍킴 (ktth159)', '수족관 (rummynoze)', 'Ax_bit', '개죽이 (gaejuka)', '나만홀로남겨진밤 (dpqkalsl)', '다알님 (xorhkd0805)', 'Hancb2000', '%극딜학박사 (4wheellife)', '$세미입니다 (bluesky3145)', '닉스 (dngustlr2003)', '쟈베스 (chwin304)', 'farersh', 'qopuouo', '뜨억뜨억 (leedi14)', '낙원3 (nakwon3)', 'dihsjdj', '다믹 (tlsaudrl2548)', 'gkssm', '쨔릿 (qpwo1991)', 'AUOOOO', 'ajdajajdajd', '%+소용도링 (chya1234)', '베스트비재희 (beboy1004)', 'woonsoung', '그림못그리는미대생 (kjw8790)', '딘ㅅ오 (buddha4375)', '니블헤임 (shirden0402)', '유니버 (royalsecretagent)', '이거이상해 (y2jdkdk5555)', '포도맛복숭아 (greipeach)', '디누프하 (blizard8705)', '자쿠 (ensembleg)', '더보쓰 (assajohahufa)', '진케르크 (dt1562)', '멀티 (fkillra12)', '%Healthyfinger', '루시에르 (ruxiell)', 'edit99', '음메히힝꿀꿀 (hwarang0211)', 'dhkdn1125', 'lightupcnt', '+미와 (goddamn0)', '로제밍 (yajinyakan4930)', '그게무슨의미가있니 (hjo227)', 'heavywolff', '느린춤 (kcj0270)', '사감님이사감 (sgbonobono)', 'chugathecat', '형사콜롬보 (rlaclrhs229)', '치텐 (ttl5831)', '포카리스웨트는 (ddc9938)', '%$cachooii', 'cheon0324', '레드랜턴비틀 (tkfkdgody0101)', 'Nixmachine', '매일좋은날씨 (shinhwa3d)', '+오버윈드 (overwinx)', 'Wallduck', '노답삼수생승현이 (mjsk1154)', '코코냥이 (nhsk0767)', '내꿈은자연사 (tmdwlsqwer2)', '아란 (seosh9333)', '%카네초이고 (eorl1qjsrl)', '바지속맘모스 (wnf22)', 'Hoon6101', 'Tarrgo', '파란임 (paran9163)', 'dudhitter', '충남당진의이기환 (aksenrlghks)', '야지로베 (bestofbestofbestofbest)', '당신은누구집아이유 (millru)', '끼끼카드 (tqshak)', 'zhfhsk003', '바라미 (christinya)', 'tmdwn1513', '괜찮아사랑해 (dayounga)', '이상한나라의_앨리스 (alice122992)', '게임어려워요 (psodam)', '칰덕 (asvv124)', '메모장_켜라 (jlego1990)', '+통제사를보면짖는개 (johnnyfletcher)', 'rain19457', 'Pnpnll', '1로이스1 (jhw2491)', '파부부 (zeronehi)', '펭니 (kvi13)', '집관리인 (woong1519)', '토끼새봄냥 (jbwoqja)', 'lesrois', '레드핫 (cwj0503)', '젵엣 (makerbb)', '롤롤풍 (okyij)', '+유준석 (dbwnstjr011)', '%엘리야룬 (sjkang_)', '오리온자리아래에서 (asdasd1688)', '소운뾰옹 (moaddzz)', '%황비홍2 (kkill270)', 'wabogo', '한양갈비 (jau1994)', 'estigma6974', 'like5614', '+카르마12 (dongwan0608)', '+충격왕쇼킹 (rlehtk)', '%유나인 (jaeook001)', 'Awkd5', '%야광고양이 (crazypsm)', '롯데리아펩시히오스 (kdw7903)', '당근팬티용사 (fltpfxm)', 'money8081', '상암동 (joondeng2)', 'bbklee', '무르고로 (ksbelphegor)', 'suriwa', '트수탈출넘버원 (lh508579)', '매드버팔로 (mad_buffalo)', '꼬경 (rhrud31416)', '치감 (haunting0)', '플로리라 (plorilla)', '$나랏말사미 (nonggo3438)', 'tsb98000', 'A10000Bo', 'tomie51', '파란이불 (bluenail1204)', 'tkalfyd', '삼겹살 (wonki94)', 'bineat', '초코시리얼 (cereal345)', '2019롯데우승 (tkdgjs0715)', '지자불언언자불지 (dbgus1215)', '+딴형 (nosukdlfrl)', '흑신우라면 (chbaoro39)', '신세이어유다 (sinsayerjude)', '히반_ (dlwodnr0906)', '다시만나는 (leejin4)', '쌍베씨밥새끼챙겨드세요 (darkwiz455)', '류긴 (rainkiss03)', '영소진 (pcg1818)', '부론 (gonamon85)', '덕배왔니 (rhodanthe1)', '귀밑에 (undertheear)', '빻루코 (rhdmstjdno3)', '+Oakapaa', '모군_ (kkh1218)', '노잼박사 (lame1337)', 'xz516', 'lys2501', '%하양지 (yubheo)', 'ramk6', '베르캄프 (hiyum)', '%+낭꽁이 (nangggong)', '멜호아 (lindvall3303)', '%$우리승태화이팅 (heeeeheeee805)', 'red13103', '알렉제로 (joon882000)', '그려내가바로 (la9629)', 'bill4513', 'twjong', '%$킨텍스 (wldn4108)', '워쥬니 (harrem01)', 'rizano11', '%심심심 (merles3697)', 'glowaray', '할거에요 (dydrkagkdl)', '%꽁똥이 (kongkong_2)', 'roflffk', '개꾸르잼몰카 (sunny5513)', '달로스 (daoloth)', 'asd042634', '강다리엘 (tnals0717)', '에픽이답이다 (dbgytkd1)', '$봉봉베리봉봉 (pyo7410)', '게임개좋아 (psm5684)', '%하루하루힘내자 (lys702)', '하누아주 (hhd8899)', '서로도와가며 (kalkyal)', '황버풀트레블킹살라발롱 (poch2014)', '세금의힘 (smip406)', '에어리움 (sklg1026)', '노때 (tyfl16)', 'S9C0S', '%$록타_오가르_호드를_위하여 (nano991)', '%기쥬님 (kijuhy6631)', 'kost090909', '+장포스_ (jangforce08)', '메마딱메마딱신나는노래 (crystal7337)', 'parkjong1209', '어둠의레기오로스 (daljae1)', 'rurvudsla', '로그옹 (mkjlone)', '아누비스1 (arcueid1)', '%디그 (ehsh1203)', 'amurita01', 'OctoberEight', 'darkman9999', '%정력 (hale0070)', '치즈오븐떡볶이 (kkl1324)', '히비키17년 (oonde0211)', 'ㅣ체크ㅣ (jamie523)', '%blacksheepwell', '레드라이트 (dh8710156)', '자나깨나밥생각 (terua768)', '김자까 (sswaves)', '금연충 (kdfairy)', '징글징글벨 (76alstjrdl)', '기리에 (myshiha)', 'zmfhqj55', '동주형 (lst27)', '어떤__ (aniko04)', 'ㅀㅀㅀ (wkwkdrk25)', '라루 (larue3286)', '%별사이로 (soulmeka)', 'Krabee99', '%+정세님 (wjdtp8777)', 'redmaner00', '식플 (soids88)', '야구는이글스 (skaers1)', '배영 (baezero)', '+dieoxin0', 'ㄱㄷㄹㅇ (kiwybird622)', '진진자라지리지리진희재 (pingpon9)', '$김원흉 (ksb625800)', '새벽아재 (roroto123)', '후꾸 (hooluluk)', '정묵이의댄스교실 (jungmook_taebo_class)', '펑이요 (023ansdjxkd)', '%+rkdgh1774', '우애나77 (uaena77)', '바르는홍파스 (l421010)', '사혼의곰보조각 (janghy17)', '에르큘푸아로 (poirot_lws)', '高杉晋助 (niop1250)', '황금알낳는닭 (ssamzienio23)', '그묘1 (nrettap)', '크로우마뇽인 (btn004)', '야돈야도란야도킹야동킹 (ngsksdiehs)', '%$핑크빛밤하늘 (pwoonp)', '+오마에와모신데이룽 (dlqlgh123)', '아직안잔다 (chs12301)', '민초쿤 (minchokun)', '+한강각나옴 (jangkiss2)', 'tyunogi', '가르침 (dlfqhsdl)', 'rnrmqck98', '집구석폐인 (mmok1004)', '다칠사람있나요 (i_ve_no_time_for_games)', '매우어려움 (jhlee03)', '%헬반도탈조센 (juyoub4)', '반짝짝짝 (tkdzho39)', 'brea0', '만발사수 (zzwogus)', '커여운여고생쟝 (dlguswns234)', '반토레 (chol713)', 'Wlrhkd2015', 'helthman', '심플업 (karma0819)', '핫도드케찹착착설탕착착 (actionpad)', '딸만대장경 (konan0321)', '숫자님 (seoitt)', 'dudtjrrl', '월동숙왔 (dhrjsdud94)', '바다짬뽕 (chestnut90)', '건담저스티스 (3binzzang)', '김비염 (quiz9927)', 'echoz3434', '이여백 (space_lee)', '철푸더기 (ds447)', 'jasonyu707', '$엣지 (coldedge1102)', 'aon176', '카난 (ksa508)', '가월십야 (norrippi)', '가콩 (popc12)', '나라드러머 (in00161)', '+푸릇푸릇푸릇 (choi940218)', '언더커버_ (hwistle)', '강등앞에평등 (s_ark)', '닠콧 (nike17a)', '베리잼 (vanka505)', 'jo951013', '딥치즈버거 (cos486)', 'rhdygks008', 'nams44', '%구독왜해쏘옹 (hyeok2k)', '녹빵2 (kkan6432)', 'chldntjr8036', 'metajp', 'sjlee327', 'bluowe', '여얼무 (zndhdb)', '조오치 (gomj720)', '+로사형 (rosicky)', '+술피리 (trainghkim)', '김일상 (hjk2415)', '%+쇼카딘 (sunghoo89)', '%모자빨간 (tlzmflt11)', 'bc64256', '윤엽 (dbsduq)', '모테맨 (dobobo)', 'ghdhazlvj', '갓쵸 (rnfldnssus)', '메론샴푸 (yoong04)', '편안한침대 (qazwsxo05)', 'wjddnr9110', 'inkor1000', '너꾸리 (pixiv__)', '산화철 (ironoxide99)', '오츠카_아이 (otsuka__ai)', '샤논트위드 (beatjungle3)', '므왐 (link5600)', '%방탄의지민 (btsjiminforever)', '준몬 (junmon1201)', '렝믹 (kwj7423)', '트로올 (zksdnl12)', '제14사도조강현 (rlaks47)', '그만두시지 (gigcot)', 'kimi0904', '문덕네거리 (gudwns8520)', '김춘석 (choonseok)', '락세븐 (rocksevenwerra)', '고운마음 (gounmaum)', '짬고양이 (dhtjdalswmf)', '이야홀스 (bizarre625)', '민트초코조아 (msj2504)', '$키쿠치마코토 (765product)', '골든슬럼버_ (bib1980)', '예감해쓰 (yeagam1960)', '프로지와_아라 (prozara)', 'lsyhihi', 'liverpool506', 'son0127', '아무거나로 (f2verengel)', '라멘킴 (kyo053)', '플러스팬 (denipan123)', '호드최고아웃풋서새봄 (windyforest)', '성태도사람이야 (dakemini)', '다샤타란 (young4853)', '사바기 (sabacksaback)', '꼬로이 (coroyi)', '%힘쌘전사와이비 (yean5)', '테그저그 (kkgkkcm2)', '히헿하힣 (sdk7865)', '+푸곰 (lbknf)', 'jang18207', 'syi8945', '%purplerainydays', 'chodada', '연사이다 (nogh1102)', '꾸구입니다 (gh120a)', '반첼 (vanchel54)', '짜르가드 (wotks9309)', '백주년기념관 (issir)', '꼼르 (lhd35872)', '무지로 (kkt8967)', '%비련 (pdh12)', '%$참보리_ (boricham200)', '아르망님 (dkfakd)', '얌얌도치 (salinmuki)', 'explorer8595', 'qotkdgns0420', '%상상플라즈마 (breakdoor)', '%$갱주니 (junheecast)', '지엔코 (jjkmaru1)', '으읔 (rgnmd7982)', '끼하하하 (tmxlrtm190)', '$온도조절장인 (wp05060)', 'minzagi', '히토미박사공혁준 (qkrwodls66)', '돈거슨 (sudon1992)', '하마탄 (harmatan007)', '+사공사_낫파운드 (ghlwkd042836)', '나폴리레몬티 (cys9999)', '성태세상 (hanra102)', '몽끼킴 (wlstjd277)', 'sucotti12', '모태트수 (gimochi111)', '까비아깝 (energly)', '밥줘 (clampdy)', '팔보채 (p4lbo)', '배고픈알로 (phj3526)', '%란제리맨 (zdkh55)', '+모자님 (karegaru)', 'wlghd586', '+독고98 (melon5029)', 'moondal1', 'rmrmrmrm45', '%에앵 (e_aeng)', '우와끄 (b198745)', '3분해피홈 (fpalxm56)', '숨이안쉬어져 (area0000)', 'fennec8', 'tkdclskfk', 'gigaw4tt', '온다미로 (kuru1103)', '%+happymil00', '미친호랑이 (crazytiger915)', '+쟈니맨 (seattle_mariner)', '늦잠자기시러 (biclog)', '내마지막사랑이재석 (kksscc12)', '전설의밥도둑 (ckrgkswitnlr)', '%$개미핥기 (jumpingsong)', '바경규 (dudrb5420)', '프라고 (hahbr88)', '고오급이최고다 (rlaalsrb96)', '유승비 (kds1857)', '네이트리버스 (naterivers)', '쌍바윗골의비명 (chara0083)', '토템폴 (kazharu1)', '+개코손잡이 (korcol12)', '공리나 (feminist12345)', '앙풍뎅띠 (ghkdslswk)', '다게르 (kms051022)', '지지진모 (mangjak)', '달빛저무는곳 (vkssv)', '팜므퍼털 (fammfuder)', '송아지야 (sms8913)', '%Hanmirage', '자동동이 (akrnakrn1)', 'mosesor2', 'galaxy0070', '오난 (onan93)', '낭실과단사이 (blacksavana)', '라고 (dasdwas292)', '절대진리 (kangdagoo2)', '따따따따따따 (psw_1111)', '샤크스타 (hsw2404)', '엘리언 (munssss)', '크리스찬디오르 (mairin123)', '+옆집곰탱이 (kimjo95)', 'yagamitch17', '꽃힘 (ivywhgdhk)', 'tangltangl', '7ㅐ차반 (card0629)', 'DarkAlice2', '고킹 (ju0159)', 'yp0317', '초초센세 (senseimen)', '선동과날조승부 (cool8515)', '%+펩시보다코카 (ssunkid)', 'krnia', '넹면먹고싶넹 (paritche)', '돌아가라 (tangtangee)', '%쟁반같이둥근승달 (kimxerox)', 'family0686', '엄식 (eomsic)', '모자란새끼 (sadsssa)', '머셔너리 (suhoochunsa)', '프믈 (ckdgnschlrh1)', '둥글바위 (roundrock92)', '$쌀건빵 (ssalgb)', '$오늘도_민트 (nhocpun)', 's94958', '라인팜 (linepam)', 'look6312', '감자커신 (potatot)', '은공즈 (vmfncm976)', '유토리 (tori3524)', '+eveilgenius', '뭘하질못하네 (dnjsryek1)', '울프릭 (rntlsdlek3)', '김구라김먼지김모찌김정현 (mydreamrichman)', 'daraiwon', '꾸앙끄앙 (xmdnlclek90)', 'nilsong', '할배유 (gldk03)', '운빨존망겜 (rhymemon)', '중국산카레 (taegeun95)', '本物人です (bangkj07)', '혀로핥짝 (lwk888)', '후니쿤81 (duggy1705)', '풍월량아취니 (zlddyek)', 'fourfourtwo', '%록시데스요 (mms2001)', '윾동골뱅이 (gop8426)', 'kizz725', '딱부리 (python0927)', '히키코모링 (qkfka0415)', '으냠 (hii6761)', '돈주머니 (money12)', '강철_수세미 (ji1351)', '고양이손잡기 (dooong95)', '아의디 (zndpdpr9903)', 'pjh2135', '세이버스 (saveus_hs)', '성태야방송은제키냐 (video010)', '%훔두두 (regnas77)', '초콜렛592 (chocolate259)', 'deepspacem31', '올라가다네려감 (dkanskejaql)', '호먹감자 (hora1592)', 'skylinek30', 'suicha12', 'wjsdudgh99', '자옥이 (wldnr1123)', '조아쪼아 (abcpapa)', '불묠짜닿 (gkwjdals99)', '증재 (wogur9627)', '+시골이 (sigori0103)', '불이아 (drymilk899)', '혹등고래 (platinum019)', '코스모치 (cosmosj87)', '수면이부족해 (hjhceles)', '기분이나빳다면죄송합니다 (uhtru12)', 'mytwlife', '헤이문 (flower810)', 'ShE00236', '제리코77 (k2ksg2000)', '명성 (seongu96)', '털뽑힌닭 (sijin007)', '+데빈 (raiden8802)', '블랙올리브 (sosijis)', '%삼단치즈케이크 (annyeong54)', 'Texe', '티티스 (ts7878)', '%+금씨 (kumdaeyong)', '채탄 (chae8550)', 'kim_and_jang', '+Recia', '담흑 (leesu1012)', '고정하시옵소서 (skdidb5)', '왜그러냐또 (shuno92)', 'seoseom', '댕댕2 (ho51133)', '광쿠쇼쿠 (ggs01015)', '%엔써077 (answer077)', '자돔 (ds19992)', '아아아너무좋아 (blackkping)', 'benedict132', '7빛드롭스 (whdcjs202)', 'dhanpir12', '%푸프__ (oidps)', '이주르 (topia88)', '천호동그놈 (maxhacker57)', 'xldkgkgk', '대가리새기 (ghg2240)', 'clalove', '단단지3222 (pbyummy)', '수리수링 (grand1536)', '하루종일자는곰 (kerteszsp)', '클린쓰랄 (zkdhtm0160)', 'TkKazi', '%히겅 (nyh6000)', '나비의춤 (jh0514)', '제천대성1 (shylov2a1)', '대단해 (daedanhea)', 'cayenneeda', '달시_ (dalsi527)', '$설계냥이 (jjwwll95)', '감상과이해 (ntree085)', '물자링 (hanmulja)', '+진효비밀친구혁준이 (cub1116)', '선사랑 (kyo7085)', '클런치 (ehsus134)', 'what3812', '닉네임이모야 (backing0125)', '폴리펩타이드 (qkrqjagh1324)', '엠엠티티 (morolty)', '하얀포도 (simsc11)', '극기 (prime6666)', '얼음꽃_ (frozen1230)', 'beakunin', '오리김치주먹밥 (orikimchi)', '희랑희랑 (lhc879)', '봉크 (tjwnstjr89)', '+히말라야오리스끼야끼 (zodiaceleven)', '불꽃남자2002 (tjdrlqor2002)', '풋고오추 (pootlqrn)', '+쿠쿠리 (ebs0321)', '서릿 (crou7)', '여부리 (naglfar9)', '최강_이글스 (sataek)', '농형 (jamesloveirving)', '%+리제니 (harorpa)', '%띠ㅡ용 (00hobin)', '+캐미군 (01082000091)', 'Kahramana', '회바나버러지룩숭이 (bananalookmonkey)', '1000_민 (hyunny1007)', '갓이유노래만틀자 (xogus4428)', '동전찡 (insertcoin0224)', '%+하이ㅡ구 (osm911129)', '보노보노친구 (kyh572)', '별자리사냥꾼 (safali1004)', '+lthlogic', '안재사랑해 (wnstjrxjzl12)', '꽁꽁얼어라꽁꽁 (healust)', '짭짤이 (nmh1231)', '브론즈수문장쌍베쿤 (bronze_sumunzang)', '사이온탑이요 (inos2007)', 'rulru123', 'coldron92', '진수2 (eksy1004)', '현유 (sbpst)', '쪽빛의하늘 (sola1258)', '뒷구멍즉시타락김성태 (baram_tie1)', '%+스와미 (kisnoesna)', '녹용_1호 (nogyong_1)', '녹혼 (norkhon81)', '주임원사원유리 (mykim0121)', 'okrjjy456', 'elvpstmp6', '%+정신이 (mind_two)', '에르메스진 (qwiear)', '네르기간테 (zatotwo)', '양동 (wjdgus6983)', 'gudqh53', '뱅크로우 (eotmd142)', '%연곡물방개 (ykmbg)', '클로델 (timeslip05)', '루렁이 (hnami02)', 'qwe12123', '군계 (rlarlatp10)', '플릿세이빙 (com4873)', '김지노 (vovhhh)', 'qkdals87', 'hsajh1999', '윤대협송태섭 (freeza89)', '땡글 (jonghyuk26)', 'jaeyoung3706', '세인아이 (smh6286)', '윾니짜장 (lj12161216)', '돌격머장하이머딩거 (wngjs1009)', '거기건방진손 (kdst20000)', '윾끼끼 (wowdhdi)', '갓서우 (godseowu)', '꼰대머장 (porori0917)', '덱스다스 (nhbg03)', '+_카페모카_ (encho1004)', '에뿌낄라 (fkiller3)', 'coca_cola_coke', 'narami9', '불꽃화염뿅뿅 (9294lee)', '+아말피의밤노래 (nokun13)', '감성팔이소년 (sin_ishtar)', '+다경 (momote_)', '브론디 (bronn_d)', '꼬맹입니다 (i_love_u_282)', 'LSWindie', 'skwkrwls', '엔릴에아 (usssa1234)', '%lerrory', '않이어떡계그럴수있어 (gkrqhd342)', '친절한__마피아 (dlcousss)', '브라운더쿠 (ransorsm)', 'hwon0728', 'all4onei', '%잘생긴동수칸 (cindykalg)', '피너츠버터 (hippohips00)', '반월이 (gks0419)', 'chips_fries', '달콤한빈말 (schding)', '월급도둑놈 (cs3321)', '우마귀 (gumsamo)', '무땅__ (namu1127)', '피드쓰는정현이 (cocowritesfeed)', '쭈녀긔 (legalmind)', 'ㄷㅇㅅㅋ (guligul655)', '작은곰탱이 (wkrdmsrhawkf)', '_오트밀 (okmill113306)', '하아앙앍 (nigajjangiya)', 'cold006', '+화이트데이 (leebriel)', '%$뽀야뽀야 (ppoyappoya)', 'jyy1524', '넌모찌모찌나간다 (chjh722)', '프룽크룽 (newaowlr)', '킹리퍼 (smid8456)', 'ridistef761', '서뫄 (karamixx)', '비둘기_구구 (p1ge0n99)', '돌고듀서 (dolgo4251)', 'gh9688', '$라면먹을래 (hhu4698)', '푸뇽이 (rhkddyd420)', 'wncks2279', '스펀지방 (boy0501)', '앙트아네트 (remonias)', '+전자공학부생 (gwanryo)', 'inuinoueritas', 'Ayoume', '$일산동두천 (dlwnsgud69)', '엘피델피 (dudr2)', '75percent', '+석가모니도이혼함 (elxhflxm)', '새우등 (cole1546)', '얼음과불의노래 (zard1273)', '쿤륜_ (kunlun11)', '짬덕킹 (edingalswo)', '레녹스에오 (augustin746)', 'dragon62176217', '라디엔 (rjsgml7997)', '스필러 (01195412286)', '얀오베발트너 (ssh422)', 'dldmswns147', '유메이 (ydy6543)', 'mcrun_kor', '뚜따 (wls7774)', 'khando77', '태행__________당했다 (whh0707)', 'iris21c', '@%싹둑 (ssakdook)', 'power9867', '한글은아름답다 (patek_phiiippe)', '연스푸틴 (ms01136)', '쥬피리 (jyupili)', '하이ㅡ요 (hiano1)', '은안 (maybedie)', '클라운 (wldlrwns)', '도미는돔돔 (emfpdlrjrjsg)', '나무__무 (namoo0)', '뒷다마 (desire376)', '수박바먹는바밤바 (shlrkdjqtsi)', '%새벽에_내리는_비 (rain_at_dawn)', '%공포특급 (fly6209)', '라이트 (hb84900)', '%+김콩탱 (nikeid_)', '김미역 (jjang9104)', '+elroheer', '+Harkness_the_Cleric', 'kimin5', 'kks02820', '%에스텔 (estel89)', '닥터링크 (ideadlinki)', '연두는맨날우뤄 (greendomucsaddd)', '이리저리치이고 (gurdl4889)', '폭풍갈굼 (arsmagna77)', 'Freyja738', '%LittIeB', '야람은코해 (whrkdgusqkrwhddn)', '룩끠티교 (roh0809n)', '%영양정보 (tktlsxoddl1002)', '대체복무밑밥조강현 (guswjdtm)', '%바라맛 (baramat)', '팩트폭격맨 (loslhs4821)', 'duke5854', '굽네볼케이노치킨 (jongo41)', 'timelt', 'yahoo1543', '비바다상어 (rainseashark)', '아쿠쓱타 (balsius95)', 'breadmuffin96', '에로왕피에로 (rmsgh2525)', '팔아프다 (erai0808)', '유니코드 (roka7221)', '홍블링 (slovej4)', '얍얍맨 (peace3475)', '냥치기 (catherd)', '이지1 (kyp20)', '그로티우스 (grotius1)', '연두는영두 (ljw548398)', '주멘 (vulture620)', '달달한라떼 (huni99)', '툭튀 (rmfptm109)', '웅키 (yoochanung)', '오부리 (shdbwns1111)', '호빗 (gogo1769)', 'Nunana400', '네곁에영원히 (foreverwithu)', '사회학자 (ifroyia88)', '엘렌딜 (elendil_the_tall)', 'sys517', '폭풍딸기 (oro1813)', 'gxg2997', 'wksehatm', '또락 (therock0709)', '%BongGyu', '랜스_ (landscap)', '릴리릴릴리 (skywjdtkd)', 'jungmin0422', '이부킴 (ksh96723)', '카레스지니 (hs4m)', '+Chae_Woori', 'Spoonklr', '식용씨몽키 (clccl0308)', 'gusa36', 'bmo_avt', '짐케 (chro0611)', '빙구야 (ving9)', 'AndromedaTouR', 'kaijerk777', '%파리의아파트 (sondeo520)', '쉽구만 (pnt1080)', '그리핀롤드컵노데스우승 (oqnpfro)', '이게되네 (karakkura9)', '파이썬허접만 (selfface001)', '매바위쾌남아 (minimi6230)', '27살 (dhcjswp)', '요라 (rooey9406)', '%공허브_ (pyp0912)', '꼬다고 (tailcc)', '%댓가 (eotrk)', '야마토 (krduhwan)', 'Idealight21', '현길 (hyeongil)', '알라마드리드 (hidonghyun)', 'krozma', '예의바름 (xllll)', 'qw3sazx', '김콜라 (tkghkfkd11)', '쭌호 (hw98147)', '단풍비 (doil815)', '부처의가래침 (shghd2003)', '조랑말킁킁이 (rumblesnout)', '으으윾 (psow1013)', '하늘을바라보며꿈을꾼아이 (qkrduswns2592)', '자가비짭짤한맛 (g4m317)', 'kimjanjin', '풍쿤 (o277)', '300만원 (choun1933)', '+교수님이찾는다 (omnibus3333)', '%우성잉 (krkr2345)', '+탈조선_빠삐용 (k_papillon)', '%엿이나까잡숴 (elalrain777)', '배째등따 (naphtaj)', '옥종 (simsimsun)', '%로렌즈 (eugenelee1008)', '웰빙곰 (lhm131)', 'JHeezy019', 'hhj4569', '페이트어나더 (dowkdeh)', '%클래식선비 (shs9970)', '아륵 (tharhan)', '가을벌 (autumnb2)', '%$정줄_ (solucry)', '가시쥐 (ssus717071)', '우람한팔뚝 (buffedarm)', '카키그레이 (khakigray)', '신이있다면그는조강현 (alsry1313)', 'RJ_Kr', '%멍때리는중 (archdukel)', '화성땅투기 (sogema3)', '태평도 (sim0705)', '보라팔찌 (dhfl128)', '까만펠릭스 (pjhjerry2002)', '사나다 (tjsdjq5852)', '종수추적자 (watchingjongsu)', 'hikarigatv888', '_디오게네스 (boogie3548)', '%+감금하고싶은남자박진수 (zoat_)', '치킨무맛치킨 (kkh9655)', '아디오스노니노 (3t0t3)', '똥겜마스터 (feelthesoul00)', '티나팬 (tinaa_fan)', '%제라드_ (liverpoolrumble)', '하리센 (harisen1)', 'cleanshooter7', '핸드크림 (handkream)', '액시스마빅콜 (fftv000)', '64SeaMe', '고기테리언 (kogitarian)', '미므미므 (miyanosae)', '실버머장뱅붕 (hjt8928)', '스파무 (wjddbsghks12)', 'vusdksvusdks', '카신 (natesong)', '꼬뚜 (vmdlep34)', 'dioneuty', '니얼봉 (jyj9929)', '스틱허100개 (zenes00)', 'sskim1697', 'kih2659', '기대수명치 (wlsk1981)', '+은돌이구독자 (young0410)', '난방고냥이 (neutonic8915)', '지울이 (whwldnd3)', '%휠렛버거 (ing9605)', 'zolmangco', '%+gto511', 'redlil4c', '붸비 (b8640)', '재능없는사람 (amugae1990)', '남삭노이 (hanbisa)', '그저빛빛살라 (hseungjoo)', '트수달 (emperorhwi)', '%안방충 (innerbug112)', 'thekonick', '서새봄서나랑서풍왔서니쿤 (pjya0321twitch)', '$빨판상어 (y31530)', '알트스페어 (origini)', '모카치아 (l4165)', '우유아이스크림 (qkdrlgus852)', 'mw51321', 'user409187122', 'tngh1425', '졸리면잡니다 (dragonite88888)', '%마크리 (ezoohyun)', 'dryv113', 'sminmanna', 'S01T004718', 'zerossd', '대마법사메디브 (shtmzhfldk0104)', 'par8630', '통속의풍월량 (pick0112)', '%$카드깡한체리 (scarletsagelee)', '별을_산_날 (staphaniek)', '쫩집쫩찝쫍 (jhtt9829)', '%길터놔라 (ssh4131)', 'shino1412', '썬가드 (klaus1414)', '깡통_ (kyo11234)', '귀여운거좋아함 (ktt0901)', '존_커피 (wjdtn213)', 'loupuce', 'Seeker1111', '파아란물방울 (hojijeong)', '%푸르른솔이 (yunhyuengsik)', '행운 (glflfld)', '%albion0083', '효동이의작은열매두알 (dlcnd66)', '답답하면니들이뛰던가 (sung_yueng_ki)', 'beridel', 'qhwk89', '%$박승호 (qaz1113322)', '에지오칼브로디 (storysof)', 'hjk3262', 'HeroCxxi', '잉여탕 (zzkk123)', '%$annymu0', '박영재_ (yeon9jae)', 'hajo1009', '%플랫플랫 (flat1228)', '트라이홈런 (ramosgreat)', '웹툰주예수 (sahong7777)', '섹시도발오즈 (skk5038)', 'dota2mwah', '선아바라기 (astro1261)', 'pooqoop', '지하코 (ryuwlgk)', '%수박커신 (wkdb89)', '당분홀릭 (jabdog9027)', '베개 (baegae1)', '김유신김춘추김성태김영태 (jo8419)', '이요쓰 (deneb03)', '빵구팡 (good9t)', 'kk339200', '친구가없어요ㅜㅜ (vlfwhddl)', 'suyean1007', 'Flamelet329', '로태 (noth0502)', '혹시너도 (killuea)', '정열맨 (wjdduf)', '잿빛 (duvussp888)', '메르님 (apfm1109)', '셀룰라이트 (jinhong708)', '%이름없는독 (grimmono)', '프라운 (bluelover183)', '포커페이스90 (porkerface90)', '%오늘도그저빛 (mixtape001)', '오리농장 (aduckfarm)', '롯데놋데 (asdfkang)', '가스트라 (ksj0619)', '나른감자 (insertsmk)', '신작로 (yeeyagyee)', '방구석호빗 (jun0716)', '샹그리라 (ckaskancka)', 'visang92', '건더기스프 (gdgsoup)', '달려라메로나 (hilite2201)', '제이셉 (jimeru0105)', '뱃살덜렁 (dawnmin)', 'who__are_you', '목요병 (realcoool93)', 'karara7777', '전생했더니조강현의맞후임 (life_change_failed)', '칸도 (suhwan369)', 'truthtrance', '때리 (ddaerry)', '라면맛우유 (jinyun84)', '%$치킨케밥 (kebab1307)', '서얍얍추 (yapbomchu)', '12lego12', 'diget_', '태양불꽃망토 (ptspts92)', '취업할떄까지만봄 (qjvmzmfn)', '느긋한량 (sunwishv)', '미스터해머 (cucuid100)', '드럼치고싶다아 (love179077)', 'lightingway', '2ende', '동카츠 (wxxhyuk)', '%_태그 (cdkknd)', '하긔_____________________ (rhdqn7891)', 'padagpadag', '하스꺼라 (blcax1)', '녹차브레수 (skj0808)', '슈네 (schneeeeeeeee)', '김힝힝 (chic6341)', 'akh2343', '바람_ (va_ram)', 'Neropate', '구_원 (disjjc)', 'Tmdguszzang', '슈하이머 (seop0129)', 'b_goldberg']\n"
     ]
    }
   ],
   "source": [
    "print(len(chat_user), chat_user)"
   ]
  },
  {
   "cell_type": "code",
   "execution_count": 48,
   "metadata": {},
   "outputs": [
    {
     "data": {
      "text/plain": [
       "1"
      ]
     },
     "execution_count": 48,
     "metadata": {},
     "output_type": "execute_result"
    }
   ],
   "source": [
    "import re\n",
    "id_form = re.compile(\"[a-zA-Z0-9_+]{4,26}\")\n",
    "match = re.search(id_form,chat_user[1])\n",
    "test = [re.search(id_form, x).group() for x in chat_user if re.search(id_form,x)]\n",
    "test.count(\"omnibus3333\")"
   ]
  },
  {
   "cell_type": "code",
   "execution_count": 44,
   "metadata": {},
   "outputs": [],
   "source": [
    "def week_user_check (date, streamer_id):\n",
    "    \n",
    "    \n",
    "    import re\n",
    "    from datetime import datetime as dt\n",
    "    \n",
    "    target_user = []\n",
    "    \n",
    "    for days in range(7):\n",
    "        \n",
    "        with open('{}_#{}.log'.format(date, streamer_id),'r',encoding='utf-8') as f:\n",
    "            chat_user = list({log.replace(\"\\n\",\" \")[12:].split(\">\")[0].replace(\"<\",\" \") for log in f.readlines()[1:]})\n",
    "\n",
    "        id_form = re.compile(\"[a-zA-Z0-9_+]{4,26}\")\n",
    "        \n",
    "        for user in chat_user:\n",
    "            \n",
    "            if re.search(id_form,user):\n",
    "                target_user.append(re.search(id_form, user).group())\n",
    "                \n",
    "        date = date[:-2] + str(int(date[-2:])-1)\n",
    "        date = dt.strptime(date, \"%Y-%m-%d\").strftime(\"%Y-%m-%d\")\n",
    "    \n",
    "              \n",
    "              \n",
    "    date = date[:-2] + str(int(date[-2:])-1)\n",
    "    date = dt.strptime(date, \"%Y-%m-%d\").strftime(\"%Y-%m-%d\")\n",
    "              \n",
    "    with open('{}_#{}.log'.format(date, streamer_id),'r',encoding='utf-8') as f:\n",
    "        yesterday_user = list({log.replace(\"\\n\",\" \")[12:].split(\">\")[0].replace(\"<\",\" \") for log in f.readlines()[1:]})\n",
    "    \n",
    "    yesterday_id = [re.search(id_form, x).group() for x in yesterday_user if re.search(id_form,x)]\n",
    "    \n",
    "    big_fan = [big_fan for big_fan in target_user if big_fan in yesterday_id]\n",
    "    \n",
    "    return len(target_user), len(yesterday_id), len(big_fan)\n",
    "    \n",
    "    \n",
    "    "
   ]
  },
  {
   "cell_type": "code",
   "execution_count": 23,
   "metadata": {},
   "outputs": [
    {
     "data": {
      "text/plain": [
       "(2715, 1520, 573)"
      ]
     },
     "execution_count": 23,
     "metadata": {},
     "output_type": "execute_result"
    }
   ],
   "source": [
    "user_check(\"2018-12-06\", \"cocopopp671\")"
   ]
  },
  {
   "cell_type": "code",
   "execution_count": 52,
   "metadata": {},
   "outputs": [],
   "source": [
    "def week_user_check (date, streamer_id, count):\n",
    "    '''\n",
    "    date(str) : 'YYYY-MM-DD' 형태로 입력\n",
    "    streamer(str) : 스트리머 ID를 정확하게 입력 (닉네임x)\n",
    "    count(int) : 일주일(7일) 안에 몇 명이 며칠(count)을 들어와서 채팅을 쳤는지 알려주는  수\n",
    "            (ex) 일주일 중에 5일 안에 채팅친 사람을 알고 싶다 = count에 '5'를 입력\n",
    "            \n",
    "    return => 일주일 동안 채팅을 친 사람 수(target_user, int), 일주일 간 count일 동안 꾸준히 들어와 채팅을 친 사람 수(big_fan, int)\n",
    "    '''\n",
    "    \n",
    "    \n",
    "    import re\n",
    "    from datetime import datetime as dt\n",
    "    from datetime import timedelta\n",
    "    \n",
    "    \n",
    "    target_user = []\n",
    "    big_fan = []\n",
    "    \n",
    "    for days in range(7):\n",
    "        \n",
    "        with open('./#{}/{}_#{}.log'.format(streamer_id, date, streamer_id),'r',encoding='utf-8') as f:\n",
    "            chat_user = list({log.replace(\"\\n\",\" \")[12:].split(\">\")[0].replace(\"<\",\" \") for log in f.readlines()[1:]})\n",
    "\n",
    "        id_form = re.compile(\"[a-zA-Z0-9_+]{4,26}\")\n",
    "        \n",
    "        for user in chat_user:\n",
    "            \n",
    "            if re.search(id_form,user):\n",
    "                target_user.append(re.search(id_form, user).group())\n",
    "                \n",
    "        date = dt.strptime(date,\"%Y-%m-%d\" )\n",
    "        date = (date - timedelta(1)).strftime(\"%Y-%m-%d\")\n",
    "        \n",
    "    \n",
    "    for user in target_user:\n",
    "        if target_user.count(user) > count:\n",
    "            big_fan.append(user)\n",
    "            \n",
    "\n",
    "    \n",
    "    return len(target_user), len(big_fan)\n",
    "    "
   ]
  },
  {
   "cell_type": "code",
   "execution_count": 51,
   "metadata": {},
   "outputs": [
    {
     "name": "stdout",
     "output_type": "stream",
     "text": [
      "2018-12-25\n",
      "2018-12-24\n",
      "2018-12-23\n",
      "2018-12-22\n",
      "2018-12-21\n",
      "2018-12-20\n",
      "2018-12-19\n"
     ]
    },
    {
     "data": {
      "text/plain": [
       "(14518, 5)"
      ]
     },
     "execution_count": 51,
     "metadata": {},
     "output_type": "execute_result"
    }
   ],
   "source": [
    "week_user_check(\"2018-12-26\", \"zilioner\",4)"
   ]
  },
  {
   "cell_type": "code",
   "execution_count": 46,
   "metadata": {},
   "outputs": [
    {
     "data": {
      "text/plain": [
       "'2017-12-31'"
      ]
     },
     "execution_count": 46,
     "metadata": {},
     "output_type": "execute_result"
    }
   ],
   "source": [
    "import re\n",
    "from datetime import datetime as dt\n",
    "from datetime import timedelta\n",
    "\n",
    "tmp = \"2018-01-01\"\n",
    "test = dt.strptime(tmp, \"%Y-%m-%d\") \n",
    "(test - timedelta(1)).strftime(\"%Y-%m-%d\")"
   ]
  },
  {
   "cell_type": "code",
   "execution_count": null,
   "metadata": {},
   "outputs": [],
   "source": [
    "date.today() - timedelta(1)"
   ]
  },
  {
   "cell_type": "code",
   "execution_count": 41,
   "metadata": {},
   "outputs": [
    {
     "data": {
      "text/plain": [
       "'2019-01-06'"
      ]
     },
     "execution_count": 41,
     "metadata": {},
     "output_type": "execute_result"
    }
   ],
   "source": [
    "(dt.now() - timedelta(1)).strftime('%Y-%m-%d')\n"
   ]
  },
  {
   "cell_type": "code",
   "execution_count": null,
   "metadata": {},
   "outputs": [],
   "source": []
  },
  {
   "cell_type": "code",
   "execution_count": null,
   "metadata": {},
   "outputs": [],
   "source": []
  },
  {
   "cell_type": "code",
   "execution_count": null,
   "metadata": {},
   "outputs": [],
   "source": []
  },
  {
   "cell_type": "code",
   "execution_count": null,
   "metadata": {},
   "outputs": [],
   "source": []
  }
 ],
 "metadata": {
  "kernelspec": {
   "display_name": "Python 3",
   "language": "python",
   "name": "python3"
  },
  "language_info": {
   "codemirror_mode": {
    "name": "ipython",
    "version": 3
   },
   "file_extension": ".py",
   "mimetype": "text/x-python",
   "name": "python",
   "nbconvert_exporter": "python",
   "pygments_lexer": "ipython3",
   "version": "3.7.1"
  }
 },
 "nbformat": 4,
 "nbformat_minor": 2
}
